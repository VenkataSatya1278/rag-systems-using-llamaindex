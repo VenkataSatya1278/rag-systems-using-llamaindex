{
 "cells": [
  {
   "cell_type": "markdown",
   "metadata": {
    "id": "4EVx6wb6hFk8"
   },
   "source": [
    "# Embeddings\n",
    "\n",
    "In this notebook, we will explore how to access different types of embeddings\n",
    "in llamaindex\n",
    "\n",
    "\n",
    "1.   OpenAI\n",
    "2.   Google Gemini\n",
    "3.   CohereAI\n",
    "4.   Open-Source from HuggingFace\n",
    "\n"
   ]
  },
  {
   "cell_type": "markdown",
   "metadata": {},
   "source": [
    "Download the required packages by executing the below commands in either Anaconda Prompt (in Windows) or Terminal (in Linux or Mac OS)"
   ]
  },
  {
   "cell_type": "markdown",
   "metadata": {},
   "source": [
    "pip install llama-index-embeddings-gemini llama-index-embeddings-cohere"
   ]
  },
  {
   "cell_type": "markdown",
   "metadata": {},
   "source": [
    "## Content\n",
    "- Documents -> Chunks -> Embeddings -> index\n",
    "- Why do we need Embeddings?\n",
    "- Different embedings for different openai companies\n",
    "- Types of Embeddings -> word based, sentence based, document based,\n",
    "- What kind of embeddings the LLM will use?\n",
    "- Flow diagram/ Architecture representation of Embeddings\n",
    "- Interpreting Embeddings -> Cosne Similarity formula to determine the similarilty in two vectors regarding of their magnitude.\n",
    "- Applications of Embeeddings - How o find the most similar words, finding the odd one , document clustering for different types of embeddings.\n",
    "- Closed source Embeddings - which are paid embeddings\n",
    "- Open source Embeddings \n",
    "- How to select the right embeddings for my use case?\n",
    "- Massive Text Embedding Benchmark(MTEB) - To prove the model is better than other model. Check Top Embedding from MTEB LearderBoard. https://huggingface.co/spaces/mteb/leaderboard \n",
    "- Pre-trainned vs Fine Tunned embeddings- "
   ]
  },
  {
   "cell_type": "code",
   "execution_count": 1,
   "metadata": {},
   "outputs": [
    {
     "name": "stdout",
     "output_type": "stream",
     "text": [
      "Requirement already satisfied: dotenv in d:\\training\\faa-training\\beyond-the-prompt-practical-rag-for-real-world-ai\\rag-systems-using-llamaindex\\rag-system-using-lamaindex\\.training-env\\lib\\site-packages (0.9.9)\n",
      "Requirement already satisfied: python-dotenv in d:\\training\\faa-training\\beyond-the-prompt-practical-rag-for-real-world-ai\\rag-systems-using-llamaindex\\rag-system-using-lamaindex\\.training-env\\lib\\site-packages (from dotenv) (1.1.1)\n"
     ]
    },
    {
     "name": "stderr",
     "output_type": "stream",
     "text": [
      "\n",
      "[notice] A new release of pip is available: 25.0.1 -> 25.2\n",
      "[notice] To update, run: python.exe -m pip install --upgrade pip\n"
     ]
    },
    {
     "name": "stdout",
     "output_type": "stream",
     "text": [
      "Collecting llama-index-embeddings-gemini\n",
      "  Using cached llama_index_embeddings_gemini-0.4.0-py3-none-any.whl.metadata (623 bytes)\n",
      "Collecting llama-index-embeddings-cohere\n",
      "  Using cached llama_index_embeddings_cohere-0.6.0-py3-none-any.whl.metadata (402 bytes)\n",
      "Collecting google-generativeai>=0.5.2 (from llama-index-embeddings-gemini)\n",
      "  Using cached google_generativeai-0.8.5-py3-none-any.whl.metadata (3.9 kB)\n",
      "Requirement already satisfied: llama-index-core<0.14,>=0.13.0 in d:\\training\\faa-training\\beyond-the-prompt-practical-rag-for-real-world-ai\\rag-systems-using-llamaindex\\rag-system-using-lamaindex\\.training-env\\lib\\site-packages (from llama-index-embeddings-gemini) (0.13.3)\n",
      "Collecting cohere<6,>=5.15 (from llama-index-embeddings-cohere)\n",
      "  Using cached cohere-5.17.0-py3-none-any.whl.metadata (3.4 kB)\n",
      "Collecting fastavro<2.0.0,>=1.9.4 (from cohere<6,>=5.15->llama-index-embeddings-cohere)\n",
      "  Using cached fastavro-1.12.0-cp312-cp312-win_amd64.whl.metadata (5.9 kB)\n",
      "Requirement already satisfied: httpx>=0.21.2 in d:\\training\\faa-training\\beyond-the-prompt-practical-rag-for-real-world-ai\\rag-systems-using-llamaindex\\rag-system-using-lamaindex\\.training-env\\lib\\site-packages (from cohere<6,>=5.15->llama-index-embeddings-cohere) (0.28.1)\n",
      "Collecting httpx-sse==0.4.0 (from cohere<6,>=5.15->llama-index-embeddings-cohere)\n",
      "  Using cached httpx_sse-0.4.0-py3-none-any.whl.metadata (9.0 kB)\n",
      "Requirement already satisfied: pydantic>=1.9.2 in d:\\training\\faa-training\\beyond-the-prompt-practical-rag-for-real-world-ai\\rag-systems-using-llamaindex\\rag-system-using-lamaindex\\.training-env\\lib\\site-packages (from cohere<6,>=5.15->llama-index-embeddings-cohere) (2.11.7)\n",
      "Requirement already satisfied: pydantic-core<3.0.0,>=2.18.2 in d:\\training\\faa-training\\beyond-the-prompt-practical-rag-for-real-world-ai\\rag-systems-using-llamaindex\\rag-system-using-lamaindex\\.training-env\\lib\\site-packages (from cohere<6,>=5.15->llama-index-embeddings-cohere) (2.33.2)\n",
      "Requirement already satisfied: requests<3.0.0,>=2.0.0 in d:\\training\\faa-training\\beyond-the-prompt-practical-rag-for-real-world-ai\\rag-systems-using-llamaindex\\rag-system-using-lamaindex\\.training-env\\lib\\site-packages (from cohere<6,>=5.15->llama-index-embeddings-cohere) (2.32.5)\n",
      "Collecting tokenizers<1,>=0.15 (from cohere<6,>=5.15->llama-index-embeddings-cohere)\n",
      "  Using cached tokenizers-0.21.4-cp39-abi3-win_amd64.whl.metadata (6.9 kB)\n",
      "Collecting types-requests<3.0.0,>=2.0.0 (from cohere<6,>=5.15->llama-index-embeddings-cohere)\n",
      "  Using cached types_requests-2.32.4.20250809-py3-none-any.whl.metadata (2.0 kB)\n",
      "Requirement already satisfied: typing_extensions>=4.0.0 in d:\\training\\faa-training\\beyond-the-prompt-practical-rag-for-real-world-ai\\rag-systems-using-llamaindex\\rag-system-using-lamaindex\\.training-env\\lib\\site-packages (from cohere<6,>=5.15->llama-index-embeddings-cohere) (4.14.1)\n",
      "Collecting google-ai-generativelanguage==0.6.15 (from google-generativeai>=0.5.2->llama-index-embeddings-gemini)\n",
      "  Using cached google_ai_generativelanguage-0.6.15-py3-none-any.whl.metadata (5.7 kB)\n",
      "Collecting google-api-core (from google-generativeai>=0.5.2->llama-index-embeddings-gemini)\n",
      "  Using cached google_api_core-2.25.1-py3-none-any.whl.metadata (3.0 kB)\n",
      "Collecting google-api-python-client (from google-generativeai>=0.5.2->llama-index-embeddings-gemini)\n",
      "  Using cached google_api_python_client-2.179.0-py3-none-any.whl.metadata (7.0 kB)\n",
      "Collecting google-auth>=2.15.0 (from google-generativeai>=0.5.2->llama-index-embeddings-gemini)\n",
      "  Using cached google_auth-2.40.3-py2.py3-none-any.whl.metadata (6.2 kB)\n",
      "Collecting protobuf (from google-generativeai>=0.5.2->llama-index-embeddings-gemini)\n",
      "  Using cached protobuf-6.32.0-cp310-abi3-win_amd64.whl.metadata (593 bytes)\n",
      "Requirement already satisfied: tqdm in d:\\training\\faa-training\\beyond-the-prompt-practical-rag-for-real-world-ai\\rag-systems-using-llamaindex\\rag-system-using-lamaindex\\.training-env\\lib\\site-packages (from google-generativeai>=0.5.2->llama-index-embeddings-gemini) (4.67.1)\n",
      "Collecting proto-plus<2.0.0dev,>=1.22.3 (from google-ai-generativelanguage==0.6.15->google-generativeai>=0.5.2->llama-index-embeddings-gemini)\n",
      "  Using cached proto_plus-1.26.1-py3-none-any.whl.metadata (2.2 kB)\n",
      "Collecting protobuf (from google-generativeai>=0.5.2->llama-index-embeddings-gemini)\n",
      "  Using cached protobuf-5.29.5-cp310-abi3-win_amd64.whl.metadata (592 bytes)\n",
      "Requirement already satisfied: aiohttp<4,>=3.8.6 in d:\\training\\faa-training\\beyond-the-prompt-practical-rag-for-real-world-ai\\rag-systems-using-llamaindex\\rag-system-using-lamaindex\\.training-env\\lib\\site-packages (from llama-index-core<0.14,>=0.13.0->llama-index-embeddings-gemini) (3.12.15)\n",
      "Requirement already satisfied: aiosqlite in d:\\training\\faa-training\\beyond-the-prompt-practical-rag-for-real-world-ai\\rag-systems-using-llamaindex\\rag-system-using-lamaindex\\.training-env\\lib\\site-packages (from llama-index-core<0.14,>=0.13.0->llama-index-embeddings-gemini) (0.21.0)\n",
      "Requirement already satisfied: banks<3,>=2.2.0 in d:\\training\\faa-training\\beyond-the-prompt-practical-rag-for-real-world-ai\\rag-systems-using-llamaindex\\rag-system-using-lamaindex\\.training-env\\lib\\site-packages (from llama-index-core<0.14,>=0.13.0->llama-index-embeddings-gemini) (2.2.0)\n",
      "Requirement already satisfied: dataclasses-json in d:\\training\\faa-training\\beyond-the-prompt-practical-rag-for-real-world-ai\\rag-systems-using-llamaindex\\rag-system-using-lamaindex\\.training-env\\lib\\site-packages (from llama-index-core<0.14,>=0.13.0->llama-index-embeddings-gemini) (0.6.7)\n",
      "Requirement already satisfied: deprecated>=1.2.9.3 in d:\\training\\faa-training\\beyond-the-prompt-practical-rag-for-real-world-ai\\rag-systems-using-llamaindex\\rag-system-using-lamaindex\\.training-env\\lib\\site-packages (from llama-index-core<0.14,>=0.13.0->llama-index-embeddings-gemini) (1.2.18)\n",
      "Requirement already satisfied: dirtyjson<2,>=1.0.8 in d:\\training\\faa-training\\beyond-the-prompt-practical-rag-for-real-world-ai\\rag-systems-using-llamaindex\\rag-system-using-lamaindex\\.training-env\\lib\\site-packages (from llama-index-core<0.14,>=0.13.0->llama-index-embeddings-gemini) (1.0.8)\n",
      "Requirement already satisfied: filetype<2,>=1.2.0 in d:\\training\\faa-training\\beyond-the-prompt-practical-rag-for-real-world-ai\\rag-systems-using-llamaindex\\rag-system-using-lamaindex\\.training-env\\lib\\site-packages (from llama-index-core<0.14,>=0.13.0->llama-index-embeddings-gemini) (1.2.0)\n",
      "Requirement already satisfied: fsspec>=2023.5.0 in d:\\training\\faa-training\\beyond-the-prompt-practical-rag-for-real-world-ai\\rag-systems-using-llamaindex\\rag-system-using-lamaindex\\.training-env\\lib\\site-packages (from llama-index-core<0.14,>=0.13.0->llama-index-embeddings-gemini) (2025.7.0)\n",
      "Requirement already satisfied: llama-index-workflows<2,>=1.0.1 in d:\\training\\faa-training\\beyond-the-prompt-practical-rag-for-real-world-ai\\rag-systems-using-llamaindex\\rag-system-using-lamaindex\\.training-env\\lib\\site-packages (from llama-index-core<0.14,>=0.13.0->llama-index-embeddings-gemini) (1.3.0)\n",
      "Requirement already satisfied: nest-asyncio<2,>=1.5.8 in d:\\training\\faa-training\\beyond-the-prompt-practical-rag-for-real-world-ai\\rag-systems-using-llamaindex\\rag-system-using-lamaindex\\.training-env\\lib\\site-packages (from llama-index-core<0.14,>=0.13.0->llama-index-embeddings-gemini) (1.6.0)\n",
      "Requirement already satisfied: networkx>=3.0 in d:\\training\\faa-training\\beyond-the-prompt-practical-rag-for-real-world-ai\\rag-systems-using-llamaindex\\rag-system-using-lamaindex\\.training-env\\lib\\site-packages (from llama-index-core<0.14,>=0.13.0->llama-index-embeddings-gemini) (3.5)\n",
      "Requirement already satisfied: nltk>3.8.1 in d:\\training\\faa-training\\beyond-the-prompt-practical-rag-for-real-world-ai\\rag-systems-using-llamaindex\\rag-system-using-lamaindex\\.training-env\\lib\\site-packages (from llama-index-core<0.14,>=0.13.0->llama-index-embeddings-gemini) (3.9.1)\n",
      "Requirement already satisfied: numpy in d:\\training\\faa-training\\beyond-the-prompt-practical-rag-for-real-world-ai\\rag-systems-using-llamaindex\\rag-system-using-lamaindex\\.training-env\\lib\\site-packages (from llama-index-core<0.14,>=0.13.0->llama-index-embeddings-gemini) (2.3.2)\n",
      "Requirement already satisfied: pillow>=9.0.0 in d:\\training\\faa-training\\beyond-the-prompt-practical-rag-for-real-world-ai\\rag-systems-using-llamaindex\\rag-system-using-lamaindex\\.training-env\\lib\\site-packages (from llama-index-core<0.14,>=0.13.0->llama-index-embeddings-gemini) (11.3.0)\n",
      "Requirement already satisfied: platformdirs in d:\\training\\faa-training\\beyond-the-prompt-practical-rag-for-real-world-ai\\rag-systems-using-llamaindex\\rag-system-using-lamaindex\\.training-env\\lib\\site-packages (from llama-index-core<0.14,>=0.13.0->llama-index-embeddings-gemini) (4.4.0)\n",
      "Requirement already satisfied: pyyaml>=6.0.1 in d:\\training\\faa-training\\beyond-the-prompt-practical-rag-for-real-world-ai\\rag-systems-using-llamaindex\\rag-system-using-lamaindex\\.training-env\\lib\\site-packages (from llama-index-core<0.14,>=0.13.0->llama-index-embeddings-gemini) (6.0.2)\n",
      "Requirement already satisfied: setuptools>=80.9.0 in d:\\training\\faa-training\\beyond-the-prompt-practical-rag-for-real-world-ai\\rag-systems-using-llamaindex\\rag-system-using-lamaindex\\.training-env\\lib\\site-packages (from llama-index-core<0.14,>=0.13.0->llama-index-embeddings-gemini) (80.9.0)\n",
      "Requirement already satisfied: sqlalchemy>=1.4.49 in d:\\training\\faa-training\\beyond-the-prompt-practical-rag-for-real-world-ai\\rag-systems-using-llamaindex\\rag-system-using-lamaindex\\.training-env\\lib\\site-packages (from sqlalchemy[asyncio]>=1.4.49->llama-index-core<0.14,>=0.13.0->llama-index-embeddings-gemini) (2.0.43)\n",
      "Requirement already satisfied: tenacity!=8.4.0,<10.0.0,>=8.2.0 in d:\\training\\faa-training\\beyond-the-prompt-practical-rag-for-real-world-ai\\rag-systems-using-llamaindex\\rag-system-using-lamaindex\\.training-env\\lib\\site-packages (from llama-index-core<0.14,>=0.13.0->llama-index-embeddings-gemini) (9.1.2)\n",
      "Requirement already satisfied: tiktoken>=0.7.0 in d:\\training\\faa-training\\beyond-the-prompt-practical-rag-for-real-world-ai\\rag-systems-using-llamaindex\\rag-system-using-lamaindex\\.training-env\\lib\\site-packages (from llama-index-core<0.14,>=0.13.0->llama-index-embeddings-gemini) (0.11.0)\n",
      "Requirement already satisfied: typing-inspect>=0.8.0 in d:\\training\\faa-training\\beyond-the-prompt-practical-rag-for-real-world-ai\\rag-systems-using-llamaindex\\rag-system-using-lamaindex\\.training-env\\lib\\site-packages (from llama-index-core<0.14,>=0.13.0->llama-index-embeddings-gemini) (0.9.0)\n",
      "Requirement already satisfied: wrapt in d:\\training\\faa-training\\beyond-the-prompt-practical-rag-for-real-world-ai\\rag-systems-using-llamaindex\\rag-system-using-lamaindex\\.training-env\\lib\\site-packages (from llama-index-core<0.14,>=0.13.0->llama-index-embeddings-gemini) (1.17.3)\n",
      "Requirement already satisfied: aiohappyeyeballs>=2.5.0 in d:\\training\\faa-training\\beyond-the-prompt-practical-rag-for-real-world-ai\\rag-systems-using-llamaindex\\rag-system-using-lamaindex\\.training-env\\lib\\site-packages (from aiohttp<4,>=3.8.6->llama-index-core<0.14,>=0.13.0->llama-index-embeddings-gemini) (2.6.1)\n",
      "Requirement already satisfied: aiosignal>=1.4.0 in d:\\training\\faa-training\\beyond-the-prompt-practical-rag-for-real-world-ai\\rag-systems-using-llamaindex\\rag-system-using-lamaindex\\.training-env\\lib\\site-packages (from aiohttp<4,>=3.8.6->llama-index-core<0.14,>=0.13.0->llama-index-embeddings-gemini) (1.4.0)\n",
      "Requirement already satisfied: attrs>=17.3.0 in d:\\training\\faa-training\\beyond-the-prompt-practical-rag-for-real-world-ai\\rag-systems-using-llamaindex\\rag-system-using-lamaindex\\.training-env\\lib\\site-packages (from aiohttp<4,>=3.8.6->llama-index-core<0.14,>=0.13.0->llama-index-embeddings-gemini) (25.3.0)\n",
      "Requirement already satisfied: frozenlist>=1.1.1 in d:\\training\\faa-training\\beyond-the-prompt-practical-rag-for-real-world-ai\\rag-systems-using-llamaindex\\rag-system-using-lamaindex\\.training-env\\lib\\site-packages (from aiohttp<4,>=3.8.6->llama-index-core<0.14,>=0.13.0->llama-index-embeddings-gemini) (1.7.0)\n",
      "Requirement already satisfied: multidict<7.0,>=4.5 in d:\\training\\faa-training\\beyond-the-prompt-practical-rag-for-real-world-ai\\rag-systems-using-llamaindex\\rag-system-using-lamaindex\\.training-env\\lib\\site-packages (from aiohttp<4,>=3.8.6->llama-index-core<0.14,>=0.13.0->llama-index-embeddings-gemini) (6.6.4)\n",
      "Requirement already satisfied: propcache>=0.2.0 in d:\\training\\faa-training\\beyond-the-prompt-practical-rag-for-real-world-ai\\rag-systems-using-llamaindex\\rag-system-using-lamaindex\\.training-env\\lib\\site-packages (from aiohttp<4,>=3.8.6->llama-index-core<0.14,>=0.13.0->llama-index-embeddings-gemini) (0.3.2)\n",
      "Requirement already satisfied: yarl<2.0,>=1.17.0 in d:\\training\\faa-training\\beyond-the-prompt-practical-rag-for-real-world-ai\\rag-systems-using-llamaindex\\rag-system-using-lamaindex\\.training-env\\lib\\site-packages (from aiohttp<4,>=3.8.6->llama-index-core<0.14,>=0.13.0->llama-index-embeddings-gemini) (1.20.1)\n",
      "Requirement already satisfied: griffe in d:\\training\\faa-training\\beyond-the-prompt-practical-rag-for-real-world-ai\\rag-systems-using-llamaindex\\rag-system-using-lamaindex\\.training-env\\lib\\site-packages (from banks<3,>=2.2.0->llama-index-core<0.14,>=0.13.0->llama-index-embeddings-gemini) (1.13.0)\n",
      "Requirement already satisfied: jinja2 in d:\\training\\faa-training\\beyond-the-prompt-practical-rag-for-real-world-ai\\rag-systems-using-llamaindex\\rag-system-using-lamaindex\\.training-env\\lib\\site-packages (from banks<3,>=2.2.0->llama-index-core<0.14,>=0.13.0->llama-index-embeddings-gemini) (3.1.6)\n",
      "Collecting googleapis-common-protos<2.0.0,>=1.56.2 (from google-api-core->google-generativeai>=0.5.2->llama-index-embeddings-gemini)\n",
      "  Using cached googleapis_common_protos-1.70.0-py3-none-any.whl.metadata (9.3 kB)\n",
      "Collecting cachetools<6.0,>=2.0.0 (from google-auth>=2.15.0->google-generativeai>=0.5.2->llama-index-embeddings-gemini)\n",
      "  Using cached cachetools-5.5.2-py3-none-any.whl.metadata (5.4 kB)\n",
      "Collecting pyasn1-modules>=0.2.1 (from google-auth>=2.15.0->google-generativeai>=0.5.2->llama-index-embeddings-gemini)\n",
      "  Using cached pyasn1_modules-0.4.2-py3-none-any.whl.metadata (3.5 kB)\n",
      "Collecting rsa<5,>=3.1.4 (from google-auth>=2.15.0->google-generativeai>=0.5.2->llama-index-embeddings-gemini)\n",
      "  Using cached rsa-4.9.1-py3-none-any.whl.metadata (5.6 kB)\n",
      "Requirement already satisfied: anyio in d:\\training\\faa-training\\beyond-the-prompt-practical-rag-for-real-world-ai\\rag-systems-using-llamaindex\\rag-system-using-lamaindex\\.training-env\\lib\\site-packages (from httpx>=0.21.2->cohere<6,>=5.15->llama-index-embeddings-cohere) (4.10.0)\n",
      "Requirement already satisfied: certifi in d:\\training\\faa-training\\beyond-the-prompt-practical-rag-for-real-world-ai\\rag-systems-using-llamaindex\\rag-system-using-lamaindex\\.training-env\\lib\\site-packages (from httpx>=0.21.2->cohere<6,>=5.15->llama-index-embeddings-cohere) (2025.8.3)\n",
      "Requirement already satisfied: httpcore==1.* in d:\\training\\faa-training\\beyond-the-prompt-practical-rag-for-real-world-ai\\rag-systems-using-llamaindex\\rag-system-using-lamaindex\\.training-env\\lib\\site-packages (from httpx>=0.21.2->cohere<6,>=5.15->llama-index-embeddings-cohere) (1.0.9)\n",
      "Requirement already satisfied: idna in d:\\training\\faa-training\\beyond-the-prompt-practical-rag-for-real-world-ai\\rag-systems-using-llamaindex\\rag-system-using-lamaindex\\.training-env\\lib\\site-packages (from httpx>=0.21.2->cohere<6,>=5.15->llama-index-embeddings-cohere) (3.10)\n",
      "Requirement already satisfied: h11>=0.16 in d:\\training\\faa-training\\beyond-the-prompt-practical-rag-for-real-world-ai\\rag-systems-using-llamaindex\\rag-system-using-lamaindex\\.training-env\\lib\\site-packages (from httpcore==1.*->httpx>=0.21.2->cohere<6,>=5.15->llama-index-embeddings-cohere) (0.16.0)\n",
      "Requirement already satisfied: llama-index-instrumentation>=0.1.0 in d:\\training\\faa-training\\beyond-the-prompt-practical-rag-for-real-world-ai\\rag-systems-using-llamaindex\\rag-system-using-lamaindex\\.training-env\\lib\\site-packages (from llama-index-workflows<2,>=1.0.1->llama-index-core<0.14,>=0.13.0->llama-index-embeddings-gemini) (0.4.0)\n",
      "Requirement already satisfied: click in d:\\training\\faa-training\\beyond-the-prompt-practical-rag-for-real-world-ai\\rag-systems-using-llamaindex\\rag-system-using-lamaindex\\.training-env\\lib\\site-packages (from nltk>3.8.1->llama-index-core<0.14,>=0.13.0->llama-index-embeddings-gemini) (8.2.1)\n",
      "Requirement already satisfied: joblib in d:\\training\\faa-training\\beyond-the-prompt-practical-rag-for-real-world-ai\\rag-systems-using-llamaindex\\rag-system-using-lamaindex\\.training-env\\lib\\site-packages (from nltk>3.8.1->llama-index-core<0.14,>=0.13.0->llama-index-embeddings-gemini) (1.5.2)\n",
      "Requirement already satisfied: regex>=2021.8.3 in d:\\training\\faa-training\\beyond-the-prompt-practical-rag-for-real-world-ai\\rag-systems-using-llamaindex\\rag-system-using-lamaindex\\.training-env\\lib\\site-packages (from nltk>3.8.1->llama-index-core<0.14,>=0.13.0->llama-index-embeddings-gemini) (2025.7.34)\n",
      "Requirement already satisfied: annotated-types>=0.6.0 in d:\\training\\faa-training\\beyond-the-prompt-practical-rag-for-real-world-ai\\rag-systems-using-llamaindex\\rag-system-using-lamaindex\\.training-env\\lib\\site-packages (from pydantic>=1.9.2->cohere<6,>=5.15->llama-index-embeddings-cohere) (0.7.0)\n",
      "Requirement already satisfied: typing-inspection>=0.4.0 in d:\\training\\faa-training\\beyond-the-prompt-practical-rag-for-real-world-ai\\rag-systems-using-llamaindex\\rag-system-using-lamaindex\\.training-env\\lib\\site-packages (from pydantic>=1.9.2->cohere<6,>=5.15->llama-index-embeddings-cohere) (0.4.1)\n",
      "Requirement already satisfied: charset_normalizer<4,>=2 in d:\\training\\faa-training\\beyond-the-prompt-practical-rag-for-real-world-ai\\rag-systems-using-llamaindex\\rag-system-using-lamaindex\\.training-env\\lib\\site-packages (from requests<3.0.0,>=2.0.0->cohere<6,>=5.15->llama-index-embeddings-cohere) (3.4.3)\n",
      "Requirement already satisfied: urllib3<3,>=1.21.1 in d:\\training\\faa-training\\beyond-the-prompt-practical-rag-for-real-world-ai\\rag-systems-using-llamaindex\\rag-system-using-lamaindex\\.training-env\\lib\\site-packages (from requests<3.0.0,>=2.0.0->cohere<6,>=5.15->llama-index-embeddings-cohere) (2.5.0)\n",
      "Requirement already satisfied: greenlet>=1 in d:\\training\\faa-training\\beyond-the-prompt-practical-rag-for-real-world-ai\\rag-systems-using-llamaindex\\rag-system-using-lamaindex\\.training-env\\lib\\site-packages (from sqlalchemy>=1.4.49->sqlalchemy[asyncio]>=1.4.49->llama-index-core<0.14,>=0.13.0->llama-index-embeddings-gemini) (3.2.4)\n",
      "Collecting huggingface-hub<1.0,>=0.16.4 (from tokenizers<1,>=0.15->cohere<6,>=5.15->llama-index-embeddings-cohere)\n",
      "  Using cached huggingface_hub-0.34.4-py3-none-any.whl.metadata (14 kB)\n",
      "Requirement already satisfied: colorama in d:\\training\\faa-training\\beyond-the-prompt-practical-rag-for-real-world-ai\\rag-systems-using-llamaindex\\rag-system-using-lamaindex\\.training-env\\lib\\site-packages (from tqdm->google-generativeai>=0.5.2->llama-index-embeddings-gemini) (0.4.6)\n",
      "Requirement already satisfied: mypy-extensions>=0.3.0 in d:\\training\\faa-training\\beyond-the-prompt-practical-rag-for-real-world-ai\\rag-systems-using-llamaindex\\rag-system-using-lamaindex\\.training-env\\lib\\site-packages (from typing-inspect>=0.8.0->llama-index-core<0.14,>=0.13.0->llama-index-embeddings-gemini) (1.1.0)\n",
      "Requirement already satisfied: marshmallow<4.0.0,>=3.18.0 in d:\\training\\faa-training\\beyond-the-prompt-practical-rag-for-real-world-ai\\rag-systems-using-llamaindex\\rag-system-using-lamaindex\\.training-env\\lib\\site-packages (from dataclasses-json->llama-index-core<0.14,>=0.13.0->llama-index-embeddings-gemini) (3.26.1)\n",
      "Collecting httplib2<1.0.0,>=0.19.0 (from google-api-python-client->google-generativeai>=0.5.2->llama-index-embeddings-gemini)\n",
      "  Using cached httplib2-0.22.0-py3-none-any.whl.metadata (2.6 kB)\n",
      "Collecting google-auth-httplib2<1.0.0,>=0.2.0 (from google-api-python-client->google-generativeai>=0.5.2->llama-index-embeddings-gemini)\n",
      "  Using cached google_auth_httplib2-0.2.0-py2.py3-none-any.whl.metadata (2.2 kB)\n",
      "Collecting uritemplate<5,>=3.0.1 (from google-api-python-client->google-generativeai>=0.5.2->llama-index-embeddings-gemini)\n",
      "  Using cached uritemplate-4.2.0-py3-none-any.whl.metadata (2.6 kB)\n",
      "Collecting grpcio<2.0.0,>=1.33.2 (from google-api-core[grpc]!=2.0.*,!=2.1.*,!=2.10.*,!=2.2.*,!=2.3.*,!=2.4.*,!=2.5.*,!=2.6.*,!=2.7.*,!=2.8.*,!=2.9.*,<3.0.0dev,>=1.34.1->google-ai-generativelanguage==0.6.15->google-generativeai>=0.5.2->llama-index-embeddings-gemini)\n",
      "  Using cached grpcio-1.74.0-cp312-cp312-win_amd64.whl.metadata (4.0 kB)\n",
      "Collecting grpcio-status<2.0.0,>=1.33.2 (from google-api-core[grpc]!=2.0.*,!=2.1.*,!=2.10.*,!=2.2.*,!=2.3.*,!=2.4.*,!=2.5.*,!=2.6.*,!=2.7.*,!=2.8.*,!=2.9.*,<3.0.0dev,>=1.34.1->google-ai-generativelanguage==0.6.15->google-generativeai>=0.5.2->llama-index-embeddings-gemini)\n",
      "  Using cached grpcio_status-1.74.0-py3-none-any.whl.metadata (1.1 kB)\n",
      "Collecting pyparsing!=3.0.0,!=3.0.1,!=3.0.2,!=3.0.3,<4,>=2.4.2 (from httplib2<1.0.0,>=0.19.0->google-api-python-client->google-generativeai>=0.5.2->llama-index-embeddings-gemini)\n",
      "  Using cached pyparsing-3.2.3-py3-none-any.whl.metadata (5.0 kB)\n",
      "Requirement already satisfied: filelock in d:\\training\\faa-training\\beyond-the-prompt-practical-rag-for-real-world-ai\\rag-systems-using-llamaindex\\rag-system-using-lamaindex\\.training-env\\lib\\site-packages (from huggingface-hub<1.0,>=0.16.4->tokenizers<1,>=0.15->cohere<6,>=5.15->llama-index-embeddings-cohere) (3.19.1)\n",
      "Requirement already satisfied: packaging>=20.9 in d:\\training\\faa-training\\beyond-the-prompt-practical-rag-for-real-world-ai\\rag-systems-using-llamaindex\\rag-system-using-lamaindex\\.training-env\\lib\\site-packages (from huggingface-hub<1.0,>=0.16.4->tokenizers<1,>=0.15->cohere<6,>=5.15->llama-index-embeddings-cohere) (25.0)\n",
      "Collecting pyasn1<0.7.0,>=0.6.1 (from pyasn1-modules>=0.2.1->google-auth>=2.15.0->google-generativeai>=0.5.2->llama-index-embeddings-gemini)\n",
      "  Using cached pyasn1-0.6.1-py3-none-any.whl.metadata (8.4 kB)\n",
      "Requirement already satisfied: sniffio>=1.1 in d:\\training\\faa-training\\beyond-the-prompt-practical-rag-for-real-world-ai\\rag-systems-using-llamaindex\\rag-system-using-lamaindex\\.training-env\\lib\\site-packages (from anyio->httpx>=0.21.2->cohere<6,>=5.15->llama-index-embeddings-cohere) (1.3.1)\n",
      "Requirement already satisfied: MarkupSafe>=2.0 in d:\\training\\faa-training\\beyond-the-prompt-practical-rag-for-real-world-ai\\rag-systems-using-llamaindex\\rag-system-using-lamaindex\\.training-env\\lib\\site-packages (from jinja2->banks<3,>=2.2.0->llama-index-core<0.14,>=0.13.0->llama-index-embeddings-gemini) (3.0.2)\n",
      "INFO: pip is looking at multiple versions of grpcio-status to determine which version is compatible with other requirements. This could take a while.\n",
      "Collecting grpcio-status<2.0.0,>=1.33.2 (from google-api-core[grpc]!=2.0.*,!=2.1.*,!=2.10.*,!=2.2.*,!=2.3.*,!=2.4.*,!=2.5.*,!=2.6.*,!=2.7.*,!=2.8.*,!=2.9.*,<3.0.0dev,>=1.34.1->google-ai-generativelanguage==0.6.15->google-generativeai>=0.5.2->llama-index-embeddings-gemini)\n",
      "  Using cached grpcio_status-1.73.1-py3-none-any.whl.metadata (1.1 kB)\n",
      "  Using cached grpcio_status-1.73.0-py3-none-any.whl.metadata (1.1 kB)\n",
      "  Using cached grpcio_status-1.72.2-py3-none-any.whl.metadata (1.1 kB)\n",
      "  Using cached grpcio_status-1.72.1-py3-none-any.whl.metadata (1.1 kB)\n",
      "  Using cached grpcio_status-1.71.2-py3-none-any.whl.metadata (1.1 kB)\n",
      "Using cached llama_index_embeddings_gemini-0.4.0-py3-none-any.whl (4.0 kB)\n",
      "Using cached llama_index_embeddings_cohere-0.6.0-py3-none-any.whl (5.8 kB)\n",
      "Using cached cohere-5.17.0-py3-none-any.whl (295 kB)\n",
      "Using cached httpx_sse-0.4.0-py3-none-any.whl (7.8 kB)\n",
      "Using cached google_generativeai-0.8.5-py3-none-any.whl (155 kB)\n",
      "Using cached google_ai_generativelanguage-0.6.15-py3-none-any.whl (1.3 MB)\n",
      "Using cached fastavro-1.12.0-cp312-cp312-win_amd64.whl (445 kB)\n",
      "Using cached google_api_core-2.25.1-py3-none-any.whl (160 kB)\n",
      "Using cached google_auth-2.40.3-py2.py3-none-any.whl (216 kB)\n",
      "Using cached protobuf-5.29.5-cp310-abi3-win_amd64.whl (434 kB)\n",
      "Using cached tokenizers-0.21.4-cp39-abi3-win_amd64.whl (2.5 MB)\n",
      "Using cached types_requests-2.32.4.20250809-py3-none-any.whl (20 kB)\n",
      "Using cached google_api_python_client-2.179.0-py3-none-any.whl (14.0 MB)\n",
      "Using cached cachetools-5.5.2-py3-none-any.whl (10 kB)\n",
      "Using cached google_auth_httplib2-0.2.0-py2.py3-none-any.whl (9.3 kB)\n",
      "Using cached googleapis_common_protos-1.70.0-py3-none-any.whl (294 kB)\n",
      "Using cached httplib2-0.22.0-py3-none-any.whl (96 kB)\n",
      "Using cached huggingface_hub-0.34.4-py3-none-any.whl (561 kB)\n",
      "Using cached proto_plus-1.26.1-py3-none-any.whl (50 kB)\n",
      "Using cached pyasn1_modules-0.4.2-py3-none-any.whl (181 kB)\n",
      "Using cached rsa-4.9.1-py3-none-any.whl (34 kB)\n",
      "Using cached uritemplate-4.2.0-py3-none-any.whl (11 kB)\n",
      "Using cached grpcio-1.74.0-cp312-cp312-win_amd64.whl (4.5 MB)\n",
      "Using cached grpcio_status-1.71.2-py3-none-any.whl (14 kB)\n",
      "Using cached pyasn1-0.6.1-py3-none-any.whl (83 kB)\n",
      "Using cached pyparsing-3.2.3-py3-none-any.whl (111 kB)\n",
      "Installing collected packages: uritemplate, types-requests, pyparsing, pyasn1, protobuf, httpx-sse, grpcio, fastavro, cachetools, rsa, pyasn1-modules, proto-plus, huggingface-hub, httplib2, googleapis-common-protos, tokenizers, grpcio-status, google-auth, google-auth-httplib2, google-api-core, cohere, google-api-python-client, llama-index-embeddings-cohere, google-ai-generativelanguage, google-generativeai, llama-index-embeddings-gemini\n",
      "Successfully installed cachetools-5.5.2 cohere-5.17.0 fastavro-1.12.0 google-ai-generativelanguage-0.6.15 google-api-core-2.25.1 google-api-python-client-2.179.0 google-auth-2.40.3 google-auth-httplib2-0.2.0 google-generativeai-0.8.5 googleapis-common-protos-1.70.0 grpcio-1.74.0 grpcio-status-1.71.2 httplib2-0.22.0 httpx-sse-0.4.0 huggingface-hub-0.34.4 llama-index-embeddings-cohere-0.6.0 llama-index-embeddings-gemini-0.4.0 proto-plus-1.26.1 protobuf-5.29.5 pyasn1-0.6.1 pyasn1-modules-0.4.2 pyparsing-3.2.3 rsa-4.9.1 tokenizers-0.21.4 types-requests-2.32.4.20250809 uritemplate-4.2.0\n"
     ]
    },
    {
     "name": "stderr",
     "output_type": "stream",
     "text": [
      "\n",
      "[notice] A new release of pip is available: 25.0.1 -> 25.2\n",
      "[notice] To update, run: python.exe -m pip install --upgrade pip\n"
     ]
    },
    {
     "name": "stdout",
     "output_type": "stream",
     "text": [
      "Requirement already satisfied: llama_index.embeddings.openai in d:\\training\\faa-training\\beyond-the-prompt-practical-rag-for-real-world-ai\\rag-systems-using-llamaindex\\rag-system-using-lamaindex\\.training-env\\lib\\site-packages (0.5.0)\n",
      "Requirement already satisfied: llama-index-core<0.14,>=0.13.0 in d:\\training\\faa-training\\beyond-the-prompt-practical-rag-for-real-world-ai\\rag-systems-using-llamaindex\\rag-system-using-lamaindex\\.training-env\\lib\\site-packages (from llama_index.embeddings.openai) (0.13.3)\n",
      "Requirement already satisfied: openai>=1.1.0 in d:\\training\\faa-training\\beyond-the-prompt-practical-rag-for-real-world-ai\\rag-systems-using-llamaindex\\rag-system-using-lamaindex\\.training-env\\lib\\site-packages (from llama_index.embeddings.openai) (1.102.0)\n",
      "Requirement already satisfied: aiohttp<4,>=3.8.6 in d:\\training\\faa-training\\beyond-the-prompt-practical-rag-for-real-world-ai\\rag-systems-using-llamaindex\\rag-system-using-lamaindex\\.training-env\\lib\\site-packages (from llama-index-core<0.14,>=0.13.0->llama_index.embeddings.openai) (3.12.15)\n",
      "Requirement already satisfied: aiosqlite in d:\\training\\faa-training\\beyond-the-prompt-practical-rag-for-real-world-ai\\rag-systems-using-llamaindex\\rag-system-using-lamaindex\\.training-env\\lib\\site-packages (from llama-index-core<0.14,>=0.13.0->llama_index.embeddings.openai) (0.21.0)\n",
      "Requirement already satisfied: banks<3,>=2.2.0 in d:\\training\\faa-training\\beyond-the-prompt-practical-rag-for-real-world-ai\\rag-systems-using-llamaindex\\rag-system-using-lamaindex\\.training-env\\lib\\site-packages (from llama-index-core<0.14,>=0.13.0->llama_index.embeddings.openai) (2.2.0)\n",
      "Requirement already satisfied: dataclasses-json in d:\\training\\faa-training\\beyond-the-prompt-practical-rag-for-real-world-ai\\rag-systems-using-llamaindex\\rag-system-using-lamaindex\\.training-env\\lib\\site-packages (from llama-index-core<0.14,>=0.13.0->llama_index.embeddings.openai) (0.6.7)\n",
      "Requirement already satisfied: deprecated>=1.2.9.3 in d:\\training\\faa-training\\beyond-the-prompt-practical-rag-for-real-world-ai\\rag-systems-using-llamaindex\\rag-system-using-lamaindex\\.training-env\\lib\\site-packages (from llama-index-core<0.14,>=0.13.0->llama_index.embeddings.openai) (1.2.18)\n",
      "Requirement already satisfied: dirtyjson<2,>=1.0.8 in d:\\training\\faa-training\\beyond-the-prompt-practical-rag-for-real-world-ai\\rag-systems-using-llamaindex\\rag-system-using-lamaindex\\.training-env\\lib\\site-packages (from llama-index-core<0.14,>=0.13.0->llama_index.embeddings.openai) (1.0.8)\n",
      "Requirement already satisfied: filetype<2,>=1.2.0 in d:\\training\\faa-training\\beyond-the-prompt-practical-rag-for-real-world-ai\\rag-systems-using-llamaindex\\rag-system-using-lamaindex\\.training-env\\lib\\site-packages (from llama-index-core<0.14,>=0.13.0->llama_index.embeddings.openai) (1.2.0)\n",
      "Requirement already satisfied: fsspec>=2023.5.0 in d:\\training\\faa-training\\beyond-the-prompt-practical-rag-for-real-world-ai\\rag-systems-using-llamaindex\\rag-system-using-lamaindex\\.training-env\\lib\\site-packages (from llama-index-core<0.14,>=0.13.0->llama_index.embeddings.openai) (2025.7.0)\n",
      "Requirement already satisfied: httpx in d:\\training\\faa-training\\beyond-the-prompt-practical-rag-for-real-world-ai\\rag-systems-using-llamaindex\\rag-system-using-lamaindex\\.training-env\\lib\\site-packages (from llama-index-core<0.14,>=0.13.0->llama_index.embeddings.openai) (0.28.1)\n",
      "Requirement already satisfied: llama-index-workflows<2,>=1.0.1 in d:\\training\\faa-training\\beyond-the-prompt-practical-rag-for-real-world-ai\\rag-systems-using-llamaindex\\rag-system-using-lamaindex\\.training-env\\lib\\site-packages (from llama-index-core<0.14,>=0.13.0->llama_index.embeddings.openai) (1.3.0)\n",
      "Requirement already satisfied: nest-asyncio<2,>=1.5.8 in d:\\training\\faa-training\\beyond-the-prompt-practical-rag-for-real-world-ai\\rag-systems-using-llamaindex\\rag-system-using-lamaindex\\.training-env\\lib\\site-packages (from llama-index-core<0.14,>=0.13.0->llama_index.embeddings.openai) (1.6.0)\n",
      "Requirement already satisfied: networkx>=3.0 in d:\\training\\faa-training\\beyond-the-prompt-practical-rag-for-real-world-ai\\rag-systems-using-llamaindex\\rag-system-using-lamaindex\\.training-env\\lib\\site-packages (from llama-index-core<0.14,>=0.13.0->llama_index.embeddings.openai) (3.5)\n",
      "Requirement already satisfied: nltk>3.8.1 in d:\\training\\faa-training\\beyond-the-prompt-practical-rag-for-real-world-ai\\rag-systems-using-llamaindex\\rag-system-using-lamaindex\\.training-env\\lib\\site-packages (from llama-index-core<0.14,>=0.13.0->llama_index.embeddings.openai) (3.9.1)\n",
      "Requirement already satisfied: numpy in d:\\training\\faa-training\\beyond-the-prompt-practical-rag-for-real-world-ai\\rag-systems-using-llamaindex\\rag-system-using-lamaindex\\.training-env\\lib\\site-packages (from llama-index-core<0.14,>=0.13.0->llama_index.embeddings.openai) (2.3.2)\n",
      "Requirement already satisfied: pillow>=9.0.0 in d:\\training\\faa-training\\beyond-the-prompt-practical-rag-for-real-world-ai\\rag-systems-using-llamaindex\\rag-system-using-lamaindex\\.training-env\\lib\\site-packages (from llama-index-core<0.14,>=0.13.0->llama_index.embeddings.openai) (11.3.0)\n",
      "Requirement already satisfied: platformdirs in d:\\training\\faa-training\\beyond-the-prompt-practical-rag-for-real-world-ai\\rag-systems-using-llamaindex\\rag-system-using-lamaindex\\.training-env\\lib\\site-packages (from llama-index-core<0.14,>=0.13.0->llama_index.embeddings.openai) (4.4.0)\n",
      "Requirement already satisfied: pydantic>=2.8.0 in d:\\training\\faa-training\\beyond-the-prompt-practical-rag-for-real-world-ai\\rag-systems-using-llamaindex\\rag-system-using-lamaindex\\.training-env\\lib\\site-packages (from llama-index-core<0.14,>=0.13.0->llama_index.embeddings.openai) (2.11.7)\n",
      "Requirement already satisfied: pyyaml>=6.0.1 in d:\\training\\faa-training\\beyond-the-prompt-practical-rag-for-real-world-ai\\rag-systems-using-llamaindex\\rag-system-using-lamaindex\\.training-env\\lib\\site-packages (from llama-index-core<0.14,>=0.13.0->llama_index.embeddings.openai) (6.0.2)\n",
      "Requirement already satisfied: requests>=2.31.0 in d:\\training\\faa-training\\beyond-the-prompt-practical-rag-for-real-world-ai\\rag-systems-using-llamaindex\\rag-system-using-lamaindex\\.training-env\\lib\\site-packages (from llama-index-core<0.14,>=0.13.0->llama_index.embeddings.openai) (2.32.5)\n",
      "Requirement already satisfied: setuptools>=80.9.0 in d:\\training\\faa-training\\beyond-the-prompt-practical-rag-for-real-world-ai\\rag-systems-using-llamaindex\\rag-system-using-lamaindex\\.training-env\\lib\\site-packages (from llama-index-core<0.14,>=0.13.0->llama_index.embeddings.openai) (80.9.0)\n",
      "Requirement already satisfied: sqlalchemy>=1.4.49 in d:\\training\\faa-training\\beyond-the-prompt-practical-rag-for-real-world-ai\\rag-systems-using-llamaindex\\rag-system-using-lamaindex\\.training-env\\lib\\site-packages (from sqlalchemy[asyncio]>=1.4.49->llama-index-core<0.14,>=0.13.0->llama_index.embeddings.openai) (2.0.43)\n",
      "Requirement already satisfied: tenacity!=8.4.0,<10.0.0,>=8.2.0 in d:\\training\\faa-training\\beyond-the-prompt-practical-rag-for-real-world-ai\\rag-systems-using-llamaindex\\rag-system-using-lamaindex\\.training-env\\lib\\site-packages (from llama-index-core<0.14,>=0.13.0->llama_index.embeddings.openai) (9.1.2)\n",
      "Requirement already satisfied: tiktoken>=0.7.0 in d:\\training\\faa-training\\beyond-the-prompt-practical-rag-for-real-world-ai\\rag-systems-using-llamaindex\\rag-system-using-lamaindex\\.training-env\\lib\\site-packages (from llama-index-core<0.14,>=0.13.0->llama_index.embeddings.openai) (0.11.0)\n",
      "Requirement already satisfied: tqdm<5,>=4.66.1 in d:\\training\\faa-training\\beyond-the-prompt-practical-rag-for-real-world-ai\\rag-systems-using-llamaindex\\rag-system-using-lamaindex\\.training-env\\lib\\site-packages (from llama-index-core<0.14,>=0.13.0->llama_index.embeddings.openai) (4.67.1)\n",
      "Requirement already satisfied: typing-extensions>=4.5.0 in d:\\training\\faa-training\\beyond-the-prompt-practical-rag-for-real-world-ai\\rag-systems-using-llamaindex\\rag-system-using-lamaindex\\.training-env\\lib\\site-packages (from llama-index-core<0.14,>=0.13.0->llama_index.embeddings.openai) (4.14.1)\n",
      "Requirement already satisfied: typing-inspect>=0.8.0 in d:\\training\\faa-training\\beyond-the-prompt-practical-rag-for-real-world-ai\\rag-systems-using-llamaindex\\rag-system-using-lamaindex\\.training-env\\lib\\site-packages (from llama-index-core<0.14,>=0.13.0->llama_index.embeddings.openai) (0.9.0)\n",
      "Requirement already satisfied: wrapt in d:\\training\\faa-training\\beyond-the-prompt-practical-rag-for-real-world-ai\\rag-systems-using-llamaindex\\rag-system-using-lamaindex\\.training-env\\lib\\site-packages (from llama-index-core<0.14,>=0.13.0->llama_index.embeddings.openai) (1.17.3)\n",
      "Requirement already satisfied: anyio<5,>=3.5.0 in d:\\training\\faa-training\\beyond-the-prompt-practical-rag-for-real-world-ai\\rag-systems-using-llamaindex\\rag-system-using-lamaindex\\.training-env\\lib\\site-packages (from openai>=1.1.0->llama_index.embeddings.openai) (4.10.0)\n",
      "Requirement already satisfied: distro<2,>=1.7.0 in d:\\training\\faa-training\\beyond-the-prompt-practical-rag-for-real-world-ai\\rag-systems-using-llamaindex\\rag-system-using-lamaindex\\.training-env\\lib\\site-packages (from openai>=1.1.0->llama_index.embeddings.openai) (1.9.0)\n",
      "Requirement already satisfied: jiter<1,>=0.4.0 in d:\\training\\faa-training\\beyond-the-prompt-practical-rag-for-real-world-ai\\rag-systems-using-llamaindex\\rag-system-using-lamaindex\\.training-env\\lib\\site-packages (from openai>=1.1.0->llama_index.embeddings.openai) (0.10.0)\n",
      "Requirement already satisfied: sniffio in d:\\training\\faa-training\\beyond-the-prompt-practical-rag-for-real-world-ai\\rag-systems-using-llamaindex\\rag-system-using-lamaindex\\.training-env\\lib\\site-packages (from openai>=1.1.0->llama_index.embeddings.openai) (1.3.1)\n",
      "Requirement already satisfied: aiohappyeyeballs>=2.5.0 in d:\\training\\faa-training\\beyond-the-prompt-practical-rag-for-real-world-ai\\rag-systems-using-llamaindex\\rag-system-using-lamaindex\\.training-env\\lib\\site-packages (from aiohttp<4,>=3.8.6->llama-index-core<0.14,>=0.13.0->llama_index.embeddings.openai) (2.6.1)\n",
      "Requirement already satisfied: aiosignal>=1.4.0 in d:\\training\\faa-training\\beyond-the-prompt-practical-rag-for-real-world-ai\\rag-systems-using-llamaindex\\rag-system-using-lamaindex\\.training-env\\lib\\site-packages (from aiohttp<4,>=3.8.6->llama-index-core<0.14,>=0.13.0->llama_index.embeddings.openai) (1.4.0)\n",
      "Requirement already satisfied: attrs>=17.3.0 in d:\\training\\faa-training\\beyond-the-prompt-practical-rag-for-real-world-ai\\rag-systems-using-llamaindex\\rag-system-using-lamaindex\\.training-env\\lib\\site-packages (from aiohttp<4,>=3.8.6->llama-index-core<0.14,>=0.13.0->llama_index.embeddings.openai) (25.3.0)\n",
      "Requirement already satisfied: frozenlist>=1.1.1 in d:\\training\\faa-training\\beyond-the-prompt-practical-rag-for-real-world-ai\\rag-systems-using-llamaindex\\rag-system-using-lamaindex\\.training-env\\lib\\site-packages (from aiohttp<4,>=3.8.6->llama-index-core<0.14,>=0.13.0->llama_index.embeddings.openai) (1.7.0)\n",
      "Requirement already satisfied: multidict<7.0,>=4.5 in d:\\training\\faa-training\\beyond-the-prompt-practical-rag-for-real-world-ai\\rag-systems-using-llamaindex\\rag-system-using-lamaindex\\.training-env\\lib\\site-packages (from aiohttp<4,>=3.8.6->llama-index-core<0.14,>=0.13.0->llama_index.embeddings.openai) (6.6.4)\n",
      "Requirement already satisfied: propcache>=0.2.0 in d:\\training\\faa-training\\beyond-the-prompt-practical-rag-for-real-world-ai\\rag-systems-using-llamaindex\\rag-system-using-lamaindex\\.training-env\\lib\\site-packages (from aiohttp<4,>=3.8.6->llama-index-core<0.14,>=0.13.0->llama_index.embeddings.openai) (0.3.2)\n",
      "Requirement already satisfied: yarl<2.0,>=1.17.0 in d:\\training\\faa-training\\beyond-the-prompt-practical-rag-for-real-world-ai\\rag-systems-using-llamaindex\\rag-system-using-lamaindex\\.training-env\\lib\\site-packages (from aiohttp<4,>=3.8.6->llama-index-core<0.14,>=0.13.0->llama_index.embeddings.openai) (1.20.1)\n",
      "Requirement already satisfied: idna>=2.8 in d:\\training\\faa-training\\beyond-the-prompt-practical-rag-for-real-world-ai\\rag-systems-using-llamaindex\\rag-system-using-lamaindex\\.training-env\\lib\\site-packages (from anyio<5,>=3.5.0->openai>=1.1.0->llama_index.embeddings.openai) (3.10)\n",
      "Requirement already satisfied: griffe in d:\\training\\faa-training\\beyond-the-prompt-practical-rag-for-real-world-ai\\rag-systems-using-llamaindex\\rag-system-using-lamaindex\\.training-env\\lib\\site-packages (from banks<3,>=2.2.0->llama-index-core<0.14,>=0.13.0->llama_index.embeddings.openai) (1.13.0)\n",
      "Requirement already satisfied: jinja2 in d:\\training\\faa-training\\beyond-the-prompt-practical-rag-for-real-world-ai\\rag-systems-using-llamaindex\\rag-system-using-lamaindex\\.training-env\\lib\\site-packages (from banks<3,>=2.2.0->llama-index-core<0.14,>=0.13.0->llama_index.embeddings.openai) (3.1.6)\n",
      "Requirement already satisfied: certifi in d:\\training\\faa-training\\beyond-the-prompt-practical-rag-for-real-world-ai\\rag-systems-using-llamaindex\\rag-system-using-lamaindex\\.training-env\\lib\\site-packages (from httpx->llama-index-core<0.14,>=0.13.0->llama_index.embeddings.openai) (2025.8.3)\n",
      "Requirement already satisfied: httpcore==1.* in d:\\training\\faa-training\\beyond-the-prompt-practical-rag-for-real-world-ai\\rag-systems-using-llamaindex\\rag-system-using-lamaindex\\.training-env\\lib\\site-packages (from httpx->llama-index-core<0.14,>=0.13.0->llama_index.embeddings.openai) (1.0.9)\n",
      "Requirement already satisfied: h11>=0.16 in d:\\training\\faa-training\\beyond-the-prompt-practical-rag-for-real-world-ai\\rag-systems-using-llamaindex\\rag-system-using-lamaindex\\.training-env\\lib\\site-packages (from httpcore==1.*->httpx->llama-index-core<0.14,>=0.13.0->llama_index.embeddings.openai) (0.16.0)\n",
      "Requirement already satisfied: llama-index-instrumentation>=0.1.0 in d:\\training\\faa-training\\beyond-the-prompt-practical-rag-for-real-world-ai\\rag-systems-using-llamaindex\\rag-system-using-lamaindex\\.training-env\\lib\\site-packages (from llama-index-workflows<2,>=1.0.1->llama-index-core<0.14,>=0.13.0->llama_index.embeddings.openai) (0.4.0)\n",
      "Requirement already satisfied: click in d:\\training\\faa-training\\beyond-the-prompt-practical-rag-for-real-world-ai\\rag-systems-using-llamaindex\\rag-system-using-lamaindex\\.training-env\\lib\\site-packages (from nltk>3.8.1->llama-index-core<0.14,>=0.13.0->llama_index.embeddings.openai) (8.2.1)\n",
      "Requirement already satisfied: joblib in d:\\training\\faa-training\\beyond-the-prompt-practical-rag-for-real-world-ai\\rag-systems-using-llamaindex\\rag-system-using-lamaindex\\.training-env\\lib\\site-packages (from nltk>3.8.1->llama-index-core<0.14,>=0.13.0->llama_index.embeddings.openai) (1.5.2)\n",
      "Requirement already satisfied: regex>=2021.8.3 in d:\\training\\faa-training\\beyond-the-prompt-practical-rag-for-real-world-ai\\rag-systems-using-llamaindex\\rag-system-using-lamaindex\\.training-env\\lib\\site-packages (from nltk>3.8.1->llama-index-core<0.14,>=0.13.0->llama_index.embeddings.openai) (2025.7.34)\n",
      "Requirement already satisfied: annotated-types>=0.6.0 in d:\\training\\faa-training\\beyond-the-prompt-practical-rag-for-real-world-ai\\rag-systems-using-llamaindex\\rag-system-using-lamaindex\\.training-env\\lib\\site-packages (from pydantic>=2.8.0->llama-index-core<0.14,>=0.13.0->llama_index.embeddings.openai) (0.7.0)\n",
      "Requirement already satisfied: pydantic-core==2.33.2 in d:\\training\\faa-training\\beyond-the-prompt-practical-rag-for-real-world-ai\\rag-systems-using-llamaindex\\rag-system-using-lamaindex\\.training-env\\lib\\site-packages (from pydantic>=2.8.0->llama-index-core<0.14,>=0.13.0->llama_index.embeddings.openai) (2.33.2)\n",
      "Requirement already satisfied: typing-inspection>=0.4.0 in d:\\training\\faa-training\\beyond-the-prompt-practical-rag-for-real-world-ai\\rag-systems-using-llamaindex\\rag-system-using-lamaindex\\.training-env\\lib\\site-packages (from pydantic>=2.8.0->llama-index-core<0.14,>=0.13.0->llama_index.embeddings.openai) (0.4.1)\n",
      "Requirement already satisfied: charset_normalizer<4,>=2 in d:\\training\\faa-training\\beyond-the-prompt-practical-rag-for-real-world-ai\\rag-systems-using-llamaindex\\rag-system-using-lamaindex\\.training-env\\lib\\site-packages (from requests>=2.31.0->llama-index-core<0.14,>=0.13.0->llama_index.embeddings.openai) (3.4.3)\n",
      "Requirement already satisfied: urllib3<3,>=1.21.1 in d:\\training\\faa-training\\beyond-the-prompt-practical-rag-for-real-world-ai\\rag-systems-using-llamaindex\\rag-system-using-lamaindex\\.training-env\\lib\\site-packages (from requests>=2.31.0->llama-index-core<0.14,>=0.13.0->llama_index.embeddings.openai) (2.5.0)\n",
      "Requirement already satisfied: greenlet>=1 in d:\\training\\faa-training\\beyond-the-prompt-practical-rag-for-real-world-ai\\rag-systems-using-llamaindex\\rag-system-using-lamaindex\\.training-env\\lib\\site-packages (from sqlalchemy>=1.4.49->sqlalchemy[asyncio]>=1.4.49->llama-index-core<0.14,>=0.13.0->llama_index.embeddings.openai) (3.2.4)\n",
      "Requirement already satisfied: colorama in d:\\training\\faa-training\\beyond-the-prompt-practical-rag-for-real-world-ai\\rag-systems-using-llamaindex\\rag-system-using-lamaindex\\.training-env\\lib\\site-packages (from tqdm<5,>=4.66.1->llama-index-core<0.14,>=0.13.0->llama_index.embeddings.openai) (0.4.6)\n",
      "Requirement already satisfied: mypy-extensions>=0.3.0 in d:\\training\\faa-training\\beyond-the-prompt-practical-rag-for-real-world-ai\\rag-systems-using-llamaindex\\rag-system-using-lamaindex\\.training-env\\lib\\site-packages (from typing-inspect>=0.8.0->llama-index-core<0.14,>=0.13.0->llama_index.embeddings.openai) (1.1.0)\n",
      "Requirement already satisfied: marshmallow<4.0.0,>=3.18.0 in d:\\training\\faa-training\\beyond-the-prompt-practical-rag-for-real-world-ai\\rag-systems-using-llamaindex\\rag-system-using-lamaindex\\.training-env\\lib\\site-packages (from dataclasses-json->llama-index-core<0.14,>=0.13.0->llama_index.embeddings.openai) (3.26.1)\n",
      "Requirement already satisfied: packaging>=17.0 in d:\\training\\faa-training\\beyond-the-prompt-practical-rag-for-real-world-ai\\rag-systems-using-llamaindex\\rag-system-using-lamaindex\\.training-env\\lib\\site-packages (from marshmallow<4.0.0,>=3.18.0->dataclasses-json->llama-index-core<0.14,>=0.13.0->llama_index.embeddings.openai) (25.0)\n",
      "Requirement already satisfied: MarkupSafe>=2.0 in d:\\training\\faa-training\\beyond-the-prompt-practical-rag-for-real-world-ai\\rag-systems-using-llamaindex\\rag-system-using-lamaindex\\.training-env\\lib\\site-packages (from jinja2->banks<3,>=2.2.0->llama-index-core<0.14,>=0.13.0->llama_index.embeddings.openai) (3.0.2)\n"
     ]
    },
    {
     "name": "stderr",
     "output_type": "stream",
     "text": [
      "\n",
      "[notice] A new release of pip is available: 25.0.1 -> 25.2\n",
      "[notice] To update, run: python.exe -m pip install --upgrade pip\n"
     ]
    }
   ],
   "source": [
    "!pip install dotenv\n",
    "!pip install llama-index-embeddings-gemini llama-index-embeddings-cohere \n",
    "!pip install llama_index.embeddings.openai"
   ]
  },
  {
   "cell_type": "markdown",
   "metadata": {},
   "source": [
    "## Load the Keys"
   ]
  },
  {
   "cell_type": "code",
   "execution_count": 2,
   "metadata": {},
   "outputs": [],
   "source": [
    "import os\n",
    "from dotenv import load_dotenv, find_dotenv"
   ]
  },
  {
   "cell_type": "code",
   "execution_count": 3,
   "metadata": {},
   "outputs": [
    {
     "data": {
      "text/plain": [
       "True"
      ]
     },
     "execution_count": 3,
     "metadata": {},
     "output_type": "execute_result"
    }
   ],
   "source": [
    "load_dotenv('D:/Training/FAA-Training/Beyond-the-Prompt-Practical-RAG-for-Real-World-AI/RAG-systems-using-LlamaIndex/Module3-Components-of-LlamaIndex/.env')"
   ]
  },
  {
   "cell_type": "code",
   "execution_count": 4,
   "metadata": {},
   "outputs": [],
   "source": [
    "OPENAI_API_KEY = os.environ[\"OPENAI_API_KEY\"]\n",
    "GOOGLE_API_KEY = os.environ['GOOGLE_API_KEY']\n",
    "HUGGINGFACE_API_KEY = os.environ['HUGGINGFACE_API_KEY']\n",
    "COHERE_API_KEY = os.environ[\"COHERE_API_KEY\"]"
   ]
  },
  {
   "cell_type": "markdown",
   "metadata": {
    "id": "SQ8e5Zlan50w"
   },
   "source": [
    "## 1. OpenAI Embeddings"
   ]
  },
  {
   "cell_type": "code",
   "execution_count": 5,
   "metadata": {
    "id": "2MQ52KlvhLkA"
   },
   "outputs": [],
   "source": [
    "from llama_index.embeddings.openai import OpenAIEmbedding"
   ]
  },
  {
   "cell_type": "code",
   "execution_count": 6,
   "metadata": {
    "id": "VUdomDpZiFLS"
   },
   "outputs": [],
   "source": [
    "# Define embedding model with OpenAI Embedding\n",
    "embed_model = OpenAIEmbedding(model='text-embedding-3-small', api_key=OPENAI_API_KEY)"
   ]
  },
  {
   "cell_type": "code",
   "execution_count": 7,
   "metadata": {
    "id": "ZlFLxcgzmbEQ"
   },
   "outputs": [],
   "source": [
    "# Get the text embedding\n",
    "embedding = embed_model.get_text_embedding(\"The cat sat on the mat\")"
   ]
  },
  {
   "cell_type": "code",
   "execution_count": 8,
   "metadata": {
    "colab": {
     "base_uri": "https://localhost:8080/"
    },
    "id": "JlM3B4aViReS",
    "outputId": "c06e6c1d-6968-4f89-c234-d0a3b9df9225"
   },
   "outputs": [
    {
     "data": {
      "text/plain": [
       "1536"
      ]
     },
     "execution_count": 8,
     "metadata": {},
     "output_type": "execute_result"
    }
   ],
   "source": [
    "# Get the dimension of the embedding\n",
    "len(embedding)"
   ]
  },
  {
   "cell_type": "code",
   "execution_count": 9,
   "metadata": {},
   "outputs": [
    {
     "data": {
      "text/plain": [
       "[-0.030741853639483452,\n",
       " -0.049538593739271164,\n",
       " -0.005032071378082037,\n",
       " -0.0015698964707553387,\n",
       " 0.03624901548027992,\n",
       " -0.002026402624323964,\n",
       " -0.008926513604819775,\n",
       " 0.027173832058906555,\n",
       " 0.0071037206798791885,\n",
       " -0.011867544613778591]"
      ]
     },
     "execution_count": 9,
     "metadata": {},
     "output_type": "execute_result"
    }
   ],
   "source": [
    "embedding[:10] "
   ]
  },
  {
   "cell_type": "code",
   "execution_count": 10,
   "metadata": {
    "id": "p9q7AgtCiUEW"
   },
   "outputs": [],
   "source": [
    "# You can get embeddings in batches\n",
    "embeddings = embed_model.get_text_embedding_batch([\"What are Embeddings?\", \\\n",
    "                                                   \"In 1967, a professor at MIT built the first ever NLP program Eliza to understand natural language.\"])"
   ]
  },
  {
   "cell_type": "code",
   "execution_count": 11,
   "metadata": {
    "colab": {
     "base_uri": "https://localhost:8080/"
    },
    "id": "-dIvFjYWihyQ",
    "outputId": "07e47786-010d-474a-a225-185048d416d1"
   },
   "outputs": [
    {
     "data": {
      "text/plain": [
       "2"
      ]
     },
     "execution_count": 11,
     "metadata": {},
     "output_type": "execute_result"
    }
   ],
   "source": [
    "len(embeddings)"
   ]
  },
  {
   "cell_type": "code",
   "execution_count": 12,
   "metadata": {},
   "outputs": [
    {
     "data": {
      "text/plain": [
       "[0.009822146035730839,\n",
       " -0.02960844337940216,\n",
       " -0.00874525960534811,\n",
       " 0.006135882344096899,\n",
       " -0.01089311484247446]"
      ]
     },
     "execution_count": 12,
     "metadata": {},
     "output_type": "execute_result"
    }
   ],
   "source": [
    "embeddings[0][:5] # embeddings of the 1st sentence"
   ]
  },
  {
   "cell_type": "code",
   "execution_count": 13,
   "metadata": {
    "colab": {
     "base_uri": "https://localhost:8080/"
    },
    "id": "Fqr9wDhcijz_",
    "outputId": "bcf64c72-d299-4c6e-9762-2966272d309e"
   },
   "outputs": [
    {
     "data": {
      "text/plain": [
       "[-0.052310045808553696,\n",
       " 0.011894790455698967,\n",
       " -0.002292225370183587,\n",
       " 0.00246118544600904,\n",
       " 0.014733320102095604]"
      ]
     },
     "execution_count": 13,
     "metadata": {},
     "output_type": "execute_result"
    }
   ],
   "source": [
    "embeddings[1][:5]  # embeddings of the 2nd sentence"
   ]
  },
  {
   "cell_type": "code",
   "execution_count": 14,
   "metadata": {},
   "outputs": [
    {
     "data": {
      "text/plain": [
       "1536"
      ]
     },
     "execution_count": 14,
     "metadata": {},
     "output_type": "execute_result"
    }
   ],
   "source": [
    "len(embeddings[1]) # length of each embedding"
   ]
  },
  {
   "cell_type": "markdown",
   "metadata": {
    "id": "pStpFtd4iTJe"
   },
   "source": [
    "## 2. Using Google Gemini Embeddings"
   ]
  },
  {
   "cell_type": "code",
   "execution_count": 15,
   "metadata": {
    "id": "rwwi9ihoiR35"
   },
   "outputs": [
    {
     "name": "stderr",
     "output_type": "stream",
     "text": [
      "d:\\Training\\FAA-Training\\Beyond-the-Prompt-Practical-RAG-for-Real-World-AI\\RAG-systems-using-LlamaIndex\\RAG-System-Using-LamaIndex\\.training-env\\Lib\\site-packages\\tqdm\\auto.py:21: TqdmWarning: IProgress not found. Please update jupyter and ipywidgets. See https://ipywidgets.readthedocs.io/en/stable/user_install.html\n",
      "  from .autonotebook import tqdm as notebook_tqdm\n"
     ]
    }
   ],
   "source": [
    "# imports\n",
    "from llama_index.embeddings.gemini import GeminiEmbedding"
   ]
  },
  {
   "cell_type": "code",
   "execution_count": 16,
   "metadata": {
    "id": "53lb4RDsiXbZ"
   },
   "outputs": [],
   "source": [
    "model_name = \"models/text-embedding-004\""
   ]
  },
  {
   "cell_type": "code",
   "execution_count": 17,
   "metadata": {
    "id": "FSlhNj2-iXeJ"
   },
   "outputs": [
    {
     "name": "stderr",
     "output_type": "stream",
     "text": [
      "C:\\Users\\venkatasp\\AppData\\Local\\Temp\\ipykernel_7936\\2492972408.py:1: DeprecationWarning: Call to deprecated class GeminiEmbedding. (Should use `llama-index-embeddings-google-genai` instead, using Google's latest unified SDK. See: https://docs.llamaindex.ai/en/stable/examples/embeddings/google_genai/)\n",
      "  embed_model = GeminiEmbedding(model_name=model_name, api_key=GOOGLE_API_KEY)\n"
     ]
    }
   ],
   "source": [
    "embed_model = GeminiEmbedding(model_name=model_name, api_key=GOOGLE_API_KEY)"
   ]
  },
  {
   "cell_type": "code",
   "execution_count": 18,
   "metadata": {
    "id": "2mYeQ0AoiXgT"
   },
   "outputs": [],
   "source": [
    "embeddings = embed_model.get_text_embedding(\"A journey to the centre of Earth\")"
   ]
  },
  {
   "cell_type": "code",
   "execution_count": 19,
   "metadata": {
    "colab": {
     "base_uri": "https://localhost:8080/"
    },
    "id": "aG88KEnzihpH",
    "outputId": "cb92a104-1212-4d71-a8a6-dbb810e2f318"
   },
   "outputs": [
    {
     "name": "stdout",
     "output_type": "stream",
     "text": [
      "Dimension of embeddings: 768\n"
     ]
    }
   ],
   "source": [
    "print(f\"Dimension of embeddings: {len(embeddings)}\")"
   ]
  },
  {
   "cell_type": "code",
   "execution_count": 20,
   "metadata": {
    "colab": {
     "base_uri": "https://localhost:8080/"
    },
    "id": "9ie4cYIsilAX",
    "outputId": "10649990-c6e9-46ba-f46d-998d06b1c8af"
   },
   "outputs": [
    {
     "data": {
      "text/plain": [
       "[0.0062123085, -0.00357899, -0.036939137, 0.0475324, 0.047872353]"
      ]
     },
     "execution_count": 20,
     "metadata": {},
     "output_type": "execute_result"
    }
   ],
   "source": [
    "embeddings[:5]"
   ]
  },
  {
   "cell_type": "markdown",
   "metadata": {
    "id": "DXkBrFjzjRpx"
   },
   "source": [
    "## 3. Using CohereAI Embeddings"
   ]
  },
  {
   "cell_type": "code",
   "execution_count": 20,
   "metadata": {
    "id": "uW3OYf7Pja6r"
   },
   "outputs": [],
   "source": [
    "from llama_index.embeddings.cohere import CohereEmbedding"
   ]
  },
  {
   "cell_type": "code",
   "execution_count": 21,
   "metadata": {},
   "outputs": [],
   "source": [
    "embed_model = CohereEmbedding(\n",
    "    cohere_api_key=COHERE_API_KEY,\n",
    "    model_name=\"embed-english-v3.0\",\n",
    "    input_type=\"search_query\",\n",
    ")"
   ]
  },
  {
   "cell_type": "code",
   "execution_count": 22,
   "metadata": {
    "id": "-5GNNFamje23"
   },
   "outputs": [],
   "source": [
    "embeddings = embed_model.get_text_embedding(\"Hello CohereAI!\")"
   ]
  },
  {
   "cell_type": "code",
   "execution_count": 23,
   "metadata": {
    "colab": {
     "base_uri": "https://localhost:8080/"
    },
    "id": "ezqGGSvrjgen",
    "outputId": "f95612af-0f1a-4ed2-dbb0-0fba3a3f979a"
   },
   "outputs": [
    {
     "name": "stdout",
     "output_type": "stream",
     "text": [
      "1024\n"
     ]
    }
   ],
   "source": [
    "print(len(embeddings))"
   ]
  },
  {
   "cell_type": "code",
   "execution_count": 24,
   "metadata": {
    "colab": {
     "base_uri": "https://localhost:8080/"
    },
    "id": "kx8g0LYijghz",
    "outputId": "aa7e1034-ab2c-4617-f9f9-6319deba8234"
   },
   "outputs": [
    {
     "name": "stdout",
     "output_type": "stream",
     "text": [
      "[-0.041931152, -0.022384644, -0.07067871, -0.011886597, -0.019210815]\n"
     ]
    }
   ],
   "source": [
    "print(embeddings[:5])"
   ]
  },
  {
   "cell_type": "markdown",
   "metadata": {
    "id": "YuAcq_Ufn-As"
   },
   "source": [
    "## 4. Open Source Embeddings from HuggingFace."
   ]
  },
  {
   "cell_type": "code",
   "execution_count": 25,
   "metadata": {
    "colab": {
     "base_uri": "https://localhost:8080/",
     "height": 209,
     "referenced_widgets": [
      "18720ba4e702464cac6e283a19fcc1ef",
      "2939870d643a471b937e2bdf5e8350db",
      "6550569f2cb84af2b1a6afe6423c5606",
      "93160150167b426bb8ab855884a95d2d",
      "36c340ea8b264c53b42fb548c04db863",
      "91f7ef1bd909445b91cb9a0ba6218547",
      "2158a9d86b8048b4a3ed1d958be18c95",
      "93020ac5c9fa403a9558e3e1c9ddb54d",
      "ba399ab40e4949298c3567ad7f533f08",
      "866d1b36545d46d28c36122b11cb6775",
      "9ba2df42cd7c428ab9c8149792d0d8ac",
      "ec8ac82c03f14705863e49851e430e62",
      "ca671524043f4a49b15725fa796fa54c",
      "3c01a086e53e47129be2acb4b0737906",
      "c302447a43c144fc93aa0cbb4fbc9aa9",
      "0610fbf0fc0d4fd2b1866a1c7fd95c6e",
      "a5e2f90b65574419a1e115e0826081b2",
      "f65f2c1a84a5407684e837eb73b13a57",
      "b09d9ec930664352a3b64ad9ad850692",
      "12426a58b18943b69de081dec08036d2",
      "531ea44bf75443bc8c8908c750efd692",
      "353f78df62c84ad28b9dcfdaafa69d1a",
      "d99c5e1516d64b59b3f84b4be4d4114b",
      "c16642d677b545dd9e4bf9d21b45d703",
      "b531ca9c7e974ab883358626e549ddd2",
      "9b443dbdbaad4ccfa89f84bb8c243040",
      "c35b0722500d449994ac53244ce59d8b",
      "2fcdf9c20d074c4da7a7a0cac238fb14",
      "9aa953206bb54ff7af3a7b30ed78bfde",
      "20228d8fe68c41d2b867260dfd059c56",
      "e6d758b39d394653bf8bc2aaac722b1d",
      "3221d50bc7ed4d7d89122d3db3198047",
      "ca9b35fe04e0493e905174dd0f0c8769",
      "3f6d81fd0a624a85a4d09ce05ea2d03c",
      "88dc39714c5f4e20a935238996133f91",
      "04b20460ea984380b283fb7d5d275cc7",
      "6ee629c76fa94bae9c5428a01b9086ba",
      "a2f9a4f7e9be41f1b11faa2eaa30c23c",
      "c7fc7c77fca54ad193bd26388017f779",
      "fc2584a4ac134535ad7775f91f673cdf",
      "e0a53f59761c418583e0afea0b7b247a",
      "1172cea981b74709bdc42cde62d43105",
      "07d95aa24f72439f81108682b1731407",
      "6f119b9aefbd44dcaa8c620d54118b45",
      "4a372900d5e840eda99c0fcaa7b0e8d3",
      "a78a2421da8c4f96b87117d1b8ec1d40",
      "e5b1aca039da407e98ed723d8e93ce50",
      "57e0b60c76fc460ea882d89dfeac5823",
      "1f646d8769374edd8443c9ba3bfb843e",
      "5c0f3cd9a1d74d73b5a1b81725a1c9e5",
      "acfcaf3b51b8492fa8a6f47e44ebb4c3",
      "980a3a2d1aa54933a82d1ac33df52feb",
      "b4ee6a2f2b514a11b21346f9fccb042c",
      "68936a6880f14cfcbf406df5697cd9c0",
      "9996baee969d4de59d58d4f83cbd6b1a",
      "f834043a0fa749eeb9a4741de299e520",
      "22e5ad1815b84d0782f66c07faec2fd8",
      "bfb0cf35c8a54bb1acd56023b73b69cf",
      "e67a74af17fe43e09be6a3245b921f33",
      "a9a66e8446a041f2917c05cec3e4bfcf",
      "b65d9ed6830446b18155ed57da709e80",
      "1de2c8bcac5e47d0b1153efccd8cf5f5",
      "e97fa2e309134e1bb1a714b0137c5846",
      "a7ffdcd51c8745f89c0a1e2983bb0898",
      "acd1a39cff8349658ca1f5cfe9b395e1",
      "3d3a86a6c03a40e086fe756b08ab22e5"
     ]
    },
    "id": "nC4jOfL4imRs",
    "outputId": "bc8b101d-fc29-4824-a738-23967317e633"
   },
   "outputs": [
    {
     "name": "stderr",
     "output_type": "stream",
     "text": [
      "The installed version of bitsandbytes was compiled without GPU support. 8-bit optimizers, 8-bit multiplication, and GPU quantization are unavailable.\n"
     ]
    }
   ],
   "source": [
    "from llama_index.embeddings.huggingface import HuggingFaceEmbedding"
   ]
  },
  {
   "cell_type": "code",
   "execution_count": 26,
   "metadata": {},
   "outputs": [
    {
     "data": {
      "application/vnd.jupyter.widget-view+json": {
       "model_id": "dba63bf855234295abfba8e1da7626fc",
       "version_major": 2,
       "version_minor": 0
      },
      "text/plain": [
       "modules.json:   0%|          | 0.00/349 [00:00<?, ?B/s]"
      ]
     },
     "metadata": {},
     "output_type": "display_data"
    },
    {
     "data": {
      "application/vnd.jupyter.widget-view+json": {
       "model_id": "1d3de39a0883431688bf1f232b33a1c4",
       "version_major": 2,
       "version_minor": 0
      },
      "text/plain": [
       "config_sentence_transformers.json:   0%|          | 0.00/124 [00:00<?, ?B/s]"
      ]
     },
     "metadata": {},
     "output_type": "display_data"
    },
    {
     "data": {
      "application/vnd.jupyter.widget-view+json": {
       "model_id": "ed1fbf9cd0ca41c995c0776761dfd0b2",
       "version_major": 2,
       "version_minor": 0
      },
      "text/plain": [
       "README.md:   0%|          | 0.00/94.8k [00:00<?, ?B/s]"
      ]
     },
     "metadata": {},
     "output_type": "display_data"
    },
    {
     "data": {
      "application/vnd.jupyter.widget-view+json": {
       "model_id": "897bb15690d0459fb513baa4d73bd549",
       "version_major": 2,
       "version_minor": 0
      },
      "text/plain": [
       "sentence_bert_config.json:   0%|          | 0.00/52.0 [00:00<?, ?B/s]"
      ]
     },
     "metadata": {},
     "output_type": "display_data"
    },
    {
     "data": {
      "application/vnd.jupyter.widget-view+json": {
       "model_id": "0e41c3b6e7c04ad7aed825d96c671c0b",
       "version_major": 2,
       "version_minor": 0
      },
      "text/plain": [
       "config.json:   0%|          | 0.00/743 [00:00<?, ?B/s]"
      ]
     },
     "metadata": {},
     "output_type": "display_data"
    },
    {
     "data": {
      "application/vnd.jupyter.widget-view+json": {
       "model_id": "4cb2a567a9b8418fa2ce055f058c73e4",
       "version_major": 2,
       "version_minor": 0
      },
      "text/plain": [
       "model.safetensors:   0%|          | 0.00/133M [00:00<?, ?B/s]"
      ]
     },
     "metadata": {},
     "output_type": "display_data"
    },
    {
     "data": {
      "application/vnd.jupyter.widget-view+json": {
       "model_id": "7cea37ad50714790a3e07ea42883d7ad",
       "version_major": 2,
       "version_minor": 0
      },
      "text/plain": [
       "tokenizer_config.json:   0%|          | 0.00/366 [00:00<?, ?B/s]"
      ]
     },
     "metadata": {},
     "output_type": "display_data"
    },
    {
     "data": {
      "application/vnd.jupyter.widget-view+json": {
       "model_id": "b1779d68c615409e81be69cc92635b81",
       "version_major": 2,
       "version_minor": 0
      },
      "text/plain": [
       "vocab.txt:   0%|          | 0.00/232k [00:00<?, ?B/s]"
      ]
     },
     "metadata": {},
     "output_type": "display_data"
    },
    {
     "data": {
      "application/vnd.jupyter.widget-view+json": {
       "model_id": "60bf045cb2284db9a707eb11101690ce",
       "version_major": 2,
       "version_minor": 0
      },
      "text/plain": [
       "tokenizer.json:   0%|          | 0.00/711k [00:00<?, ?B/s]"
      ]
     },
     "metadata": {},
     "output_type": "display_data"
    },
    {
     "data": {
      "application/vnd.jupyter.widget-view+json": {
       "model_id": "7cbf25134b4244eaba961b03ed2a37ed",
       "version_major": 2,
       "version_minor": 0
      },
      "text/plain": [
       "special_tokens_map.json:   0%|          | 0.00/125 [00:00<?, ?B/s]"
      ]
     },
     "metadata": {},
     "output_type": "display_data"
    },
    {
     "data": {
      "application/vnd.jupyter.widget-view+json": {
       "model_id": "a40d1f62d554443a9b255139e81a664f",
       "version_major": 2,
       "version_minor": 0
      },
      "text/plain": [
       "1_Pooling/config.json:   0%|          | 0.00/190 [00:00<?, ?B/s]"
      ]
     },
     "metadata": {},
     "output_type": "display_data"
    }
   ],
   "source": [
    "embed_model = HuggingFaceEmbedding(model_name=\"BAAI/bge-small-en-v1.5\")"
   ]
  },
  {
   "cell_type": "code",
   "execution_count": 27,
   "metadata": {
    "id": "-mUAXhoZljyj"
   },
   "outputs": [],
   "source": [
    "embedding = embed_model.get_text_embedding(\"Roses are red, and the sky is blue!?\")"
   ]
  },
  {
   "cell_type": "code",
   "execution_count": 28,
   "metadata": {
    "colab": {
     "base_uri": "https://localhost:8080/"
    },
    "id": "y_DJ697xlu-Z",
    "outputId": "84c66cb2-1f39-459c-b54a-8e485ce60705"
   },
   "outputs": [
    {
     "data": {
      "text/plain": [
       "384"
      ]
     },
     "execution_count": 28,
     "metadata": {},
     "output_type": "execute_result"
    }
   ],
   "source": [
    "len(embedding)"
   ]
  },
  {
   "cell_type": "code",
   "execution_count": 41,
   "metadata": {
    "id": "FXsEVehImDQM"
   },
   "outputs": [],
   "source": [
    "embeddings = embed_model.get_text_embedding_batch([\"Hugging Face Text Embeddings Inference\",\n",
    "                                                   \"OpenAI Embedding\",\n",
    "                                                   \"Open Source\",\n",
    "                                                   \"Closed Source\"])"
   ]
  },
  {
   "cell_type": "code",
   "execution_count": 42,
   "metadata": {
    "colab": {
     "base_uri": "https://localhost:8080/"
    },
    "id": "jKOl3IkxmR7j",
    "outputId": "d1db8dc2-8bf2-4c70-bf13-e7fb8167e1f6"
   },
   "outputs": [
    {
     "data": {
      "text/plain": [
       "4"
      ]
     },
     "execution_count": 42,
     "metadata": {},
     "output_type": "execute_result"
    }
   ],
   "source": [
    "len(embeddings)"
   ]
  },
  {
   "cell_type": "code",
   "execution_count": 43,
   "metadata": {
    "colab": {
     "base_uri": "https://localhost:8080/"
    },
    "id": "aUJe6-7smUbX",
    "outputId": "8ed22b08-5ee5-4355-d6af-185e9c1456c8"
   },
   "outputs": [
    {
     "data": {
      "text/plain": [
       "[-0.03793426603078842,\n",
       " 0.031132353469729424,\n",
       " -0.04273267462849617,\n",
       " -0.017657337710261345,\n",
       " 0.00661458820104599]"
      ]
     },
     "execution_count": 43,
     "metadata": {},
     "output_type": "execute_result"
    }
   ],
   "source": [
    "embeddings[0][:5]"
   ]
  },
  {
   "cell_type": "code",
   "execution_count": 44,
   "metadata": {},
   "outputs": [
    {
     "data": {
      "text/plain": [
       "384"
      ]
     },
     "execution_count": 44,
     "metadata": {},
     "output_type": "execute_result"
    }
   ],
   "source": [
    "len(embeddings[0])"
   ]
  },
  {
   "cell_type": "markdown",
   "metadata": {
    "id": "tUsPQV0QknKV"
   },
   "source": [
    "## 5. Loading SOTA Embedding Model"
   ]
  },
  {
   "cell_type": "code",
   "execution_count": 35,
   "metadata": {
    "colab": {
     "base_uri": "https://localhost:8080/",
     "height": 209,
     "referenced_widgets": [
      "a387c669042a47a084695476a32865ed",
      "5fa8f1435b7844448233e192c8bcb78e",
      "8fab0a50768d409eab7dc096b3fc32a9",
      "ad1ec2d9c0dc4f88a5b37c4c53b9cc79",
      "ee4c1e1dc72249459a391e5b23d1c1a9",
      "a4690ef9a745442d9ea53353239bf898",
      "fbc12ad7c42248789e5f16412da45cc9",
      "56f3be97398641f792527163052bca78",
      "2fc83eb3f52d49a0a7a9a5cb3f2aeb55",
      "f690a90b1e44439b8e30d3152f2d3043",
      "9d85dc82cfc445f69a39e6997493800e",
      "3b686a87765c4508bc097a5603666fe8",
      "d0dd34b8b16b4738bf3823ef99fa62c7",
      "98bcbad994464a1e90c8cea504043d59",
      "c620b878ae6c4fa5a170c9d64567d5a2",
      "a9bdab38689445a7be934ae7e996f84b",
      "693f5d73f07d4fcb9de3689040efddfb",
      "aa339739f4544e57a0f057aed992eb0f",
      "218dfa83d09a4dd2841e5633c06d3075",
      "83600a55fd5941619bd4580c8ed5c295",
      "21556edf6c9746d791ee855c2ea43347",
      "174d75394d0642d5baee7c918a7676a5",
      "f18b9284633247daa57be1e4787ae570",
      "569c2f8072544c598a50ed225319d509",
      "c4e8dcc2db674b8ea084e39f856b6604",
      "2531c0c0b5044992ab6fb96c8110dbe2",
      "04506652139b4cfd8e36670f301fc112",
      "725fe9f0dee649ed98eb33501e910568",
      "d6297b23e40d4d88b76f9fc29f11091d",
      "72d6490cc8ed41cca8ade992c5c8ed88",
      "c11f01032687435fb2847b89aa7b1548",
      "ff3351be1c4f4f9ab0cf6b62b23c3626",
      "a316b9ee16b9431b9a56ae3d2af5cf61",
      "1c09e0d16a5e4a5ca50584f3cf0e3257",
      "021a32e8926244f392d9e45ea9da7514",
      "06c5e205fc7f4acfb6d857b01330a172",
      "930968efda3b4c50b16b0b915401f01f",
      "0d58a21c80254413ba74facddf2629df",
      "70ae0df1683840e7ab8dba0832e182d4",
      "6a7126140f054769a97a2f58c41adfba",
      "bba85c87a69840c6bf1b693d9c24b500",
      "fe9799d8dbb54b6eb81e2769a65be499",
      "b66e34478ec449c6b70ef57e427e76e6",
      "88ab99cde32c4d00b7b7ea71209772a1",
      "0f1749b1571e4af0a0ef326e5d53be47",
      "5398943eb06343fe9110e15ed5ac4cca",
      "c6da76b8ea5d4e72a405f9fa7ef05989",
      "09d31bee24224982a1686e7c1430cb5a",
      "106e3860db574788b725aa621022e742",
      "03de7f2564e34c578ca978dc1d7b281f",
      "7a255b02561f44a5a7a9cd2c9b7aefd0",
      "b0ecdb6344274770960ac88a62656902",
      "6648d95456b943a2852a9c2ba70025e2",
      "d0d06ffc74ed48bd902229528f8596e5",
      "d8901b9333bf4ebe9af8498deb5e8a9e",
      "e665360b0e7848f3a0f71ad1275bf473",
      "00a2380cf9fe409481c16cf00f67c5ac",
      "0a741c03df8a4787ad1a72d22cd98b4d",
      "40702a56f5a54a0f82d509887d6271bd",
      "f9344c50b26540a88845e1c0eaca1b13",
      "9c50d96e35fc44e6958c57e96d0f8198",
      "3cac8cd0a780413dbb5d5da9f9c0d3ad",
      "a048deb17f1f4e2d9b0864596de97906",
      "3b46322c302340919457c2e8f42ff5a1",
      "5fdba18b92854016890d0cc36d0257a1",
      "a06e8a0991894579999563dd7fa2db75"
     ]
    },
    "id": "8VlOHm49kOKj",
    "outputId": "85e4b031-2809-4603-eddd-57692a837570"
   },
   "outputs": [],
   "source": [
    "embed_model = HuggingFaceEmbedding(model_name='WhereIsAI/UAE-Large-V1')"
   ]
  },
  {
   "cell_type": "code",
   "execution_count": 36,
   "metadata": {
    "id": "G-PYCP_iktfE"
   },
   "outputs": [],
   "source": [
    "embedding = embed_model.get_text_embedding(\"Hugging Face Text Embeddings Inference\")"
   ]
  },
  {
   "cell_type": "code",
   "execution_count": 37,
   "metadata": {
    "colab": {
     "base_uri": "https://localhost:8080/"
    },
    "id": "QWUF-kc6kyOT",
    "outputId": "e0a89c9e-1a0e-4cf6-c6d1-5351a791979b"
   },
   "outputs": [
    {
     "name": "stdout",
     "output_type": "stream",
     "text": [
      "[0.02925274148583412, 0.011324609629809856, 0.010814081877470016, -0.017124859616160393, 0.00806861650198698]\n"
     ]
    }
   ],
   "source": [
    "print(embedding[:5])"
   ]
  },
  {
   "cell_type": "code",
   "execution_count": 38,
   "metadata": {
    "colab": {
     "base_uri": "https://localhost:8080/"
    },
    "id": "vaxDYpCqkthN",
    "outputId": "b3e486a6-db9d-4596-fc5f-5d33d9106dcd"
   },
   "outputs": [
    {
     "data": {
      "text/plain": [
       "1024"
      ]
     },
     "execution_count": 38,
     "metadata": {},
     "output_type": "execute_result"
    }
   ],
   "source": [
    "len(embedding)"
   ]
  },
  {
   "cell_type": "markdown",
   "metadata": {
    "id": "oblsMNndk9y8"
   },
   "source": [
    "## You can check the top embeddings from this leaderboard: https://huggingface.co/spaces/mteb/leaderboard"
   ]
  }
 ],
 "metadata": {
  "colab": {
   "provenance": []
  },
  "kernelspec": {
   "display_name": ".training-env",
   "language": "python",
   "name": "python3"
  },
  "language_info": {
   "codemirror_mode": {
    "name": "ipython",
    "version": 3
   },
   "file_extension": ".py",
   "mimetype": "text/x-python",
   "name": "python",
   "nbconvert_exporter": "python",
   "pygments_lexer": "ipython3",
   "version": "3.12.10"
  },
  "widgets": {
   "application/vnd.jupyter.widget-state+json": {
    "00a2380cf9fe409481c16cf00f67c5ac": {
     "model_module": "@jupyter-widgets/controls",
     "model_module_version": "1.5.0",
     "model_name": "HTMLModel",
     "state": {
      "_dom_classes": [],
      "_model_module": "@jupyter-widgets/controls",
      "_model_module_version": "1.5.0",
      "_model_name": "HTMLModel",
      "_view_count": null,
      "_view_module": "@jupyter-widgets/controls",
      "_view_module_version": "1.5.0",
      "_view_name": "HTMLView",
      "description": "",
      "description_tooltip": null,
      "layout": "IPY_MODEL_9c50d96e35fc44e6958c57e96d0f8198",
      "placeholder": "​",
      "style": "IPY_MODEL_3cac8cd0a780413dbb5d5da9f9c0d3ad",
      "value": "special_tokens_map.json: 100%"
     }
    },
    "021a32e8926244f392d9e45ea9da7514": {
     "model_module": "@jupyter-widgets/controls",
     "model_module_version": "1.5.0",
     "model_name": "HTMLModel",
     "state": {
      "_dom_classes": [],
      "_model_module": "@jupyter-widgets/controls",
      "_model_module_version": "1.5.0",
      "_model_name": "HTMLModel",
      "_view_count": null,
      "_view_module": "@jupyter-widgets/controls",
      "_view_module_version": "1.5.0",
      "_view_name": "HTMLView",
      "description": "",
      "description_tooltip": null,
      "layout": "IPY_MODEL_70ae0df1683840e7ab8dba0832e182d4",
      "placeholder": "​",
      "style": "IPY_MODEL_6a7126140f054769a97a2f58c41adfba",
      "value": "vocab.txt: 100%"
     }
    },
    "03de7f2564e34c578ca978dc1d7b281f": {
     "model_module": "@jupyter-widgets/base",
     "model_module_version": "1.2.0",
     "model_name": "LayoutModel",
     "state": {
      "_model_module": "@jupyter-widgets/base",
      "_model_module_version": "1.2.0",
      "_model_name": "LayoutModel",
      "_view_count": null,
      "_view_module": "@jupyter-widgets/base",
      "_view_module_version": "1.2.0",
      "_view_name": "LayoutView",
      "align_content": null,
      "align_items": null,
      "align_self": null,
      "border": null,
      "bottom": null,
      "display": null,
      "flex": null,
      "flex_flow": null,
      "grid_area": null,
      "grid_auto_columns": null,
      "grid_auto_flow": null,
      "grid_auto_rows": null,
      "grid_column": null,
      "grid_gap": null,
      "grid_row": null,
      "grid_template_areas": null,
      "grid_template_columns": null,
      "grid_template_rows": null,
      "height": null,
      "justify_content": null,
      "justify_items": null,
      "left": null,
      "margin": null,
      "max_height": null,
      "max_width": null,
      "min_height": null,
      "min_width": null,
      "object_fit": null,
      "object_position": null,
      "order": null,
      "overflow": null,
      "overflow_x": null,
      "overflow_y": null,
      "padding": null,
      "right": null,
      "top": null,
      "visibility": null,
      "width": null
     }
    },
    "04506652139b4cfd8e36670f301fc112": {
     "model_module": "@jupyter-widgets/base",
     "model_module_version": "1.2.0",
     "model_name": "LayoutModel",
     "state": {
      "_model_module": "@jupyter-widgets/base",
      "_model_module_version": "1.2.0",
      "_model_name": "LayoutModel",
      "_view_count": null,
      "_view_module": "@jupyter-widgets/base",
      "_view_module_version": "1.2.0",
      "_view_name": "LayoutView",
      "align_content": null,
      "align_items": null,
      "align_self": null,
      "border": null,
      "bottom": null,
      "display": null,
      "flex": null,
      "flex_flow": null,
      "grid_area": null,
      "grid_auto_columns": null,
      "grid_auto_flow": null,
      "grid_auto_rows": null,
      "grid_column": null,
      "grid_gap": null,
      "grid_row": null,
      "grid_template_areas": null,
      "grid_template_columns": null,
      "grid_template_rows": null,
      "height": null,
      "justify_content": null,
      "justify_items": null,
      "left": null,
      "margin": null,
      "max_height": null,
      "max_width": null,
      "min_height": null,
      "min_width": null,
      "object_fit": null,
      "object_position": null,
      "order": null,
      "overflow": null,
      "overflow_x": null,
      "overflow_y": null,
      "padding": null,
      "right": null,
      "top": null,
      "visibility": null,
      "width": null
     }
    },
    "04b20460ea984380b283fb7d5d275cc7": {
     "model_module": "@jupyter-widgets/controls",
     "model_module_version": "1.5.0",
     "model_name": "FloatProgressModel",
     "state": {
      "_dom_classes": [],
      "_model_module": "@jupyter-widgets/controls",
      "_model_module_version": "1.5.0",
      "_model_name": "FloatProgressModel",
      "_view_count": null,
      "_view_module": "@jupyter-widgets/controls",
      "_view_module_version": "1.5.0",
      "_view_name": "ProgressView",
      "bar_style": "success",
      "description": "",
      "description_tooltip": null,
      "layout": "IPY_MODEL_e0a53f59761c418583e0afea0b7b247a",
      "max": 231508,
      "min": 0,
      "orientation": "horizontal",
      "style": "IPY_MODEL_1172cea981b74709bdc42cde62d43105",
      "value": 231508
     }
    },
    "0610fbf0fc0d4fd2b1866a1c7fd95c6e": {
     "model_module": "@jupyter-widgets/base",
     "model_module_version": "1.2.0",
     "model_name": "LayoutModel",
     "state": {
      "_model_module": "@jupyter-widgets/base",
      "_model_module_version": "1.2.0",
      "_model_name": "LayoutModel",
      "_view_count": null,
      "_view_module": "@jupyter-widgets/base",
      "_view_module_version": "1.2.0",
      "_view_name": "LayoutView",
      "align_content": null,
      "align_items": null,
      "align_self": null,
      "border": null,
      "bottom": null,
      "display": null,
      "flex": null,
      "flex_flow": null,
      "grid_area": null,
      "grid_auto_columns": null,
      "grid_auto_flow": null,
      "grid_auto_rows": null,
      "grid_column": null,
      "grid_gap": null,
      "grid_row": null,
      "grid_template_areas": null,
      "grid_template_columns": null,
      "grid_template_rows": null,
      "height": null,
      "justify_content": null,
      "justify_items": null,
      "left": null,
      "margin": null,
      "max_height": null,
      "max_width": null,
      "min_height": null,
      "min_width": null,
      "object_fit": null,
      "object_position": null,
      "order": null,
      "overflow": null,
      "overflow_x": null,
      "overflow_y": null,
      "padding": null,
      "right": null,
      "top": null,
      "visibility": null,
      "width": null
     }
    },
    "06c5e205fc7f4acfb6d857b01330a172": {
     "model_module": "@jupyter-widgets/controls",
     "model_module_version": "1.5.0",
     "model_name": "FloatProgressModel",
     "state": {
      "_dom_classes": [],
      "_model_module": "@jupyter-widgets/controls",
      "_model_module_version": "1.5.0",
      "_model_name": "FloatProgressModel",
      "_view_count": null,
      "_view_module": "@jupyter-widgets/controls",
      "_view_module_version": "1.5.0",
      "_view_name": "ProgressView",
      "bar_style": "success",
      "description": "",
      "description_tooltip": null,
      "layout": "IPY_MODEL_bba85c87a69840c6bf1b693d9c24b500",
      "max": 231508,
      "min": 0,
      "orientation": "horizontal",
      "style": "IPY_MODEL_fe9799d8dbb54b6eb81e2769a65be499",
      "value": 231508
     }
    },
    "07d95aa24f72439f81108682b1731407": {
     "model_module": "@jupyter-widgets/base",
     "model_module_version": "1.2.0",
     "model_name": "LayoutModel",
     "state": {
      "_model_module": "@jupyter-widgets/base",
      "_model_module_version": "1.2.0",
      "_model_name": "LayoutModel",
      "_view_count": null,
      "_view_module": "@jupyter-widgets/base",
      "_view_module_version": "1.2.0",
      "_view_name": "LayoutView",
      "align_content": null,
      "align_items": null,
      "align_self": null,
      "border": null,
      "bottom": null,
      "display": null,
      "flex": null,
      "flex_flow": null,
      "grid_area": null,
      "grid_auto_columns": null,
      "grid_auto_flow": null,
      "grid_auto_rows": null,
      "grid_column": null,
      "grid_gap": null,
      "grid_row": null,
      "grid_template_areas": null,
      "grid_template_columns": null,
      "grid_template_rows": null,
      "height": null,
      "justify_content": null,
      "justify_items": null,
      "left": null,
      "margin": null,
      "max_height": null,
      "max_width": null,
      "min_height": null,
      "min_width": null,
      "object_fit": null,
      "object_position": null,
      "order": null,
      "overflow": null,
      "overflow_x": null,
      "overflow_y": null,
      "padding": null,
      "right": null,
      "top": null,
      "visibility": null,
      "width": null
     }
    },
    "09d31bee24224982a1686e7c1430cb5a": {
     "model_module": "@jupyter-widgets/controls",
     "model_module_version": "1.5.0",
     "model_name": "HTMLModel",
     "state": {
      "_dom_classes": [],
      "_model_module": "@jupyter-widgets/controls",
      "_model_module_version": "1.5.0",
      "_model_name": "HTMLModel",
      "_view_count": null,
      "_view_module": "@jupyter-widgets/controls",
      "_view_module_version": "1.5.0",
      "_view_name": "HTMLView",
      "description": "",
      "description_tooltip": null,
      "layout": "IPY_MODEL_d0d06ffc74ed48bd902229528f8596e5",
      "placeholder": "​",
      "style": "IPY_MODEL_d8901b9333bf4ebe9af8498deb5e8a9e",
      "value": " 711k/711k [00:00&lt;00:00, 21.7MB/s]"
     }
    },
    "0a741c03df8a4787ad1a72d22cd98b4d": {
     "model_module": "@jupyter-widgets/controls",
     "model_module_version": "1.5.0",
     "model_name": "FloatProgressModel",
     "state": {
      "_dom_classes": [],
      "_model_module": "@jupyter-widgets/controls",
      "_model_module_version": "1.5.0",
      "_model_name": "FloatProgressModel",
      "_view_count": null,
      "_view_module": "@jupyter-widgets/controls",
      "_view_module_version": "1.5.0",
      "_view_name": "ProgressView",
      "bar_style": "success",
      "description": "",
      "description_tooltip": null,
      "layout": "IPY_MODEL_a048deb17f1f4e2d9b0864596de97906",
      "max": 125,
      "min": 0,
      "orientation": "horizontal",
      "style": "IPY_MODEL_3b46322c302340919457c2e8f42ff5a1",
      "value": 125
     }
    },
    "0d58a21c80254413ba74facddf2629df": {
     "model_module": "@jupyter-widgets/base",
     "model_module_version": "1.2.0",
     "model_name": "LayoutModel",
     "state": {
      "_model_module": "@jupyter-widgets/base",
      "_model_module_version": "1.2.0",
      "_model_name": "LayoutModel",
      "_view_count": null,
      "_view_module": "@jupyter-widgets/base",
      "_view_module_version": "1.2.0",
      "_view_name": "LayoutView",
      "align_content": null,
      "align_items": null,
      "align_self": null,
      "border": null,
      "bottom": null,
      "display": null,
      "flex": null,
      "flex_flow": null,
      "grid_area": null,
      "grid_auto_columns": null,
      "grid_auto_flow": null,
      "grid_auto_rows": null,
      "grid_column": null,
      "grid_gap": null,
      "grid_row": null,
      "grid_template_areas": null,
      "grid_template_columns": null,
      "grid_template_rows": null,
      "height": null,
      "justify_content": null,
      "justify_items": null,
      "left": null,
      "margin": null,
      "max_height": null,
      "max_width": null,
      "min_height": null,
      "min_width": null,
      "object_fit": null,
      "object_position": null,
      "order": null,
      "overflow": null,
      "overflow_x": null,
      "overflow_y": null,
      "padding": null,
      "right": null,
      "top": null,
      "visibility": null,
      "width": null
     }
    },
    "0f1749b1571e4af0a0ef326e5d53be47": {
     "model_module": "@jupyter-widgets/controls",
     "model_module_version": "1.5.0",
     "model_name": "HBoxModel",
     "state": {
      "_dom_classes": [],
      "_model_module": "@jupyter-widgets/controls",
      "_model_module_version": "1.5.0",
      "_model_name": "HBoxModel",
      "_view_count": null,
      "_view_module": "@jupyter-widgets/controls",
      "_view_module_version": "1.5.0",
      "_view_name": "HBoxView",
      "box_style": "",
      "children": [
       "IPY_MODEL_5398943eb06343fe9110e15ed5ac4cca",
       "IPY_MODEL_c6da76b8ea5d4e72a405f9fa7ef05989",
       "IPY_MODEL_09d31bee24224982a1686e7c1430cb5a"
      ],
      "layout": "IPY_MODEL_106e3860db574788b725aa621022e742"
     }
    },
    "106e3860db574788b725aa621022e742": {
     "model_module": "@jupyter-widgets/base",
     "model_module_version": "1.2.0",
     "model_name": "LayoutModel",
     "state": {
      "_model_module": "@jupyter-widgets/base",
      "_model_module_version": "1.2.0",
      "_model_name": "LayoutModel",
      "_view_count": null,
      "_view_module": "@jupyter-widgets/base",
      "_view_module_version": "1.2.0",
      "_view_name": "LayoutView",
      "align_content": null,
      "align_items": null,
      "align_self": null,
      "border": null,
      "bottom": null,
      "display": null,
      "flex": null,
      "flex_flow": null,
      "grid_area": null,
      "grid_auto_columns": null,
      "grid_auto_flow": null,
      "grid_auto_rows": null,
      "grid_column": null,
      "grid_gap": null,
      "grid_row": null,
      "grid_template_areas": null,
      "grid_template_columns": null,
      "grid_template_rows": null,
      "height": null,
      "justify_content": null,
      "justify_items": null,
      "left": null,
      "margin": null,
      "max_height": null,
      "max_width": null,
      "min_height": null,
      "min_width": null,
      "object_fit": null,
      "object_position": null,
      "order": null,
      "overflow": null,
      "overflow_x": null,
      "overflow_y": null,
      "padding": null,
      "right": null,
      "top": null,
      "visibility": null,
      "width": null
     }
    },
    "1172cea981b74709bdc42cde62d43105": {
     "model_module": "@jupyter-widgets/controls",
     "model_module_version": "1.5.0",
     "model_name": "ProgressStyleModel",
     "state": {
      "_model_module": "@jupyter-widgets/controls",
      "_model_module_version": "1.5.0",
      "_model_name": "ProgressStyleModel",
      "_view_count": null,
      "_view_module": "@jupyter-widgets/base",
      "_view_module_version": "1.2.0",
      "_view_name": "StyleView",
      "bar_color": null,
      "description_width": ""
     }
    },
    "12426a58b18943b69de081dec08036d2": {
     "model_module": "@jupyter-widgets/controls",
     "model_module_version": "1.5.0",
     "model_name": "ProgressStyleModel",
     "state": {
      "_model_module": "@jupyter-widgets/controls",
      "_model_module_version": "1.5.0",
      "_model_name": "ProgressStyleModel",
      "_view_count": null,
      "_view_module": "@jupyter-widgets/base",
      "_view_module_version": "1.2.0",
      "_view_name": "StyleView",
      "bar_color": null,
      "description_width": ""
     }
    },
    "174d75394d0642d5baee7c918a7676a5": {
     "model_module": "@jupyter-widgets/controls",
     "model_module_version": "1.5.0",
     "model_name": "DescriptionStyleModel",
     "state": {
      "_model_module": "@jupyter-widgets/controls",
      "_model_module_version": "1.5.0",
      "_model_name": "DescriptionStyleModel",
      "_view_count": null,
      "_view_module": "@jupyter-widgets/base",
      "_view_module_version": "1.2.0",
      "_view_name": "StyleView",
      "description_width": ""
     }
    },
    "18720ba4e702464cac6e283a19fcc1ef": {
     "model_module": "@jupyter-widgets/controls",
     "model_module_version": "1.5.0",
     "model_name": "HBoxModel",
     "state": {
      "_dom_classes": [],
      "_model_module": "@jupyter-widgets/controls",
      "_model_module_version": "1.5.0",
      "_model_name": "HBoxModel",
      "_view_count": null,
      "_view_module": "@jupyter-widgets/controls",
      "_view_module_version": "1.5.0",
      "_view_name": "HBoxView",
      "box_style": "",
      "children": [
       "IPY_MODEL_2939870d643a471b937e2bdf5e8350db",
       "IPY_MODEL_6550569f2cb84af2b1a6afe6423c5606",
       "IPY_MODEL_93160150167b426bb8ab855884a95d2d"
      ],
      "layout": "IPY_MODEL_36c340ea8b264c53b42fb548c04db863"
     }
    },
    "1c09e0d16a5e4a5ca50584f3cf0e3257": {
     "model_module": "@jupyter-widgets/controls",
     "model_module_version": "1.5.0",
     "model_name": "HBoxModel",
     "state": {
      "_dom_classes": [],
      "_model_module": "@jupyter-widgets/controls",
      "_model_module_version": "1.5.0",
      "_model_name": "HBoxModel",
      "_view_count": null,
      "_view_module": "@jupyter-widgets/controls",
      "_view_module_version": "1.5.0",
      "_view_name": "HBoxView",
      "box_style": "",
      "children": [
       "IPY_MODEL_021a32e8926244f392d9e45ea9da7514",
       "IPY_MODEL_06c5e205fc7f4acfb6d857b01330a172",
       "IPY_MODEL_930968efda3b4c50b16b0b915401f01f"
      ],
      "layout": "IPY_MODEL_0d58a21c80254413ba74facddf2629df"
     }
    },
    "1de2c8bcac5e47d0b1153efccd8cf5f5": {
     "model_module": "@jupyter-widgets/controls",
     "model_module_version": "1.5.0",
     "model_name": "DescriptionStyleModel",
     "state": {
      "_model_module": "@jupyter-widgets/controls",
      "_model_module_version": "1.5.0",
      "_model_name": "DescriptionStyleModel",
      "_view_count": null,
      "_view_module": "@jupyter-widgets/base",
      "_view_module_version": "1.2.0",
      "_view_name": "StyleView",
      "description_width": ""
     }
    },
    "1f646d8769374edd8443c9ba3bfb843e": {
     "model_module": "@jupyter-widgets/base",
     "model_module_version": "1.2.0",
     "model_name": "LayoutModel",
     "state": {
      "_model_module": "@jupyter-widgets/base",
      "_model_module_version": "1.2.0",
      "_model_name": "LayoutModel",
      "_view_count": null,
      "_view_module": "@jupyter-widgets/base",
      "_view_module_version": "1.2.0",
      "_view_name": "LayoutView",
      "align_content": null,
      "align_items": null,
      "align_self": null,
      "border": null,
      "bottom": null,
      "display": null,
      "flex": null,
      "flex_flow": null,
      "grid_area": null,
      "grid_auto_columns": null,
      "grid_auto_flow": null,
      "grid_auto_rows": null,
      "grid_column": null,
      "grid_gap": null,
      "grid_row": null,
      "grid_template_areas": null,
      "grid_template_columns": null,
      "grid_template_rows": null,
      "height": null,
      "justify_content": null,
      "justify_items": null,
      "left": null,
      "margin": null,
      "max_height": null,
      "max_width": null,
      "min_height": null,
      "min_width": null,
      "object_fit": null,
      "object_position": null,
      "order": null,
      "overflow": null,
      "overflow_x": null,
      "overflow_y": null,
      "padding": null,
      "right": null,
      "top": null,
      "visibility": null,
      "width": null
     }
    },
    "20228d8fe68c41d2b867260dfd059c56": {
     "model_module": "@jupyter-widgets/base",
     "model_module_version": "1.2.0",
     "model_name": "LayoutModel",
     "state": {
      "_model_module": "@jupyter-widgets/base",
      "_model_module_version": "1.2.0",
      "_model_name": "LayoutModel",
      "_view_count": null,
      "_view_module": "@jupyter-widgets/base",
      "_view_module_version": "1.2.0",
      "_view_name": "LayoutView",
      "align_content": null,
      "align_items": null,
      "align_self": null,
      "border": null,
      "bottom": null,
      "display": null,
      "flex": null,
      "flex_flow": null,
      "grid_area": null,
      "grid_auto_columns": null,
      "grid_auto_flow": null,
      "grid_auto_rows": null,
      "grid_column": null,
      "grid_gap": null,
      "grid_row": null,
      "grid_template_areas": null,
      "grid_template_columns": null,
      "grid_template_rows": null,
      "height": null,
      "justify_content": null,
      "justify_items": null,
      "left": null,
      "margin": null,
      "max_height": null,
      "max_width": null,
      "min_height": null,
      "min_width": null,
      "object_fit": null,
      "object_position": null,
      "order": null,
      "overflow": null,
      "overflow_x": null,
      "overflow_y": null,
      "padding": null,
      "right": null,
      "top": null,
      "visibility": null,
      "width": null
     }
    },
    "21556edf6c9746d791ee855c2ea43347": {
     "model_module": "@jupyter-widgets/base",
     "model_module_version": "1.2.0",
     "model_name": "LayoutModel",
     "state": {
      "_model_module": "@jupyter-widgets/base",
      "_model_module_version": "1.2.0",
      "_model_name": "LayoutModel",
      "_view_count": null,
      "_view_module": "@jupyter-widgets/base",
      "_view_module_version": "1.2.0",
      "_view_name": "LayoutView",
      "align_content": null,
      "align_items": null,
      "align_self": null,
      "border": null,
      "bottom": null,
      "display": null,
      "flex": null,
      "flex_flow": null,
      "grid_area": null,
      "grid_auto_columns": null,
      "grid_auto_flow": null,
      "grid_auto_rows": null,
      "grid_column": null,
      "grid_gap": null,
      "grid_row": null,
      "grid_template_areas": null,
      "grid_template_columns": null,
      "grid_template_rows": null,
      "height": null,
      "justify_content": null,
      "justify_items": null,
      "left": null,
      "margin": null,
      "max_height": null,
      "max_width": null,
      "min_height": null,
      "min_width": null,
      "object_fit": null,
      "object_position": null,
      "order": null,
      "overflow": null,
      "overflow_x": null,
      "overflow_y": null,
      "padding": null,
      "right": null,
      "top": null,
      "visibility": null,
      "width": null
     }
    },
    "2158a9d86b8048b4a3ed1d958be18c95": {
     "model_module": "@jupyter-widgets/controls",
     "model_module_version": "1.5.0",
     "model_name": "DescriptionStyleModel",
     "state": {
      "_model_module": "@jupyter-widgets/controls",
      "_model_module_version": "1.5.0",
      "_model_name": "DescriptionStyleModel",
      "_view_count": null,
      "_view_module": "@jupyter-widgets/base",
      "_view_module_version": "1.2.0",
      "_view_name": "StyleView",
      "description_width": ""
     }
    },
    "218dfa83d09a4dd2841e5633c06d3075": {
     "model_module": "@jupyter-widgets/base",
     "model_module_version": "1.2.0",
     "model_name": "LayoutModel",
     "state": {
      "_model_module": "@jupyter-widgets/base",
      "_model_module_version": "1.2.0",
      "_model_name": "LayoutModel",
      "_view_count": null,
      "_view_module": "@jupyter-widgets/base",
      "_view_module_version": "1.2.0",
      "_view_name": "LayoutView",
      "align_content": null,
      "align_items": null,
      "align_self": null,
      "border": null,
      "bottom": null,
      "display": null,
      "flex": null,
      "flex_flow": null,
      "grid_area": null,
      "grid_auto_columns": null,
      "grid_auto_flow": null,
      "grid_auto_rows": null,
      "grid_column": null,
      "grid_gap": null,
      "grid_row": null,
      "grid_template_areas": null,
      "grid_template_columns": null,
      "grid_template_rows": null,
      "height": null,
      "justify_content": null,
      "justify_items": null,
      "left": null,
      "margin": null,
      "max_height": null,
      "max_width": null,
      "min_height": null,
      "min_width": null,
      "object_fit": null,
      "object_position": null,
      "order": null,
      "overflow": null,
      "overflow_x": null,
      "overflow_y": null,
      "padding": null,
      "right": null,
      "top": null,
      "visibility": null,
      "width": null
     }
    },
    "22e5ad1815b84d0782f66c07faec2fd8": {
     "model_module": "@jupyter-widgets/controls",
     "model_module_version": "1.5.0",
     "model_name": "HTMLModel",
     "state": {
      "_dom_classes": [],
      "_model_module": "@jupyter-widgets/controls",
      "_model_module_version": "1.5.0",
      "_model_name": "HTMLModel",
      "_view_count": null,
      "_view_module": "@jupyter-widgets/controls",
      "_view_module_version": "1.5.0",
      "_view_name": "HTMLView",
      "description": "",
      "description_tooltip": null,
      "layout": "IPY_MODEL_b65d9ed6830446b18155ed57da709e80",
      "placeholder": "​",
      "style": "IPY_MODEL_1de2c8bcac5e47d0b1153efccd8cf5f5",
      "value": "special_tokens_map.json: 100%"
     }
    },
    "2531c0c0b5044992ab6fb96c8110dbe2": {
     "model_module": "@jupyter-widgets/controls",
     "model_module_version": "1.5.0",
     "model_name": "HTMLModel",
     "state": {
      "_dom_classes": [],
      "_model_module": "@jupyter-widgets/controls",
      "_model_module_version": "1.5.0",
      "_model_name": "HTMLModel",
      "_view_count": null,
      "_view_module": "@jupyter-widgets/controls",
      "_view_module_version": "1.5.0",
      "_view_name": "HTMLView",
      "description": "",
      "description_tooltip": null,
      "layout": "IPY_MODEL_ff3351be1c4f4f9ab0cf6b62b23c3626",
      "placeholder": "​",
      "style": "IPY_MODEL_a316b9ee16b9431b9a56ae3d2af5cf61",
      "value": " 1.24k/1.24k [00:00&lt;00:00, 36.7kB/s]"
     }
    },
    "2939870d643a471b937e2bdf5e8350db": {
     "model_module": "@jupyter-widgets/controls",
     "model_module_version": "1.5.0",
     "model_name": "HTMLModel",
     "state": {
      "_dom_classes": [],
      "_model_module": "@jupyter-widgets/controls",
      "_model_module_version": "1.5.0",
      "_model_name": "HTMLModel",
      "_view_count": null,
      "_view_module": "@jupyter-widgets/controls",
      "_view_module_version": "1.5.0",
      "_view_name": "HTMLView",
      "description": "",
      "description_tooltip": null,
      "layout": "IPY_MODEL_91f7ef1bd909445b91cb9a0ba6218547",
      "placeholder": "​",
      "style": "IPY_MODEL_2158a9d86b8048b4a3ed1d958be18c95",
      "value": "config.json: 100%"
     }
    },
    "2fc83eb3f52d49a0a7a9a5cb3f2aeb55": {
     "model_module": "@jupyter-widgets/controls",
     "model_module_version": "1.5.0",
     "model_name": "ProgressStyleModel",
     "state": {
      "_model_module": "@jupyter-widgets/controls",
      "_model_module_version": "1.5.0",
      "_model_name": "ProgressStyleModel",
      "_view_count": null,
      "_view_module": "@jupyter-widgets/base",
      "_view_module_version": "1.2.0",
      "_view_name": "StyleView",
      "bar_color": null,
      "description_width": ""
     }
    },
    "2fcdf9c20d074c4da7a7a0cac238fb14": {
     "model_module": "@jupyter-widgets/base",
     "model_module_version": "1.2.0",
     "model_name": "LayoutModel",
     "state": {
      "_model_module": "@jupyter-widgets/base",
      "_model_module_version": "1.2.0",
      "_model_name": "LayoutModel",
      "_view_count": null,
      "_view_module": "@jupyter-widgets/base",
      "_view_module_version": "1.2.0",
      "_view_name": "LayoutView",
      "align_content": null,
      "align_items": null,
      "align_self": null,
      "border": null,
      "bottom": null,
      "display": null,
      "flex": null,
      "flex_flow": null,
      "grid_area": null,
      "grid_auto_columns": null,
      "grid_auto_flow": null,
      "grid_auto_rows": null,
      "grid_column": null,
      "grid_gap": null,
      "grid_row": null,
      "grid_template_areas": null,
      "grid_template_columns": null,
      "grid_template_rows": null,
      "height": null,
      "justify_content": null,
      "justify_items": null,
      "left": null,
      "margin": null,
      "max_height": null,
      "max_width": null,
      "min_height": null,
      "min_width": null,
      "object_fit": null,
      "object_position": null,
      "order": null,
      "overflow": null,
      "overflow_x": null,
      "overflow_y": null,
      "padding": null,
      "right": null,
      "top": null,
      "visibility": null,
      "width": null
     }
    },
    "3221d50bc7ed4d7d89122d3db3198047": {
     "model_module": "@jupyter-widgets/base",
     "model_module_version": "1.2.0",
     "model_name": "LayoutModel",
     "state": {
      "_model_module": "@jupyter-widgets/base",
      "_model_module_version": "1.2.0",
      "_model_name": "LayoutModel",
      "_view_count": null,
      "_view_module": "@jupyter-widgets/base",
      "_view_module_version": "1.2.0",
      "_view_name": "LayoutView",
      "align_content": null,
      "align_items": null,
      "align_self": null,
      "border": null,
      "bottom": null,
      "display": null,
      "flex": null,
      "flex_flow": null,
      "grid_area": null,
      "grid_auto_columns": null,
      "grid_auto_flow": null,
      "grid_auto_rows": null,
      "grid_column": null,
      "grid_gap": null,
      "grid_row": null,
      "grid_template_areas": null,
      "grid_template_columns": null,
      "grid_template_rows": null,
      "height": null,
      "justify_content": null,
      "justify_items": null,
      "left": null,
      "margin": null,
      "max_height": null,
      "max_width": null,
      "min_height": null,
      "min_width": null,
      "object_fit": null,
      "object_position": null,
      "order": null,
      "overflow": null,
      "overflow_x": null,
      "overflow_y": null,
      "padding": null,
      "right": null,
      "top": null,
      "visibility": null,
      "width": null
     }
    },
    "353f78df62c84ad28b9dcfdaafa69d1a": {
     "model_module": "@jupyter-widgets/controls",
     "model_module_version": "1.5.0",
     "model_name": "DescriptionStyleModel",
     "state": {
      "_model_module": "@jupyter-widgets/controls",
      "_model_module_version": "1.5.0",
      "_model_name": "DescriptionStyleModel",
      "_view_count": null,
      "_view_module": "@jupyter-widgets/base",
      "_view_module_version": "1.2.0",
      "_view_name": "StyleView",
      "description_width": ""
     }
    },
    "36c340ea8b264c53b42fb548c04db863": {
     "model_module": "@jupyter-widgets/base",
     "model_module_version": "1.2.0",
     "model_name": "LayoutModel",
     "state": {
      "_model_module": "@jupyter-widgets/base",
      "_model_module_version": "1.2.0",
      "_model_name": "LayoutModel",
      "_view_count": null,
      "_view_module": "@jupyter-widgets/base",
      "_view_module_version": "1.2.0",
      "_view_name": "LayoutView",
      "align_content": null,
      "align_items": null,
      "align_self": null,
      "border": null,
      "bottom": null,
      "display": null,
      "flex": null,
      "flex_flow": null,
      "grid_area": null,
      "grid_auto_columns": null,
      "grid_auto_flow": null,
      "grid_auto_rows": null,
      "grid_column": null,
      "grid_gap": null,
      "grid_row": null,
      "grid_template_areas": null,
      "grid_template_columns": null,
      "grid_template_rows": null,
      "height": null,
      "justify_content": null,
      "justify_items": null,
      "left": null,
      "margin": null,
      "max_height": null,
      "max_width": null,
      "min_height": null,
      "min_width": null,
      "object_fit": null,
      "object_position": null,
      "order": null,
      "overflow": null,
      "overflow_x": null,
      "overflow_y": null,
      "padding": null,
      "right": null,
      "top": null,
      "visibility": null,
      "width": null
     }
    },
    "3b46322c302340919457c2e8f42ff5a1": {
     "model_module": "@jupyter-widgets/controls",
     "model_module_version": "1.5.0",
     "model_name": "ProgressStyleModel",
     "state": {
      "_model_module": "@jupyter-widgets/controls",
      "_model_module_version": "1.5.0",
      "_model_name": "ProgressStyleModel",
      "_view_count": null,
      "_view_module": "@jupyter-widgets/base",
      "_view_module_version": "1.2.0",
      "_view_name": "StyleView",
      "bar_color": null,
      "description_width": ""
     }
    },
    "3b686a87765c4508bc097a5603666fe8": {
     "model_module": "@jupyter-widgets/controls",
     "model_module_version": "1.5.0",
     "model_name": "HBoxModel",
     "state": {
      "_dom_classes": [],
      "_model_module": "@jupyter-widgets/controls",
      "_model_module_version": "1.5.0",
      "_model_name": "HBoxModel",
      "_view_count": null,
      "_view_module": "@jupyter-widgets/controls",
      "_view_module_version": "1.5.0",
      "_view_name": "HBoxView",
      "box_style": "",
      "children": [
       "IPY_MODEL_d0dd34b8b16b4738bf3823ef99fa62c7",
       "IPY_MODEL_98bcbad994464a1e90c8cea504043d59",
       "IPY_MODEL_c620b878ae6c4fa5a170c9d64567d5a2"
      ],
      "layout": "IPY_MODEL_a9bdab38689445a7be934ae7e996f84b"
     }
    },
    "3c01a086e53e47129be2acb4b0737906": {
     "model_module": "@jupyter-widgets/controls",
     "model_module_version": "1.5.0",
     "model_name": "FloatProgressModel",
     "state": {
      "_dom_classes": [],
      "_model_module": "@jupyter-widgets/controls",
      "_model_module_version": "1.5.0",
      "_model_name": "FloatProgressModel",
      "_view_count": null,
      "_view_module": "@jupyter-widgets/controls",
      "_view_module_version": "1.5.0",
      "_view_name": "ProgressView",
      "bar_style": "success",
      "description": "",
      "description_tooltip": null,
      "layout": "IPY_MODEL_b09d9ec930664352a3b64ad9ad850692",
      "max": 133466304,
      "min": 0,
      "orientation": "horizontal",
      "style": "IPY_MODEL_12426a58b18943b69de081dec08036d2",
      "value": 133466304
     }
    },
    "3cac8cd0a780413dbb5d5da9f9c0d3ad": {
     "model_module": "@jupyter-widgets/controls",
     "model_module_version": "1.5.0",
     "model_name": "DescriptionStyleModel",
     "state": {
      "_model_module": "@jupyter-widgets/controls",
      "_model_module_version": "1.5.0",
      "_model_name": "DescriptionStyleModel",
      "_view_count": null,
      "_view_module": "@jupyter-widgets/base",
      "_view_module_version": "1.2.0",
      "_view_name": "StyleView",
      "description_width": ""
     }
    },
    "3d3a86a6c03a40e086fe756b08ab22e5": {
     "model_module": "@jupyter-widgets/controls",
     "model_module_version": "1.5.0",
     "model_name": "DescriptionStyleModel",
     "state": {
      "_model_module": "@jupyter-widgets/controls",
      "_model_module_version": "1.5.0",
      "_model_name": "DescriptionStyleModel",
      "_view_count": null,
      "_view_module": "@jupyter-widgets/base",
      "_view_module_version": "1.2.0",
      "_view_name": "StyleView",
      "description_width": ""
     }
    },
    "3f6d81fd0a624a85a4d09ce05ea2d03c": {
     "model_module": "@jupyter-widgets/controls",
     "model_module_version": "1.5.0",
     "model_name": "HBoxModel",
     "state": {
      "_dom_classes": [],
      "_model_module": "@jupyter-widgets/controls",
      "_model_module_version": "1.5.0",
      "_model_name": "HBoxModel",
      "_view_count": null,
      "_view_module": "@jupyter-widgets/controls",
      "_view_module_version": "1.5.0",
      "_view_name": "HBoxView",
      "box_style": "",
      "children": [
       "IPY_MODEL_88dc39714c5f4e20a935238996133f91",
       "IPY_MODEL_04b20460ea984380b283fb7d5d275cc7",
       "IPY_MODEL_6ee629c76fa94bae9c5428a01b9086ba"
      ],
      "layout": "IPY_MODEL_a2f9a4f7e9be41f1b11faa2eaa30c23c"
     }
    },
    "40702a56f5a54a0f82d509887d6271bd": {
     "model_module": "@jupyter-widgets/controls",
     "model_module_version": "1.5.0",
     "model_name": "HTMLModel",
     "state": {
      "_dom_classes": [],
      "_model_module": "@jupyter-widgets/controls",
      "_model_module_version": "1.5.0",
      "_model_name": "HTMLModel",
      "_view_count": null,
      "_view_module": "@jupyter-widgets/controls",
      "_view_module_version": "1.5.0",
      "_view_name": "HTMLView",
      "description": "",
      "description_tooltip": null,
      "layout": "IPY_MODEL_5fdba18b92854016890d0cc36d0257a1",
      "placeholder": "​",
      "style": "IPY_MODEL_a06e8a0991894579999563dd7fa2db75",
      "value": " 125/125 [00:00&lt;00:00, 4.11kB/s]"
     }
    },
    "4a372900d5e840eda99c0fcaa7b0e8d3": {
     "model_module": "@jupyter-widgets/controls",
     "model_module_version": "1.5.0",
     "model_name": "HBoxModel",
     "state": {
      "_dom_classes": [],
      "_model_module": "@jupyter-widgets/controls",
      "_model_module_version": "1.5.0",
      "_model_name": "HBoxModel",
      "_view_count": null,
      "_view_module": "@jupyter-widgets/controls",
      "_view_module_version": "1.5.0",
      "_view_name": "HBoxView",
      "box_style": "",
      "children": [
       "IPY_MODEL_a78a2421da8c4f96b87117d1b8ec1d40",
       "IPY_MODEL_e5b1aca039da407e98ed723d8e93ce50",
       "IPY_MODEL_57e0b60c76fc460ea882d89dfeac5823"
      ],
      "layout": "IPY_MODEL_1f646d8769374edd8443c9ba3bfb843e"
     }
    },
    "531ea44bf75443bc8c8908c750efd692": {
     "model_module": "@jupyter-widgets/base",
     "model_module_version": "1.2.0",
     "model_name": "LayoutModel",
     "state": {
      "_model_module": "@jupyter-widgets/base",
      "_model_module_version": "1.2.0",
      "_model_name": "LayoutModel",
      "_view_count": null,
      "_view_module": "@jupyter-widgets/base",
      "_view_module_version": "1.2.0",
      "_view_name": "LayoutView",
      "align_content": null,
      "align_items": null,
      "align_self": null,
      "border": null,
      "bottom": null,
      "display": null,
      "flex": null,
      "flex_flow": null,
      "grid_area": null,
      "grid_auto_columns": null,
      "grid_auto_flow": null,
      "grid_auto_rows": null,
      "grid_column": null,
      "grid_gap": null,
      "grid_row": null,
      "grid_template_areas": null,
      "grid_template_columns": null,
      "grid_template_rows": null,
      "height": null,
      "justify_content": null,
      "justify_items": null,
      "left": null,
      "margin": null,
      "max_height": null,
      "max_width": null,
      "min_height": null,
      "min_width": null,
      "object_fit": null,
      "object_position": null,
      "order": null,
      "overflow": null,
      "overflow_x": null,
      "overflow_y": null,
      "padding": null,
      "right": null,
      "top": null,
      "visibility": null,
      "width": null
     }
    },
    "5398943eb06343fe9110e15ed5ac4cca": {
     "model_module": "@jupyter-widgets/controls",
     "model_module_version": "1.5.0",
     "model_name": "HTMLModel",
     "state": {
      "_dom_classes": [],
      "_model_module": "@jupyter-widgets/controls",
      "_model_module_version": "1.5.0",
      "_model_name": "HTMLModel",
      "_view_count": null,
      "_view_module": "@jupyter-widgets/controls",
      "_view_module_version": "1.5.0",
      "_view_name": "HTMLView",
      "description": "",
      "description_tooltip": null,
      "layout": "IPY_MODEL_03de7f2564e34c578ca978dc1d7b281f",
      "placeholder": "​",
      "style": "IPY_MODEL_7a255b02561f44a5a7a9cd2c9b7aefd0",
      "value": "tokenizer.json: 100%"
     }
    },
    "569c2f8072544c598a50ed225319d509": {
     "model_module": "@jupyter-widgets/controls",
     "model_module_version": "1.5.0",
     "model_name": "HTMLModel",
     "state": {
      "_dom_classes": [],
      "_model_module": "@jupyter-widgets/controls",
      "_model_module_version": "1.5.0",
      "_model_name": "HTMLModel",
      "_view_count": null,
      "_view_module": "@jupyter-widgets/controls",
      "_view_module_version": "1.5.0",
      "_view_name": "HTMLView",
      "description": "",
      "description_tooltip": null,
      "layout": "IPY_MODEL_725fe9f0dee649ed98eb33501e910568",
      "placeholder": "​",
      "style": "IPY_MODEL_d6297b23e40d4d88b76f9fc29f11091d",
      "value": "tokenizer_config.json: 100%"
     }
    },
    "56f3be97398641f792527163052bca78": {
     "model_module": "@jupyter-widgets/base",
     "model_module_version": "1.2.0",
     "model_name": "LayoutModel",
     "state": {
      "_model_module": "@jupyter-widgets/base",
      "_model_module_version": "1.2.0",
      "_model_name": "LayoutModel",
      "_view_count": null,
      "_view_module": "@jupyter-widgets/base",
      "_view_module_version": "1.2.0",
      "_view_name": "LayoutView",
      "align_content": null,
      "align_items": null,
      "align_self": null,
      "border": null,
      "bottom": null,
      "display": null,
      "flex": null,
      "flex_flow": null,
      "grid_area": null,
      "grid_auto_columns": null,
      "grid_auto_flow": null,
      "grid_auto_rows": null,
      "grid_column": null,
      "grid_gap": null,
      "grid_row": null,
      "grid_template_areas": null,
      "grid_template_columns": null,
      "grid_template_rows": null,
      "height": null,
      "justify_content": null,
      "justify_items": null,
      "left": null,
      "margin": null,
      "max_height": null,
      "max_width": null,
      "min_height": null,
      "min_width": null,
      "object_fit": null,
      "object_position": null,
      "order": null,
      "overflow": null,
      "overflow_x": null,
      "overflow_y": null,
      "padding": null,
      "right": null,
      "top": null,
      "visibility": null,
      "width": null
     }
    },
    "57e0b60c76fc460ea882d89dfeac5823": {
     "model_module": "@jupyter-widgets/controls",
     "model_module_version": "1.5.0",
     "model_name": "HTMLModel",
     "state": {
      "_dom_classes": [],
      "_model_module": "@jupyter-widgets/controls",
      "_model_module_version": "1.5.0",
      "_model_name": "HTMLModel",
      "_view_count": null,
      "_view_module": "@jupyter-widgets/controls",
      "_view_module_version": "1.5.0",
      "_view_name": "HTMLView",
      "description": "",
      "description_tooltip": null,
      "layout": "IPY_MODEL_68936a6880f14cfcbf406df5697cd9c0",
      "placeholder": "​",
      "style": "IPY_MODEL_9996baee969d4de59d58d4f83cbd6b1a",
      "value": " 711k/711k [00:00&lt;00:00, 16.0MB/s]"
     }
    },
    "5c0f3cd9a1d74d73b5a1b81725a1c9e5": {
     "model_module": "@jupyter-widgets/base",
     "model_module_version": "1.2.0",
     "model_name": "LayoutModel",
     "state": {
      "_model_module": "@jupyter-widgets/base",
      "_model_module_version": "1.2.0",
      "_model_name": "LayoutModel",
      "_view_count": null,
      "_view_module": "@jupyter-widgets/base",
      "_view_module_version": "1.2.0",
      "_view_name": "LayoutView",
      "align_content": null,
      "align_items": null,
      "align_self": null,
      "border": null,
      "bottom": null,
      "display": null,
      "flex": null,
      "flex_flow": null,
      "grid_area": null,
      "grid_auto_columns": null,
      "grid_auto_flow": null,
      "grid_auto_rows": null,
      "grid_column": null,
      "grid_gap": null,
      "grid_row": null,
      "grid_template_areas": null,
      "grid_template_columns": null,
      "grid_template_rows": null,
      "height": null,
      "justify_content": null,
      "justify_items": null,
      "left": null,
      "margin": null,
      "max_height": null,
      "max_width": null,
      "min_height": null,
      "min_width": null,
      "object_fit": null,
      "object_position": null,
      "order": null,
      "overflow": null,
      "overflow_x": null,
      "overflow_y": null,
      "padding": null,
      "right": null,
      "top": null,
      "visibility": null,
      "width": null
     }
    },
    "5fa8f1435b7844448233e192c8bcb78e": {
     "model_module": "@jupyter-widgets/controls",
     "model_module_version": "1.5.0",
     "model_name": "HTMLModel",
     "state": {
      "_dom_classes": [],
      "_model_module": "@jupyter-widgets/controls",
      "_model_module_version": "1.5.0",
      "_model_name": "HTMLModel",
      "_view_count": null,
      "_view_module": "@jupyter-widgets/controls",
      "_view_module_version": "1.5.0",
      "_view_name": "HTMLView",
      "description": "",
      "description_tooltip": null,
      "layout": "IPY_MODEL_a4690ef9a745442d9ea53353239bf898",
      "placeholder": "​",
      "style": "IPY_MODEL_fbc12ad7c42248789e5f16412da45cc9",
      "value": "config.json: 100%"
     }
    },
    "5fdba18b92854016890d0cc36d0257a1": {
     "model_module": "@jupyter-widgets/base",
     "model_module_version": "1.2.0",
     "model_name": "LayoutModel",
     "state": {
      "_model_module": "@jupyter-widgets/base",
      "_model_module_version": "1.2.0",
      "_model_name": "LayoutModel",
      "_view_count": null,
      "_view_module": "@jupyter-widgets/base",
      "_view_module_version": "1.2.0",
      "_view_name": "LayoutView",
      "align_content": null,
      "align_items": null,
      "align_self": null,
      "border": null,
      "bottom": null,
      "display": null,
      "flex": null,
      "flex_flow": null,
      "grid_area": null,
      "grid_auto_columns": null,
      "grid_auto_flow": null,
      "grid_auto_rows": null,
      "grid_column": null,
      "grid_gap": null,
      "grid_row": null,
      "grid_template_areas": null,
      "grid_template_columns": null,
      "grid_template_rows": null,
      "height": null,
      "justify_content": null,
      "justify_items": null,
      "left": null,
      "margin": null,
      "max_height": null,
      "max_width": null,
      "min_height": null,
      "min_width": null,
      "object_fit": null,
      "object_position": null,
      "order": null,
      "overflow": null,
      "overflow_x": null,
      "overflow_y": null,
      "padding": null,
      "right": null,
      "top": null,
      "visibility": null,
      "width": null
     }
    },
    "6550569f2cb84af2b1a6afe6423c5606": {
     "model_module": "@jupyter-widgets/controls",
     "model_module_version": "1.5.0",
     "model_name": "FloatProgressModel",
     "state": {
      "_dom_classes": [],
      "_model_module": "@jupyter-widgets/controls",
      "_model_module_version": "1.5.0",
      "_model_name": "FloatProgressModel",
      "_view_count": null,
      "_view_module": "@jupyter-widgets/controls",
      "_view_module_version": "1.5.0",
      "_view_name": "ProgressView",
      "bar_style": "success",
      "description": "",
      "description_tooltip": null,
      "layout": "IPY_MODEL_93020ac5c9fa403a9558e3e1c9ddb54d",
      "max": 743,
      "min": 0,
      "orientation": "horizontal",
      "style": "IPY_MODEL_ba399ab40e4949298c3567ad7f533f08",
      "value": 743
     }
    },
    "6648d95456b943a2852a9c2ba70025e2": {
     "model_module": "@jupyter-widgets/controls",
     "model_module_version": "1.5.0",
     "model_name": "ProgressStyleModel",
     "state": {
      "_model_module": "@jupyter-widgets/controls",
      "_model_module_version": "1.5.0",
      "_model_name": "ProgressStyleModel",
      "_view_count": null,
      "_view_module": "@jupyter-widgets/base",
      "_view_module_version": "1.2.0",
      "_view_name": "StyleView",
      "bar_color": null,
      "description_width": ""
     }
    },
    "68936a6880f14cfcbf406df5697cd9c0": {
     "model_module": "@jupyter-widgets/base",
     "model_module_version": "1.2.0",
     "model_name": "LayoutModel",
     "state": {
      "_model_module": "@jupyter-widgets/base",
      "_model_module_version": "1.2.0",
      "_model_name": "LayoutModel",
      "_view_count": null,
      "_view_module": "@jupyter-widgets/base",
      "_view_module_version": "1.2.0",
      "_view_name": "LayoutView",
      "align_content": null,
      "align_items": null,
      "align_self": null,
      "border": null,
      "bottom": null,
      "display": null,
      "flex": null,
      "flex_flow": null,
      "grid_area": null,
      "grid_auto_columns": null,
      "grid_auto_flow": null,
      "grid_auto_rows": null,
      "grid_column": null,
      "grid_gap": null,
      "grid_row": null,
      "grid_template_areas": null,
      "grid_template_columns": null,
      "grid_template_rows": null,
      "height": null,
      "justify_content": null,
      "justify_items": null,
      "left": null,
      "margin": null,
      "max_height": null,
      "max_width": null,
      "min_height": null,
      "min_width": null,
      "object_fit": null,
      "object_position": null,
      "order": null,
      "overflow": null,
      "overflow_x": null,
      "overflow_y": null,
      "padding": null,
      "right": null,
      "top": null,
      "visibility": null,
      "width": null
     }
    },
    "693f5d73f07d4fcb9de3689040efddfb": {
     "model_module": "@jupyter-widgets/base",
     "model_module_version": "1.2.0",
     "model_name": "LayoutModel",
     "state": {
      "_model_module": "@jupyter-widgets/base",
      "_model_module_version": "1.2.0",
      "_model_name": "LayoutModel",
      "_view_count": null,
      "_view_module": "@jupyter-widgets/base",
      "_view_module_version": "1.2.0",
      "_view_name": "LayoutView",
      "align_content": null,
      "align_items": null,
      "align_self": null,
      "border": null,
      "bottom": null,
      "display": null,
      "flex": null,
      "flex_flow": null,
      "grid_area": null,
      "grid_auto_columns": null,
      "grid_auto_flow": null,
      "grid_auto_rows": null,
      "grid_column": null,
      "grid_gap": null,
      "grid_row": null,
      "grid_template_areas": null,
      "grid_template_columns": null,
      "grid_template_rows": null,
      "height": null,
      "justify_content": null,
      "justify_items": null,
      "left": null,
      "margin": null,
      "max_height": null,
      "max_width": null,
      "min_height": null,
      "min_width": null,
      "object_fit": null,
      "object_position": null,
      "order": null,
      "overflow": null,
      "overflow_x": null,
      "overflow_y": null,
      "padding": null,
      "right": null,
      "top": null,
      "visibility": null,
      "width": null
     }
    },
    "6a7126140f054769a97a2f58c41adfba": {
     "model_module": "@jupyter-widgets/controls",
     "model_module_version": "1.5.0",
     "model_name": "DescriptionStyleModel",
     "state": {
      "_model_module": "@jupyter-widgets/controls",
      "_model_module_version": "1.5.0",
      "_model_name": "DescriptionStyleModel",
      "_view_count": null,
      "_view_module": "@jupyter-widgets/base",
      "_view_module_version": "1.2.0",
      "_view_name": "StyleView",
      "description_width": ""
     }
    },
    "6ee629c76fa94bae9c5428a01b9086ba": {
     "model_module": "@jupyter-widgets/controls",
     "model_module_version": "1.5.0",
     "model_name": "HTMLModel",
     "state": {
      "_dom_classes": [],
      "_model_module": "@jupyter-widgets/controls",
      "_model_module_version": "1.5.0",
      "_model_name": "HTMLModel",
      "_view_count": null,
      "_view_module": "@jupyter-widgets/controls",
      "_view_module_version": "1.5.0",
      "_view_name": "HTMLView",
      "description": "",
      "description_tooltip": null,
      "layout": "IPY_MODEL_07d95aa24f72439f81108682b1731407",
      "placeholder": "​",
      "style": "IPY_MODEL_6f119b9aefbd44dcaa8c620d54118b45",
      "value": " 232k/232k [00:00&lt;00:00, 4.13MB/s]"
     }
    },
    "6f119b9aefbd44dcaa8c620d54118b45": {
     "model_module": "@jupyter-widgets/controls",
     "model_module_version": "1.5.0",
     "model_name": "DescriptionStyleModel",
     "state": {
      "_model_module": "@jupyter-widgets/controls",
      "_model_module_version": "1.5.0",
      "_model_name": "DescriptionStyleModel",
      "_view_count": null,
      "_view_module": "@jupyter-widgets/base",
      "_view_module_version": "1.2.0",
      "_view_name": "StyleView",
      "description_width": ""
     }
    },
    "70ae0df1683840e7ab8dba0832e182d4": {
     "model_module": "@jupyter-widgets/base",
     "model_module_version": "1.2.0",
     "model_name": "LayoutModel",
     "state": {
      "_model_module": "@jupyter-widgets/base",
      "_model_module_version": "1.2.0",
      "_model_name": "LayoutModel",
      "_view_count": null,
      "_view_module": "@jupyter-widgets/base",
      "_view_module_version": "1.2.0",
      "_view_name": "LayoutView",
      "align_content": null,
      "align_items": null,
      "align_self": null,
      "border": null,
      "bottom": null,
      "display": null,
      "flex": null,
      "flex_flow": null,
      "grid_area": null,
      "grid_auto_columns": null,
      "grid_auto_flow": null,
      "grid_auto_rows": null,
      "grid_column": null,
      "grid_gap": null,
      "grid_row": null,
      "grid_template_areas": null,
      "grid_template_columns": null,
      "grid_template_rows": null,
      "height": null,
      "justify_content": null,
      "justify_items": null,
      "left": null,
      "margin": null,
      "max_height": null,
      "max_width": null,
      "min_height": null,
      "min_width": null,
      "object_fit": null,
      "object_position": null,
      "order": null,
      "overflow": null,
      "overflow_x": null,
      "overflow_y": null,
      "padding": null,
      "right": null,
      "top": null,
      "visibility": null,
      "width": null
     }
    },
    "725fe9f0dee649ed98eb33501e910568": {
     "model_module": "@jupyter-widgets/base",
     "model_module_version": "1.2.0",
     "model_name": "LayoutModel",
     "state": {
      "_model_module": "@jupyter-widgets/base",
      "_model_module_version": "1.2.0",
      "_model_name": "LayoutModel",
      "_view_count": null,
      "_view_module": "@jupyter-widgets/base",
      "_view_module_version": "1.2.0",
      "_view_name": "LayoutView",
      "align_content": null,
      "align_items": null,
      "align_self": null,
      "border": null,
      "bottom": null,
      "display": null,
      "flex": null,
      "flex_flow": null,
      "grid_area": null,
      "grid_auto_columns": null,
      "grid_auto_flow": null,
      "grid_auto_rows": null,
      "grid_column": null,
      "grid_gap": null,
      "grid_row": null,
      "grid_template_areas": null,
      "grid_template_columns": null,
      "grid_template_rows": null,
      "height": null,
      "justify_content": null,
      "justify_items": null,
      "left": null,
      "margin": null,
      "max_height": null,
      "max_width": null,
      "min_height": null,
      "min_width": null,
      "object_fit": null,
      "object_position": null,
      "order": null,
      "overflow": null,
      "overflow_x": null,
      "overflow_y": null,
      "padding": null,
      "right": null,
      "top": null,
      "visibility": null,
      "width": null
     }
    },
    "72d6490cc8ed41cca8ade992c5c8ed88": {
     "model_module": "@jupyter-widgets/base",
     "model_module_version": "1.2.0",
     "model_name": "LayoutModel",
     "state": {
      "_model_module": "@jupyter-widgets/base",
      "_model_module_version": "1.2.0",
      "_model_name": "LayoutModel",
      "_view_count": null,
      "_view_module": "@jupyter-widgets/base",
      "_view_module_version": "1.2.0",
      "_view_name": "LayoutView",
      "align_content": null,
      "align_items": null,
      "align_self": null,
      "border": null,
      "bottom": null,
      "display": null,
      "flex": null,
      "flex_flow": null,
      "grid_area": null,
      "grid_auto_columns": null,
      "grid_auto_flow": null,
      "grid_auto_rows": null,
      "grid_column": null,
      "grid_gap": null,
      "grid_row": null,
      "grid_template_areas": null,
      "grid_template_columns": null,
      "grid_template_rows": null,
      "height": null,
      "justify_content": null,
      "justify_items": null,
      "left": null,
      "margin": null,
      "max_height": null,
      "max_width": null,
      "min_height": null,
      "min_width": null,
      "object_fit": null,
      "object_position": null,
      "order": null,
      "overflow": null,
      "overflow_x": null,
      "overflow_y": null,
      "padding": null,
      "right": null,
      "top": null,
      "visibility": null,
      "width": null
     }
    },
    "7a255b02561f44a5a7a9cd2c9b7aefd0": {
     "model_module": "@jupyter-widgets/controls",
     "model_module_version": "1.5.0",
     "model_name": "DescriptionStyleModel",
     "state": {
      "_model_module": "@jupyter-widgets/controls",
      "_model_module_version": "1.5.0",
      "_model_name": "DescriptionStyleModel",
      "_view_count": null,
      "_view_module": "@jupyter-widgets/base",
      "_view_module_version": "1.2.0",
      "_view_name": "StyleView",
      "description_width": ""
     }
    },
    "83600a55fd5941619bd4580c8ed5c295": {
     "model_module": "@jupyter-widgets/controls",
     "model_module_version": "1.5.0",
     "model_name": "ProgressStyleModel",
     "state": {
      "_model_module": "@jupyter-widgets/controls",
      "_model_module_version": "1.5.0",
      "_model_name": "ProgressStyleModel",
      "_view_count": null,
      "_view_module": "@jupyter-widgets/base",
      "_view_module_version": "1.2.0",
      "_view_name": "StyleView",
      "bar_color": null,
      "description_width": ""
     }
    },
    "866d1b36545d46d28c36122b11cb6775": {
     "model_module": "@jupyter-widgets/base",
     "model_module_version": "1.2.0",
     "model_name": "LayoutModel",
     "state": {
      "_model_module": "@jupyter-widgets/base",
      "_model_module_version": "1.2.0",
      "_model_name": "LayoutModel",
      "_view_count": null,
      "_view_module": "@jupyter-widgets/base",
      "_view_module_version": "1.2.0",
      "_view_name": "LayoutView",
      "align_content": null,
      "align_items": null,
      "align_self": null,
      "border": null,
      "bottom": null,
      "display": null,
      "flex": null,
      "flex_flow": null,
      "grid_area": null,
      "grid_auto_columns": null,
      "grid_auto_flow": null,
      "grid_auto_rows": null,
      "grid_column": null,
      "grid_gap": null,
      "grid_row": null,
      "grid_template_areas": null,
      "grid_template_columns": null,
      "grid_template_rows": null,
      "height": null,
      "justify_content": null,
      "justify_items": null,
      "left": null,
      "margin": null,
      "max_height": null,
      "max_width": null,
      "min_height": null,
      "min_width": null,
      "object_fit": null,
      "object_position": null,
      "order": null,
      "overflow": null,
      "overflow_x": null,
      "overflow_y": null,
      "padding": null,
      "right": null,
      "top": null,
      "visibility": null,
      "width": null
     }
    },
    "88ab99cde32c4d00b7b7ea71209772a1": {
     "model_module": "@jupyter-widgets/controls",
     "model_module_version": "1.5.0",
     "model_name": "DescriptionStyleModel",
     "state": {
      "_model_module": "@jupyter-widgets/controls",
      "_model_module_version": "1.5.0",
      "_model_name": "DescriptionStyleModel",
      "_view_count": null,
      "_view_module": "@jupyter-widgets/base",
      "_view_module_version": "1.2.0",
      "_view_name": "StyleView",
      "description_width": ""
     }
    },
    "88dc39714c5f4e20a935238996133f91": {
     "model_module": "@jupyter-widgets/controls",
     "model_module_version": "1.5.0",
     "model_name": "HTMLModel",
     "state": {
      "_dom_classes": [],
      "_model_module": "@jupyter-widgets/controls",
      "_model_module_version": "1.5.0",
      "_model_name": "HTMLModel",
      "_view_count": null,
      "_view_module": "@jupyter-widgets/controls",
      "_view_module_version": "1.5.0",
      "_view_name": "HTMLView",
      "description": "",
      "description_tooltip": null,
      "layout": "IPY_MODEL_c7fc7c77fca54ad193bd26388017f779",
      "placeholder": "​",
      "style": "IPY_MODEL_fc2584a4ac134535ad7775f91f673cdf",
      "value": "vocab.txt: 100%"
     }
    },
    "8fab0a50768d409eab7dc096b3fc32a9": {
     "model_module": "@jupyter-widgets/controls",
     "model_module_version": "1.5.0",
     "model_name": "FloatProgressModel",
     "state": {
      "_dom_classes": [],
      "_model_module": "@jupyter-widgets/controls",
      "_model_module_version": "1.5.0",
      "_model_name": "FloatProgressModel",
      "_view_count": null,
      "_view_module": "@jupyter-widgets/controls",
      "_view_module_version": "1.5.0",
      "_view_name": "ProgressView",
      "bar_style": "success",
      "description": "",
      "description_tooltip": null,
      "layout": "IPY_MODEL_56f3be97398641f792527163052bca78",
      "max": 733,
      "min": 0,
      "orientation": "horizontal",
      "style": "IPY_MODEL_2fc83eb3f52d49a0a7a9a5cb3f2aeb55",
      "value": 733
     }
    },
    "91f7ef1bd909445b91cb9a0ba6218547": {
     "model_module": "@jupyter-widgets/base",
     "model_module_version": "1.2.0",
     "model_name": "LayoutModel",
     "state": {
      "_model_module": "@jupyter-widgets/base",
      "_model_module_version": "1.2.0",
      "_model_name": "LayoutModel",
      "_view_count": null,
      "_view_module": "@jupyter-widgets/base",
      "_view_module_version": "1.2.0",
      "_view_name": "LayoutView",
      "align_content": null,
      "align_items": null,
      "align_self": null,
      "border": null,
      "bottom": null,
      "display": null,
      "flex": null,
      "flex_flow": null,
      "grid_area": null,
      "grid_auto_columns": null,
      "grid_auto_flow": null,
      "grid_auto_rows": null,
      "grid_column": null,
      "grid_gap": null,
      "grid_row": null,
      "grid_template_areas": null,
      "grid_template_columns": null,
      "grid_template_rows": null,
      "height": null,
      "justify_content": null,
      "justify_items": null,
      "left": null,
      "margin": null,
      "max_height": null,
      "max_width": null,
      "min_height": null,
      "min_width": null,
      "object_fit": null,
      "object_position": null,
      "order": null,
      "overflow": null,
      "overflow_x": null,
      "overflow_y": null,
      "padding": null,
      "right": null,
      "top": null,
      "visibility": null,
      "width": null
     }
    },
    "93020ac5c9fa403a9558e3e1c9ddb54d": {
     "model_module": "@jupyter-widgets/base",
     "model_module_version": "1.2.0",
     "model_name": "LayoutModel",
     "state": {
      "_model_module": "@jupyter-widgets/base",
      "_model_module_version": "1.2.0",
      "_model_name": "LayoutModel",
      "_view_count": null,
      "_view_module": "@jupyter-widgets/base",
      "_view_module_version": "1.2.0",
      "_view_name": "LayoutView",
      "align_content": null,
      "align_items": null,
      "align_self": null,
      "border": null,
      "bottom": null,
      "display": null,
      "flex": null,
      "flex_flow": null,
      "grid_area": null,
      "grid_auto_columns": null,
      "grid_auto_flow": null,
      "grid_auto_rows": null,
      "grid_column": null,
      "grid_gap": null,
      "grid_row": null,
      "grid_template_areas": null,
      "grid_template_columns": null,
      "grid_template_rows": null,
      "height": null,
      "justify_content": null,
      "justify_items": null,
      "left": null,
      "margin": null,
      "max_height": null,
      "max_width": null,
      "min_height": null,
      "min_width": null,
      "object_fit": null,
      "object_position": null,
      "order": null,
      "overflow": null,
      "overflow_x": null,
      "overflow_y": null,
      "padding": null,
      "right": null,
      "top": null,
      "visibility": null,
      "width": null
     }
    },
    "930968efda3b4c50b16b0b915401f01f": {
     "model_module": "@jupyter-widgets/controls",
     "model_module_version": "1.5.0",
     "model_name": "HTMLModel",
     "state": {
      "_dom_classes": [],
      "_model_module": "@jupyter-widgets/controls",
      "_model_module_version": "1.5.0",
      "_model_name": "HTMLModel",
      "_view_count": null,
      "_view_module": "@jupyter-widgets/controls",
      "_view_module_version": "1.5.0",
      "_view_name": "HTMLView",
      "description": "",
      "description_tooltip": null,
      "layout": "IPY_MODEL_b66e34478ec449c6b70ef57e427e76e6",
      "placeholder": "​",
      "style": "IPY_MODEL_88ab99cde32c4d00b7b7ea71209772a1",
      "value": " 232k/232k [00:00&lt;00:00, 7.38MB/s]"
     }
    },
    "93160150167b426bb8ab855884a95d2d": {
     "model_module": "@jupyter-widgets/controls",
     "model_module_version": "1.5.0",
     "model_name": "HTMLModel",
     "state": {
      "_dom_classes": [],
      "_model_module": "@jupyter-widgets/controls",
      "_model_module_version": "1.5.0",
      "_model_name": "HTMLModel",
      "_view_count": null,
      "_view_module": "@jupyter-widgets/controls",
      "_view_module_version": "1.5.0",
      "_view_name": "HTMLView",
      "description": "",
      "description_tooltip": null,
      "layout": "IPY_MODEL_866d1b36545d46d28c36122b11cb6775",
      "placeholder": "​",
      "style": "IPY_MODEL_9ba2df42cd7c428ab9c8149792d0d8ac",
      "value": " 743/743 [00:00&lt;00:00, 48.1kB/s]"
     }
    },
    "980a3a2d1aa54933a82d1ac33df52feb": {
     "model_module": "@jupyter-widgets/base",
     "model_module_version": "1.2.0",
     "model_name": "LayoutModel",
     "state": {
      "_model_module": "@jupyter-widgets/base",
      "_model_module_version": "1.2.0",
      "_model_name": "LayoutModel",
      "_view_count": null,
      "_view_module": "@jupyter-widgets/base",
      "_view_module_version": "1.2.0",
      "_view_name": "LayoutView",
      "align_content": null,
      "align_items": null,
      "align_self": null,
      "border": null,
      "bottom": null,
      "display": null,
      "flex": null,
      "flex_flow": null,
      "grid_area": null,
      "grid_auto_columns": null,
      "grid_auto_flow": null,
      "grid_auto_rows": null,
      "grid_column": null,
      "grid_gap": null,
      "grid_row": null,
      "grid_template_areas": null,
      "grid_template_columns": null,
      "grid_template_rows": null,
      "height": null,
      "justify_content": null,
      "justify_items": null,
      "left": null,
      "margin": null,
      "max_height": null,
      "max_width": null,
      "min_height": null,
      "min_width": null,
      "object_fit": null,
      "object_position": null,
      "order": null,
      "overflow": null,
      "overflow_x": null,
      "overflow_y": null,
      "padding": null,
      "right": null,
      "top": null,
      "visibility": null,
      "width": null
     }
    },
    "98bcbad994464a1e90c8cea504043d59": {
     "model_module": "@jupyter-widgets/controls",
     "model_module_version": "1.5.0",
     "model_name": "FloatProgressModel",
     "state": {
      "_dom_classes": [],
      "_model_module": "@jupyter-widgets/controls",
      "_model_module_version": "1.5.0",
      "_model_name": "FloatProgressModel",
      "_view_count": null,
      "_view_module": "@jupyter-widgets/controls",
      "_view_module_version": "1.5.0",
      "_view_name": "ProgressView",
      "bar_style": "success",
      "description": "",
      "description_tooltip": null,
      "layout": "IPY_MODEL_218dfa83d09a4dd2841e5633c06d3075",
      "max": 1340612432,
      "min": 0,
      "orientation": "horizontal",
      "style": "IPY_MODEL_83600a55fd5941619bd4580c8ed5c295",
      "value": 1340612432
     }
    },
    "9996baee969d4de59d58d4f83cbd6b1a": {
     "model_module": "@jupyter-widgets/controls",
     "model_module_version": "1.5.0",
     "model_name": "DescriptionStyleModel",
     "state": {
      "_model_module": "@jupyter-widgets/controls",
      "_model_module_version": "1.5.0",
      "_model_name": "DescriptionStyleModel",
      "_view_count": null,
      "_view_module": "@jupyter-widgets/base",
      "_view_module_version": "1.2.0",
      "_view_name": "StyleView",
      "description_width": ""
     }
    },
    "9aa953206bb54ff7af3a7b30ed78bfde": {
     "model_module": "@jupyter-widgets/controls",
     "model_module_version": "1.5.0",
     "model_name": "DescriptionStyleModel",
     "state": {
      "_model_module": "@jupyter-widgets/controls",
      "_model_module_version": "1.5.0",
      "_model_name": "DescriptionStyleModel",
      "_view_count": null,
      "_view_module": "@jupyter-widgets/base",
      "_view_module_version": "1.2.0",
      "_view_name": "StyleView",
      "description_width": ""
     }
    },
    "9b443dbdbaad4ccfa89f84bb8c243040": {
     "model_module": "@jupyter-widgets/controls",
     "model_module_version": "1.5.0",
     "model_name": "HTMLModel",
     "state": {
      "_dom_classes": [],
      "_model_module": "@jupyter-widgets/controls",
      "_model_module_version": "1.5.0",
      "_model_name": "HTMLModel",
      "_view_count": null,
      "_view_module": "@jupyter-widgets/controls",
      "_view_module_version": "1.5.0",
      "_view_name": "HTMLView",
      "description": "",
      "description_tooltip": null,
      "layout": "IPY_MODEL_3221d50bc7ed4d7d89122d3db3198047",
      "placeholder": "​",
      "style": "IPY_MODEL_ca9b35fe04e0493e905174dd0f0c8769",
      "value": " 366/366 [00:00&lt;00:00, 17.9kB/s]"
     }
    },
    "9ba2df42cd7c428ab9c8149792d0d8ac": {
     "model_module": "@jupyter-widgets/controls",
     "model_module_version": "1.5.0",
     "model_name": "DescriptionStyleModel",
     "state": {
      "_model_module": "@jupyter-widgets/controls",
      "_model_module_version": "1.5.0",
      "_model_name": "DescriptionStyleModel",
      "_view_count": null,
      "_view_module": "@jupyter-widgets/base",
      "_view_module_version": "1.2.0",
      "_view_name": "StyleView",
      "description_width": ""
     }
    },
    "9c50d96e35fc44e6958c57e96d0f8198": {
     "model_module": "@jupyter-widgets/base",
     "model_module_version": "1.2.0",
     "model_name": "LayoutModel",
     "state": {
      "_model_module": "@jupyter-widgets/base",
      "_model_module_version": "1.2.0",
      "_model_name": "LayoutModel",
      "_view_count": null,
      "_view_module": "@jupyter-widgets/base",
      "_view_module_version": "1.2.0",
      "_view_name": "LayoutView",
      "align_content": null,
      "align_items": null,
      "align_self": null,
      "border": null,
      "bottom": null,
      "display": null,
      "flex": null,
      "flex_flow": null,
      "grid_area": null,
      "grid_auto_columns": null,
      "grid_auto_flow": null,
      "grid_auto_rows": null,
      "grid_column": null,
      "grid_gap": null,
      "grid_row": null,
      "grid_template_areas": null,
      "grid_template_columns": null,
      "grid_template_rows": null,
      "height": null,
      "justify_content": null,
      "justify_items": null,
      "left": null,
      "margin": null,
      "max_height": null,
      "max_width": null,
      "min_height": null,
      "min_width": null,
      "object_fit": null,
      "object_position": null,
      "order": null,
      "overflow": null,
      "overflow_x": null,
      "overflow_y": null,
      "padding": null,
      "right": null,
      "top": null,
      "visibility": null,
      "width": null
     }
    },
    "9d85dc82cfc445f69a39e6997493800e": {
     "model_module": "@jupyter-widgets/controls",
     "model_module_version": "1.5.0",
     "model_name": "DescriptionStyleModel",
     "state": {
      "_model_module": "@jupyter-widgets/controls",
      "_model_module_version": "1.5.0",
      "_model_name": "DescriptionStyleModel",
      "_view_count": null,
      "_view_module": "@jupyter-widgets/base",
      "_view_module_version": "1.2.0",
      "_view_name": "StyleView",
      "description_width": ""
     }
    },
    "a048deb17f1f4e2d9b0864596de97906": {
     "model_module": "@jupyter-widgets/base",
     "model_module_version": "1.2.0",
     "model_name": "LayoutModel",
     "state": {
      "_model_module": "@jupyter-widgets/base",
      "_model_module_version": "1.2.0",
      "_model_name": "LayoutModel",
      "_view_count": null,
      "_view_module": "@jupyter-widgets/base",
      "_view_module_version": "1.2.0",
      "_view_name": "LayoutView",
      "align_content": null,
      "align_items": null,
      "align_self": null,
      "border": null,
      "bottom": null,
      "display": null,
      "flex": null,
      "flex_flow": null,
      "grid_area": null,
      "grid_auto_columns": null,
      "grid_auto_flow": null,
      "grid_auto_rows": null,
      "grid_column": null,
      "grid_gap": null,
      "grid_row": null,
      "grid_template_areas": null,
      "grid_template_columns": null,
      "grid_template_rows": null,
      "height": null,
      "justify_content": null,
      "justify_items": null,
      "left": null,
      "margin": null,
      "max_height": null,
      "max_width": null,
      "min_height": null,
      "min_width": null,
      "object_fit": null,
      "object_position": null,
      "order": null,
      "overflow": null,
      "overflow_x": null,
      "overflow_y": null,
      "padding": null,
      "right": null,
      "top": null,
      "visibility": null,
      "width": null
     }
    },
    "a06e8a0991894579999563dd7fa2db75": {
     "model_module": "@jupyter-widgets/controls",
     "model_module_version": "1.5.0",
     "model_name": "DescriptionStyleModel",
     "state": {
      "_model_module": "@jupyter-widgets/controls",
      "_model_module_version": "1.5.0",
      "_model_name": "DescriptionStyleModel",
      "_view_count": null,
      "_view_module": "@jupyter-widgets/base",
      "_view_module_version": "1.2.0",
      "_view_name": "StyleView",
      "description_width": ""
     }
    },
    "a2f9a4f7e9be41f1b11faa2eaa30c23c": {
     "model_module": "@jupyter-widgets/base",
     "model_module_version": "1.2.0",
     "model_name": "LayoutModel",
     "state": {
      "_model_module": "@jupyter-widgets/base",
      "_model_module_version": "1.2.0",
      "_model_name": "LayoutModel",
      "_view_count": null,
      "_view_module": "@jupyter-widgets/base",
      "_view_module_version": "1.2.0",
      "_view_name": "LayoutView",
      "align_content": null,
      "align_items": null,
      "align_self": null,
      "border": null,
      "bottom": null,
      "display": null,
      "flex": null,
      "flex_flow": null,
      "grid_area": null,
      "grid_auto_columns": null,
      "grid_auto_flow": null,
      "grid_auto_rows": null,
      "grid_column": null,
      "grid_gap": null,
      "grid_row": null,
      "grid_template_areas": null,
      "grid_template_columns": null,
      "grid_template_rows": null,
      "height": null,
      "justify_content": null,
      "justify_items": null,
      "left": null,
      "margin": null,
      "max_height": null,
      "max_width": null,
      "min_height": null,
      "min_width": null,
      "object_fit": null,
      "object_position": null,
      "order": null,
      "overflow": null,
      "overflow_x": null,
      "overflow_y": null,
      "padding": null,
      "right": null,
      "top": null,
      "visibility": null,
      "width": null
     }
    },
    "a316b9ee16b9431b9a56ae3d2af5cf61": {
     "model_module": "@jupyter-widgets/controls",
     "model_module_version": "1.5.0",
     "model_name": "DescriptionStyleModel",
     "state": {
      "_model_module": "@jupyter-widgets/controls",
      "_model_module_version": "1.5.0",
      "_model_name": "DescriptionStyleModel",
      "_view_count": null,
      "_view_module": "@jupyter-widgets/base",
      "_view_module_version": "1.2.0",
      "_view_name": "StyleView",
      "description_width": ""
     }
    },
    "a387c669042a47a084695476a32865ed": {
     "model_module": "@jupyter-widgets/controls",
     "model_module_version": "1.5.0",
     "model_name": "HBoxModel",
     "state": {
      "_dom_classes": [],
      "_model_module": "@jupyter-widgets/controls",
      "_model_module_version": "1.5.0",
      "_model_name": "HBoxModel",
      "_view_count": null,
      "_view_module": "@jupyter-widgets/controls",
      "_view_module_version": "1.5.0",
      "_view_name": "HBoxView",
      "box_style": "",
      "children": [
       "IPY_MODEL_5fa8f1435b7844448233e192c8bcb78e",
       "IPY_MODEL_8fab0a50768d409eab7dc096b3fc32a9",
       "IPY_MODEL_ad1ec2d9c0dc4f88a5b37c4c53b9cc79"
      ],
      "layout": "IPY_MODEL_ee4c1e1dc72249459a391e5b23d1c1a9"
     }
    },
    "a4690ef9a745442d9ea53353239bf898": {
     "model_module": "@jupyter-widgets/base",
     "model_module_version": "1.2.0",
     "model_name": "LayoutModel",
     "state": {
      "_model_module": "@jupyter-widgets/base",
      "_model_module_version": "1.2.0",
      "_model_name": "LayoutModel",
      "_view_count": null,
      "_view_module": "@jupyter-widgets/base",
      "_view_module_version": "1.2.0",
      "_view_name": "LayoutView",
      "align_content": null,
      "align_items": null,
      "align_self": null,
      "border": null,
      "bottom": null,
      "display": null,
      "flex": null,
      "flex_flow": null,
      "grid_area": null,
      "grid_auto_columns": null,
      "grid_auto_flow": null,
      "grid_auto_rows": null,
      "grid_column": null,
      "grid_gap": null,
      "grid_row": null,
      "grid_template_areas": null,
      "grid_template_columns": null,
      "grid_template_rows": null,
      "height": null,
      "justify_content": null,
      "justify_items": null,
      "left": null,
      "margin": null,
      "max_height": null,
      "max_width": null,
      "min_height": null,
      "min_width": null,
      "object_fit": null,
      "object_position": null,
      "order": null,
      "overflow": null,
      "overflow_x": null,
      "overflow_y": null,
      "padding": null,
      "right": null,
      "top": null,
      "visibility": null,
      "width": null
     }
    },
    "a5e2f90b65574419a1e115e0826081b2": {
     "model_module": "@jupyter-widgets/base",
     "model_module_version": "1.2.0",
     "model_name": "LayoutModel",
     "state": {
      "_model_module": "@jupyter-widgets/base",
      "_model_module_version": "1.2.0",
      "_model_name": "LayoutModel",
      "_view_count": null,
      "_view_module": "@jupyter-widgets/base",
      "_view_module_version": "1.2.0",
      "_view_name": "LayoutView",
      "align_content": null,
      "align_items": null,
      "align_self": null,
      "border": null,
      "bottom": null,
      "display": null,
      "flex": null,
      "flex_flow": null,
      "grid_area": null,
      "grid_auto_columns": null,
      "grid_auto_flow": null,
      "grid_auto_rows": null,
      "grid_column": null,
      "grid_gap": null,
      "grid_row": null,
      "grid_template_areas": null,
      "grid_template_columns": null,
      "grid_template_rows": null,
      "height": null,
      "justify_content": null,
      "justify_items": null,
      "left": null,
      "margin": null,
      "max_height": null,
      "max_width": null,
      "min_height": null,
      "min_width": null,
      "object_fit": null,
      "object_position": null,
      "order": null,
      "overflow": null,
      "overflow_x": null,
      "overflow_y": null,
      "padding": null,
      "right": null,
      "top": null,
      "visibility": null,
      "width": null
     }
    },
    "a78a2421da8c4f96b87117d1b8ec1d40": {
     "model_module": "@jupyter-widgets/controls",
     "model_module_version": "1.5.0",
     "model_name": "HTMLModel",
     "state": {
      "_dom_classes": [],
      "_model_module": "@jupyter-widgets/controls",
      "_model_module_version": "1.5.0",
      "_model_name": "HTMLModel",
      "_view_count": null,
      "_view_module": "@jupyter-widgets/controls",
      "_view_module_version": "1.5.0",
      "_view_name": "HTMLView",
      "description": "",
      "description_tooltip": null,
      "layout": "IPY_MODEL_5c0f3cd9a1d74d73b5a1b81725a1c9e5",
      "placeholder": "​",
      "style": "IPY_MODEL_acfcaf3b51b8492fa8a6f47e44ebb4c3",
      "value": "tokenizer.json: 100%"
     }
    },
    "a7ffdcd51c8745f89c0a1e2983bb0898": {
     "model_module": "@jupyter-widgets/controls",
     "model_module_version": "1.5.0",
     "model_name": "ProgressStyleModel",
     "state": {
      "_model_module": "@jupyter-widgets/controls",
      "_model_module_version": "1.5.0",
      "_model_name": "ProgressStyleModel",
      "_view_count": null,
      "_view_module": "@jupyter-widgets/base",
      "_view_module_version": "1.2.0",
      "_view_name": "StyleView",
      "bar_color": null,
      "description_width": ""
     }
    },
    "a9a66e8446a041f2917c05cec3e4bfcf": {
     "model_module": "@jupyter-widgets/base",
     "model_module_version": "1.2.0",
     "model_name": "LayoutModel",
     "state": {
      "_model_module": "@jupyter-widgets/base",
      "_model_module_version": "1.2.0",
      "_model_name": "LayoutModel",
      "_view_count": null,
      "_view_module": "@jupyter-widgets/base",
      "_view_module_version": "1.2.0",
      "_view_name": "LayoutView",
      "align_content": null,
      "align_items": null,
      "align_self": null,
      "border": null,
      "bottom": null,
      "display": null,
      "flex": null,
      "flex_flow": null,
      "grid_area": null,
      "grid_auto_columns": null,
      "grid_auto_flow": null,
      "grid_auto_rows": null,
      "grid_column": null,
      "grid_gap": null,
      "grid_row": null,
      "grid_template_areas": null,
      "grid_template_columns": null,
      "grid_template_rows": null,
      "height": null,
      "justify_content": null,
      "justify_items": null,
      "left": null,
      "margin": null,
      "max_height": null,
      "max_width": null,
      "min_height": null,
      "min_width": null,
      "object_fit": null,
      "object_position": null,
      "order": null,
      "overflow": null,
      "overflow_x": null,
      "overflow_y": null,
      "padding": null,
      "right": null,
      "top": null,
      "visibility": null,
      "width": null
     }
    },
    "a9bdab38689445a7be934ae7e996f84b": {
     "model_module": "@jupyter-widgets/base",
     "model_module_version": "1.2.0",
     "model_name": "LayoutModel",
     "state": {
      "_model_module": "@jupyter-widgets/base",
      "_model_module_version": "1.2.0",
      "_model_name": "LayoutModel",
      "_view_count": null,
      "_view_module": "@jupyter-widgets/base",
      "_view_module_version": "1.2.0",
      "_view_name": "LayoutView",
      "align_content": null,
      "align_items": null,
      "align_self": null,
      "border": null,
      "bottom": null,
      "display": null,
      "flex": null,
      "flex_flow": null,
      "grid_area": null,
      "grid_auto_columns": null,
      "grid_auto_flow": null,
      "grid_auto_rows": null,
      "grid_column": null,
      "grid_gap": null,
      "grid_row": null,
      "grid_template_areas": null,
      "grid_template_columns": null,
      "grid_template_rows": null,
      "height": null,
      "justify_content": null,
      "justify_items": null,
      "left": null,
      "margin": null,
      "max_height": null,
      "max_width": null,
      "min_height": null,
      "min_width": null,
      "object_fit": null,
      "object_position": null,
      "order": null,
      "overflow": null,
      "overflow_x": null,
      "overflow_y": null,
      "padding": null,
      "right": null,
      "top": null,
      "visibility": null,
      "width": null
     }
    },
    "aa339739f4544e57a0f057aed992eb0f": {
     "model_module": "@jupyter-widgets/controls",
     "model_module_version": "1.5.0",
     "model_name": "DescriptionStyleModel",
     "state": {
      "_model_module": "@jupyter-widgets/controls",
      "_model_module_version": "1.5.0",
      "_model_name": "DescriptionStyleModel",
      "_view_count": null,
      "_view_module": "@jupyter-widgets/base",
      "_view_module_version": "1.2.0",
      "_view_name": "StyleView",
      "description_width": ""
     }
    },
    "acd1a39cff8349658ca1f5cfe9b395e1": {
     "model_module": "@jupyter-widgets/base",
     "model_module_version": "1.2.0",
     "model_name": "LayoutModel",
     "state": {
      "_model_module": "@jupyter-widgets/base",
      "_model_module_version": "1.2.0",
      "_model_name": "LayoutModel",
      "_view_count": null,
      "_view_module": "@jupyter-widgets/base",
      "_view_module_version": "1.2.0",
      "_view_name": "LayoutView",
      "align_content": null,
      "align_items": null,
      "align_self": null,
      "border": null,
      "bottom": null,
      "display": null,
      "flex": null,
      "flex_flow": null,
      "grid_area": null,
      "grid_auto_columns": null,
      "grid_auto_flow": null,
      "grid_auto_rows": null,
      "grid_column": null,
      "grid_gap": null,
      "grid_row": null,
      "grid_template_areas": null,
      "grid_template_columns": null,
      "grid_template_rows": null,
      "height": null,
      "justify_content": null,
      "justify_items": null,
      "left": null,
      "margin": null,
      "max_height": null,
      "max_width": null,
      "min_height": null,
      "min_width": null,
      "object_fit": null,
      "object_position": null,
      "order": null,
      "overflow": null,
      "overflow_x": null,
      "overflow_y": null,
      "padding": null,
      "right": null,
      "top": null,
      "visibility": null,
      "width": null
     }
    },
    "acfcaf3b51b8492fa8a6f47e44ebb4c3": {
     "model_module": "@jupyter-widgets/controls",
     "model_module_version": "1.5.0",
     "model_name": "DescriptionStyleModel",
     "state": {
      "_model_module": "@jupyter-widgets/controls",
      "_model_module_version": "1.5.0",
      "_model_name": "DescriptionStyleModel",
      "_view_count": null,
      "_view_module": "@jupyter-widgets/base",
      "_view_module_version": "1.2.0",
      "_view_name": "StyleView",
      "description_width": ""
     }
    },
    "ad1ec2d9c0dc4f88a5b37c4c53b9cc79": {
     "model_module": "@jupyter-widgets/controls",
     "model_module_version": "1.5.0",
     "model_name": "HTMLModel",
     "state": {
      "_dom_classes": [],
      "_model_module": "@jupyter-widgets/controls",
      "_model_module_version": "1.5.0",
      "_model_name": "HTMLModel",
      "_view_count": null,
      "_view_module": "@jupyter-widgets/controls",
      "_view_module_version": "1.5.0",
      "_view_name": "HTMLView",
      "description": "",
      "description_tooltip": null,
      "layout": "IPY_MODEL_f690a90b1e44439b8e30d3152f2d3043",
      "placeholder": "​",
      "style": "IPY_MODEL_9d85dc82cfc445f69a39e6997493800e",
      "value": " 733/733 [00:00&lt;00:00, 35.7kB/s]"
     }
    },
    "b09d9ec930664352a3b64ad9ad850692": {
     "model_module": "@jupyter-widgets/base",
     "model_module_version": "1.2.0",
     "model_name": "LayoutModel",
     "state": {
      "_model_module": "@jupyter-widgets/base",
      "_model_module_version": "1.2.0",
      "_model_name": "LayoutModel",
      "_view_count": null,
      "_view_module": "@jupyter-widgets/base",
      "_view_module_version": "1.2.0",
      "_view_name": "LayoutView",
      "align_content": null,
      "align_items": null,
      "align_self": null,
      "border": null,
      "bottom": null,
      "display": null,
      "flex": null,
      "flex_flow": null,
      "grid_area": null,
      "grid_auto_columns": null,
      "grid_auto_flow": null,
      "grid_auto_rows": null,
      "grid_column": null,
      "grid_gap": null,
      "grid_row": null,
      "grid_template_areas": null,
      "grid_template_columns": null,
      "grid_template_rows": null,
      "height": null,
      "justify_content": null,
      "justify_items": null,
      "left": null,
      "margin": null,
      "max_height": null,
      "max_width": null,
      "min_height": null,
      "min_width": null,
      "object_fit": null,
      "object_position": null,
      "order": null,
      "overflow": null,
      "overflow_x": null,
      "overflow_y": null,
      "padding": null,
      "right": null,
      "top": null,
      "visibility": null,
      "width": null
     }
    },
    "b0ecdb6344274770960ac88a62656902": {
     "model_module": "@jupyter-widgets/base",
     "model_module_version": "1.2.0",
     "model_name": "LayoutModel",
     "state": {
      "_model_module": "@jupyter-widgets/base",
      "_model_module_version": "1.2.0",
      "_model_name": "LayoutModel",
      "_view_count": null,
      "_view_module": "@jupyter-widgets/base",
      "_view_module_version": "1.2.0",
      "_view_name": "LayoutView",
      "align_content": null,
      "align_items": null,
      "align_self": null,
      "border": null,
      "bottom": null,
      "display": null,
      "flex": null,
      "flex_flow": null,
      "grid_area": null,
      "grid_auto_columns": null,
      "grid_auto_flow": null,
      "grid_auto_rows": null,
      "grid_column": null,
      "grid_gap": null,
      "grid_row": null,
      "grid_template_areas": null,
      "grid_template_columns": null,
      "grid_template_rows": null,
      "height": null,
      "justify_content": null,
      "justify_items": null,
      "left": null,
      "margin": null,
      "max_height": null,
      "max_width": null,
      "min_height": null,
      "min_width": null,
      "object_fit": null,
      "object_position": null,
      "order": null,
      "overflow": null,
      "overflow_x": null,
      "overflow_y": null,
      "padding": null,
      "right": null,
      "top": null,
      "visibility": null,
      "width": null
     }
    },
    "b4ee6a2f2b514a11b21346f9fccb042c": {
     "model_module": "@jupyter-widgets/controls",
     "model_module_version": "1.5.0",
     "model_name": "ProgressStyleModel",
     "state": {
      "_model_module": "@jupyter-widgets/controls",
      "_model_module_version": "1.5.0",
      "_model_name": "ProgressStyleModel",
      "_view_count": null,
      "_view_module": "@jupyter-widgets/base",
      "_view_module_version": "1.2.0",
      "_view_name": "StyleView",
      "bar_color": null,
      "description_width": ""
     }
    },
    "b531ca9c7e974ab883358626e549ddd2": {
     "model_module": "@jupyter-widgets/controls",
     "model_module_version": "1.5.0",
     "model_name": "FloatProgressModel",
     "state": {
      "_dom_classes": [],
      "_model_module": "@jupyter-widgets/controls",
      "_model_module_version": "1.5.0",
      "_model_name": "FloatProgressModel",
      "_view_count": null,
      "_view_module": "@jupyter-widgets/controls",
      "_view_module_version": "1.5.0",
      "_view_name": "ProgressView",
      "bar_style": "success",
      "description": "",
      "description_tooltip": null,
      "layout": "IPY_MODEL_20228d8fe68c41d2b867260dfd059c56",
      "max": 366,
      "min": 0,
      "orientation": "horizontal",
      "style": "IPY_MODEL_e6d758b39d394653bf8bc2aaac722b1d",
      "value": 366
     }
    },
    "b65d9ed6830446b18155ed57da709e80": {
     "model_module": "@jupyter-widgets/base",
     "model_module_version": "1.2.0",
     "model_name": "LayoutModel",
     "state": {
      "_model_module": "@jupyter-widgets/base",
      "_model_module_version": "1.2.0",
      "_model_name": "LayoutModel",
      "_view_count": null,
      "_view_module": "@jupyter-widgets/base",
      "_view_module_version": "1.2.0",
      "_view_name": "LayoutView",
      "align_content": null,
      "align_items": null,
      "align_self": null,
      "border": null,
      "bottom": null,
      "display": null,
      "flex": null,
      "flex_flow": null,
      "grid_area": null,
      "grid_auto_columns": null,
      "grid_auto_flow": null,
      "grid_auto_rows": null,
      "grid_column": null,
      "grid_gap": null,
      "grid_row": null,
      "grid_template_areas": null,
      "grid_template_columns": null,
      "grid_template_rows": null,
      "height": null,
      "justify_content": null,
      "justify_items": null,
      "left": null,
      "margin": null,
      "max_height": null,
      "max_width": null,
      "min_height": null,
      "min_width": null,
      "object_fit": null,
      "object_position": null,
      "order": null,
      "overflow": null,
      "overflow_x": null,
      "overflow_y": null,
      "padding": null,
      "right": null,
      "top": null,
      "visibility": null,
      "width": null
     }
    },
    "b66e34478ec449c6b70ef57e427e76e6": {
     "model_module": "@jupyter-widgets/base",
     "model_module_version": "1.2.0",
     "model_name": "LayoutModel",
     "state": {
      "_model_module": "@jupyter-widgets/base",
      "_model_module_version": "1.2.0",
      "_model_name": "LayoutModel",
      "_view_count": null,
      "_view_module": "@jupyter-widgets/base",
      "_view_module_version": "1.2.0",
      "_view_name": "LayoutView",
      "align_content": null,
      "align_items": null,
      "align_self": null,
      "border": null,
      "bottom": null,
      "display": null,
      "flex": null,
      "flex_flow": null,
      "grid_area": null,
      "grid_auto_columns": null,
      "grid_auto_flow": null,
      "grid_auto_rows": null,
      "grid_column": null,
      "grid_gap": null,
      "grid_row": null,
      "grid_template_areas": null,
      "grid_template_columns": null,
      "grid_template_rows": null,
      "height": null,
      "justify_content": null,
      "justify_items": null,
      "left": null,
      "margin": null,
      "max_height": null,
      "max_width": null,
      "min_height": null,
      "min_width": null,
      "object_fit": null,
      "object_position": null,
      "order": null,
      "overflow": null,
      "overflow_x": null,
      "overflow_y": null,
      "padding": null,
      "right": null,
      "top": null,
      "visibility": null,
      "width": null
     }
    },
    "ba399ab40e4949298c3567ad7f533f08": {
     "model_module": "@jupyter-widgets/controls",
     "model_module_version": "1.5.0",
     "model_name": "ProgressStyleModel",
     "state": {
      "_model_module": "@jupyter-widgets/controls",
      "_model_module_version": "1.5.0",
      "_model_name": "ProgressStyleModel",
      "_view_count": null,
      "_view_module": "@jupyter-widgets/base",
      "_view_module_version": "1.2.0",
      "_view_name": "StyleView",
      "bar_color": null,
      "description_width": ""
     }
    },
    "bba85c87a69840c6bf1b693d9c24b500": {
     "model_module": "@jupyter-widgets/base",
     "model_module_version": "1.2.0",
     "model_name": "LayoutModel",
     "state": {
      "_model_module": "@jupyter-widgets/base",
      "_model_module_version": "1.2.0",
      "_model_name": "LayoutModel",
      "_view_count": null,
      "_view_module": "@jupyter-widgets/base",
      "_view_module_version": "1.2.0",
      "_view_name": "LayoutView",
      "align_content": null,
      "align_items": null,
      "align_self": null,
      "border": null,
      "bottom": null,
      "display": null,
      "flex": null,
      "flex_flow": null,
      "grid_area": null,
      "grid_auto_columns": null,
      "grid_auto_flow": null,
      "grid_auto_rows": null,
      "grid_column": null,
      "grid_gap": null,
      "grid_row": null,
      "grid_template_areas": null,
      "grid_template_columns": null,
      "grid_template_rows": null,
      "height": null,
      "justify_content": null,
      "justify_items": null,
      "left": null,
      "margin": null,
      "max_height": null,
      "max_width": null,
      "min_height": null,
      "min_width": null,
      "object_fit": null,
      "object_position": null,
      "order": null,
      "overflow": null,
      "overflow_x": null,
      "overflow_y": null,
      "padding": null,
      "right": null,
      "top": null,
      "visibility": null,
      "width": null
     }
    },
    "bfb0cf35c8a54bb1acd56023b73b69cf": {
     "model_module": "@jupyter-widgets/controls",
     "model_module_version": "1.5.0",
     "model_name": "FloatProgressModel",
     "state": {
      "_dom_classes": [],
      "_model_module": "@jupyter-widgets/controls",
      "_model_module_version": "1.5.0",
      "_model_name": "FloatProgressModel",
      "_view_count": null,
      "_view_module": "@jupyter-widgets/controls",
      "_view_module_version": "1.5.0",
      "_view_name": "ProgressView",
      "bar_style": "success",
      "description": "",
      "description_tooltip": null,
      "layout": "IPY_MODEL_e97fa2e309134e1bb1a714b0137c5846",
      "max": 125,
      "min": 0,
      "orientation": "horizontal",
      "style": "IPY_MODEL_a7ffdcd51c8745f89c0a1e2983bb0898",
      "value": 125
     }
    },
    "c11f01032687435fb2847b89aa7b1548": {
     "model_module": "@jupyter-widgets/controls",
     "model_module_version": "1.5.0",
     "model_name": "ProgressStyleModel",
     "state": {
      "_model_module": "@jupyter-widgets/controls",
      "_model_module_version": "1.5.0",
      "_model_name": "ProgressStyleModel",
      "_view_count": null,
      "_view_module": "@jupyter-widgets/base",
      "_view_module_version": "1.2.0",
      "_view_name": "StyleView",
      "bar_color": null,
      "description_width": ""
     }
    },
    "c16642d677b545dd9e4bf9d21b45d703": {
     "model_module": "@jupyter-widgets/controls",
     "model_module_version": "1.5.0",
     "model_name": "HTMLModel",
     "state": {
      "_dom_classes": [],
      "_model_module": "@jupyter-widgets/controls",
      "_model_module_version": "1.5.0",
      "_model_name": "HTMLModel",
      "_view_count": null,
      "_view_module": "@jupyter-widgets/controls",
      "_view_module_version": "1.5.0",
      "_view_name": "HTMLView",
      "description": "",
      "description_tooltip": null,
      "layout": "IPY_MODEL_2fcdf9c20d074c4da7a7a0cac238fb14",
      "placeholder": "​",
      "style": "IPY_MODEL_9aa953206bb54ff7af3a7b30ed78bfde",
      "value": "tokenizer_config.json: 100%"
     }
    },
    "c302447a43c144fc93aa0cbb4fbc9aa9": {
     "model_module": "@jupyter-widgets/controls",
     "model_module_version": "1.5.0",
     "model_name": "HTMLModel",
     "state": {
      "_dom_classes": [],
      "_model_module": "@jupyter-widgets/controls",
      "_model_module_version": "1.5.0",
      "_model_name": "HTMLModel",
      "_view_count": null,
      "_view_module": "@jupyter-widgets/controls",
      "_view_module_version": "1.5.0",
      "_view_name": "HTMLView",
      "description": "",
      "description_tooltip": null,
      "layout": "IPY_MODEL_531ea44bf75443bc8c8908c750efd692",
      "placeholder": "​",
      "style": "IPY_MODEL_353f78df62c84ad28b9dcfdaafa69d1a",
      "value": " 133M/133M [00:00&lt;00:00, 169MB/s]"
     }
    },
    "c35b0722500d449994ac53244ce59d8b": {
     "model_module": "@jupyter-widgets/base",
     "model_module_version": "1.2.0",
     "model_name": "LayoutModel",
     "state": {
      "_model_module": "@jupyter-widgets/base",
      "_model_module_version": "1.2.0",
      "_model_name": "LayoutModel",
      "_view_count": null,
      "_view_module": "@jupyter-widgets/base",
      "_view_module_version": "1.2.0",
      "_view_name": "LayoutView",
      "align_content": null,
      "align_items": null,
      "align_self": null,
      "border": null,
      "bottom": null,
      "display": null,
      "flex": null,
      "flex_flow": null,
      "grid_area": null,
      "grid_auto_columns": null,
      "grid_auto_flow": null,
      "grid_auto_rows": null,
      "grid_column": null,
      "grid_gap": null,
      "grid_row": null,
      "grid_template_areas": null,
      "grid_template_columns": null,
      "grid_template_rows": null,
      "height": null,
      "justify_content": null,
      "justify_items": null,
      "left": null,
      "margin": null,
      "max_height": null,
      "max_width": null,
      "min_height": null,
      "min_width": null,
      "object_fit": null,
      "object_position": null,
      "order": null,
      "overflow": null,
      "overflow_x": null,
      "overflow_y": null,
      "padding": null,
      "right": null,
      "top": null,
      "visibility": null,
      "width": null
     }
    },
    "c4e8dcc2db674b8ea084e39f856b6604": {
     "model_module": "@jupyter-widgets/controls",
     "model_module_version": "1.5.0",
     "model_name": "FloatProgressModel",
     "state": {
      "_dom_classes": [],
      "_model_module": "@jupyter-widgets/controls",
      "_model_module_version": "1.5.0",
      "_model_name": "FloatProgressModel",
      "_view_count": null,
      "_view_module": "@jupyter-widgets/controls",
      "_view_module_version": "1.5.0",
      "_view_name": "ProgressView",
      "bar_style": "success",
      "description": "",
      "description_tooltip": null,
      "layout": "IPY_MODEL_72d6490cc8ed41cca8ade992c5c8ed88",
      "max": 1242,
      "min": 0,
      "orientation": "horizontal",
      "style": "IPY_MODEL_c11f01032687435fb2847b89aa7b1548",
      "value": 1242
     }
    },
    "c620b878ae6c4fa5a170c9d64567d5a2": {
     "model_module": "@jupyter-widgets/controls",
     "model_module_version": "1.5.0",
     "model_name": "HTMLModel",
     "state": {
      "_dom_classes": [],
      "_model_module": "@jupyter-widgets/controls",
      "_model_module_version": "1.5.0",
      "_model_name": "HTMLModel",
      "_view_count": null,
      "_view_module": "@jupyter-widgets/controls",
      "_view_module_version": "1.5.0",
      "_view_name": "HTMLView",
      "description": "",
      "description_tooltip": null,
      "layout": "IPY_MODEL_21556edf6c9746d791ee855c2ea43347",
      "placeholder": "​",
      "style": "IPY_MODEL_174d75394d0642d5baee7c918a7676a5",
      "value": " 1.34G/1.34G [00:12&lt;00:00, 151MB/s]"
     }
    },
    "c6da76b8ea5d4e72a405f9fa7ef05989": {
     "model_module": "@jupyter-widgets/controls",
     "model_module_version": "1.5.0",
     "model_name": "FloatProgressModel",
     "state": {
      "_dom_classes": [],
      "_model_module": "@jupyter-widgets/controls",
      "_model_module_version": "1.5.0",
      "_model_name": "FloatProgressModel",
      "_view_count": null,
      "_view_module": "@jupyter-widgets/controls",
      "_view_module_version": "1.5.0",
      "_view_name": "ProgressView",
      "bar_style": "success",
      "description": "",
      "description_tooltip": null,
      "layout": "IPY_MODEL_b0ecdb6344274770960ac88a62656902",
      "max": 711396,
      "min": 0,
      "orientation": "horizontal",
      "style": "IPY_MODEL_6648d95456b943a2852a9c2ba70025e2",
      "value": 711396
     }
    },
    "c7fc7c77fca54ad193bd26388017f779": {
     "model_module": "@jupyter-widgets/base",
     "model_module_version": "1.2.0",
     "model_name": "LayoutModel",
     "state": {
      "_model_module": "@jupyter-widgets/base",
      "_model_module_version": "1.2.0",
      "_model_name": "LayoutModel",
      "_view_count": null,
      "_view_module": "@jupyter-widgets/base",
      "_view_module_version": "1.2.0",
      "_view_name": "LayoutView",
      "align_content": null,
      "align_items": null,
      "align_self": null,
      "border": null,
      "bottom": null,
      "display": null,
      "flex": null,
      "flex_flow": null,
      "grid_area": null,
      "grid_auto_columns": null,
      "grid_auto_flow": null,
      "grid_auto_rows": null,
      "grid_column": null,
      "grid_gap": null,
      "grid_row": null,
      "grid_template_areas": null,
      "grid_template_columns": null,
      "grid_template_rows": null,
      "height": null,
      "justify_content": null,
      "justify_items": null,
      "left": null,
      "margin": null,
      "max_height": null,
      "max_width": null,
      "min_height": null,
      "min_width": null,
      "object_fit": null,
      "object_position": null,
      "order": null,
      "overflow": null,
      "overflow_x": null,
      "overflow_y": null,
      "padding": null,
      "right": null,
      "top": null,
      "visibility": null,
      "width": null
     }
    },
    "ca671524043f4a49b15725fa796fa54c": {
     "model_module": "@jupyter-widgets/controls",
     "model_module_version": "1.5.0",
     "model_name": "HTMLModel",
     "state": {
      "_dom_classes": [],
      "_model_module": "@jupyter-widgets/controls",
      "_model_module_version": "1.5.0",
      "_model_name": "HTMLModel",
      "_view_count": null,
      "_view_module": "@jupyter-widgets/controls",
      "_view_module_version": "1.5.0",
      "_view_name": "HTMLView",
      "description": "",
      "description_tooltip": null,
      "layout": "IPY_MODEL_a5e2f90b65574419a1e115e0826081b2",
      "placeholder": "​",
      "style": "IPY_MODEL_f65f2c1a84a5407684e837eb73b13a57",
      "value": "model.safetensors: 100%"
     }
    },
    "ca9b35fe04e0493e905174dd0f0c8769": {
     "model_module": "@jupyter-widgets/controls",
     "model_module_version": "1.5.0",
     "model_name": "DescriptionStyleModel",
     "state": {
      "_model_module": "@jupyter-widgets/controls",
      "_model_module_version": "1.5.0",
      "_model_name": "DescriptionStyleModel",
      "_view_count": null,
      "_view_module": "@jupyter-widgets/base",
      "_view_module_version": "1.2.0",
      "_view_name": "StyleView",
      "description_width": ""
     }
    },
    "d0d06ffc74ed48bd902229528f8596e5": {
     "model_module": "@jupyter-widgets/base",
     "model_module_version": "1.2.0",
     "model_name": "LayoutModel",
     "state": {
      "_model_module": "@jupyter-widgets/base",
      "_model_module_version": "1.2.0",
      "_model_name": "LayoutModel",
      "_view_count": null,
      "_view_module": "@jupyter-widgets/base",
      "_view_module_version": "1.2.0",
      "_view_name": "LayoutView",
      "align_content": null,
      "align_items": null,
      "align_self": null,
      "border": null,
      "bottom": null,
      "display": null,
      "flex": null,
      "flex_flow": null,
      "grid_area": null,
      "grid_auto_columns": null,
      "grid_auto_flow": null,
      "grid_auto_rows": null,
      "grid_column": null,
      "grid_gap": null,
      "grid_row": null,
      "grid_template_areas": null,
      "grid_template_columns": null,
      "grid_template_rows": null,
      "height": null,
      "justify_content": null,
      "justify_items": null,
      "left": null,
      "margin": null,
      "max_height": null,
      "max_width": null,
      "min_height": null,
      "min_width": null,
      "object_fit": null,
      "object_position": null,
      "order": null,
      "overflow": null,
      "overflow_x": null,
      "overflow_y": null,
      "padding": null,
      "right": null,
      "top": null,
      "visibility": null,
      "width": null
     }
    },
    "d0dd34b8b16b4738bf3823ef99fa62c7": {
     "model_module": "@jupyter-widgets/controls",
     "model_module_version": "1.5.0",
     "model_name": "HTMLModel",
     "state": {
      "_dom_classes": [],
      "_model_module": "@jupyter-widgets/controls",
      "_model_module_version": "1.5.0",
      "_model_name": "HTMLModel",
      "_view_count": null,
      "_view_module": "@jupyter-widgets/controls",
      "_view_module_version": "1.5.0",
      "_view_name": "HTMLView",
      "description": "",
      "description_tooltip": null,
      "layout": "IPY_MODEL_693f5d73f07d4fcb9de3689040efddfb",
      "placeholder": "​",
      "style": "IPY_MODEL_aa339739f4544e57a0f057aed992eb0f",
      "value": "model.safetensors: 100%"
     }
    },
    "d6297b23e40d4d88b76f9fc29f11091d": {
     "model_module": "@jupyter-widgets/controls",
     "model_module_version": "1.5.0",
     "model_name": "DescriptionStyleModel",
     "state": {
      "_model_module": "@jupyter-widgets/controls",
      "_model_module_version": "1.5.0",
      "_model_name": "DescriptionStyleModel",
      "_view_count": null,
      "_view_module": "@jupyter-widgets/base",
      "_view_module_version": "1.2.0",
      "_view_name": "StyleView",
      "description_width": ""
     }
    },
    "d8901b9333bf4ebe9af8498deb5e8a9e": {
     "model_module": "@jupyter-widgets/controls",
     "model_module_version": "1.5.0",
     "model_name": "DescriptionStyleModel",
     "state": {
      "_model_module": "@jupyter-widgets/controls",
      "_model_module_version": "1.5.0",
      "_model_name": "DescriptionStyleModel",
      "_view_count": null,
      "_view_module": "@jupyter-widgets/base",
      "_view_module_version": "1.2.0",
      "_view_name": "StyleView",
      "description_width": ""
     }
    },
    "d99c5e1516d64b59b3f84b4be4d4114b": {
     "model_module": "@jupyter-widgets/controls",
     "model_module_version": "1.5.0",
     "model_name": "HBoxModel",
     "state": {
      "_dom_classes": [],
      "_model_module": "@jupyter-widgets/controls",
      "_model_module_version": "1.5.0",
      "_model_name": "HBoxModel",
      "_view_count": null,
      "_view_module": "@jupyter-widgets/controls",
      "_view_module_version": "1.5.0",
      "_view_name": "HBoxView",
      "box_style": "",
      "children": [
       "IPY_MODEL_c16642d677b545dd9e4bf9d21b45d703",
       "IPY_MODEL_b531ca9c7e974ab883358626e549ddd2",
       "IPY_MODEL_9b443dbdbaad4ccfa89f84bb8c243040"
      ],
      "layout": "IPY_MODEL_c35b0722500d449994ac53244ce59d8b"
     }
    },
    "e0a53f59761c418583e0afea0b7b247a": {
     "model_module": "@jupyter-widgets/base",
     "model_module_version": "1.2.0",
     "model_name": "LayoutModel",
     "state": {
      "_model_module": "@jupyter-widgets/base",
      "_model_module_version": "1.2.0",
      "_model_name": "LayoutModel",
      "_view_count": null,
      "_view_module": "@jupyter-widgets/base",
      "_view_module_version": "1.2.0",
      "_view_name": "LayoutView",
      "align_content": null,
      "align_items": null,
      "align_self": null,
      "border": null,
      "bottom": null,
      "display": null,
      "flex": null,
      "flex_flow": null,
      "grid_area": null,
      "grid_auto_columns": null,
      "grid_auto_flow": null,
      "grid_auto_rows": null,
      "grid_column": null,
      "grid_gap": null,
      "grid_row": null,
      "grid_template_areas": null,
      "grid_template_columns": null,
      "grid_template_rows": null,
      "height": null,
      "justify_content": null,
      "justify_items": null,
      "left": null,
      "margin": null,
      "max_height": null,
      "max_width": null,
      "min_height": null,
      "min_width": null,
      "object_fit": null,
      "object_position": null,
      "order": null,
      "overflow": null,
      "overflow_x": null,
      "overflow_y": null,
      "padding": null,
      "right": null,
      "top": null,
      "visibility": null,
      "width": null
     }
    },
    "e5b1aca039da407e98ed723d8e93ce50": {
     "model_module": "@jupyter-widgets/controls",
     "model_module_version": "1.5.0",
     "model_name": "FloatProgressModel",
     "state": {
      "_dom_classes": [],
      "_model_module": "@jupyter-widgets/controls",
      "_model_module_version": "1.5.0",
      "_model_name": "FloatProgressModel",
      "_view_count": null,
      "_view_module": "@jupyter-widgets/controls",
      "_view_module_version": "1.5.0",
      "_view_name": "ProgressView",
      "bar_style": "success",
      "description": "",
      "description_tooltip": null,
      "layout": "IPY_MODEL_980a3a2d1aa54933a82d1ac33df52feb",
      "max": 711396,
      "min": 0,
      "orientation": "horizontal",
      "style": "IPY_MODEL_b4ee6a2f2b514a11b21346f9fccb042c",
      "value": 711396
     }
    },
    "e665360b0e7848f3a0f71ad1275bf473": {
     "model_module": "@jupyter-widgets/controls",
     "model_module_version": "1.5.0",
     "model_name": "HBoxModel",
     "state": {
      "_dom_classes": [],
      "_model_module": "@jupyter-widgets/controls",
      "_model_module_version": "1.5.0",
      "_model_name": "HBoxModel",
      "_view_count": null,
      "_view_module": "@jupyter-widgets/controls",
      "_view_module_version": "1.5.0",
      "_view_name": "HBoxView",
      "box_style": "",
      "children": [
       "IPY_MODEL_00a2380cf9fe409481c16cf00f67c5ac",
       "IPY_MODEL_0a741c03df8a4787ad1a72d22cd98b4d",
       "IPY_MODEL_40702a56f5a54a0f82d509887d6271bd"
      ],
      "layout": "IPY_MODEL_f9344c50b26540a88845e1c0eaca1b13"
     }
    },
    "e67a74af17fe43e09be6a3245b921f33": {
     "model_module": "@jupyter-widgets/controls",
     "model_module_version": "1.5.0",
     "model_name": "HTMLModel",
     "state": {
      "_dom_classes": [],
      "_model_module": "@jupyter-widgets/controls",
      "_model_module_version": "1.5.0",
      "_model_name": "HTMLModel",
      "_view_count": null,
      "_view_module": "@jupyter-widgets/controls",
      "_view_module_version": "1.5.0",
      "_view_name": "HTMLView",
      "description": "",
      "description_tooltip": null,
      "layout": "IPY_MODEL_acd1a39cff8349658ca1f5cfe9b395e1",
      "placeholder": "​",
      "style": "IPY_MODEL_3d3a86a6c03a40e086fe756b08ab22e5",
      "value": " 125/125 [00:00&lt;00:00, 4.75kB/s]"
     }
    },
    "e6d758b39d394653bf8bc2aaac722b1d": {
     "model_module": "@jupyter-widgets/controls",
     "model_module_version": "1.5.0",
     "model_name": "ProgressStyleModel",
     "state": {
      "_model_module": "@jupyter-widgets/controls",
      "_model_module_version": "1.5.0",
      "_model_name": "ProgressStyleModel",
      "_view_count": null,
      "_view_module": "@jupyter-widgets/base",
      "_view_module_version": "1.2.0",
      "_view_name": "StyleView",
      "bar_color": null,
      "description_width": ""
     }
    },
    "e97fa2e309134e1bb1a714b0137c5846": {
     "model_module": "@jupyter-widgets/base",
     "model_module_version": "1.2.0",
     "model_name": "LayoutModel",
     "state": {
      "_model_module": "@jupyter-widgets/base",
      "_model_module_version": "1.2.0",
      "_model_name": "LayoutModel",
      "_view_count": null,
      "_view_module": "@jupyter-widgets/base",
      "_view_module_version": "1.2.0",
      "_view_name": "LayoutView",
      "align_content": null,
      "align_items": null,
      "align_self": null,
      "border": null,
      "bottom": null,
      "display": null,
      "flex": null,
      "flex_flow": null,
      "grid_area": null,
      "grid_auto_columns": null,
      "grid_auto_flow": null,
      "grid_auto_rows": null,
      "grid_column": null,
      "grid_gap": null,
      "grid_row": null,
      "grid_template_areas": null,
      "grid_template_columns": null,
      "grid_template_rows": null,
      "height": null,
      "justify_content": null,
      "justify_items": null,
      "left": null,
      "margin": null,
      "max_height": null,
      "max_width": null,
      "min_height": null,
      "min_width": null,
      "object_fit": null,
      "object_position": null,
      "order": null,
      "overflow": null,
      "overflow_x": null,
      "overflow_y": null,
      "padding": null,
      "right": null,
      "top": null,
      "visibility": null,
      "width": null
     }
    },
    "ec8ac82c03f14705863e49851e430e62": {
     "model_module": "@jupyter-widgets/controls",
     "model_module_version": "1.5.0",
     "model_name": "HBoxModel",
     "state": {
      "_dom_classes": [],
      "_model_module": "@jupyter-widgets/controls",
      "_model_module_version": "1.5.0",
      "_model_name": "HBoxModel",
      "_view_count": null,
      "_view_module": "@jupyter-widgets/controls",
      "_view_module_version": "1.5.0",
      "_view_name": "HBoxView",
      "box_style": "",
      "children": [
       "IPY_MODEL_ca671524043f4a49b15725fa796fa54c",
       "IPY_MODEL_3c01a086e53e47129be2acb4b0737906",
       "IPY_MODEL_c302447a43c144fc93aa0cbb4fbc9aa9"
      ],
      "layout": "IPY_MODEL_0610fbf0fc0d4fd2b1866a1c7fd95c6e"
     }
    },
    "ee4c1e1dc72249459a391e5b23d1c1a9": {
     "model_module": "@jupyter-widgets/base",
     "model_module_version": "1.2.0",
     "model_name": "LayoutModel",
     "state": {
      "_model_module": "@jupyter-widgets/base",
      "_model_module_version": "1.2.0",
      "_model_name": "LayoutModel",
      "_view_count": null,
      "_view_module": "@jupyter-widgets/base",
      "_view_module_version": "1.2.0",
      "_view_name": "LayoutView",
      "align_content": null,
      "align_items": null,
      "align_self": null,
      "border": null,
      "bottom": null,
      "display": null,
      "flex": null,
      "flex_flow": null,
      "grid_area": null,
      "grid_auto_columns": null,
      "grid_auto_flow": null,
      "grid_auto_rows": null,
      "grid_column": null,
      "grid_gap": null,
      "grid_row": null,
      "grid_template_areas": null,
      "grid_template_columns": null,
      "grid_template_rows": null,
      "height": null,
      "justify_content": null,
      "justify_items": null,
      "left": null,
      "margin": null,
      "max_height": null,
      "max_width": null,
      "min_height": null,
      "min_width": null,
      "object_fit": null,
      "object_position": null,
      "order": null,
      "overflow": null,
      "overflow_x": null,
      "overflow_y": null,
      "padding": null,
      "right": null,
      "top": null,
      "visibility": null,
      "width": null
     }
    },
    "f18b9284633247daa57be1e4787ae570": {
     "model_module": "@jupyter-widgets/controls",
     "model_module_version": "1.5.0",
     "model_name": "HBoxModel",
     "state": {
      "_dom_classes": [],
      "_model_module": "@jupyter-widgets/controls",
      "_model_module_version": "1.5.0",
      "_model_name": "HBoxModel",
      "_view_count": null,
      "_view_module": "@jupyter-widgets/controls",
      "_view_module_version": "1.5.0",
      "_view_name": "HBoxView",
      "box_style": "",
      "children": [
       "IPY_MODEL_569c2f8072544c598a50ed225319d509",
       "IPY_MODEL_c4e8dcc2db674b8ea084e39f856b6604",
       "IPY_MODEL_2531c0c0b5044992ab6fb96c8110dbe2"
      ],
      "layout": "IPY_MODEL_04506652139b4cfd8e36670f301fc112"
     }
    },
    "f65f2c1a84a5407684e837eb73b13a57": {
     "model_module": "@jupyter-widgets/controls",
     "model_module_version": "1.5.0",
     "model_name": "DescriptionStyleModel",
     "state": {
      "_model_module": "@jupyter-widgets/controls",
      "_model_module_version": "1.5.0",
      "_model_name": "DescriptionStyleModel",
      "_view_count": null,
      "_view_module": "@jupyter-widgets/base",
      "_view_module_version": "1.2.0",
      "_view_name": "StyleView",
      "description_width": ""
     }
    },
    "f690a90b1e44439b8e30d3152f2d3043": {
     "model_module": "@jupyter-widgets/base",
     "model_module_version": "1.2.0",
     "model_name": "LayoutModel",
     "state": {
      "_model_module": "@jupyter-widgets/base",
      "_model_module_version": "1.2.0",
      "_model_name": "LayoutModel",
      "_view_count": null,
      "_view_module": "@jupyter-widgets/base",
      "_view_module_version": "1.2.0",
      "_view_name": "LayoutView",
      "align_content": null,
      "align_items": null,
      "align_self": null,
      "border": null,
      "bottom": null,
      "display": null,
      "flex": null,
      "flex_flow": null,
      "grid_area": null,
      "grid_auto_columns": null,
      "grid_auto_flow": null,
      "grid_auto_rows": null,
      "grid_column": null,
      "grid_gap": null,
      "grid_row": null,
      "grid_template_areas": null,
      "grid_template_columns": null,
      "grid_template_rows": null,
      "height": null,
      "justify_content": null,
      "justify_items": null,
      "left": null,
      "margin": null,
      "max_height": null,
      "max_width": null,
      "min_height": null,
      "min_width": null,
      "object_fit": null,
      "object_position": null,
      "order": null,
      "overflow": null,
      "overflow_x": null,
      "overflow_y": null,
      "padding": null,
      "right": null,
      "top": null,
      "visibility": null,
      "width": null
     }
    },
    "f834043a0fa749eeb9a4741de299e520": {
     "model_module": "@jupyter-widgets/controls",
     "model_module_version": "1.5.0",
     "model_name": "HBoxModel",
     "state": {
      "_dom_classes": [],
      "_model_module": "@jupyter-widgets/controls",
      "_model_module_version": "1.5.0",
      "_model_name": "HBoxModel",
      "_view_count": null,
      "_view_module": "@jupyter-widgets/controls",
      "_view_module_version": "1.5.0",
      "_view_name": "HBoxView",
      "box_style": "",
      "children": [
       "IPY_MODEL_22e5ad1815b84d0782f66c07faec2fd8",
       "IPY_MODEL_bfb0cf35c8a54bb1acd56023b73b69cf",
       "IPY_MODEL_e67a74af17fe43e09be6a3245b921f33"
      ],
      "layout": "IPY_MODEL_a9a66e8446a041f2917c05cec3e4bfcf"
     }
    },
    "f9344c50b26540a88845e1c0eaca1b13": {
     "model_module": "@jupyter-widgets/base",
     "model_module_version": "1.2.0",
     "model_name": "LayoutModel",
     "state": {
      "_model_module": "@jupyter-widgets/base",
      "_model_module_version": "1.2.0",
      "_model_name": "LayoutModel",
      "_view_count": null,
      "_view_module": "@jupyter-widgets/base",
      "_view_module_version": "1.2.0",
      "_view_name": "LayoutView",
      "align_content": null,
      "align_items": null,
      "align_self": null,
      "border": null,
      "bottom": null,
      "display": null,
      "flex": null,
      "flex_flow": null,
      "grid_area": null,
      "grid_auto_columns": null,
      "grid_auto_flow": null,
      "grid_auto_rows": null,
      "grid_column": null,
      "grid_gap": null,
      "grid_row": null,
      "grid_template_areas": null,
      "grid_template_columns": null,
      "grid_template_rows": null,
      "height": null,
      "justify_content": null,
      "justify_items": null,
      "left": null,
      "margin": null,
      "max_height": null,
      "max_width": null,
      "min_height": null,
      "min_width": null,
      "object_fit": null,
      "object_position": null,
      "order": null,
      "overflow": null,
      "overflow_x": null,
      "overflow_y": null,
      "padding": null,
      "right": null,
      "top": null,
      "visibility": null,
      "width": null
     }
    },
    "fbc12ad7c42248789e5f16412da45cc9": {
     "model_module": "@jupyter-widgets/controls",
     "model_module_version": "1.5.0",
     "model_name": "DescriptionStyleModel",
     "state": {
      "_model_module": "@jupyter-widgets/controls",
      "_model_module_version": "1.5.0",
      "_model_name": "DescriptionStyleModel",
      "_view_count": null,
      "_view_module": "@jupyter-widgets/base",
      "_view_module_version": "1.2.0",
      "_view_name": "StyleView",
      "description_width": ""
     }
    },
    "fc2584a4ac134535ad7775f91f673cdf": {
     "model_module": "@jupyter-widgets/controls",
     "model_module_version": "1.5.0",
     "model_name": "DescriptionStyleModel",
     "state": {
      "_model_module": "@jupyter-widgets/controls",
      "_model_module_version": "1.5.0",
      "_model_name": "DescriptionStyleModel",
      "_view_count": null,
      "_view_module": "@jupyter-widgets/base",
      "_view_module_version": "1.2.0",
      "_view_name": "StyleView",
      "description_width": ""
     }
    },
    "fe9799d8dbb54b6eb81e2769a65be499": {
     "model_module": "@jupyter-widgets/controls",
     "model_module_version": "1.5.0",
     "model_name": "ProgressStyleModel",
     "state": {
      "_model_module": "@jupyter-widgets/controls",
      "_model_module_version": "1.5.0",
      "_model_name": "ProgressStyleModel",
      "_view_count": null,
      "_view_module": "@jupyter-widgets/base",
      "_view_module_version": "1.2.0",
      "_view_name": "StyleView",
      "bar_color": null,
      "description_width": ""
     }
    },
    "ff3351be1c4f4f9ab0cf6b62b23c3626": {
     "model_module": "@jupyter-widgets/base",
     "model_module_version": "1.2.0",
     "model_name": "LayoutModel",
     "state": {
      "_model_module": "@jupyter-widgets/base",
      "_model_module_version": "1.2.0",
      "_model_name": "LayoutModel",
      "_view_count": null,
      "_view_module": "@jupyter-widgets/base",
      "_view_module_version": "1.2.0",
      "_view_name": "LayoutView",
      "align_content": null,
      "align_items": null,
      "align_self": null,
      "border": null,
      "bottom": null,
      "display": null,
      "flex": null,
      "flex_flow": null,
      "grid_area": null,
      "grid_auto_columns": null,
      "grid_auto_flow": null,
      "grid_auto_rows": null,
      "grid_column": null,
      "grid_gap": null,
      "grid_row": null,
      "grid_template_areas": null,
      "grid_template_columns": null,
      "grid_template_rows": null,
      "height": null,
      "justify_content": null,
      "justify_items": null,
      "left": null,
      "margin": null,
      "max_height": null,
      "max_width": null,
      "min_height": null,
      "min_width": null,
      "object_fit": null,
      "object_position": null,
      "order": null,
      "overflow": null,
      "overflow_x": null,
      "overflow_y": null,
      "padding": null,
      "right": null,
      "top": null,
      "visibility": null,
      "width": null
     }
    }
   }
  }
 },
 "nbformat": 4,
 "nbformat_minor": 4
}
