{
 "cells": [
  {
   "cell_type": "markdown",
   "metadata": {},
   "source": [
    "# LLMs"
   ]
  },
  {
   "cell_type": "markdown",
   "metadata": {},
   "source": [
    "### Content\n",
    "- How to choose the right LLM? open source/closed source\n",
    "    - Select the domain specific LLM\n",
    "    - Select the state of the art LLM\n",
    "    - Mixtral of Experts\n",
    "    - \n",
    "- "
   ]
  },
  {
   "cell_type": "markdown",
   "metadata": {
    "id": "wywCFaDQ39ic"
   },
   "source": [
    "In this notebook we will see how to interact with different LLMs through LlamaIndex.\n"
   ]
  },
  {
   "cell_type": "markdown",
   "metadata": {},
   "source": [
    "Download the required packages by executing the below commands in either Anaconda Prompt (in Windows) or Terminal (in Linux or Mac OS)"
   ]
  },
  {
   "cell_type": "markdown",
   "metadata": {},
   "source": [
    "pip install llama-index-llms-openai llama-index-llms-anthropic"
   ]
  },
  {
   "cell_type": "code",
   "execution_count": 1,
   "metadata": {},
   "outputs": [
    {
     "name": "stdout",
     "output_type": "stream",
     "text": [
      "Requirement already satisfied: llama-index-llms-openai in d:\\training\\faa-training\\beyond-the-prompt-practical-rag-for-real-world-ai\\rag-systems-using-llamaindex\\rag-system-using-lamaindex\\.training-env\\lib\\site-packages (0.5.4)\n",
      "Collecting llama-index-llms-anthropic\n",
      "  Downloading llama_index_llms_anthropic-0.8.5-py3-none-any.whl.metadata (6.2 kB)\n",
      "Requirement already satisfied: llama-index-core<0.14,>=0.13.0 in d:\\training\\faa-training\\beyond-the-prompt-practical-rag-for-real-world-ai\\rag-systems-using-llamaindex\\rag-system-using-lamaindex\\.training-env\\lib\\site-packages (from llama-index-llms-openai) (0.13.3)\n",
      "Requirement already satisfied: openai<2,>=1.81.0 in d:\\training\\faa-training\\beyond-the-prompt-practical-rag-for-real-world-ai\\rag-systems-using-llamaindex\\rag-system-using-lamaindex\\.training-env\\lib\\site-packages (from llama-index-llms-openai) (1.102.0)\n",
      "Collecting anthropic>=0.62.0 (from anthropic[bedrock,vertex]>=0.62.0->llama-index-llms-anthropic)\n",
      "  Downloading anthropic-0.64.0-py3-none-any.whl.metadata (27 kB)\n",
      "Requirement already satisfied: anyio<5,>=3.5.0 in d:\\training\\faa-training\\beyond-the-prompt-practical-rag-for-real-world-ai\\rag-systems-using-llamaindex\\rag-system-using-lamaindex\\.training-env\\lib\\site-packages (from anthropic>=0.62.0->anthropic[bedrock,vertex]>=0.62.0->llama-index-llms-anthropic) (4.10.0)\n",
      "Requirement already satisfied: distro<2,>=1.7.0 in d:\\training\\faa-training\\beyond-the-prompt-practical-rag-for-real-world-ai\\rag-systems-using-llamaindex\\rag-system-using-lamaindex\\.training-env\\lib\\site-packages (from anthropic>=0.62.0->anthropic[bedrock,vertex]>=0.62.0->llama-index-llms-anthropic) (1.9.0)\n",
      "Requirement already satisfied: httpx<1,>=0.25.0 in d:\\training\\faa-training\\beyond-the-prompt-practical-rag-for-real-world-ai\\rag-systems-using-llamaindex\\rag-system-using-lamaindex\\.training-env\\lib\\site-packages (from anthropic>=0.62.0->anthropic[bedrock,vertex]>=0.62.0->llama-index-llms-anthropic) (0.28.1)\n",
      "Requirement already satisfied: jiter<1,>=0.4.0 in d:\\training\\faa-training\\beyond-the-prompt-practical-rag-for-real-world-ai\\rag-systems-using-llamaindex\\rag-system-using-lamaindex\\.training-env\\lib\\site-packages (from anthropic>=0.62.0->anthropic[bedrock,vertex]>=0.62.0->llama-index-llms-anthropic) (0.10.0)\n",
      "Requirement already satisfied: pydantic<3,>=1.9.0 in d:\\training\\faa-training\\beyond-the-prompt-practical-rag-for-real-world-ai\\rag-systems-using-llamaindex\\rag-system-using-lamaindex\\.training-env\\lib\\site-packages (from anthropic>=0.62.0->anthropic[bedrock,vertex]>=0.62.0->llama-index-llms-anthropic) (2.11.7)\n",
      "Requirement already satisfied: sniffio in d:\\training\\faa-training\\beyond-the-prompt-practical-rag-for-real-world-ai\\rag-systems-using-llamaindex\\rag-system-using-lamaindex\\.training-env\\lib\\site-packages (from anthropic>=0.62.0->anthropic[bedrock,vertex]>=0.62.0->llama-index-llms-anthropic) (1.3.1)\n",
      "Requirement already satisfied: typing-extensions<5,>=4.10 in d:\\training\\faa-training\\beyond-the-prompt-practical-rag-for-real-world-ai\\rag-systems-using-llamaindex\\rag-system-using-lamaindex\\.training-env\\lib\\site-packages (from anthropic>=0.62.0->anthropic[bedrock,vertex]>=0.62.0->llama-index-llms-anthropic) (4.14.1)\n",
      "Collecting boto3>=1.28.57 (from anthropic[bedrock,vertex]>=0.62.0->llama-index-llms-anthropic)\n",
      "  Downloading boto3-1.40.20-py3-none-any.whl.metadata (6.7 kB)\n",
      "Collecting botocore>=1.31.57 (from anthropic[bedrock,vertex]>=0.62.0->llama-index-llms-anthropic)\n",
      "  Downloading botocore-1.40.20-py3-none-any.whl.metadata (5.7 kB)\n",
      "Requirement already satisfied: google-auth<3,>=2 in d:\\training\\faa-training\\beyond-the-prompt-practical-rag-for-real-world-ai\\rag-systems-using-llamaindex\\rag-system-using-lamaindex\\.training-env\\lib\\site-packages (from google-auth[requests]<3,>=2; extra == \"vertex\"->anthropic[bedrock,vertex]>=0.62.0->llama-index-llms-anthropic) (2.40.3)\n",
      "Requirement already satisfied: aiohttp<4,>=3.8.6 in d:\\training\\faa-training\\beyond-the-prompt-practical-rag-for-real-world-ai\\rag-systems-using-llamaindex\\rag-system-using-lamaindex\\.training-env\\lib\\site-packages (from llama-index-core<0.14,>=0.13.0->llama-index-llms-openai) (3.12.15)\n",
      "Requirement already satisfied: aiosqlite in d:\\training\\faa-training\\beyond-the-prompt-practical-rag-for-real-world-ai\\rag-systems-using-llamaindex\\rag-system-using-lamaindex\\.training-env\\lib\\site-packages (from llama-index-core<0.14,>=0.13.0->llama-index-llms-openai) (0.21.0)\n",
      "Requirement already satisfied: banks<3,>=2.2.0 in d:\\training\\faa-training\\beyond-the-prompt-practical-rag-for-real-world-ai\\rag-systems-using-llamaindex\\rag-system-using-lamaindex\\.training-env\\lib\\site-packages (from llama-index-core<0.14,>=0.13.0->llama-index-llms-openai) (2.2.0)\n",
      "Requirement already satisfied: dataclasses-json in d:\\training\\faa-training\\beyond-the-prompt-practical-rag-for-real-world-ai\\rag-systems-using-llamaindex\\rag-system-using-lamaindex\\.training-env\\lib\\site-packages (from llama-index-core<0.14,>=0.13.0->llama-index-llms-openai) (0.6.7)\n",
      "Requirement already satisfied: deprecated>=1.2.9.3 in d:\\training\\faa-training\\beyond-the-prompt-practical-rag-for-real-world-ai\\rag-systems-using-llamaindex\\rag-system-using-lamaindex\\.training-env\\lib\\site-packages (from llama-index-core<0.14,>=0.13.0->llama-index-llms-openai) (1.2.18)\n",
      "Requirement already satisfied: dirtyjson<2,>=1.0.8 in d:\\training\\faa-training\\beyond-the-prompt-practical-rag-for-real-world-ai\\rag-systems-using-llamaindex\\rag-system-using-lamaindex\\.training-env\\lib\\site-packages (from llama-index-core<0.14,>=0.13.0->llama-index-llms-openai) (1.0.8)\n",
      "Requirement already satisfied: filetype<2,>=1.2.0 in d:\\training\\faa-training\\beyond-the-prompt-practical-rag-for-real-world-ai\\rag-systems-using-llamaindex\\rag-system-using-lamaindex\\.training-env\\lib\\site-packages (from llama-index-core<0.14,>=0.13.0->llama-index-llms-openai) (1.2.0)\n",
      "Requirement already satisfied: fsspec>=2023.5.0 in d:\\training\\faa-training\\beyond-the-prompt-practical-rag-for-real-world-ai\\rag-systems-using-llamaindex\\rag-system-using-lamaindex\\.training-env\\lib\\site-packages (from llama-index-core<0.14,>=0.13.0->llama-index-llms-openai) (2025.7.0)\n",
      "Requirement already satisfied: llama-index-workflows<2,>=1.0.1 in d:\\training\\faa-training\\beyond-the-prompt-practical-rag-for-real-world-ai\\rag-systems-using-llamaindex\\rag-system-using-lamaindex\\.training-env\\lib\\site-packages (from llama-index-core<0.14,>=0.13.0->llama-index-llms-openai) (1.3.0)\n",
      "Requirement already satisfied: nest-asyncio<2,>=1.5.8 in d:\\training\\faa-training\\beyond-the-prompt-practical-rag-for-real-world-ai\\rag-systems-using-llamaindex\\rag-system-using-lamaindex\\.training-env\\lib\\site-packages (from llama-index-core<0.14,>=0.13.0->llama-index-llms-openai) (1.6.0)\n",
      "Requirement already satisfied: networkx>=3.0 in d:\\training\\faa-training\\beyond-the-prompt-practical-rag-for-real-world-ai\\rag-systems-using-llamaindex\\rag-system-using-lamaindex\\.training-env\\lib\\site-packages (from llama-index-core<0.14,>=0.13.0->llama-index-llms-openai) (3.5)\n",
      "Requirement already satisfied: nltk>3.8.1 in d:\\training\\faa-training\\beyond-the-prompt-practical-rag-for-real-world-ai\\rag-systems-using-llamaindex\\rag-system-using-lamaindex\\.training-env\\lib\\site-packages (from llama-index-core<0.14,>=0.13.0->llama-index-llms-openai) (3.9.1)\n",
      "Requirement already satisfied: numpy in d:\\training\\faa-training\\beyond-the-prompt-practical-rag-for-real-world-ai\\rag-systems-using-llamaindex\\rag-system-using-lamaindex\\.training-env\\lib\\site-packages (from llama-index-core<0.14,>=0.13.0->llama-index-llms-openai) (2.3.2)\n",
      "Requirement already satisfied: pillow>=9.0.0 in d:\\training\\faa-training\\beyond-the-prompt-practical-rag-for-real-world-ai\\rag-systems-using-llamaindex\\rag-system-using-lamaindex\\.training-env\\lib\\site-packages (from llama-index-core<0.14,>=0.13.0->llama-index-llms-openai) (11.3.0)\n",
      "Requirement already satisfied: platformdirs in d:\\training\\faa-training\\beyond-the-prompt-practical-rag-for-real-world-ai\\rag-systems-using-llamaindex\\rag-system-using-lamaindex\\.training-env\\lib\\site-packages (from llama-index-core<0.14,>=0.13.0->llama-index-llms-openai) (4.4.0)\n",
      "Requirement already satisfied: pyyaml>=6.0.1 in d:\\training\\faa-training\\beyond-the-prompt-practical-rag-for-real-world-ai\\rag-systems-using-llamaindex\\rag-system-using-lamaindex\\.training-env\\lib\\site-packages (from llama-index-core<0.14,>=0.13.0->llama-index-llms-openai) (6.0.2)\n",
      "Requirement already satisfied: requests>=2.31.0 in d:\\training\\faa-training\\beyond-the-prompt-practical-rag-for-real-world-ai\\rag-systems-using-llamaindex\\rag-system-using-lamaindex\\.training-env\\lib\\site-packages (from llama-index-core<0.14,>=0.13.0->llama-index-llms-openai) (2.32.5)\n",
      "Requirement already satisfied: setuptools>=80.9.0 in d:\\training\\faa-training\\beyond-the-prompt-practical-rag-for-real-world-ai\\rag-systems-using-llamaindex\\rag-system-using-lamaindex\\.training-env\\lib\\site-packages (from llama-index-core<0.14,>=0.13.0->llama-index-llms-openai) (80.9.0)\n",
      "Requirement already satisfied: sqlalchemy>=1.4.49 in d:\\training\\faa-training\\beyond-the-prompt-practical-rag-for-real-world-ai\\rag-systems-using-llamaindex\\rag-system-using-lamaindex\\.training-env\\lib\\site-packages (from sqlalchemy[asyncio]>=1.4.49->llama-index-core<0.14,>=0.13.0->llama-index-llms-openai) (2.0.43)\n",
      "Requirement already satisfied: tenacity!=8.4.0,<10.0.0,>=8.2.0 in d:\\training\\faa-training\\beyond-the-prompt-practical-rag-for-real-world-ai\\rag-systems-using-llamaindex\\rag-system-using-lamaindex\\.training-env\\lib\\site-packages (from llama-index-core<0.14,>=0.13.0->llama-index-llms-openai) (9.1.2)\n",
      "Requirement already satisfied: tiktoken>=0.7.0 in d:\\training\\faa-training\\beyond-the-prompt-practical-rag-for-real-world-ai\\rag-systems-using-llamaindex\\rag-system-using-lamaindex\\.training-env\\lib\\site-packages (from llama-index-core<0.14,>=0.13.0->llama-index-llms-openai) (0.11.0)\n",
      "Requirement already satisfied: tqdm<5,>=4.66.1 in d:\\training\\faa-training\\beyond-the-prompt-practical-rag-for-real-world-ai\\rag-systems-using-llamaindex\\rag-system-using-lamaindex\\.training-env\\lib\\site-packages (from llama-index-core<0.14,>=0.13.0->llama-index-llms-openai) (4.67.1)\n",
      "Requirement already satisfied: typing-inspect>=0.8.0 in d:\\training\\faa-training\\beyond-the-prompt-practical-rag-for-real-world-ai\\rag-systems-using-llamaindex\\rag-system-using-lamaindex\\.training-env\\lib\\site-packages (from llama-index-core<0.14,>=0.13.0->llama-index-llms-openai) (0.9.0)\n",
      "Requirement already satisfied: wrapt in d:\\training\\faa-training\\beyond-the-prompt-practical-rag-for-real-world-ai\\rag-systems-using-llamaindex\\rag-system-using-lamaindex\\.training-env\\lib\\site-packages (from llama-index-core<0.14,>=0.13.0->llama-index-llms-openai) (1.17.3)\n",
      "Requirement already satisfied: aiohappyeyeballs>=2.5.0 in d:\\training\\faa-training\\beyond-the-prompt-practical-rag-for-real-world-ai\\rag-systems-using-llamaindex\\rag-system-using-lamaindex\\.training-env\\lib\\site-packages (from aiohttp<4,>=3.8.6->llama-index-core<0.14,>=0.13.0->llama-index-llms-openai) (2.6.1)\n",
      "Requirement already satisfied: aiosignal>=1.4.0 in d:\\training\\faa-training\\beyond-the-prompt-practical-rag-for-real-world-ai\\rag-systems-using-llamaindex\\rag-system-using-lamaindex\\.training-env\\lib\\site-packages (from aiohttp<4,>=3.8.6->llama-index-core<0.14,>=0.13.0->llama-index-llms-openai) (1.4.0)\n",
      "Requirement already satisfied: attrs>=17.3.0 in d:\\training\\faa-training\\beyond-the-prompt-practical-rag-for-real-world-ai\\rag-systems-using-llamaindex\\rag-system-using-lamaindex\\.training-env\\lib\\site-packages (from aiohttp<4,>=3.8.6->llama-index-core<0.14,>=0.13.0->llama-index-llms-openai) (25.3.0)\n",
      "Requirement already satisfied: frozenlist>=1.1.1 in d:\\training\\faa-training\\beyond-the-prompt-practical-rag-for-real-world-ai\\rag-systems-using-llamaindex\\rag-system-using-lamaindex\\.training-env\\lib\\site-packages (from aiohttp<4,>=3.8.6->llama-index-core<0.14,>=0.13.0->llama-index-llms-openai) (1.7.0)\n",
      "Requirement already satisfied: multidict<7.0,>=4.5 in d:\\training\\faa-training\\beyond-the-prompt-practical-rag-for-real-world-ai\\rag-systems-using-llamaindex\\rag-system-using-lamaindex\\.training-env\\lib\\site-packages (from aiohttp<4,>=3.8.6->llama-index-core<0.14,>=0.13.0->llama-index-llms-openai) (6.6.4)\n",
      "Requirement already satisfied: propcache>=0.2.0 in d:\\training\\faa-training\\beyond-the-prompt-practical-rag-for-real-world-ai\\rag-systems-using-llamaindex\\rag-system-using-lamaindex\\.training-env\\lib\\site-packages (from aiohttp<4,>=3.8.6->llama-index-core<0.14,>=0.13.0->llama-index-llms-openai) (0.3.2)\n",
      "Requirement already satisfied: yarl<2.0,>=1.17.0 in d:\\training\\faa-training\\beyond-the-prompt-practical-rag-for-real-world-ai\\rag-systems-using-llamaindex\\rag-system-using-lamaindex\\.training-env\\lib\\site-packages (from aiohttp<4,>=3.8.6->llama-index-core<0.14,>=0.13.0->llama-index-llms-openai) (1.20.1)\n",
      "Requirement already satisfied: idna>=2.8 in d:\\training\\faa-training\\beyond-the-prompt-practical-rag-for-real-world-ai\\rag-systems-using-llamaindex\\rag-system-using-lamaindex\\.training-env\\lib\\site-packages (from anyio<5,>=3.5.0->anthropic>=0.62.0->anthropic[bedrock,vertex]>=0.62.0->llama-index-llms-anthropic) (3.10)\n",
      "Requirement already satisfied: griffe in d:\\training\\faa-training\\beyond-the-prompt-practical-rag-for-real-world-ai\\rag-systems-using-llamaindex\\rag-system-using-lamaindex\\.training-env\\lib\\site-packages (from banks<3,>=2.2.0->llama-index-core<0.14,>=0.13.0->llama-index-llms-openai) (1.13.0)\n",
      "Requirement already satisfied: jinja2 in d:\\training\\faa-training\\beyond-the-prompt-practical-rag-for-real-world-ai\\rag-systems-using-llamaindex\\rag-system-using-lamaindex\\.training-env\\lib\\site-packages (from banks<3,>=2.2.0->llama-index-core<0.14,>=0.13.0->llama-index-llms-openai) (3.1.6)\n",
      "Collecting jmespath<2.0.0,>=0.7.1 (from boto3>=1.28.57->anthropic[bedrock,vertex]>=0.62.0->llama-index-llms-anthropic)\n",
      "  Using cached jmespath-1.0.1-py3-none-any.whl.metadata (7.6 kB)\n",
      "Collecting s3transfer<0.14.0,>=0.13.0 (from boto3>=1.28.57->anthropic[bedrock,vertex]>=0.62.0->llama-index-llms-anthropic)\n",
      "  Downloading s3transfer-0.13.1-py3-none-any.whl.metadata (1.7 kB)\n",
      "Requirement already satisfied: python-dateutil<3.0.0,>=2.1 in d:\\training\\faa-training\\beyond-the-prompt-practical-rag-for-real-world-ai\\rag-systems-using-llamaindex\\rag-system-using-lamaindex\\.training-env\\lib\\site-packages (from botocore>=1.31.57->anthropic[bedrock,vertex]>=0.62.0->llama-index-llms-anthropic) (2.9.0.post0)\n",
      "Requirement already satisfied: urllib3!=2.2.0,<3,>=1.25.4 in d:\\training\\faa-training\\beyond-the-prompt-practical-rag-for-real-world-ai\\rag-systems-using-llamaindex\\rag-system-using-lamaindex\\.training-env\\lib\\site-packages (from botocore>=1.31.57->anthropic[bedrock,vertex]>=0.62.0->llama-index-llms-anthropic) (2.5.0)\n",
      "Requirement already satisfied: cachetools<6.0,>=2.0.0 in d:\\training\\faa-training\\beyond-the-prompt-practical-rag-for-real-world-ai\\rag-systems-using-llamaindex\\rag-system-using-lamaindex\\.training-env\\lib\\site-packages (from google-auth<3,>=2->google-auth[requests]<3,>=2; extra == \"vertex\"->anthropic[bedrock,vertex]>=0.62.0->llama-index-llms-anthropic) (5.5.2)\n",
      "Requirement already satisfied: pyasn1-modules>=0.2.1 in d:\\training\\faa-training\\beyond-the-prompt-practical-rag-for-real-world-ai\\rag-systems-using-llamaindex\\rag-system-using-lamaindex\\.training-env\\lib\\site-packages (from google-auth<3,>=2->google-auth[requests]<3,>=2; extra == \"vertex\"->anthropic[bedrock,vertex]>=0.62.0->llama-index-llms-anthropic) (0.4.2)\n",
      "Requirement already satisfied: rsa<5,>=3.1.4 in d:\\training\\faa-training\\beyond-the-prompt-practical-rag-for-real-world-ai\\rag-systems-using-llamaindex\\rag-system-using-lamaindex\\.training-env\\lib\\site-packages (from google-auth<3,>=2->google-auth[requests]<3,>=2; extra == \"vertex\"->anthropic[bedrock,vertex]>=0.62.0->llama-index-llms-anthropic) (4.9.1)\n",
      "Requirement already satisfied: certifi in d:\\training\\faa-training\\beyond-the-prompt-practical-rag-for-real-world-ai\\rag-systems-using-llamaindex\\rag-system-using-lamaindex\\.training-env\\lib\\site-packages (from httpx<1,>=0.25.0->anthropic>=0.62.0->anthropic[bedrock,vertex]>=0.62.0->llama-index-llms-anthropic) (2025.8.3)\n",
      "Requirement already satisfied: httpcore==1.* in d:\\training\\faa-training\\beyond-the-prompt-practical-rag-for-real-world-ai\\rag-systems-using-llamaindex\\rag-system-using-lamaindex\\.training-env\\lib\\site-packages (from httpx<1,>=0.25.0->anthropic>=0.62.0->anthropic[bedrock,vertex]>=0.62.0->llama-index-llms-anthropic) (1.0.9)\n",
      "Requirement already satisfied: h11>=0.16 in d:\\training\\faa-training\\beyond-the-prompt-practical-rag-for-real-world-ai\\rag-systems-using-llamaindex\\rag-system-using-lamaindex\\.training-env\\lib\\site-packages (from httpcore==1.*->httpx<1,>=0.25.0->anthropic>=0.62.0->anthropic[bedrock,vertex]>=0.62.0->llama-index-llms-anthropic) (0.16.0)\n",
      "Requirement already satisfied: llama-index-instrumentation>=0.1.0 in d:\\training\\faa-training\\beyond-the-prompt-practical-rag-for-real-world-ai\\rag-systems-using-llamaindex\\rag-system-using-lamaindex\\.training-env\\lib\\site-packages (from llama-index-workflows<2,>=1.0.1->llama-index-core<0.14,>=0.13.0->llama-index-llms-openai) (0.4.0)\n",
      "Requirement already satisfied: click in d:\\training\\faa-training\\beyond-the-prompt-practical-rag-for-real-world-ai\\rag-systems-using-llamaindex\\rag-system-using-lamaindex\\.training-env\\lib\\site-packages (from nltk>3.8.1->llama-index-core<0.14,>=0.13.0->llama-index-llms-openai) (8.2.1)\n",
      "Requirement already satisfied: joblib in d:\\training\\faa-training\\beyond-the-prompt-practical-rag-for-real-world-ai\\rag-systems-using-llamaindex\\rag-system-using-lamaindex\\.training-env\\lib\\site-packages (from nltk>3.8.1->llama-index-core<0.14,>=0.13.0->llama-index-llms-openai) (1.5.2)\n",
      "Requirement already satisfied: regex>=2021.8.3 in d:\\training\\faa-training\\beyond-the-prompt-practical-rag-for-real-world-ai\\rag-systems-using-llamaindex\\rag-system-using-lamaindex\\.training-env\\lib\\site-packages (from nltk>3.8.1->llama-index-core<0.14,>=0.13.0->llama-index-llms-openai) (2025.7.34)\n",
      "Requirement already satisfied: annotated-types>=0.6.0 in d:\\training\\faa-training\\beyond-the-prompt-practical-rag-for-real-world-ai\\rag-systems-using-llamaindex\\rag-system-using-lamaindex\\.training-env\\lib\\site-packages (from pydantic<3,>=1.9.0->anthropic>=0.62.0->anthropic[bedrock,vertex]>=0.62.0->llama-index-llms-anthropic) (0.7.0)\n",
      "Requirement already satisfied: pydantic-core==2.33.2 in d:\\training\\faa-training\\beyond-the-prompt-practical-rag-for-real-world-ai\\rag-systems-using-llamaindex\\rag-system-using-lamaindex\\.training-env\\lib\\site-packages (from pydantic<3,>=1.9.0->anthropic>=0.62.0->anthropic[bedrock,vertex]>=0.62.0->llama-index-llms-anthropic) (2.33.2)\n",
      "Requirement already satisfied: typing-inspection>=0.4.0 in d:\\training\\faa-training\\beyond-the-prompt-practical-rag-for-real-world-ai\\rag-systems-using-llamaindex\\rag-system-using-lamaindex\\.training-env\\lib\\site-packages (from pydantic<3,>=1.9.0->anthropic>=0.62.0->anthropic[bedrock,vertex]>=0.62.0->llama-index-llms-anthropic) (0.4.1)\n",
      "Requirement already satisfied: charset_normalizer<4,>=2 in d:\\training\\faa-training\\beyond-the-prompt-practical-rag-for-real-world-ai\\rag-systems-using-llamaindex\\rag-system-using-lamaindex\\.training-env\\lib\\site-packages (from requests>=2.31.0->llama-index-core<0.14,>=0.13.0->llama-index-llms-openai) (3.4.3)\n",
      "Requirement already satisfied: greenlet>=1 in d:\\training\\faa-training\\beyond-the-prompt-practical-rag-for-real-world-ai\\rag-systems-using-llamaindex\\rag-system-using-lamaindex\\.training-env\\lib\\site-packages (from sqlalchemy>=1.4.49->sqlalchemy[asyncio]>=1.4.49->llama-index-core<0.14,>=0.13.0->llama-index-llms-openai) (3.2.4)\n",
      "Requirement already satisfied: colorama in d:\\training\\faa-training\\beyond-the-prompt-practical-rag-for-real-world-ai\\rag-systems-using-llamaindex\\rag-system-using-lamaindex\\.training-env\\lib\\site-packages (from tqdm<5,>=4.66.1->llama-index-core<0.14,>=0.13.0->llama-index-llms-openai) (0.4.6)\n",
      "Requirement already satisfied: mypy-extensions>=0.3.0 in d:\\training\\faa-training\\beyond-the-prompt-practical-rag-for-real-world-ai\\rag-systems-using-llamaindex\\rag-system-using-lamaindex\\.training-env\\lib\\site-packages (from typing-inspect>=0.8.0->llama-index-core<0.14,>=0.13.0->llama-index-llms-openai) (1.1.0)\n",
      "Requirement already satisfied: marshmallow<4.0.0,>=3.18.0 in d:\\training\\faa-training\\beyond-the-prompt-practical-rag-for-real-world-ai\\rag-systems-using-llamaindex\\rag-system-using-lamaindex\\.training-env\\lib\\site-packages (from dataclasses-json->llama-index-core<0.14,>=0.13.0->llama-index-llms-openai) (3.26.1)\n",
      "Requirement already satisfied: packaging>=17.0 in d:\\training\\faa-training\\beyond-the-prompt-practical-rag-for-real-world-ai\\rag-systems-using-llamaindex\\rag-system-using-lamaindex\\.training-env\\lib\\site-packages (from marshmallow<4.0.0,>=3.18.0->dataclasses-json->llama-index-core<0.14,>=0.13.0->llama-index-llms-openai) (24.2)\n",
      "Requirement already satisfied: pyasn1<0.7.0,>=0.6.1 in d:\\training\\faa-training\\beyond-the-prompt-practical-rag-for-real-world-ai\\rag-systems-using-llamaindex\\rag-system-using-lamaindex\\.training-env\\lib\\site-packages (from pyasn1-modules>=0.2.1->google-auth<3,>=2->google-auth[requests]<3,>=2; extra == \"vertex\"->anthropic[bedrock,vertex]>=0.62.0->llama-index-llms-anthropic) (0.6.1)\n",
      "Requirement already satisfied: six>=1.5 in d:\\training\\faa-training\\beyond-the-prompt-practical-rag-for-real-world-ai\\rag-systems-using-llamaindex\\rag-system-using-lamaindex\\.training-env\\lib\\site-packages (from python-dateutil<3.0.0,>=2.1->botocore>=1.31.57->anthropic[bedrock,vertex]>=0.62.0->llama-index-llms-anthropic) (1.17.0)\n",
      "Requirement already satisfied: MarkupSafe>=2.0 in d:\\training\\faa-training\\beyond-the-prompt-practical-rag-for-real-world-ai\\rag-systems-using-llamaindex\\rag-system-using-lamaindex\\.training-env\\lib\\site-packages (from jinja2->banks<3,>=2.2.0->llama-index-core<0.14,>=0.13.0->llama-index-llms-openai) (3.0.2)\n",
      "Downloading llama_index_llms_anthropic-0.8.5-py3-none-any.whl (12 kB)\n",
      "Downloading anthropic-0.64.0-py3-none-any.whl (297 kB)\n",
      "Downloading boto3-1.40.20-py3-none-any.whl (139 kB)\n",
      "Downloading botocore-1.40.20-py3-none-any.whl (14.0 MB)\n",
      "   ---------------------------------------- 0.0/14.0 MB ? eta -:--:--\n",
      "   -- ------------------------------------- 0.8/14.0 MB 5.6 MB/s eta 0:00:03\n",
      "   ----- ---------------------------------- 2.1/14.0 MB 5.6 MB/s eta 0:00:03\n",
      "   --------- ------------------------------ 3.4/14.0 MB 5.8 MB/s eta 0:00:02\n",
      "   ------------ --------------------------- 4.5/14.0 MB 5.7 MB/s eta 0:00:02\n",
      "   ---------------- ----------------------- 5.8/14.0 MB 5.6 MB/s eta 0:00:02\n",
      "   ------------------- -------------------- 6.8/14.0 MB 5.4 MB/s eta 0:00:02\n",
      "   ----------------------- ---------------- 8.1/14.0 MB 5.5 MB/s eta 0:00:02\n",
      "   -------------------------- ------------- 9.4/14.0 MB 5.6 MB/s eta 0:00:01\n",
      "   ----------------------------- ---------- 10.5/14.0 MB 5.5 MB/s eta 0:00:01\n",
      "   -------------------------------- ------- 11.5/14.0 MB 5.5 MB/s eta 0:00:01\n",
      "   ----------------------------------- ---- 12.6/14.0 MB 5.5 MB/s eta 0:00:01\n",
      "   ---------------------------------------  13.9/14.0 MB 5.5 MB/s eta 0:00:01\n",
      "   ---------------------------------------- 14.0/14.0 MB 5.4 MB/s eta 0:00:00\n",
      "Using cached jmespath-1.0.1-py3-none-any.whl (20 kB)\n",
      "Downloading s3transfer-0.13.1-py3-none-any.whl (85 kB)\n",
      "Installing collected packages: jmespath, botocore, s3transfer, anthropic, boto3, llama-index-llms-anthropic\n",
      "Successfully installed anthropic-0.64.0 boto3-1.40.20 botocore-1.40.20 jmespath-1.0.1 llama-index-llms-anthropic-0.8.5 s3transfer-0.13.1\n"
     ]
    },
    {
     "name": "stderr",
     "output_type": "stream",
     "text": [
      "\n",
      "[notice] A new release of pip is available: 25.0.1 -> 25.2\n",
      "[notice] To update, run: python.exe -m pip install --upgrade pip\n"
     ]
    }
   ],
   "source": [
    "!pip install llama-index-llms-openai llama-index-llms-anthropic"
   ]
  },
  {
   "cell_type": "code",
   "execution_count": 2,
   "metadata": {
    "id": "cKlax-updNW-"
   },
   "outputs": [],
   "source": [
    "import os"
   ]
  },
  {
   "cell_type": "code",
   "execution_count": 3,
   "metadata": {
    "id": "cKlax-updNW-"
   },
   "outputs": [
    {
     "data": {
      "text/plain": [
       "True"
      ]
     },
     "execution_count": 3,
     "metadata": {},
     "output_type": "execute_result"
    }
   ],
   "source": [
    "from dotenv import load_dotenv, find_dotenv\n",
    "load_dotenv('D:/Training/FAA-Training/Beyond-the-Prompt-Practical-RAG-for-Real-World-AI/RAG-systems-using-LlamaIndex/RAG-System-Using-LamaIndex/.env')"
   ]
  },
  {
   "cell_type": "code",
   "execution_count": 4,
   "metadata": {},
   "outputs": [],
   "source": [
    "OPENAI_API_KEY = os.environ[\"OPENAI_API_KEY\"]\n",
    "GOOGLE_API_KEY = os.environ['GOOGLE_API_KEY']\n",
    "HUGGINGFACE_API_KEY = os.environ['HUGGINGFACE_API_KEY']\n",
    "COHERE_API_KEY = os.environ[\"COHERE_API_KEY\"]"
   ]
  },
  {
   "cell_type": "markdown",
   "metadata": {
    "id": "8il00G0w6HBA"
   },
   "source": [
    "# OpenAI's LLM"
   ]
  },
  {
   "cell_type": "code",
   "execution_count": 5,
   "metadata": {
    "colab": {
     "base_uri": "https://localhost:8080/",
     "height": 488
    },
    "id": "yxPcwFUQ6DKY",
    "outputId": "49910bb8-574c-4119-aebb-33f66d51888c"
   },
   "outputs": [],
   "source": [
    "from llama_index.llms.openai import OpenAI\n",
    "from llama_index.core.llms import ChatMessage"
   ]
  },
  {
   "cell_type": "code",
   "execution_count": 6,
   "metadata": {},
   "outputs": [],
   "source": [
    "llm = OpenAI(model='gpt-4o-mini') "
   ]
  },
  {
   "cell_type": "markdown",
   "metadata": {
    "id": "vN7jmOuH7SBs"
   },
   "source": [
    "### Call complete with a prompt"
   ]
  },
  {
   "cell_type": "code",
   "execution_count": 7,
   "metadata": {
    "colab": {
     "base_uri": "https://localhost:8080/",
     "height": 197
    },
    "id": "yREsde0o7NPT",
    "outputId": "d22ae3d3-3301-41fc-ceb3-305472b668f3"
   },
   "outputs": [
    {
     "name": "stdout",
     "output_type": "stream",
     "text": [
      "Subject: Welcome to the Analytics Vidhya Community!\n",
      "\n",
      "Dear [Community Member's Name],\n",
      "\n",
      "We are thrilled to welcome you to the Analytics Vidhya community! 🎉\n",
      "\n",
      "As a member of our vibrant community, you are now part of a diverse group of data enthusiasts, professionals, and learners who share a passion for analytics, data science, and artificial intelligence. Whether you are just starting your journey or are a seasoned expert, there’s something for everyone here.\n",
      "\n",
      "**What to Expect:**\n",
      "\n",
      "- **Engaging Content:** Access a wealth of articles, tutorials, and resources that cover the latest trends and techniques in analytics and data science.\n",
      "- **Networking Opportunities:** Connect with like-minded individuals, industry experts, and mentors who can help you grow and learn.\n",
      "- **Competitions and Challenges:** Participate in exciting competitions to test your skills and gain practical experience.\n",
      "- **Webinars and Workshops:** Join our live sessions to learn from industry leaders and enhance your knowledge.\n",
      "\n",
      "**Get Involved:**\n",
      "\n",
      "We encourage you to dive right in! Here are a few ways to get started:\n",
      "\n",
      "1. **Introduce Yourself:** Share a bit about yourself in our community forum. Let us know your interests and what you hope to achieve.\n",
      "2. **Explore Resources:** Check out our extensive library of articles and tutorials to enhance your skills.\n",
      "3. **Join Discussions:** Participate in ongoing discussions, ask questions, and share your insights with fellow members.\n",
      "\n",
      "We believe that collaboration and sharing knowledge are key to growth, and we are excited to see how you will contribute to our community.\n",
      "\n",
      "If you have any questions or need assistance, feel free to reach out to us at [support email]. We’re here to help!\n",
      "\n",
      "Once again, welcome aboard! We look forward to seeing you thrive in the Analytics Vidhya community.\n",
      "\n",
      "Best Regards,\n",
      "\n",
      "[Your Name]  \n",
      "[Your Position]  \n",
      "Analytics Vidhya Team  \n",
      "[Website URL]  \n",
      "[Social Media Links]  \n",
      "\n",
      "---\n",
      "\n",
      "Feel free to customize any part of this email to better fit your community's tone and style!\n"
     ]
    }
   ],
   "source": [
    "# Use the model to complete a prompt\n",
    "response = llm.complete(\"Write a welcome mail to the community members of Analytics Vidhya.\")\n",
    "\n",
    "# Print the generated response\n",
    "print(response)"
   ]
  },
  {
   "cell_type": "code",
   "execution_count": 8,
   "metadata": {},
   "outputs": [
    {
     "data": {
      "text/plain": [
       "ChatCompletion(id='chatcmpl-C9mM9dkU94RTunxX02fzlvteolMJJ', choices=[Choice(finish_reason='stop', index=0, logprobs=None, message=ChatCompletionMessage(content=\"Subject: Welcome to the Analytics Vidhya Community!\\n\\nDear [Community Member's Name],\\n\\nWe are thrilled to welcome you to the Analytics Vidhya community! 🎉\\n\\nAs a member of our vibrant community, you are now part of a diverse group of data enthusiasts, professionals, and learners who share a passion for analytics, data science, and artificial intelligence. Whether you are just starting your journey or are a seasoned expert, there’s something for everyone here.\\n\\n**What to Expect:**\\n\\n- **Engaging Content:** Access a wealth of articles, tutorials, and resources that cover the latest trends and techniques in analytics and data science.\\n- **Networking Opportunities:** Connect with like-minded individuals, industry experts, and mentors who can help you grow and learn.\\n- **Competitions and Challenges:** Participate in exciting competitions to test your skills and gain practical experience.\\n- **Webinars and Workshops:** Join our live sessions to learn from industry leaders and enhance your knowledge.\\n\\n**Get Involved:**\\n\\nWe encourage you to dive right in! Here are a few ways to get started:\\n\\n1. **Introduce Yourself:** Share a bit about yourself in our community forum. Let us know your interests and what you hope to achieve.\\n2. **Explore Resources:** Check out our extensive library of articles and tutorials to enhance your skills.\\n3. **Join Discussions:** Participate in ongoing discussions, ask questions, and share your insights with fellow members.\\n\\nWe believe that collaboration and sharing knowledge are key to growth, and we are excited to see how you will contribute to our community.\\n\\nIf you have any questions or need assistance, feel free to reach out to us at [support email]. We’re here to help!\\n\\nOnce again, welcome aboard! We look forward to seeing you thrive in the Analytics Vidhya community.\\n\\nBest Regards,\\n\\n[Your Name]  \\n[Your Position]  \\nAnalytics Vidhya Team  \\n[Website URL]  \\n[Social Media Links]  \\n\\n---\\n\\nFeel free to customize any part of this email to better fit your community's tone and style!\", refusal=None, role='assistant', annotations=[], audio=None, function_call=None, tool_calls=None))], created=1756446869, model='gpt-4o-mini-2024-07-18', object='chat.completion', service_tier='default', system_fingerprint='fp_560af6e559', usage=CompletionUsage(completion_tokens=410, prompt_tokens=21, total_tokens=431, completion_tokens_details=CompletionTokensDetails(accepted_prediction_tokens=0, audio_tokens=0, reasoning_tokens=0, rejected_prediction_tokens=0), prompt_tokens_details=PromptTokensDetails(audio_tokens=0, cached_tokens=0)))"
      ]
     },
     "execution_count": 8,
     "metadata": {},
     "output_type": "execute_result"
    }
   ],
   "source": [
    "# raw response from the LLM\n",
    "response.raw"
   ]
  },
  {
   "cell_type": "code",
   "execution_count": 9,
   "metadata": {},
   "outputs": [
    {
     "data": {
      "text/plain": [
       "openai.types.chat.chat_completion.ChatCompletion"
      ]
     },
     "execution_count": 9,
     "metadata": {},
     "output_type": "execute_result"
    }
   ],
   "source": [
    "# get the raw dict keys from the response\n",
    "type(response.raw)"
   ]
  },
  {
   "cell_type": "code",
   "execution_count": 40,
   "metadata": {},
   "outputs": [
    {
     "data": {
      "text/plain": [
       "dict_keys(['id', 'choices', 'created', 'model', 'object', 'service_tier', 'system_fingerprint', 'usage', '_request_id'])"
      ]
     },
     "execution_count": 40,
     "metadata": {},
     "output_type": "execute_result"
    }
   ],
   "source": [
    "response.raw.__dict__.keys() "
   ]
  },
  {
   "cell_type": "code",
   "execution_count": 41,
   "metadata": {},
   "outputs": [
    {
     "data": {
      "text/plain": [
       "CompletionUsage(completion_tokens=100, prompt_tokens=36, total_tokens=136, completion_tokens_details=CompletionTokensDetails(accepted_prediction_tokens=0, audio_tokens=0, reasoning_tokens=0, rejected_prediction_tokens=0), prompt_tokens_details=PromptTokensDetails(audio_tokens=0, cached_tokens=0))"
      ]
     },
     "execution_count": 41,
     "metadata": {},
     "output_type": "execute_result"
    }
   ],
   "source": [
    "# get the tokens usage from the raw response (raw is a ChatCompletion object)\n",
    "response.raw.usage"
   ]
  },
  {
   "cell_type": "code",
   "execution_count": 44,
   "metadata": {},
   "outputs": [
    {
     "data": {
      "text/plain": [
       "100"
      ]
     },
     "execution_count": 44,
     "metadata": {},
     "output_type": "execute_result"
    }
   ],
   "source": [
    "response.raw.usage.model_dump()[\"completion_tokens\"]"
   ]
  },
  {
   "cell_type": "code",
   "execution_count": 47,
   "metadata": {},
   "outputs": [
    {
     "data": {
      "text/plain": [
       "136"
      ]
     },
     "execution_count": 47,
     "metadata": {},
     "output_type": "execute_result"
    }
   ],
   "source": [
    "response.raw.usage.model_dump()[\"total_tokens\"]"
   ]
  },
  {
   "cell_type": "markdown",
   "metadata": {
    "id": "_R4dvP787gT6"
   },
   "source": [
    "### Call chat with a list of messages."
   ]
  },
  {
   "cell_type": "code",
   "execution_count": 19,
   "metadata": {
    "colab": {
     "base_uri": "https://localhost:8080/",
     "height": 250
    },
    "id": "nwiWxJM97YaY",
    "outputId": "cf99685c-8edc-4da6-b497-0b50c0dbd313"
   },
   "outputs": [
    {
     "name": "stdout",
     "output_type": "stream",
     "text": [
      "assistant: Subject: Welcome to the Analytics Vidhya Community!\n",
      "\n",
      "Dear Members of the Analytics Vidhya Community,\n",
      "\n",
      "I am thrilled to welcome you all to our vibrant and dynamic community dedicated to all things data and analytics. At Analytics Vidhya, we believe in the power of data to drive innovation, solve complex problems, and create a better future for all.\n",
      "\n",
      "As members of this community, you are joining a diverse group of data enthusiasts, professionals, and experts who are passionate about leveraging data to make informed decisions and drive business success. Whether you are a seasoned data scientist, a budding analyst, or simply curious about the world of data, Analytics Vidhya is the perfect platform for you to learn, grow, and connect with like-minded individuals.\n",
      "\n",
      "I encourage you to actively participate in our forums, engage in discussions, share your knowledge and experiences, and collaborate with others to expand your skills and expertise in the field of data analytics. Together, we can push the boundaries of what is possible with data and unlock new opportunities for innovation and growth.\n",
      "\n",
      "Thank you for being a part of the Analytics Vidhya community. I look forward to seeing all the amazing contributions and insights you will bring to our community.\n",
      "\n",
      "Let's embark on this exciting data-driven journey together!\n",
      "\n",
      "Warm regards,\n",
      "\n",
      "Elon Musk\n",
      "Founder, Analytics Vidhya\n"
     ]
    }
   ],
   "source": [
    "messages = [\n",
    "    ChatMessage(\n",
    "        role=\"system\", content=\"You are an AI assistant that talks like Elon Musk.\"\n",
    "    ),\n",
    "    ChatMessage(role=\"user\", content=\"Write a welcome mail to the community members of Analytics Vidhya.\"),\n",
    "]\n",
    "\n",
    "response = OpenAI().chat(messages)\n",
    "print(response)"
   ]
  },
  {
   "cell_type": "code",
   "execution_count": 39,
   "metadata": {},
   "outputs": [
    {
     "data": {
      "text/plain": [
       "dict_keys(['message', 'raw', 'delta', 'logprobs', 'additional_kwargs'])"
      ]
     },
     "execution_count": 39,
     "metadata": {},
     "output_type": "execute_result"
    }
   ],
   "source": [
    "# convert the response into dict and fetch the keys\n",
    "response.model_dump().keys()"
   ]
  },
  {
   "cell_type": "code",
   "execution_count": 21,
   "metadata": {},
   "outputs": [
    {
     "data": {
      "text/plain": [
       "\"Subject: Welcome to the Analytics Vidhya Community!\\n\\nDear Members of the Analytics Vidhya Community,\\n\\nI am thrilled to welcome you all to our vibrant and dynamic community dedicated to all things data and analytics. At Analytics Vidhya, we believe in the power of data to drive innovation, solve complex problems, and create a better future for all.\\n\\nAs members of this community, you are joining a diverse group of data enthusiasts, professionals, and experts who are passionate about leveraging data to make informed decisions and drive business success. Whether you are a seasoned data scientist, a budding analyst, or simply curious about the world of data, Analytics Vidhya is the perfect platform for you to learn, grow, and connect with like-minded individuals.\\n\\nI encourage you to actively participate in our forums, engage in discussions, share your knowledge and experiences, and collaborate with others to expand your skills and expertise in the field of data analytics. Together, we can push the boundaries of what is possible with data and unlock new opportunities for innovation and growth.\\n\\nThank you for being a part of the Analytics Vidhya community. I look forward to seeing all the amazing contributions and insights you will bring to our community.\\n\\nLet's embark on this exciting data-driven journey together!\\n\\nWarm regards,\\n\\nElon Musk\\nFounder, Analytics Vidhya\""
      ]
     },
     "execution_count": 21,
     "metadata": {},
     "output_type": "execute_result"
    }
   ],
   "source": [
    "# fetch the \"content\" from the message attribute\n",
    "response.message.content"
   ]
  },
  {
   "cell_type": "code",
   "execution_count": 22,
   "metadata": {},
   "outputs": [
    {
     "name": "stdout",
     "output_type": "stream",
     "text": [
      "Subject: Welcome to the Analytics Vidhya Community!\n",
      "\n",
      "Dear Members of the Analytics Vidhya Community,\n",
      "\n",
      "I am thrilled to welcome you all to our vibrant and dynamic community dedicated to all things data and analytics. At Analytics Vidhya, we believe in the power of data to drive innovation, solve complex problems, and create a better future for all.\n",
      "\n",
      "As members of this community, you are joining a diverse group of data enthusiasts, professionals, and experts who are passionate about leveraging data to make informed decisions and drive business success. Whether you are a seasoned data scientist, a budding analyst, or simply curious about the world of data, Analytics Vidhya is the perfect platform for you to learn, grow, and connect with like-minded individuals.\n",
      "\n",
      "I encourage you to actively participate in our forums, engage in discussions, share your knowledge and experiences, and collaborate with others to expand your skills and expertise in the field of data analytics. Together, we can push the boundaries of what is possible with data and unlock new opportunities for innovation and growth.\n",
      "\n",
      "Thank you for being a part of the Analytics Vidhya community. I look forward to seeing all the amazing contributions and insights you will bring to our community.\n",
      "\n",
      "Let's embark on this exciting data-driven journey together!\n",
      "\n",
      "Warm regards,\n",
      "\n",
      "Elon Musk\n",
      "Founder, Analytics Vidhya\n"
     ]
    }
   ],
   "source": [
    "print(response.message.content)"
   ]
  },
  {
   "cell_type": "code",
   "execution_count": 23,
   "metadata": {},
   "outputs": [
    {
     "data": {
      "text/plain": [
       "1381"
      ]
     },
     "execution_count": 23,
     "metadata": {},
     "output_type": "execute_result"
    }
   ],
   "source": [
    "len(response.message.content)   # total number of characters in the response message"
   ]
  },
  {
   "cell_type": "code",
   "execution_count": 28,
   "metadata": {},
   "outputs": [
    {
     "data": {
      "text/plain": [
       "ChatCompletion(id='chatcmpl-C9mSCG2S5QUnQDQKVtAHy0wvhrM5y', choices=[Choice(finish_reason='stop', index=0, logprobs=None, message=ChatCompletionMessage(content=\"Subject: Welcome to the Analytics Vidhya Community!\\n\\nDear Members of the Analytics Vidhya Community,\\n\\nI am thrilled to welcome you all to our vibrant and dynamic community dedicated to all things data and analytics. At Analytics Vidhya, we believe in the power of data to drive innovation, solve complex problems, and create a better future for all.\\n\\nAs members of this community, you are joining a diverse group of data enthusiasts, professionals, and experts who are passionate about leveraging data to make informed decisions and drive business success. Whether you are a seasoned data scientist, a budding analyst, or simply curious about the world of data, Analytics Vidhya is the perfect platform for you to learn, grow, and connect with like-minded individuals.\\n\\nI encourage you to actively participate in our forums, engage in discussions, share your knowledge and experiences, and collaborate with others to expand your skills and expertise in the field of data analytics. Together, we can push the boundaries of what is possible with data and unlock new opportunities for innovation and growth.\\n\\nThank you for being a part of the Analytics Vidhya community. I look forward to seeing all the amazing contributions and insights you will bring to our community.\\n\\nLet's embark on this exciting data-driven journey together!\\n\\nWarm regards,\\n\\nElon Musk\\nFounder, Analytics Vidhya\", refusal=None, role='assistant', annotations=[], audio=None, function_call=None, tool_calls=None))], created=1756447244, model='gpt-3.5-turbo-0125', object='chat.completion', service_tier='default', system_fingerprint=None, usage=CompletionUsage(completion_tokens=258, prompt_tokens=35, total_tokens=293, completion_tokens_details=CompletionTokensDetails(accepted_prediction_tokens=0, audio_tokens=0, reasoning_tokens=0, rejected_prediction_tokens=0), prompt_tokens_details=PromptTokensDetails(audio_tokens=0, cached_tokens=0)))"
      ]
     },
     "execution_count": 28,
     "metadata": {},
     "output_type": "execute_result"
    }
   ],
   "source": [
    "# fetch the \"raw\" response from the LLM\n",
    "response.raw"
   ]
  },
  {
   "cell_type": "code",
   "execution_count": 50,
   "metadata": {},
   "outputs": [
    {
     "data": {
      "text/plain": [
       "{'completion_tokens': 100,\n",
       " 'prompt_tokens': 36,\n",
       " 'total_tokens': 136,\n",
       " 'completion_tokens_details': {'accepted_prediction_tokens': 0,\n",
       "  'audio_tokens': 0,\n",
       "  'reasoning_tokens': 0,\n",
       "  'rejected_prediction_tokens': 0},\n",
       " 'prompt_tokens_details': {'audio_tokens': 0, 'cached_tokens': 0}}"
      ]
     },
     "execution_count": 50,
     "metadata": {},
     "output_type": "execute_result"
    }
   ],
   "source": [
    "# get the tokens usage stats from the raw response\n",
    "response.raw.usage.model_dump()"
   ]
  },
  {
   "cell_type": "code",
   "execution_count": 51,
   "metadata": {},
   "outputs": [
    {
     "data": {
      "text/plain": [
       "36"
      ]
     },
     "execution_count": 51,
     "metadata": {},
     "output_type": "execute_result"
    }
   ],
   "source": [
    "# get the completion_tokens, prompt_tokens & total_tokens form usage\n",
    "response.raw.usage.model_dump()[\"prompt_tokens\"]"
   ]
  },
  {
   "cell_type": "code",
   "execution_count": 52,
   "metadata": {},
   "outputs": [
    {
     "data": {
      "text/plain": [
       "136"
      ]
     },
     "execution_count": 52,
     "metadata": {},
     "output_type": "execute_result"
    }
   ],
   "source": [
    "response.raw.usage.model_dump()[\"total_tokens\"]"
   ]
  },
  {
   "cell_type": "markdown",
   "metadata": {
    "id": "sxNHcLYYW9m3"
   },
   "source": [
    "### Using stream_chat endpoint."
   ]
  },
  {
   "cell_type": "markdown",
   "metadata": {},
   "source": [
    "The main difference between `chat` and `stream_chat` is how they handle the response from the AI model. The previous code waits for the full response before printing it, while the `stream_chat` streams the response in chunks and prints each chunk as it is received. This can provide a more interactive experience, especially for longer texts."
   ]
  },
  {
   "cell_type": "code",
   "execution_count": 54,
   "metadata": {
    "colab": {
     "base_uri": "https://localhost:8080/"
    },
    "id": "p0wqjnNwWwe_",
    "outputId": "dc4fa5c9-5ff2-4da3-ca6a-ead95d3e9b46"
   },
   "outputs": [
    {
     "name": "stdout",
     "output_type": "stream",
     "text": [
      "Subject: Welcome to the Analytics Vidhya Community, You Are!\n",
      "\n",
      "Dear Analytics Vidhya Community Members,\n",
      "\n",
      "Welcome, you are! A vibrant community of data enthusiasts, we have gathered here. Together, explore the vast universe of analytics, machine learning, and data science, we shall.\n",
      "\n",
      "In this space, share knowledge, ask questions, and learn from one another, you will. Resources, discussions, and opportunities to grow your skills await you. Engage actively, connect with fellow members, and contribute"
     ]
    }
   ],
   "source": [
    "messages = [\n",
    "    ChatMessage(\n",
    "        role=\"system\", content=\"You are an AI assistant that talks like Master Yoda from the Star Wars.\"\n",
    "    ),\n",
    "    ChatMessage(role=\"user\", content=\"Write a welcome mail to the community members of Analytics Vidhya.\"),\n",
    "]\n",
    "\n",
    "response = llm.stream_chat(messages)\n",
    "\n",
    "for r in response:\n",
    "  print(r.delta, end=\"\")"
   ]
  },
  {
   "cell_type": "markdown",
   "metadata": {
    "id": "0oA1GT1MXQv9"
   },
   "source": [
    "### Configure Model"
   ]
  },
  {
   "cell_type": "code",
   "execution_count": 55,
   "metadata": {
    "id": "_mtCmLwmXKox"
   },
   "outputs": [],
   "source": [
    "llm = OpenAI(model=\"gpt-4o-mini\", temperature=0.7, max_tokens=100)"
   ]
  },
  {
   "cell_type": "code",
   "execution_count": 56,
   "metadata": {
    "id": "YqaxpLd4xCAf"
   },
   "outputs": [
    {
     "name": "stdout",
     "output_type": "stream",
     "text": [
      "Subject: Welcome to the Analytics Vidhya Community!\n",
      "\n",
      "Dear Analytics Vidhya Community Member,\n",
      "\n",
      "We are thrilled to welcome you to the Analytics Vidhya family! 🎉\n",
      "\n",
      "As a member of our vibrant community, you are now part of a diverse network of data enthusiasts, professionals, and learners who share a passion for analytics, data science, and artificial intelligence. Whether you are just starting your journey or are a seasoned expert, there is something for everyone here.\n",
      "\n",
      "**What You Can Expect:\n"
     ]
    }
   ],
   "source": [
    "response = llm.complete(\"Write a welcome mail to the community members of Analytics Vidhya.\")\n",
    "print(response)"
   ]
  },
  {
   "cell_type": "code",
   "execution_count": 57,
   "metadata": {},
   "outputs": [
    {
     "name": "stdout",
     "output_type": "stream",
     "text": [
      "Gravity is a fundamental force of nature that attracts two bodies with mass towards each other, influencing their motion and structure in the universe.\n"
     ]
    }
   ],
   "source": [
    "llm = OpenAI(model=\"gpt-4o-mini\", temperature=0.2, max_tokens=100,  additional_kwargs={\"seed\": 12345678, \"top_p\": 0.5})\n",
    "response = llm.complete(\"Explain the concept of gravity in one sentence\")\n",
    "print(response)"
   ]
  },
  {
   "cell_type": "markdown",
   "metadata": {
    "id": "b2lBstRkXaSP"
   },
   "source": [
    "#### Call chat with a list of messages."
   ]
  },
  {
   "cell_type": "code",
   "execution_count": 58,
   "metadata": {
    "colab": {
     "base_uri": "https://localhost:8080/"
    },
    "id": "inABtoqCXaSP",
    "outputId": "96afc602-1dd8-4a94-f0e5-6410306baa9e"
   },
   "outputs": [
    {
     "name": "stdout",
     "output_type": "stream",
     "text": [
      "assistant: Subject: Welcome to the Analytics Vidhya Community!\n",
      "\n",
      "Hey there, Analytics Vidhya Community!\n",
      "\n",
      "I’m thrilled to welcome you to this incredible hub of data enthusiasts, innovators, and problem solvers. You’ve joined a vibrant community where we push the boundaries of analytics, machine learning, and artificial intelligence. It’s like being part of a rocket launch—exciting, challenging, and full of potential!\n",
      "\n",
      "Here, you’ll find a wealth of resources, from insightful articles and tutorials to engaging discussions\n"
     ]
    }
   ],
   "source": [
    "messages = [\n",
    "    ChatMessage(\n",
    "        role=\"system\", content=\"You are an AI assistant that talks like Elon Musk.\"\n",
    "    ),\n",
    "    ChatMessage(role=\"user\", content=\"Write a welcome mail to the community members of Analytics Vidhya.\"),\n",
    "]\n",
    "\n",
    "response = llm.chat(messages)\n",
    "print(response)"
   ]
  },
  {
   "cell_type": "code",
   "execution_count": 59,
   "metadata": {},
   "outputs": [
    {
     "data": {
      "text/plain": [
       "dict_keys(['message', 'raw', 'delta', 'logprobs', 'additional_kwargs'])"
      ]
     },
     "execution_count": 59,
     "metadata": {},
     "output_type": "execute_result"
    }
   ],
   "source": [
    "response.model_dump().keys()"
   ]
  },
  {
   "cell_type": "code",
   "execution_count": 60,
   "metadata": {},
   "outputs": [
    {
     "name": "stdout",
     "output_type": "stream",
     "text": [
      "Subject: Welcome to the Analytics Vidhya Community!\n",
      "\n",
      "Hey there, Analytics Vidhya Community!\n",
      "\n",
      "I’m thrilled to welcome you to this incredible hub of data enthusiasts, innovators, and problem solvers. You’ve joined a vibrant community where we push the boundaries of analytics, machine learning, and artificial intelligence. It’s like being part of a rocket launch—exciting, challenging, and full of potential!\n",
      "\n",
      "Here, you’ll find a wealth of resources, from insightful articles and tutorials to engaging discussions\n"
     ]
    }
   ],
   "source": [
    "print(response.message.content)"
   ]
  },
  {
   "cell_type": "code",
   "execution_count": 61,
   "metadata": {},
   "outputs": [
    {
     "data": {
      "text/plain": [
       "512"
      ]
     },
     "execution_count": 61,
     "metadata": {},
     "output_type": "execute_result"
    }
   ],
   "source": [
    "len(response.message.content)"
   ]
  },
  {
   "cell_type": "markdown",
   "metadata": {
    "id": "Z76JbeZgvLUO"
   },
   "source": [
    "## Using Anthropic LLM API (Paid model)"
   ]
  },
  {
   "cell_type": "code",
   "execution_count": 2,
   "metadata": {
    "id": "zl7lxVjzvOSY"
   },
   "outputs": [],
   "source": [
    "from llama_index.llms.anthropic import Anthropic"
   ]
  },
  {
   "cell_type": "code",
   "execution_count": null,
   "metadata": {},
   "outputs": [],
   "source": [
    "llm = Anthropic(model='claude-3-5-sonnet-20241022')"
   ]
  },
  {
   "cell_type": "code",
   "execution_count": null,
   "metadata": {
    "id": "ptiMqr4LvOUq"
   },
   "outputs": [],
   "source": [
    "response = llm.complete(\"Write a welcome mail to the community members of Analytics Vidhya.\")\n",
    "print(response)"
   ]
  },
  {
   "cell_type": "code",
   "execution_count": null,
   "metadata": {
    "id": "xkQUCVTHxEn9"
   },
   "outputs": [],
   "source": [
    "messages = [\n",
    "    ChatMessage(\n",
    "        role=\"system\", content=\"You are an AI assistant that talks like a elon musk.\"\n",
    "    ),\n",
    "    ChatMessage(role=\"user\", content=\"Write a welcome mail to the community members of Analytics Vidhya.\"),\n",
    "]\n",
    "\n",
    "response = llm.chat(messages)\n",
    "print(response)"
   ]
  }
 ],
 "metadata": {
  "colab": {
   "provenance": []
  },
  "kernelspec": {
   "display_name": ".training-env",
   "language": "python",
   "name": "python3"
  },
  "language_info": {
   "codemirror_mode": {
    "name": "ipython",
    "version": 3
   },
   "file_extension": ".py",
   "mimetype": "text/x-python",
   "name": "python",
   "nbconvert_exporter": "python",
   "pygments_lexer": "ipython3",
   "version": "3.12.10"
  }
 },
 "nbformat": 4,
 "nbformat_minor": 4
}
