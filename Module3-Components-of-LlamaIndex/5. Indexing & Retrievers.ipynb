{
 "cells": [
  {
   "cell_type": "markdown",
   "metadata": {
    "id": "PPkG_5ist0qS"
   },
   "source": [
    "# Indexing & Retrieval"
   ]
  },
  {
   "cell_type": "markdown",
   "metadata": {},
   "source": [
    "## Content\n",
    "- What is Index?\n",
    "- Why do we need Index in a RAG system? Efficiency, Scalability, Accurarcy, Real-time Performance\n",
    "- Index Types -> Summary Index, Vector Store Index, Document Summary Index, Tree Index, Keywork Table Index.\n",
    "- What is the usage of each Index type?\n",
    "- Retrieval modes for differnet Indexes -> Summary Index, Document summary Index, Tree Index, Keywork Table Index.\n",
    "- Can we go with Hybrid Indexing>\n",
    "- \n"
   ]
  },
  {
   "cell_type": "code",
   "execution_count": 3,
   "metadata": {},
   "outputs": [],
   "source": [
    "!pip install dotenv\n",
    "!pip install llama-index-embeddings-gemini llama-index-embeddings-cohere \n",
    "!pip install llama_index.embeddings.openai"
   ]
  },
  {
   "cell_type": "markdown",
   "metadata": {
    "id": "dnDtMwXk_-__"
   },
   "source": [
    "## Setup"
   ]
  },
  {
   "cell_type": "code",
   "execution_count": 4,
   "metadata": {
    "id": "cKlax-updNW-"
   },
   "outputs": [],
   "source": [
    "import os"
   ]
  },
  {
   "cell_type": "code",
   "execution_count": 5,
   "metadata": {},
   "outputs": [
    {
     "data": {
      "text/plain": [
       "True"
      ]
     },
     "execution_count": 5,
     "metadata": {},
     "output_type": "execute_result"
    }
   ],
   "source": [
    "from dotenv import load_dotenv, find_dotenv\n",
    "load_dotenv('D:/Training/FAA-Training/Beyond-the-Prompt-Practical-RAG-for-Real-World-AI/RAG-systems-using-LlamaIndex/Module3-Components-of-LlamaIndex/.env')"
   ]
  },
  {
   "cell_type": "code",
   "execution_count": 6,
   "metadata": {},
   "outputs": [],
   "source": [
    "OPENAI_API_KEY = os.environ['OPENAI_API_KEY']"
   ]
  },
  {
   "cell_type": "markdown",
   "metadata": {
    "id": "yLtBXZ0xDtmQ"
   },
   "source": [
    "## Download Data"
   ]
  },
  {
   "cell_type": "code",
   "execution_count": 7,
   "metadata": {},
   "outputs": [
    {
     "name": "stderr",
     "output_type": "stream",
     "text": [
      "A subdirectory or file data already exists.\n",
      "'wget' is not recognized as an internal or external command,\n",
      "operable program or batch file.\n"
     ]
    }
   ],
   "source": [
    "!mkdir data\n",
    "!wget \"https://arxiv.org/pdf/1706.03762\" -O 'data/transformers.pdf'"
   ]
  },
  {
   "cell_type": "code",
   "execution_count": 8,
   "metadata": {},
   "outputs": [],
   "source": [
    "from pathlib import Path\n",
    "from llama_index.readers.file import PDFReader"
   ]
  },
  {
   "cell_type": "code",
   "execution_count": 9,
   "metadata": {
    "executionInfo": {
     "elapsed": 498,
     "status": "ok",
     "timestamp": 1703166832879,
     "user": {
      "displayName": "Ravi Theja",
      "userId": "12148656718425770960"
     },
     "user_tz": -330
    },
    "id": "dBLPDbZ5u5_D"
   },
   "outputs": [],
   "source": [
    "loader = PDFReader()"
   ]
  },
  {
   "cell_type": "code",
   "execution_count": 10,
   "metadata": {
    "executionInfo": {
     "elapsed": 4233,
     "status": "ok",
     "timestamp": 1703166842594,
     "user": {
      "displayName": "Ravi Theja",
      "userId": "12148656718425770960"
     },
     "user_tz": -330
    },
    "id": "wJAWQF2amw01"
   },
   "outputs": [],
   "source": [
    "documents = loader.load_data(file=Path('./data/transformers.pdf'))"
   ]
  },
  {
   "cell_type": "code",
   "execution_count": 11,
   "metadata": {},
   "outputs": [
    {
     "data": {
      "text/plain": [
       "15"
      ]
     },
     "execution_count": 11,
     "metadata": {},
     "output_type": "execute_result"
    }
   ],
   "source": [
    "len(documents)"
   ]
  },
  {
   "cell_type": "code",
   "execution_count": 12,
   "metadata": {},
   "outputs": [
    {
     "data": {
      "text/plain": [
       "Document(id_='2fef849a-8112-491e-9a07-9d63d844d59b', embedding=None, metadata={'page_label': '1', 'file_name': 'transformers.pdf'}, excluded_embed_metadata_keys=[], excluded_llm_metadata_keys=[], relationships={}, metadata_template='{key}: {value}', metadata_separator='\\n', text_resource=MediaResource(embeddings=None, data=None, text='Provided proper attribution is provided, Google hereby grants permission to\\nreproduce the tables and figures in this paper solely for use in journalistic or\\nscholarly works.\\nAttention Is All You Need\\nAshish Vaswani∗\\nGoogle Brain\\navaswani@google.com\\nNoam Shazeer∗\\nGoogle Brain\\nnoam@google.com\\nNiki Parmar∗\\nGoogle Research\\nnikip@google.com\\nJakob Uszkoreit∗\\nGoogle Research\\nusz@google.com\\nLlion Jones∗\\nGoogle Research\\nllion@google.com\\nAidan N. Gomez∗ †\\nUniversity of Toronto\\naidan@cs.toronto.edu\\nŁukasz Kaiser∗\\nGoogle Brain\\nlukaszkaiser@google.com\\nIllia Polosukhin∗ ‡\\nillia.polosukhin@gmail.com\\nAbstract\\nThe dominant sequence transduction models are based on complex recurrent or\\nconvolutional neural networks that include an encoder and a decoder. The best\\nperforming models also connect the encoder and decoder through an attention\\nmechanism. We propose a new simple network architecture, the Transformer,\\nbased solely on attention mechanisms, dispensing with recurrence and convolutions\\nentirely. Experiments on two machine translation tasks show these models to\\nbe superior in quality while being more parallelizable and requiring significantly\\nless time to train. Our model achieves 28.4 BLEU on the WMT 2014 English-\\nto-German translation task, improving over the existing best results, including\\nensembles, by over 2 BLEU. On the WMT 2014 English-to-French translation task,\\nour model establishes a new single-model state-of-the-art BLEU score of 41.8 after\\ntraining for 3.5 days on eight GPUs, a small fraction of the training costs of the\\nbest models from the literature. We show that the Transformer generalizes well to\\nother tasks by applying it successfully to English constituency parsing both with\\nlarge and limited training data.\\n∗Equal contribution. Listing order is random. Jakob proposed replacing RNNs with self-attention and started\\nthe effort to evaluate this idea. Ashish, with Illia, designed and implemented the first Transformer models and\\nhas been crucially involved in every aspect of this work. Noam proposed scaled dot-product attention, multi-head\\nattention and the parameter-free position representation and became the other person involved in nearly every\\ndetail. Niki designed, implemented, tuned and evaluated countless model variants in our original codebase and\\ntensor2tensor. Llion also experimented with novel model variants, was responsible for our initial codebase, and\\nefficient inference and visualizations. Lukasz and Aidan spent countless long days designing various parts of and\\nimplementing tensor2tensor, replacing our earlier codebase, greatly improving results and massively accelerating\\nour research.\\n†Work performed while at Google Brain.\\n‡Work performed while at Google Research.\\n31st Conference on Neural Information Processing Systems (NIPS 2017), Long Beach, CA, USA.\\narXiv:1706.03762v7  [cs.CL]  2 Aug 2023', path=None, url=None, mimetype=None), image_resource=None, audio_resource=None, video_resource=None, text_template='{metadata_str}\\n\\n{content}')"
      ]
     },
     "execution_count": 12,
     "metadata": {},
     "output_type": "execute_result"
    }
   ],
   "source": [
    "documents[0]"
   ]
  },
  {
   "cell_type": "code",
   "execution_count": 13,
   "metadata": {},
   "outputs": [
    {
     "data": {
      "text/plain": [
       "dict_keys(['id_', 'embedding', 'metadata', 'excluded_embed_metadata_keys', 'excluded_llm_metadata_keys', 'relationships', 'metadata_template', 'metadata_separator', 'text_resource', 'image_resource', 'audio_resource', 'video_resource', 'text_template', 'class_name', 'text'])"
      ]
     },
     "execution_count": 13,
     "metadata": {},
     "output_type": "execute_result"
    }
   ],
   "source": [
    "documents[0].dict().keys()"
   ]
  },
  {
   "cell_type": "code",
   "execution_count": 14,
   "metadata": {},
   "outputs": [
    {
     "data": {
      "text/plain": [
       "'2fef849a-8112-491e-9a07-9d63d844d59b'"
      ]
     },
     "execution_count": 14,
     "metadata": {},
     "output_type": "execute_result"
    }
   ],
   "source": [
    "documents[0].id_"
   ]
  },
  {
   "cell_type": "code",
   "execution_count": 15,
   "metadata": {},
   "outputs": [
    {
     "data": {
      "text/plain": [
       "'Provided proper attribution is provided, Google hereby grants permission to\\nreproduce the tables and figures in this paper solely for use in journalistic or\\nscholarly works.\\nAttention Is All You Need\\nAshish Vaswani∗\\nGoogle Brain\\navaswani@google.com\\nNoam Shazeer∗\\nGoogle Brain\\nnoam@google.com\\nNiki Parmar∗\\nGoogle Research\\nnikip@google.com\\nJakob Uszkoreit∗\\nGoogle Research\\nusz@google.com\\nLlion Jones∗\\nGoogle Research\\nllion@google.com\\nAidan N. Gomez∗ †\\nUniversity of Toronto\\naidan@cs.toronto.edu\\nŁukasz Kaiser∗\\nGoogle Brain\\nlukaszkaiser@google.com\\nIllia Polosukhin∗ ‡\\nillia.polosukhin@gmail.com\\nAbstract\\nThe dominant sequence transduction models are based on complex recurrent or\\nconvolutional neural networks that include an encoder and a decoder. The best\\nperforming models also connect the encoder and decoder through an attention\\nmechanism. We propose a new simple network architecture, the Transformer,\\nbased solely on attention mechanisms, dispensing with recurrence and convolutions\\nentirely. Experiments on two machine translation tasks show these models to\\nbe superior in quality while being more parallelizable and requiring significantly\\nless time to train. Our model achieves 28.4 BLEU on the WMT 2014 English-\\nto-German translation task, improving over the existing best results, including\\nensembles, by over 2 BLEU. On the WMT 2014 English-to-French translation task,\\nour model establishes a new single-model state-of-the-art BLEU score of 41.8 after\\ntraining for 3.5 days on eight GPUs, a small fraction of the training costs of the\\nbest models from the literature. We show that the Transformer generalizes well to\\nother tasks by applying it successfully to English constituency parsing both with\\nlarge and limited training data.\\n∗Equal contribution. Listing order is random. Jakob proposed replacing RNNs with self-attention and started\\nthe effort to evaluate this idea. Ashish, with Illia, designed and implemented the first Transformer models and\\nhas been crucially involved in every aspect of this work. Noam proposed scaled dot-product attention, multi-head\\nattention and the parameter-free position representation and became the other person involved in nearly every\\ndetail. Niki designed, implemented, tuned and evaluated countless model variants in our original codebase and\\ntensor2tensor. Llion also experimented with novel model variants, was responsible for our initial codebase, and\\nefficient inference and visualizations. Lukasz and Aidan spent countless long days designing various parts of and\\nimplementing tensor2tensor, replacing our earlier codebase, greatly improving results and massively accelerating\\nour research.\\n†Work performed while at Google Brain.\\n‡Work performed while at Google Research.\\n31st Conference on Neural Information Processing Systems (NIPS 2017), Long Beach, CA, USA.\\narXiv:1706.03762v7  [cs.CL]  2 Aug 2023'"
      ]
     },
     "execution_count": 15,
     "metadata": {},
     "output_type": "execute_result"
    }
   ],
   "source": [
    "documents[0].text"
   ]
  },
  {
   "cell_type": "code",
   "execution_count": 16,
   "metadata": {},
   "outputs": [
    {
     "name": "stdout",
     "output_type": "stream",
     "text": [
      "Provided proper attribution is provided, Google hereby grants permission to\n",
      "reproduce the tables and figures in this paper solely for use in journalistic or\n",
      "scholarly works.\n",
      "Attention Is All You Need\n",
      "Ashish Vaswani∗\n",
      "Google Brain\n",
      "avaswani@google.com\n",
      "Noam Shazeer∗\n",
      "Google Brain\n",
      "noam@google.com\n",
      "Niki Parmar∗\n",
      "Google Research\n",
      "nikip@google.com\n",
      "Jakob Uszkoreit∗\n",
      "Google Research\n",
      "usz@google.com\n",
      "Llion Jones∗\n",
      "Google Research\n",
      "llion@google.com\n",
      "Aidan N. Gomez∗ †\n",
      "University of Toronto\n",
      "aidan@cs.toronto.edu\n",
      "Łukasz Kaiser∗\n",
      "Google Brain\n",
      "lukaszkaiser@google.com\n",
      "Illia Polosukhin∗ ‡\n",
      "illia.polosukhin@gmail.com\n",
      "Abstract\n",
      "The dominant sequence transduction models are based on complex recurrent or\n",
      "convolutional neural networks that include an encoder and a decoder. The best\n",
      "performing models also connect the encoder and decoder through an attention\n",
      "mechanism. We propose a new simple network architecture, the Transformer,\n",
      "based solely on attention mechanisms, dispensing with recurrence and convolutions\n",
      "entirely. Experiments on two machine translation tasks show these models to\n",
      "be superior in quality while being more parallelizable and requiring significantly\n",
      "less time to train. Our model achieves 28.4 BLEU on the WMT 2014 English-\n",
      "to-German translation task, improving over the existing best results, including\n",
      "ensembles, by over 2 BLEU. On the WMT 2014 English-to-French translation task,\n",
      "our model establishes a new single-model state-of-the-art BLEU score of 41.8 after\n",
      "training for 3.5 days on eight GPUs, a small fraction of the training costs of the\n",
      "best models from the literature. We show that the Transformer generalizes well to\n",
      "other tasks by applying it successfully to English constituency parsing both with\n",
      "large and limited training data.\n",
      "∗Equal contribution. Listing order is random. Jakob proposed replacing RNNs with self-attention and started\n",
      "the effort to evaluate this idea. Ashish, with Illia, designed and implemented the first Transformer models and\n",
      "has been crucially involved in every aspect of this work. Noam proposed scaled dot-product attention, multi-head\n",
      "attention and the parameter-free position representation and became the other person involved in nearly every\n",
      "detail. Niki designed, implemented, tuned and evaluated countless model variants in our original codebase and\n",
      "tensor2tensor. Llion also experimented with novel model variants, was responsible for our initial codebase, and\n",
      "efficient inference and visualizations. Lukasz and Aidan spent countless long days designing various parts of and\n",
      "implementing tensor2tensor, replacing our earlier codebase, greatly improving results and massively accelerating\n",
      "our research.\n",
      "†Work performed while at Google Brain.\n",
      "‡Work performed while at Google Research.\n",
      "31st Conference on Neural Information Processing Systems (NIPS 2017), Long Beach, CA, USA.\n",
      "arXiv:1706.03762v7  [cs.CL]  2 Aug 2023\n"
     ]
    }
   ],
   "source": [
    "print(documents[0].text)"
   ]
  },
  {
   "cell_type": "markdown",
   "metadata": {
    "id": "GXQ18XACT334"
   },
   "source": [
    "# 1. Vector Store Index"
   ]
  },
  {
   "cell_type": "code",
   "execution_count": 17,
   "metadata": {
    "id": "91b7xZYA9xjj"
   },
   "outputs": [],
   "source": [
    "from llama_index.core import VectorStoreIndex\n",
    "from llama_index.core.node_parser import TokenTextSplitter, SentenceSplitter"
   ]
  },
  {
   "cell_type": "code",
   "execution_count": 19,
   "metadata": {
    "id": "f30twJjzoWzy"
   },
   "outputs": [
    {
     "name": "stderr",
     "output_type": "stream",
     "text": [
      "2025-08-28 12:02:06,953 - INFO - HTTP Request: POST https://api.openai.com/v1/embeddings \"HTTP/1.1 200 OK\"\n"
     ]
    }
   ],
   "source": [
    "vector_index = VectorStoreIndex.from_documents(documents, transformations=[SentenceSplitter(\n",
    "    chunk_size=512,\n",
    "    chunk_overlap=20,\n",
    "    separator=\" \",\n",
    ")])"
   ]
  },
  {
   "cell_type": "code",
   "execution_count": 20,
   "metadata": {},
   "outputs": [
    {
     "data": {
      "text/plain": [
       "'10080a1d-3166-4cd1-92ef-6b2a6f1365f1'"
      ]
     },
     "execution_count": 20,
     "metadata": {},
     "output_type": "execute_result"
    }
   ],
   "source": [
    "vector_index.index_id"
   ]
  },
  {
   "cell_type": "code",
   "execution_count": 21,
   "metadata": {},
   "outputs": [
    {
     "data": {
      "text/plain": [
       "'10080a1d-3166-4cd1-92ef-6b2a6f1365f1'"
      ]
     },
     "execution_count": 21,
     "metadata": {},
     "output_type": "execute_result"
    }
   ],
   "source": [
    "vector_index.index_struct.index_id"
   ]
  },
  {
   "cell_type": "code",
   "execution_count": 22,
   "metadata": {},
   "outputs": [
    {
     "data": {
      "text/plain": [
       "{'index_id': '10080a1d-3166-4cd1-92ef-6b2a6f1365f1',\n",
       " 'summary': None,\n",
       " 'nodes_dict': {'526e4a93-025e-47d8-a65a-0bef390569d2': '526e4a93-025e-47d8-a65a-0bef390569d2',\n",
       "  'c24e47af-cc56-4cbe-a5d2-d5eb9408684f': 'c24e47af-cc56-4cbe-a5d2-d5eb9408684f',\n",
       "  'c727a621-4b5d-41a8-8af5-e262bc0dc951': 'c727a621-4b5d-41a8-8af5-e262bc0dc951',\n",
       "  '789a1d49-46d0-47cd-9de6-19091831c142': '789a1d49-46d0-47cd-9de6-19091831c142',\n",
       "  '54f9f41e-e4ba-4a99-b494-4641eb0123ad': '54f9f41e-e4ba-4a99-b494-4641eb0123ad',\n",
       "  '228bcec4-4465-4638-a82a-e85c2aebbf62': '228bcec4-4465-4638-a82a-e85c2aebbf62',\n",
       "  '1020d451-c789-456a-be27-4d07d6aaa355': '1020d451-c789-456a-be27-4d07d6aaa355',\n",
       "  'fb680ba1-376f-4dfc-985f-dc15015a4739': 'fb680ba1-376f-4dfc-985f-dc15015a4739',\n",
       "  '2138d3f8-2523-495b-b8ab-96ff83bff896': '2138d3f8-2523-495b-b8ab-96ff83bff896',\n",
       "  'd1cb35b3-ee09-4466-b499-1081829d61aa': 'd1cb35b3-ee09-4466-b499-1081829d61aa',\n",
       "  '49a509fb-5816-41f0-9afa-6f20040f92ae': '49a509fb-5816-41f0-9afa-6f20040f92ae',\n",
       "  'ac4325a5-d516-4b63-bef9-163095cbf81b': 'ac4325a5-d516-4b63-bef9-163095cbf81b',\n",
       "  'f58dec39-c865-493a-adcb-20d0c68fa2bc': 'f58dec39-c865-493a-adcb-20d0c68fa2bc',\n",
       "  '97ca9ea2-4939-4efa-a847-d7513311dc4e': '97ca9ea2-4939-4efa-a847-d7513311dc4e',\n",
       "  '83353f54-7699-4adb-a82e-2847093dcfde': '83353f54-7699-4adb-a82e-2847093dcfde',\n",
       "  '825ec7b8-d6ad-4f6f-abe5-92f2a01a0ce8': '825ec7b8-d6ad-4f6f-abe5-92f2a01a0ce8',\n",
       "  '1fdcf743-7674-4919-8564-24d4c5625edb': '1fdcf743-7674-4919-8564-24d4c5625edb',\n",
       "  '3ed593ff-a05a-4b7c-9e3a-ae9eadc929d0': '3ed593ff-a05a-4b7c-9e3a-ae9eadc929d0',\n",
       "  'de29dd56-dc3b-40db-b105-6b68223cd6a2': 'de29dd56-dc3b-40db-b105-6b68223cd6a2',\n",
       "  '84317f2b-1e99-46cc-a604-c821ac9dd619': '84317f2b-1e99-46cc-a604-c821ac9dd619',\n",
       "  'ab04e56e-22f7-48e6-9865-ffc6e43e9da4': 'ab04e56e-22f7-48e6-9865-ffc6e43e9da4',\n",
       "  'bff0c2e6-1575-4dc9-afc7-8125d9e49c62': 'bff0c2e6-1575-4dc9-afc7-8125d9e49c62',\n",
       "  'cbeba496-53d4-4c26-accf-0e429358a863': 'cbeba496-53d4-4c26-accf-0e429358a863',\n",
       "  'c8e7409b-3787-4865-a246-b7abbb6aef06': 'c8e7409b-3787-4865-a246-b7abbb6aef06',\n",
       "  'aa389539-a6d8-4aa7-93d5-37ce8fe8a388': 'aa389539-a6d8-4aa7-93d5-37ce8fe8a388',\n",
       "  '06e7a884-1cf6-4fa1-9093-977aceff1427': '06e7a884-1cf6-4fa1-9093-977aceff1427',\n",
       "  'd66f3bfc-70fc-41e8-9181-a18d314694fe': 'd66f3bfc-70fc-41e8-9181-a18d314694fe',\n",
       "  '8d580b66-4a5c-4efc-9908-d16a07150392': '8d580b66-4a5c-4efc-9908-d16a07150392'},\n",
       " 'doc_id_dict': {},\n",
       " 'embeddings_dict': {}}"
      ]
     },
     "execution_count": 22,
     "metadata": {},
     "output_type": "execute_result"
    }
   ],
   "source": [
    "vector_index.index_struct.to_dict()"
   ]
  },
  {
   "cell_type": "code",
   "execution_count": 23,
   "metadata": {},
   "outputs": [
    {
     "data": {
      "text/plain": [
       "{'526e4a93-025e-47d8-a65a-0bef390569d2': '526e4a93-025e-47d8-a65a-0bef390569d2',\n",
       " 'c24e47af-cc56-4cbe-a5d2-d5eb9408684f': 'c24e47af-cc56-4cbe-a5d2-d5eb9408684f',\n",
       " 'c727a621-4b5d-41a8-8af5-e262bc0dc951': 'c727a621-4b5d-41a8-8af5-e262bc0dc951',\n",
       " '789a1d49-46d0-47cd-9de6-19091831c142': '789a1d49-46d0-47cd-9de6-19091831c142',\n",
       " '54f9f41e-e4ba-4a99-b494-4641eb0123ad': '54f9f41e-e4ba-4a99-b494-4641eb0123ad',\n",
       " '228bcec4-4465-4638-a82a-e85c2aebbf62': '228bcec4-4465-4638-a82a-e85c2aebbf62',\n",
       " '1020d451-c789-456a-be27-4d07d6aaa355': '1020d451-c789-456a-be27-4d07d6aaa355',\n",
       " 'fb680ba1-376f-4dfc-985f-dc15015a4739': 'fb680ba1-376f-4dfc-985f-dc15015a4739',\n",
       " '2138d3f8-2523-495b-b8ab-96ff83bff896': '2138d3f8-2523-495b-b8ab-96ff83bff896',\n",
       " 'd1cb35b3-ee09-4466-b499-1081829d61aa': 'd1cb35b3-ee09-4466-b499-1081829d61aa',\n",
       " '49a509fb-5816-41f0-9afa-6f20040f92ae': '49a509fb-5816-41f0-9afa-6f20040f92ae',\n",
       " 'ac4325a5-d516-4b63-bef9-163095cbf81b': 'ac4325a5-d516-4b63-bef9-163095cbf81b',\n",
       " 'f58dec39-c865-493a-adcb-20d0c68fa2bc': 'f58dec39-c865-493a-adcb-20d0c68fa2bc',\n",
       " '97ca9ea2-4939-4efa-a847-d7513311dc4e': '97ca9ea2-4939-4efa-a847-d7513311dc4e',\n",
       " '83353f54-7699-4adb-a82e-2847093dcfde': '83353f54-7699-4adb-a82e-2847093dcfde',\n",
       " '825ec7b8-d6ad-4f6f-abe5-92f2a01a0ce8': '825ec7b8-d6ad-4f6f-abe5-92f2a01a0ce8',\n",
       " '1fdcf743-7674-4919-8564-24d4c5625edb': '1fdcf743-7674-4919-8564-24d4c5625edb',\n",
       " '3ed593ff-a05a-4b7c-9e3a-ae9eadc929d0': '3ed593ff-a05a-4b7c-9e3a-ae9eadc929d0',\n",
       " 'de29dd56-dc3b-40db-b105-6b68223cd6a2': 'de29dd56-dc3b-40db-b105-6b68223cd6a2',\n",
       " '84317f2b-1e99-46cc-a604-c821ac9dd619': '84317f2b-1e99-46cc-a604-c821ac9dd619',\n",
       " 'ab04e56e-22f7-48e6-9865-ffc6e43e9da4': 'ab04e56e-22f7-48e6-9865-ffc6e43e9da4',\n",
       " 'bff0c2e6-1575-4dc9-afc7-8125d9e49c62': 'bff0c2e6-1575-4dc9-afc7-8125d9e49c62',\n",
       " 'cbeba496-53d4-4c26-accf-0e429358a863': 'cbeba496-53d4-4c26-accf-0e429358a863',\n",
       " 'c8e7409b-3787-4865-a246-b7abbb6aef06': 'c8e7409b-3787-4865-a246-b7abbb6aef06',\n",
       " 'aa389539-a6d8-4aa7-93d5-37ce8fe8a388': 'aa389539-a6d8-4aa7-93d5-37ce8fe8a388',\n",
       " '06e7a884-1cf6-4fa1-9093-977aceff1427': '06e7a884-1cf6-4fa1-9093-977aceff1427',\n",
       " 'd66f3bfc-70fc-41e8-9181-a18d314694fe': 'd66f3bfc-70fc-41e8-9181-a18d314694fe',\n",
       " '8d580b66-4a5c-4efc-9908-d16a07150392': '8d580b66-4a5c-4efc-9908-d16a07150392'}"
      ]
     },
     "execution_count": 23,
     "metadata": {},
     "output_type": "execute_result"
    }
   ],
   "source": [
    "# Get the nodes_dict from the index struct.\n",
    "vector_index.index_struct.nodes_dict"
   ]
  },
  {
   "cell_type": "code",
   "execution_count": 24,
   "metadata": {},
   "outputs": [
    {
     "data": {
      "text/plain": [
       "28"
      ]
     },
     "execution_count": 24,
     "metadata": {},
     "output_type": "execute_result"
    }
   ],
   "source": [
    "len(vector_index.index_struct.nodes_dict)  # total 28 nodes were created from 15 documents"
   ]
  },
  {
   "cell_type": "code",
   "execution_count": 25,
   "metadata": {},
   "outputs": [
    {
     "data": {
      "text/plain": [
       "{'2fef849a-8112-491e-9a07-9d63d844d59b': RefDocInfo(node_ids=['526e4a93-025e-47d8-a65a-0bef390569d2', 'c24e47af-cc56-4cbe-a5d2-d5eb9408684f'], metadata={'page_label': '1', 'file_name': 'transformers.pdf'}),\n",
       " 'b21e3f12-c9ce-435c-ba83-fd135baf5f62': RefDocInfo(node_ids=['c727a621-4b5d-41a8-8af5-e262bc0dc951', '789a1d49-46d0-47cd-9de6-19091831c142'], metadata={'page_label': '2', 'file_name': 'transformers.pdf'}),\n",
       " 'eed1d31d-8add-46fe-b814-c123284a24ae': RefDocInfo(node_ids=['54f9f41e-e4ba-4a99-b494-4641eb0123ad'], metadata={'page_label': '3', 'file_name': 'transformers.pdf'}),\n",
       " '2ee5a12b-4f2e-4e86-a21b-15065663b3b5': RefDocInfo(node_ids=['228bcec4-4465-4638-a82a-e85c2aebbf62', '1020d451-c789-456a-be27-4d07d6aaa355'], metadata={'page_label': '4', 'file_name': 'transformers.pdf'}),\n",
       " 'c6fe3b0b-2e32-485c-bd7b-589ba027ec8e': RefDocInfo(node_ids=['fb680ba1-376f-4dfc-985f-dc15015a4739', '2138d3f8-2523-495b-b8ab-96ff83bff896'], metadata={'page_label': '5', 'file_name': 'transformers.pdf'}),\n",
       " '77b190bc-f2d6-4d9d-9695-d1703db6e1dc': RefDocInfo(node_ids=['d1cb35b3-ee09-4466-b499-1081829d61aa', '49a509fb-5816-41f0-9afa-6f20040f92ae'], metadata={'page_label': '6', 'file_name': 'transformers.pdf'}),\n",
       " '7c140e18-e12f-4ddc-9fb6-f84532cfa475': RefDocInfo(node_ids=['ac4325a5-d516-4b63-bef9-163095cbf81b', 'f58dec39-c865-493a-adcb-20d0c68fa2bc'], metadata={'page_label': '7', 'file_name': 'transformers.pdf'}),\n",
       " 'ddece162-7ae7-412a-abfb-033985e63011': RefDocInfo(node_ids=['97ca9ea2-4939-4efa-a847-d7513311dc4e', '83353f54-7699-4adb-a82e-2847093dcfde'], metadata={'page_label': '8', 'file_name': 'transformers.pdf'}),\n",
       " 'd88486d4-d389-4c1c-be22-716863598bc5': RefDocInfo(node_ids=['825ec7b8-d6ad-4f6f-abe5-92f2a01a0ce8', '1fdcf743-7674-4919-8564-24d4c5625edb'], metadata={'page_label': '9', 'file_name': 'transformers.pdf'}),\n",
       " 'a04de905-cf2a-4eb3-9087-e4c10d080448': RefDocInfo(node_ids=['3ed593ff-a05a-4b7c-9e3a-ae9eadc929d0', 'de29dd56-dc3b-40db-b105-6b68223cd6a2'], metadata={'page_label': '10', 'file_name': 'transformers.pdf'}),\n",
       " 'eaa12886-a1e6-484d-b498-c6692a4832f1': RefDocInfo(node_ids=['84317f2b-1e99-46cc-a604-c821ac9dd619', 'ab04e56e-22f7-48e6-9865-ffc6e43e9da4', 'bff0c2e6-1575-4dc9-afc7-8125d9e49c62'], metadata={'page_label': '11', 'file_name': 'transformers.pdf'}),\n",
       " 'eaeaf4bd-9601-4352-8708-85727544e1f1': RefDocInfo(node_ids=['cbeba496-53d4-4c26-accf-0e429358a863', 'c8e7409b-3787-4865-a246-b7abbb6aef06', 'aa389539-a6d8-4aa7-93d5-37ce8fe8a388'], metadata={'page_label': '12', 'file_name': 'transformers.pdf'}),\n",
       " 'a8a16530-a53d-4995-937e-2076890eb96b': RefDocInfo(node_ids=['06e7a884-1cf6-4fa1-9093-977aceff1427'], metadata={'page_label': '13', 'file_name': 'transformers.pdf'}),\n",
       " '66dd5c36-9d72-4dda-8599-dd711939c333': RefDocInfo(node_ids=['d66f3bfc-70fc-41e8-9181-a18d314694fe'], metadata={'page_label': '14', 'file_name': 'transformers.pdf'}),\n",
       " '49692421-19dc-4b28-b287-133328128a0f': RefDocInfo(node_ids=['8d580b66-4a5c-4efc-9908-d16a07150392'], metadata={'page_label': '15', 'file_name': 'transformers.pdf'})}"
      ]
     },
     "execution_count": 25,
     "metadata": {},
     "output_type": "execute_result"
    }
   ],
   "source": [
    "# Retrieve a dict mapping of ingested documents and their nodes+metadata.\n",
    "vector_index.ref_doc_info"
   ]
  },
  {
   "cell_type": "code",
   "execution_count": 26,
   "metadata": {},
   "outputs": [],
   "source": [
    "vector_index.vector_store.persist(\"vector_index.json\")"
   ]
  },
  {
   "cell_type": "code",
   "execution_count": 27,
   "metadata": {},
   "outputs": [],
   "source": [
    "vector_index.docstore.persist(\"vector_index_docstore.json\")"
   ]
  },
  {
   "cell_type": "markdown",
   "metadata": {},
   "source": [
    "### Vector Store Index as Retriever"
   ]
  },
  {
   "cell_type": "code",
   "execution_count": 28,
   "metadata": {
    "id": "TqdXql6_UAIU"
   },
   "outputs": [],
   "source": [
    "vector_retriever = vector_index.as_retriever(similarity_top_k=3)"
   ]
  },
  {
   "cell_type": "code",
   "execution_count": 29,
   "metadata": {
    "id": "3dA4-LRvUCAj"
   },
   "outputs": [
    {
     "name": "stderr",
     "output_type": "stream",
     "text": [
      "2025-08-28 12:04:45,595 - INFO - HTTP Request: POST https://api.openai.com/v1/embeddings \"HTTP/1.1 200 OK\"\n"
     ]
    }
   ],
   "source": [
    "nodes = vector_retriever.retrieve(\"What is the use of positional encodings?\")"
   ]
  },
  {
   "cell_type": "code",
   "execution_count": 30,
   "metadata": {
    "colab": {
     "base_uri": "https://localhost:8080/"
    },
    "id": "nbcd4s2SUCCz",
    "outputId": "d371ff63-f863-4134-dd00-5afe7c64522a"
   },
   "outputs": [
    {
     "data": {
      "text/plain": [
       "3"
      ]
     },
     "execution_count": 30,
     "metadata": {},
     "output_type": "execute_result"
    }
   ],
   "source": [
    "len(nodes)"
   ]
  },
  {
   "cell_type": "code",
   "execution_count": 31,
   "metadata": {},
   "outputs": [
    {
     "data": {
      "text/plain": [
       "list"
      ]
     },
     "execution_count": 31,
     "metadata": {},
     "output_type": "execute_result"
    }
   ],
   "source": [
    "type(nodes)"
   ]
  },
  {
   "cell_type": "code",
   "execution_count": 32,
   "metadata": {},
   "outputs": [
    {
     "data": {
      "text/plain": [
       "NodeWithScore(node=TextNode(id_='d1cb35b3-ee09-4466-b499-1081829d61aa', embedding=None, metadata={'page_label': '6', 'file_name': 'transformers.pdf'}, excluded_embed_metadata_keys=[], excluded_llm_metadata_keys=[], relationships={<NodeRelationship.SOURCE: '1'>: RelatedNodeInfo(node_id='77b190bc-f2d6-4d9d-9695-d1703db6e1dc', node_type='4', metadata={'page_label': '6', 'file_name': 'transformers.pdf'}, hash='737ca33d7e875f2a28aeab068c9f65335daee94c60e8c6570086f8cbb1cd2a58'), <NodeRelationship.NEXT: '3'>: RelatedNodeInfo(node_id='49a509fb-5816-41f0-9afa-6f20040f92ae', node_type='1', metadata={}, hash='25e24ff7ff003773f64d648b52abaa64ce5bc84c76804e6eb2919678d0466fe6')}, metadata_template='{key}: {value}', metadata_separator='\\n', text='Table 1: Maximum path lengths, per-layer complexity and minimum number of sequential operations\\nfor different layer types. n is the sequence length, d is the representation dimension, k is the kernel\\nsize of convolutions and r the size of the neighborhood in restricted self-attention.\\nLayer Type Complexity per Layer Sequential Maximum Path Length\\nOperations\\nSelf-Attention O(n2 · d) O(1) O(1)\\nRecurrent O(n · d2) O(n) O(n)\\nConvolutional O(k · n · d2) O(1) O(logk(n))\\nSelf-Attention (restricted) O(r · n · d) O(1) O(n/r)\\n3.5 Positional Encoding\\nSince our model contains no recurrence and no convolution, in order for the model to make use of the\\norder of the sequence, we must inject some information about the relative or absolute position of the\\ntokens in the sequence. To this end, we add \"positional encodings\" to the input embeddings at the\\nbottoms of the encoder and decoder stacks. The positional encodings have the same dimension dmodel\\nas the embeddings, so that the two can be summed. There are many choices of positional encodings,\\nlearned and fixed [9].\\nIn this work, we use sine and cosine functions of different frequencies:\\nP E(pos,2i) = sin(pos/100002i/dmodel )\\nP E(pos,2i+1) = cos(pos/100002i/dmodel )\\nwhere pos is the position and i is the dimension. That is, each dimension of the positional encoding\\ncorresponds to a sinusoid. The wavelengths form a geometric progression from 2π to 10000 · 2π. We\\nchose this function because we hypothesized it would allow the model to easily learn to attend by\\nrelative positions, since for any fixed offset k, P Epos+k can be represented as a linear function of\\nP Epos.\\nWe also experimented with using learned positional embeddings [9] instead, and found that the two\\nversions produced nearly identical results (see Table 3 row (E)). We chose the sinusoidal version\\nbecause it may allow the model to extrapolate to sequence lengths longer than the ones encountered\\nduring training.', mimetype='text/plain', start_char_idx=0, end_char_idx=1938, metadata_seperator='\\n', text_template='{metadata_str}\\n\\n{content}'), score=0.8235472989540805)"
      ]
     },
     "execution_count": 32,
     "metadata": {},
     "output_type": "execute_result"
    }
   ],
   "source": [
    "nodes[0]"
   ]
  },
  {
   "cell_type": "code",
   "execution_count": 36,
   "metadata": {},
   "outputs": [
    {
     "data": {
      "text/plain": [
       "dict_keys(['node', 'score', 'class_name'])"
      ]
     },
     "execution_count": 36,
     "metadata": {},
     "output_type": "execute_result"
    }
   ],
   "source": [
    "nodes[0].dict().keys()"
   ]
  },
  {
   "cell_type": "code",
   "execution_count": 35,
   "metadata": {},
   "outputs": [
    {
     "name": "stdout",
     "output_type": "stream",
     "text": [
      "Table 1: Maximum path lengths, per-layer complexity and minimum number of sequential operations\n",
      "for different layer types. n is the sequence length, d is the representation dimension, k is the kernel\n",
      "size of convolutions and r the size of the neighborhood in restricted self-attention.\n",
      "Layer Type Complexity per Layer Sequential Maximum Path Length\n",
      "Operations\n",
      "Self-Attention O(n2 · d) O(1) O(1)\n",
      "Recurrent O(n · d2) O(n) O(n)\n",
      "Convolutional O(k · n · d2) O(1) O(logk(n))\n",
      "Self-Attention (restricted) O(r · n · d) O(1) O(n/r)\n",
      "3.5 Positional Encoding\n",
      "Since our model contains no recurrence and no convolution, in order for the model to make use of the\n",
      "order of the sequence, we must inject some information about the relative or absolute position of the\n",
      "tokens in the sequence. To this end, we add \"positional encodings\" to the input embeddings at the\n",
      "bottoms of the encoder and decoder stacks. The positional encodings have the same dimension dmodel\n",
      "as the embeddings, so that the two can be summed. There are many choices of positional encodings,\n",
      "learned and fixed [9].\n",
      "In this work, we use sine and cosine functions of different frequencies:\n",
      "P E(pos,2i) = sin(pos/100002i/dmodel )\n",
      "P E(pos,2i+1) = cos(pos/100002i/dmodel )\n",
      "where pos is the position and i is the dimension. That is, each dimension of the positional encoding\n",
      "corresponds to a sinusoid. The wavelengths form a geometric progression from 2π to 10000 · 2π. We\n",
      "chose this function because we hypothesized it would allow the model to easily learn to attend by\n",
      "relative positions, since for any fixed offset k, P Epos+k can be represented as a linear function of\n",
      "P Epos.\n",
      "We also experimented with using learned positional embeddings [9] instead, and found that the two\n",
      "versions produced nearly identical results (see Table 3 row (E)). We chose the sinusoidal version\n",
      "because it may allow the model to extrapolate to sequence lengths longer than the ones encountered\n",
      "during training.\n"
     ]
    }
   ],
   "source": [
    "print(nodes[0].get_content())"
   ]
  },
  {
   "cell_type": "code",
   "execution_count": 37,
   "metadata": {
    "colab": {
     "base_uri": "https://localhost:8080/"
    },
    "id": "ta2-hh2KUIG8",
    "outputId": "e7b35f95-ba85-4455-bdb6-0f6633bd60e4"
   },
   "outputs": [
    {
     "name": "stdout",
     "output_type": "stream",
     "text": [
      "Node Id: d1cb35b3-ee09-4466-b499-1081829d61aa\n",
      "Metadata: {'page_label': '6', 'file_name': 'transformers.pdf'}\n",
      "Score: 0.8235472989540805\n",
      "------------------------------------\n",
      "Node Id: 2138d3f8-2523-495b-b8ab-96ff83bff896\n",
      "Metadata: {'page_label': '5', 'file_name': 'transformers.pdf'}\n",
      "Score: 0.8111539680378704\n",
      "------------------------------------\n",
      "Node Id: 789a1d49-46d0-47cd-9de6-19091831c142\n",
      "Metadata: {'page_label': '2', 'file_name': 'transformers.pdf'}\n",
      "Score: 0.7853112252453088\n",
      "------------------------------------\n"
     ]
    }
   ],
   "source": [
    "for node in nodes:\n",
    "  print(\"Node Id:\",node.id_)\n",
    "  print(\"Metadata:\",node.metadata)\n",
    "  print(\"Score:\",node.get_score())\n",
    "  print(\"------------------------------------\")"
   ]
  },
  {
   "cell_type": "markdown",
   "metadata": {
    "id": "KUzPVO0L74G6"
   },
   "source": [
    "# 2. Summary Index"
   ]
  },
  {
   "cell_type": "markdown",
   "metadata": {},
   "source": [
    "- When building the Index, it ingests a collection of documents, splits them into smaller chunks, and then compiles these chunks into a sequential list. \n",
    "- Everything runs locally, without involving an LLM or any embedding model."
   ]
  },
  {
   "attachments": {
    "50285828-666e-4a47-bec9-7f74060896ac.jpg": {
     "image/jpeg": "[encoded data removed]"
    }
   },
   "cell_type": "markdown",
   "metadata": {},
   "source": [
    "![summary index.jpg](attachment:50285828-666e-4a47-bec9-7f74060896ac.jpg)"
   ]
  },
  {
   "cell_type": "code",
   "execution_count": 15,
   "metadata": {
    "id": "Gk13VAty7xUO"
   },
   "outputs": [],
   "source": [
    "from llama_index.core import SummaryIndex\n",
    "summary_index = SummaryIndex.from_documents(documents)"
   ]
  },
  {
   "cell_type": "code",
   "execution_count": 16,
   "metadata": {},
   "outputs": [
    {
     "data": {
      "text/plain": [
       "'54c99a6b-2379-4b41-b90b-49854fa51e0c'"
      ]
     },
     "execution_count": 16,
     "metadata": {},
     "output_type": "execute_result"
    }
   ],
   "source": [
    "summary_index.index_id"
   ]
  },
  {
   "cell_type": "code",
   "execution_count": 17,
   "metadata": {},
   "outputs": [
    {
     "data": {
      "text/plain": [
       "'54c99a6b-2379-4b41-b90b-49854fa51e0c'"
      ]
     },
     "execution_count": 17,
     "metadata": {},
     "output_type": "execute_result"
    }
   ],
   "source": [
    "# Get the index_id from the index struct.\n",
    "summary_index.index_struct.index_id"
   ]
  },
  {
   "cell_type": "code",
   "execution_count": 18,
   "metadata": {},
   "outputs": [
    {
     "data": {
      "text/plain": [
       "{'index_id': '54c99a6b-2379-4b41-b90b-49854fa51e0c',\n",
       " 'summary': None,\n",
       " 'nodes': ['73200cbc-a95c-4810-baeb-b9d373a67ee7',\n",
       "  'aa69a3d4-cbec-4d4b-b610-4c9a517f78c1',\n",
       "  'ecea582e-ea3d-4ff5-b3a0-f0f8a54f9646',\n",
       "  '8684c53e-af85-4ab7-844e-a216aae74d77',\n",
       "  'fcfc04e6-c312-4394-ab55-e2129ead437d',\n",
       "  '188acefc-c838-4656-896b-441a462fe36b',\n",
       "  '2e28dae0-a128-4b71-95e3-94ec5418b2c5',\n",
       "  '785522f8-6b9e-4515-aee7-69f520b52464',\n",
       "  '63085373-b8aa-4a3d-ae16-7958a9c3c98f',\n",
       "  '0b03fa3c-fd00-4c5c-8882-1195d4e4b06d',\n",
       "  'd9c15b2c-1107-4dc2-a287-baf9094fa609',\n",
       "  '9a454d3b-dc75-48bf-83c6-1ffb64102199',\n",
       "  '94cfe6d9-5271-45f5-bcb9-4a594170cc47',\n",
       "  'd278bec8-718c-43e6-a80b-af10a46e15c3',\n",
       "  '5f1e8e7e-819f-4246-9230-e86088fec1f5']}"
      ]
     },
     "execution_count": 18,
     "metadata": {},
     "output_type": "execute_result"
    }
   ],
   "source": [
    "# Get the nodes_dict from the index struct.\n",
    "summary_index.index_struct.to_dict()"
   ]
  },
  {
   "cell_type": "code",
   "execution_count": 19,
   "metadata": {},
   "outputs": [
    {
     "data": {
      "text/plain": [
       "'None'"
      ]
     },
     "execution_count": 19,
     "metadata": {},
     "output_type": "execute_result"
    }
   ],
   "source": [
    "summary_index.summary"
   ]
  },
  {
   "cell_type": "code",
   "execution_count": 20,
   "metadata": {},
   "outputs": [
    {
     "data": {
      "text/plain": [
       "['73200cbc-a95c-4810-baeb-b9d373a67ee7',\n",
       " 'aa69a3d4-cbec-4d4b-b610-4c9a517f78c1',\n",
       " 'ecea582e-ea3d-4ff5-b3a0-f0f8a54f9646',\n",
       " '8684c53e-af85-4ab7-844e-a216aae74d77',\n",
       " 'fcfc04e6-c312-4394-ab55-e2129ead437d',\n",
       " '188acefc-c838-4656-896b-441a462fe36b',\n",
       " '2e28dae0-a128-4b71-95e3-94ec5418b2c5',\n",
       " '785522f8-6b9e-4515-aee7-69f520b52464',\n",
       " '63085373-b8aa-4a3d-ae16-7958a9c3c98f',\n",
       " '0b03fa3c-fd00-4c5c-8882-1195d4e4b06d',\n",
       " 'd9c15b2c-1107-4dc2-a287-baf9094fa609',\n",
       " '9a454d3b-dc75-48bf-83c6-1ffb64102199',\n",
       " '94cfe6d9-5271-45f5-bcb9-4a594170cc47',\n",
       " 'd278bec8-718c-43e6-a80b-af10a46e15c3',\n",
       " '5f1e8e7e-819f-4246-9230-e86088fec1f5']"
      ]
     },
     "execution_count": 20,
     "metadata": {},
     "output_type": "execute_result"
    }
   ],
   "source": [
    "summary_index.index_struct.nodes"
   ]
  },
  {
   "cell_type": "code",
   "execution_count": 21,
   "metadata": {},
   "outputs": [
    {
     "name": "stdout",
     "output_type": "stream",
     "text": [
      "output values. These are concatenated and once again projected, resulting in the final values, as\n",
      "depicted in Figure 2.\n",
      "Multi-head attention allows the model to jointly attend to information from different representation\n",
      "subspaces at different positions. With a single attention head, averaging inhibits this.\n",
      "MultiHead( Q, K, V ) = Concat(head 1, ...,head h)WO\n",
      "where head i= Attention( QWQ\n",
      "i, KWK\n",
      "i, V WV\n",
      "i)\n",
      "Where the projections are parameter matrices WQ\n",
      "i∈Rdmodel×dk,WK\n",
      "i∈Rdmodel×dk,WV\n",
      "i∈Rdmodel×dv\n",
      "andWO∈Rhdv×dmodel.\n",
      "In this work we employ h= 8 parallel attention layers, or heads. For each of these we use\n",
      "dk=dv=dmodel/h= 64 . Due to the reduced dimension of each head, the total computational cost\n",
      "is similar to that of single-head attention with full dimensionality.\n",
      "3.2.3 Applications of Attention in our Model\n",
      "The Transformer uses multi-head attention in three different ways:\n",
      "•In \"encoder-decoder attention\" layers, the queries come from the previous decoder layer,\n",
      "and the memory keys and values come from the output of the encoder. This allows every\n",
      "position in the decoder to attend over all positions in the input sequence. This mimics the\n",
      "typical encoder-decoder attention mechanisms in sequence-to-sequence models such as\n",
      "[38, 2, 9].\n",
      "•The encoder contains self-attention layers. In a self-attention layer all of the keys, values\n",
      "and queries come from the same place, in this case, the output of the previous layer in the\n",
      "encoder. Each position in the encoder can attend to all positions in the previous layer of the\n",
      "encoder.\n",
      "•Similarly, self-attention layers in the decoder allow each position in the decoder to attend to\n",
      "all positions in the decoder up to and including that position. We need to prevent leftward\n",
      "information flow in the decoder to preserve the auto-regressive property. We implement this\n",
      "inside of scaled dot-product attention by masking out (setting to −∞) all values in the input\n",
      "of the softmax which correspond to illegal connections. See Figure 2.\n",
      "3.3 Position-wise Feed-Forward Networks\n",
      "In addition to attention sub-layers, each of the layers in our encoder and decoder contains a fully\n",
      "connected feed-forward network, which is applied to each position separately and identically. This\n",
      "consists of two linear transformations with a ReLU activation in between.\n",
      "FFN( x) = max(0 , xW 1+b1)W2+b2 (2)\n",
      "While the linear transformations are the same across different positions, they use different parameters\n",
      "from layer to layer. Another way of describing this is as two convolutions with kernel size 1.\n",
      "The dimensionality of input and output is dmodel = 512 , and the inner-layer has dimensionality\n",
      "dff= 2048 .\n",
      "3.4 Embeddings and Softmax\n",
      "Similarly to other sequence transduction models, we use learned embeddings to convert the input\n",
      "tokens and output tokens to vectors of dimension dmodel. We also use the usual learned linear transfor-\n",
      "mation and softmax function to convert the decoder output to predicted next-token probabilities. In\n",
      "our model, we share the same weight matrix between the two embedding layers and the pre-softmax\n",
      "linear transformation, similar to [ 30]. In the embedding layers, we multiply those weights by√dmodel.\n",
      "5\n"
     ]
    }
   ],
   "source": [
    "# print the text present in the Node index 4  >>> 5th Node\n",
    "node4 = summary_index.index_struct.nodes[4]\n",
    "print(summary_index.docstore.docs.get(node4).text)"
   ]
  },
  {
   "cell_type": "code",
   "execution_count": 22,
   "metadata": {},
   "outputs": [],
   "source": [
    "summary_index.docstore.persist(\"summary_index_docstore.json\")"
   ]
  },
  {
   "cell_type": "markdown",
   "metadata": {
    "id": "1JBk-6Yp8b6t"
   },
   "source": [
    "## Summary Index LLM Retriever"
   ]
  },
  {
   "cell_type": "code",
   "execution_count": 61,
   "metadata": {
    "id": "sfA-QhGK7xif"
   },
   "outputs": [],
   "source": [
    "summary_retriever = summary_index.as_retriever(retriever_mode='llm') "
   ]
  },
  {
   "cell_type": "code",
   "execution_count": 62,
   "metadata": {
    "id": "mcCAekB777H0"
   },
   "outputs": [],
   "source": [
    "nodes = summary_retriever.retrieve(\"What is the use of positional encodings?\")"
   ]
  },
  {
   "cell_type": "code",
   "execution_count": 63,
   "metadata": {},
   "outputs": [
    {
     "data": {
      "text/plain": [
       "5"
      ]
     },
     "execution_count": 63,
     "metadata": {},
     "output_type": "execute_result"
    }
   ],
   "source": [
    "len(nodes)"
   ]
  },
  {
   "cell_type": "code",
   "execution_count": 64,
   "metadata": {
    "colab": {
     "base_uri": "https://localhost:8080/"
    },
    "id": "QHPZ-nnp87z4",
    "outputId": "e3eb98d5-7044-434d-8e0c-19778a214b68"
   },
   "outputs": [
    {
     "name": "stdout",
     "output_type": "stream",
     "text": [
      "Node Id: cad1edac-9a00-4c69-815e-8033bc159268\n",
      "Metadata: {'page_label': '6', 'file_name': 'transformers.pdf'}\n",
      "------------------------------------\n",
      "Node Id: 1bb4b346-1f3f-4116-aa30-3135c45dc04c\n",
      "Metadata: {'page_label': '3', 'file_name': 'transformers.pdf'}\n",
      "------------------------------------\n",
      "Node Id: acff815c-1669-4325-bb0f-8a4c5c598fd4\n",
      "Metadata: {'page_label': '4', 'file_name': 'transformers.pdf'}\n",
      "------------------------------------\n",
      "Node Id: 1aa11881-7e0f-49df-9e36-77c8aca5e5ec\n",
      "Metadata: {'page_label': '11', 'file_name': 'transformers.pdf'}\n",
      "------------------------------------\n",
      "Node Id: d203143b-ce9d-4c7d-ad74-721a8a707d43\n",
      "Metadata: {'page_label': '13', 'file_name': 'transformers.pdf'}\n",
      "------------------------------------\n"
     ]
    }
   ],
   "source": [
    "for node in nodes:\n",
    "  print(\"Node Id:\",node.id_)\n",
    "  print(\"Metadata:\",node.metadata)\n",
    "  print(\"------------------------------------\")"
   ]
  },
  {
   "cell_type": "code",
   "execution_count": 65,
   "metadata": {},
   "outputs": [
    {
     "name": "stdout",
     "output_type": "stream",
     "text": [
      "Table 1: Maximum path lengths, per-layer complexity and minimum number of sequential operations\n",
      "for different layer types. nis the sequence length, dis the representation dimension, kis the kernel\n",
      "size of convolutions and rthe size of the neighborhood in restricted self-attention.\n",
      "Layer Type Complexity per Layer Sequential Maximum Path Length\n",
      "Operations\n",
      "Self-Attention O(n2·d) O(1) O(1)\n",
      "Recurrent O(n·d2) O(n) O(n)\n",
      "Convolutional O(k·n·d2) O(1) O(logk(n))\n",
      "Self-Attention (restricted) O(r·n·d) O(1) O(n/r)\n",
      "3.5 Positional Encoding\n",
      "Since our model contains no recurrence and no convolution, in order for the model to make use of the\n",
      "order of the sequence, we must inject some information about the relative or absolute position of the\n",
      "tokens in the sequence. To this end, we add \"positional encodings\" to the input embeddings at the\n",
      "bottoms of the encoder and decoder stacks. The positional encodings have the same dimension dmodel\n",
      "as the embeddings, so that the two can be summed. There are many choices of positional encodings,\n",
      "learned and fixed [9].\n",
      "In this work, we use sine and cosine functions of different frequencies:\n",
      "PE(pos,2i)=sin(pos/100002i/d model)\n",
      "PE(pos,2i+1)=cos(pos/100002i/d model)\n",
      "where posis the position and iis the dimension. That is, each dimension of the positional encoding\n",
      "corresponds to a sinusoid. The wavelengths form a geometric progression from 2πto10000 ·2π. We\n",
      "chose this function because we hypothesized it would allow the model to easily learn to attend by\n",
      "relative positions, since for any fixed offset k,PEpos+kcan be represented as a linear function of\n",
      "PEpos.\n",
      "We also experimented with using learned positional embeddings [ 9] instead, and found that the two\n",
      "versions produced nearly identical results (see Table 3 row (E)). We chose the sinusoidal version\n",
      "because it may allow the model to extrapolate to sequence lengths longer than the ones encountered\n",
      "during training.\n",
      "4 Why Self-Attention\n",
      "In this section we compare various aspects of self-attention layers to the recurrent and convolu-\n",
      "tional layers commonly used for mapping one variable-length sequence of symbol representations\n",
      "(x1, ..., x n)to another sequence of equal length (z1, ..., z n), with xi, zi∈Rd, such as a hidden\n",
      "layer in a typical sequence transduction encoder or decoder. Motivating our use of self-attention we\n",
      "consider three desiderata.\n",
      "One is the total computational complexity per layer. Another is the amount of computation that can\n",
      "be parallelized, as measured by the minimum number of sequential operations required.\n",
      "The third is the path length between long-range dependencies in the network. Learning long-range\n",
      "dependencies is a key challenge in many sequence transduction tasks. One key factor affecting the\n",
      "ability to learn such dependencies is the length of the paths forward and backward signals have to\n",
      "traverse in the network. The shorter these paths between any combination of positions in the input\n",
      "and output sequences, the easier it is to learn long-range dependencies [ 12]. Hence we also compare\n",
      "the maximum path length between any two input and output positions in networks composed of the\n",
      "different layer types.\n",
      "As noted in Table 1, a self-attention layer connects all positions with a constant number of sequentially\n",
      "executed operations, whereas a recurrent layer requires O(n)sequential operations. In terms of\n",
      "computational complexity, self-attention layers are faster than recurrent layers when the sequence\n",
      "6\n"
     ]
    }
   ],
   "source": [
    "print(nodes[0].get_content())"
   ]
  },
  {
   "cell_type": "markdown",
   "metadata": {
    "id": "PfpT7LTnvbdD"
   },
   "source": [
    "## Summary Index Embedding Retriever"
   ]
  },
  {
   "cell_type": "code",
   "execution_count": 67,
   "metadata": {
    "id": "91b7xZYA9xjj"
   },
   "outputs": [],
   "source": [
    "summary_embed_retriever = summary_index.as_retriever(retriever_mode='embedding', similarity_top_k=3)"
   ]
  },
  {
   "cell_type": "code",
   "execution_count": 68,
   "metadata": {
    "id": "1QDBa6hT-FIk"
   },
   "outputs": [],
   "source": [
    "nodes = summary_embed_retriever.retrieve(\"What is the use of positional encodings?\")"
   ]
  },
  {
   "cell_type": "code",
   "execution_count": 69,
   "metadata": {
    "colab": {
     "base_uri": "https://localhost:8080/"
    },
    "id": "gNScQ9cVR0mG",
    "outputId": "524ab0db-df30-402a-d076-6a7a030a491f"
   },
   "outputs": [
    {
     "data": {
      "text/plain": [
       "3"
      ]
     },
     "execution_count": 69,
     "metadata": {},
     "output_type": "execute_result"
    }
   ],
   "source": [
    "len(nodes)"
   ]
  },
  {
   "cell_type": "code",
   "execution_count": 70,
   "metadata": {
    "colab": {
     "base_uri": "https://localhost:8080/"
    },
    "id": "dtZwwmSO-FNc",
    "outputId": "abf30719-5a1d-4ab9-9cc7-7d0295e6e188"
   },
   "outputs": [
    {
     "name": "stdout",
     "output_type": "stream",
     "text": [
      "Node Id: cad1edac-9a00-4c69-815e-8033bc159268\n",
      "Metadata: {'page_label': '6', 'file_name': 'transformers.pdf'}\n",
      "Score: 0.7864419385132215\n",
      "------------------------------------\n",
      "Node Id: cbe1a923-b330-431f-bfd7-1c7e896a7929\n",
      "Metadata: {'page_label': '5', 'file_name': 'transformers.pdf'}\n",
      "Score: 0.7828794506481253\n",
      "------------------------------------\n",
      "Node Id: 48219816-e6da-4927-97bc-99115038209f\n",
      "Metadata: {'page_label': '2', 'file_name': 'transformers.pdf'}\n",
      "Score: 0.775180332451788\n",
      "------------------------------------\n"
     ]
    }
   ],
   "source": [
    "for node in nodes:\n",
    "  print(\"Node Id:\",node.id_)\n",
    "  print(\"Metadata:\",node.metadata)\n",
    "  print(\"Score:\",node.get_score())\n",
    "  print(\"------------------------------------\")"
   ]
  },
  {
   "cell_type": "markdown",
   "metadata": {
    "id": "zzbqXyy0E4e4"
   },
   "source": [
    "# 3. Keyword Table Index\n",
    "\n",
    "## Keyword Table Simple Retriever"
   ]
  },
  {
   "cell_type": "code",
   "execution_count": 71,
   "metadata": {
    "id": "FdSwcuvOE5Cv"
   },
   "outputs": [],
   "source": [
    "from llama_index.core import SimpleKeywordTableIndex"
   ]
  },
  {
   "cell_type": "code",
   "execution_count": 72,
   "metadata": {
    "colab": {
     "base_uri": "https://localhost:8080/",
     "height": 81,
     "referenced_widgets": [
      "28c601d47dff40f8b99efb5363b48498",
      "d16ca29655484909b3b178fc84c112f3",
      "8ae3bfb0a70d411190bdc37a23ed5ac5",
      "563ed4ac8e834d9d97d3a0870bf1c14d",
      "42e7cd4e45ba4fed94960d401ef7ca72",
      "0b4d88b7c7eb40ad89498904d07d3b2d",
      "a4d26784a0b544b0b62a4ed3ea466685",
      "fcc48597122e46d1a7699b56d8a2e070",
      "63792bbea17d481aa27d6d79faefeb85",
      "33b55f8997024c1f8f5e71950af18d25",
      "9312524cad6949c3ae53a6b6098e66fd",
      "29c62fe2fde543e1bb9fc74b8191d093",
      "0e15a6e06e154729b5eaabf4d7a1b774",
      "562215e19296442a9533cb7a94d9c04c",
      "d9b6488f2a0b45f5bb402194be525d18",
      "0f19e016f4094c4286bce3f4b3bd9632",
      "cc8ffcb1e85c490ead6cdf7fb26929fd",
      "f189d65b733d42f783b8da489023897d",
      "68caaea8a1d948e4a2e10c0f7c8afd66",
      "f93ef85f8c7e410da914f9e7ef7e4fb4",
      "5320257b3bf54e29a1cdf73582d31186",
      "0e8cd08ce7ff4093851adc9fb8da9299"
     ]
    },
    "id": "HTLMwet5E5Fq",
    "outputId": "02d431d8-ad58-4da3-eb73-a5ab52f3c091"
   },
   "outputs": [
    {
     "data": {
      "application/vnd.jupyter.widget-view+json": {
       "model_id": "4c60dabf767a47ca90f540db6231c44c",
       "version_major": 2,
       "version_minor": 0
      },
      "text/plain": [
       "Parsing nodes:   0%|          | 0/15 [00:00<?, ?it/s]"
      ]
     },
     "metadata": {},
     "output_type": "display_data"
    },
    {
     "data": {
      "application/vnd.jupyter.widget-view+json": {
       "model_id": "3b37517699a944749bdcd9f41610e69b",
       "version_major": 2,
       "version_minor": 0
      },
      "text/plain": [
       "Extracting keywords from nodes:   0%|          | 0/15 [00:00<?, ?it/s]"
      ]
     },
     "metadata": {},
     "output_type": "display_data"
    }
   ],
   "source": [
    "keyword_table_index = SimpleKeywordTableIndex.from_documents(documents, show_progress=True)"
   ]
  },
  {
   "cell_type": "code",
   "execution_count": 73,
   "metadata": {
    "id": "Mw4GFB60E5Hm"
   },
   "outputs": [],
   "source": [
    "keyword_table_retriever = keyword_table_index.as_retriever(response_mode='simple')"
   ]
  },
  {
   "cell_type": "code",
   "execution_count": 74,
   "metadata": {
    "id": "AlK2YUWUGkMw"
   },
   "outputs": [],
   "source": [
    "nodes = keyword_table_retriever.retrieve(\"What is the use of positional encodings?\")"
   ]
  },
  {
   "cell_type": "code",
   "execution_count": 75,
   "metadata": {
    "colab": {
     "base_uri": "https://localhost:8080/"
    },
    "id": "Y4f-_j-gGCWz",
    "outputId": "c6a7fa23-d555-434d-f429-c8d90114db9e"
   },
   "outputs": [
    {
     "data": {
      "text/plain": [
       "1"
      ]
     },
     "execution_count": 75,
     "metadata": {},
     "output_type": "execute_result"
    }
   ],
   "source": [
    "len(nodes)"
   ]
  },
  {
   "cell_type": "code",
   "execution_count": 76,
   "metadata": {
    "colab": {
     "base_uri": "https://localhost:8080/"
    },
    "id": "xbI_HLPHZ9xa",
    "outputId": "71a1b1bc-813b-4a32-dd8c-b47c92735ccc"
   },
   "outputs": [
    {
     "name": "stdout",
     "output_type": "stream",
     "text": [
      "Node Id: f9762e70-6da1-41b9-a4d2-9b86f6ee690b\n",
      "Metadata: {'page_label': '6', 'file_name': 'transformers.pdf'}\n",
      "------------------------------------\n"
     ]
    }
   ],
   "source": [
    "for node in nodes:\n",
    "  print(\"Node Id:\",node.id_)\n",
    "  print(\"Metadata:\",node.metadata)\n",
    "  print(\"------------------------------------\")"
   ]
  },
  {
   "cell_type": "markdown",
   "metadata": {
    "id": "H48QYgqY_EEf"
   },
   "source": [
    "# 4. Document Summary Index"
   ]
  },
  {
   "cell_type": "markdown",
   "metadata": {},
   "source": [
    "- At its core, the `DocumentSummaryIndex` is designed to optimize information retrieval by summarizing Documents and mapping these summaries to their corresponding Nodes within the Index. \n",
    "\n",
    "- This process facilitates efficient data retrieval, using the summaries to quickly identify relevant Documents."
   ]
  },
  {
   "attachments": {
    "221fd0fb-feaa-40d4-a69c-31a37b56763b.jpg": {
     "image/jpeg": "[encoded data removed]"
    }
   },
   "cell_type": "markdown",
   "metadata": {},
   "source": [
    "![document summary index.jpg](attachment:221fd0fb-feaa-40d4-a69c-31a37b56763b.jpg)"
   ]
  },
  {
   "cell_type": "code",
   "execution_count": 77,
   "metadata": {
    "id": "irxhzK-t_XKU"
   },
   "outputs": [],
   "source": [
    "from llama_index.core import DocumentSummaryIndex"
   ]
  },
  {
   "cell_type": "code",
   "execution_count": 78,
   "metadata": {},
   "outputs": [],
   "source": [
    "from llama_index.core import get_response_synthesizer"
   ]
  },
  {
   "cell_type": "code",
   "execution_count": 79,
   "metadata": {
    "colab": {
     "base_uri": "https://localhost:8080/",
     "height": 381,
     "referenced_widgets": [
      "0791847cc196420ba25c65b7823fe485",
      "77065e8b8a6c48479491540c574729d5",
      "fec7029f6d5c48e09ef6e1914bb38373",
      "0ea368731aa34c579b0df6e04e8d44e9",
      "d3b616be6d4d45e9b2b31aeab8a89565",
      "6ee1d71fd13a4206ab1ab566e3e6c0b6",
      "636698023d8d45b1a8cde4fad9181f82",
      "378c8b2928ff475dad9baca0c908a271",
      "bb97d4e0d2c141c48556cfa4149f1739",
      "97a420d625da46e8adc47ba0ec4b293b",
      "25f30966ddc14a03ab32cf14673e3887",
      "ca79fe3f77ea406a8df525cf03ba173f",
      "5630f88b759449e286a1889a3e0b47f1",
      "cd5f06076b134908b2cc59168fb1f95d",
      "d31623dd407e4c2db4262131f3dc82ee",
      "d0c605e642c54e37893dc9f79c4621a4",
      "37c3e5cbee1946e6a20962b0bd52b48c",
      "79ad7071e4de495897b1f33d7d039915",
      "b1383b78552a46d7981dec6d73be6aea",
      "13f7fee4abb8443ebccf3114fb13ce59",
      "023a4e8b8fb64d2ebae3cc00c271e0de",
      "bbfbcc65912d4f1b91e74ac2519f1ce5",
      "dddd7eec43834c488d9c6f5565421ddb",
      "f22508551c0f4606862af1765e1010f6",
      "a3377d2e45a448dda9f0abdd3caf51ba",
      "3929d15b0daa47e69c3e3893914d1190",
      "7edf425c37d34fe0ad42a5e382ce241e",
      "78c2a7cbf02d40538235539c39f6a105",
      "a4ed01a78a49456e81749c28988c3b5f",
      "f6d1f42d73e643799a9a9a5a466f97e4",
      "23417b1b0c654cf68715d01993f0ab89",
      "245d1015993e4da98cfd221cb36907fc",
      "d9c30abb6ebb4c79b30fbb429bdd5782"
     ]
    },
    "id": "4mO5VNnC_XTp",
    "outputId": "db919a30-1fcb-4922-c198-e8f72daca4a6"
   },
   "outputs": [
    {
     "data": {
      "application/vnd.jupyter.widget-view+json": {
       "model_id": "a240c7bfe89f4e1facececa12fb03490",
       "version_major": 2,
       "version_minor": 0
      },
      "text/plain": [
       "Parsing nodes:   0%|          | 0/15 [00:00<?, ?it/s]"
      ]
     },
     "metadata": {},
     "output_type": "display_data"
    },
    {
     "data": {
      "application/vnd.jupyter.widget-view+json": {
       "model_id": "4b9702412a5c4c4cb09bbc5727a7cc1d",
       "version_major": 2,
       "version_minor": 0
      },
      "text/plain": [
       "Summarizing documents:   0%|          | 0/15 [00:00<?, ?it/s]"
      ]
     },
     "metadata": {},
     "output_type": "display_data"
    },
    {
     "name": "stdout",
     "output_type": "stream",
     "text": [
      "current doc id: d944eb57-8b4b-42c1-90b7-5faf4db34b3e\n",
      "current doc id: 4e684ccb-e7fc-4326-8d62-61e543cb4a68\n",
      "current doc id: b499b907-9fe4-4498-a015-e746732df883\n",
      "current doc id: 40ac0c5d-1a45-4032-b739-607c5a84b2b4\n",
      "current doc id: 61e21387-6d6f-4d19-bf22-be7399fe1ac8\n",
      "current doc id: 062c14af-c32e-4135-b28f-f27bbe7ab03c\n",
      "current doc id: 1ce69226-73c0-4862-a272-6aba980195ce\n",
      "current doc id: 2a62187b-4086-4b19-a7c2-dbc6597ff7a4\n",
      "current doc id: db84eba0-33b6-44d9-bb94-91a9f23aeeaf\n",
      "current doc id: 1ed835dc-b9f0-436b-a303-efa4481bae45\n",
      "current doc id: c294b9e0-9e4b-4e4c-aba1-432fe9b2d748\n",
      "current doc id: 32344f12-7b33-435c-8704-bade0a4b3a65\n",
      "current doc id: 08907ac1-5c73-4cb5-ac06-51547819c72b\n",
      "current doc id: f29a0193-f5e2-4d95-88c0-5903941ac42d\n",
      "current doc id: 9778fa20-5568-4bc8-b335-58339429e00c\n"
     ]
    },
    {
     "data": {
      "application/vnd.jupyter.widget-view+json": {
       "model_id": "cc54b292f1b94b4f9a6bc8647fa0abd7",
       "version_major": 2,
       "version_minor": 0
      },
      "text/plain": [
       "Generating embeddings:   0%|          | 0/15 [00:00<?, ?it/s]"
      ]
     },
     "metadata": {},
     "output_type": "display_data"
    }
   ],
   "source": [
    "response_synthesizer = get_response_synthesizer(response_mode=\"tree_summarize\") # \"refine\", \"compact\", \"accumulate\", \"compact_accumulate\"\n",
    "\n",
    "doc_summary_index = DocumentSummaryIndex.from_documents(documents, response_synthesizer=response_synthesizer, show_progress=True)"
   ]
  },
  {
   "cell_type": "code",
   "execution_count": 81,
   "metadata": {},
   "outputs": [
    {
     "name": "stdout",
     "output_type": "stream",
     "text": [
      "The provided text discusses the Transformer model, which is a sequence transduction model based on attention mechanisms, replacing recurrent layers commonly used in encoder-decoder architectures with multi-headed self-attention. The text highlights the Transformer's success in tasks such as English constituency parsing, translation tasks like English-to-German and English-to-French, and its efficiency in training compared to architectures based on recurrent or convolutional layers. The authors express excitement about the potential of attention-based models and their plans to apply them to various tasks beyond text, such as images, audio, and video.\n",
      "\n",
      "Some questions that this text can answer include:\n",
      "- What is the Transformer model and how does it differ from traditional encoder-decoder architectures?\n",
      "- In what tasks has the Transformer model shown success, according to the provided information?\n",
      "- How does the Transformer model compare in terms of training efficiency to architectures based on recurrent or convolutional layers?\n",
      "- What are the future research goals and applications planned for the Transformer model?\n",
      "- Where can one find the code used to train and evaluate the Transformer models mentioned in the text?\n"
     ]
    }
   ],
   "source": [
    "print(doc_summary_index.get_document_summary(doc_id='1ed835dc-b9f0-436b-a303-efa4481bae45'))"
   ]
  },
  {
   "cell_type": "code",
   "execution_count": 82,
   "metadata": {},
   "outputs": [
    {
     "name": "stdout",
     "output_type": "stream",
     "text": [
      "\n",
      " Summary of the first document: The text discusses a new network architecture called the Transformer, which is based solely on attention mechanisms and does not rely on recurrent or convolutional neural networks. The Transformer model has shown superior performance in machine translation tasks, achieving high quality results, being more parallelizable, and requiring less training time compared to existing models. The text also mentions specific achievements of the Transformer model in tasks such as English-to-German and English-to-French translation, as well as its successful application to English constituency parsing.\n",
      "\n",
      "Some questions that this text can answer include:\n",
      "- What is the Transformer network architecture and how does it differ from traditional models?\n",
      "- How does the Transformer model perform in machine translation tasks compared to existing models?\n",
      "- What are some advantages of the Transformer model in terms of training time and parallelizability?\n",
      "- In which specific tasks has the Transformer model shown success and improved results?\n",
      "- Who were the key contributors to the development and implementation of the Transformer model?\n",
      "**************************************************\n",
      "\n",
      " Summary of the second document: The text discusses the development of a model architecture called the Transformer, which relies solely on an attention mechanism for drawing global dependencies between input and output, eliminating the need for recurrence in sequence modeling tasks. It contrasts the Transformer with traditional models that use recurrent neural networks or convolutional neural networks for sequence processing. The text explains how the Transformer allows for more parallelization and can achieve state-of-the-art results in translation quality with reduced sequential computation.\n",
      "\n",
      "Some questions that this text can answer include:\n",
      "- What are some state-of-the-art approaches in sequence modeling and transduction problems?\n",
      "- How does the Transformer model architecture differ from traditional recurrent neural network models?\n",
      "- What are the advantages of using self-attention mechanisms in sequence modeling tasks?\n",
      "- How does the Transformer model achieve more parallelization compared to models based on recurrence or convolution?\n",
      "- What are some challenges faced by traditional models in learning dependencies between distant positions in sequences?\n"
     ]
    }
   ],
   "source": [
    "summary1 = doc_summary_index.get_document_summary(documents[0].doc_id)\n",
    "summary2 = doc_summary_index.get_document_summary(documents[1].doc_id)\n",
    "print(\"\\n Summary of the first document: \" + summary1)\n",
    "print(\"**************************************************\")\n",
    "print(\"\\n Summary of the second document: \" + summary2)"
   ]
  },
  {
   "cell_type": "code",
   "execution_count": 83,
   "metadata": {},
   "outputs": [
    {
     "data": {
      "text/plain": [
       "'ed07eba3-34bf-4527-b0de-3e8075dcf59c'"
      ]
     },
     "execution_count": 83,
     "metadata": {},
     "output_type": "execute_result"
    }
   ],
   "source": [
    "doc_summary_index.index_id"
   ]
  },
  {
   "cell_type": "code",
   "execution_count": 84,
   "metadata": {},
   "outputs": [
    {
     "data": {
      "text/plain": [
       "dict_keys(['index_id', 'summary', 'summary_id_to_node_ids', 'node_id_to_summary_id', 'doc_id_to_summary_id'])"
      ]
     },
     "execution_count": 84,
     "metadata": {},
     "output_type": "execute_result"
    }
   ],
   "source": [
    "doc_summary_index.index_struct.to_dict().keys()"
   ]
  },
  {
   "cell_type": "code",
   "execution_count": 85,
   "metadata": {},
   "outputs": [
    {
     "data": {
      "text/plain": [
       "{'d944eb57-8b4b-42c1-90b7-5faf4db34b3e': '9cb5e053-b9fc-47ca-873c-cb9d5067acb5',\n",
       " '4e684ccb-e7fc-4326-8d62-61e543cb4a68': '61cd9e28-63d3-4d53-9c1d-91b9d7e907bb',\n",
       " 'b499b907-9fe4-4498-a015-e746732df883': '0131123c-9b76-4bc5-9cc7-7ceab0a86b5b',\n",
       " '40ac0c5d-1a45-4032-b739-607c5a84b2b4': '886f3453-c9eb-47a1-ad0a-e4fc90f69cbf',\n",
       " '61e21387-6d6f-4d19-bf22-be7399fe1ac8': 'c0d45a68-8ffc-4be7-bf5f-d3d423d39b1a',\n",
       " '062c14af-c32e-4135-b28f-f27bbe7ab03c': '0e5b27ad-2ed2-4202-a47c-767978ee1ab2',\n",
       " '1ce69226-73c0-4862-a272-6aba980195ce': '2d8c9cfd-bd54-4f4e-abfb-5e5cf266e306',\n",
       " '2a62187b-4086-4b19-a7c2-dbc6597ff7a4': '72b73788-58db-4335-bc5c-5463233e11ea',\n",
       " 'db84eba0-33b6-44d9-bb94-91a9f23aeeaf': 'a4377050-3ed6-48d2-8a39-26a38de524eb',\n",
       " '1ed835dc-b9f0-436b-a303-efa4481bae45': '105e14bb-ffc4-4c8f-b29e-5bcd8f3f27a3',\n",
       " 'c294b9e0-9e4b-4e4c-aba1-432fe9b2d748': '6225019b-07ec-4181-9395-f047097cbb01',\n",
       " '32344f12-7b33-435c-8704-bade0a4b3a65': '78460b5d-87b9-4c71-868b-3bcbb6ede61c',\n",
       " '08907ac1-5c73-4cb5-ac06-51547819c72b': '201f0415-65e5-47e2-8899-cf2260f2088f',\n",
       " 'f29a0193-f5e2-4d95-88c0-5903941ac42d': '499ad71a-a76b-4f19-850c-f89aacaa2276',\n",
       " '9778fa20-5568-4bc8-b335-58339429e00c': '059d10f0-368d-4380-a98f-bd0e880927cf'}"
      ]
     },
     "execution_count": 85,
     "metadata": {},
     "output_type": "execute_result"
    }
   ],
   "source": [
    "doc_summary_index.index_struct.doc_id_to_summary_id"
   ]
  },
  {
   "cell_type": "code",
   "execution_count": 86,
   "metadata": {},
   "outputs": [
    {
     "data": {
      "text/plain": [
       "{'0a596e4c-bc99-4d51-a2d1-b7189adc927d': '9cb5e053-b9fc-47ca-873c-cb9d5067acb5',\n",
       " 'be9e905e-7e91-4750-a177-997c2a970e67': '61cd9e28-63d3-4d53-9c1d-91b9d7e907bb',\n",
       " '581f2cfe-7ce7-4b41-8008-e3ab97cb8db4': '0131123c-9b76-4bc5-9cc7-7ceab0a86b5b',\n",
       " '56c000a7-4112-4c34-a5f1-ef986918d492': '886f3453-c9eb-47a1-ad0a-e4fc90f69cbf',\n",
       " '9e1ce75a-e31b-497b-9822-5cd4528e7140': 'c0d45a68-8ffc-4be7-bf5f-d3d423d39b1a',\n",
       " 'ccbd401d-1fe1-4a23-938e-afa9db8f3d25': '0e5b27ad-2ed2-4202-a47c-767978ee1ab2',\n",
       " '8f4e7cdf-6673-4366-9590-121be0b1175f': '2d8c9cfd-bd54-4f4e-abfb-5e5cf266e306',\n",
       " '195db0a0-ec89-401e-9efe-41ea7621c285': '72b73788-58db-4335-bc5c-5463233e11ea',\n",
       " '40d71ac0-9598-4c4a-adc8-02f285ef30d8': 'a4377050-3ed6-48d2-8a39-26a38de524eb',\n",
       " '9520cc53-7503-4aed-9e1c-bcdd2a3b450b': '105e14bb-ffc4-4c8f-b29e-5bcd8f3f27a3',\n",
       " '404d717c-c3e9-4c6c-8b01-010c5feff3fe': '6225019b-07ec-4181-9395-f047097cbb01',\n",
       " '1e4014a9-aa1e-403e-aade-194bf9774d86': '78460b5d-87b9-4c71-868b-3bcbb6ede61c',\n",
       " '15f7212a-10a4-4b20-b5b7-5cf5fe3f2813': '201f0415-65e5-47e2-8899-cf2260f2088f',\n",
       " '5b8d9ee0-e2ef-4ea6-9d76-e711b4a57a2e': '499ad71a-a76b-4f19-850c-f89aacaa2276',\n",
       " '32d57bd6-a0c0-4597-ab97-e33554df1fa7': '059d10f0-368d-4380-a98f-bd0e880927cf'}"
      ]
     },
     "execution_count": 86,
     "metadata": {},
     "output_type": "execute_result"
    }
   ],
   "source": [
    "doc_summary_index.index_struct.node_id_to_summary_id"
   ]
  },
  {
   "cell_type": "code",
   "execution_count": 87,
   "metadata": {},
   "outputs": [
    {
     "data": {
      "text/plain": [
       "{'9cb5e053-b9fc-47ca-873c-cb9d5067acb5': ['0a596e4c-bc99-4d51-a2d1-b7189adc927d'],\n",
       " '61cd9e28-63d3-4d53-9c1d-91b9d7e907bb': ['be9e905e-7e91-4750-a177-997c2a970e67'],\n",
       " '0131123c-9b76-4bc5-9cc7-7ceab0a86b5b': ['581f2cfe-7ce7-4b41-8008-e3ab97cb8db4'],\n",
       " '886f3453-c9eb-47a1-ad0a-e4fc90f69cbf': ['56c000a7-4112-4c34-a5f1-ef986918d492'],\n",
       " 'c0d45a68-8ffc-4be7-bf5f-d3d423d39b1a': ['9e1ce75a-e31b-497b-9822-5cd4528e7140'],\n",
       " '0e5b27ad-2ed2-4202-a47c-767978ee1ab2': ['ccbd401d-1fe1-4a23-938e-afa9db8f3d25'],\n",
       " '2d8c9cfd-bd54-4f4e-abfb-5e5cf266e306': ['8f4e7cdf-6673-4366-9590-121be0b1175f'],\n",
       " '72b73788-58db-4335-bc5c-5463233e11ea': ['195db0a0-ec89-401e-9efe-41ea7621c285'],\n",
       " 'a4377050-3ed6-48d2-8a39-26a38de524eb': ['40d71ac0-9598-4c4a-adc8-02f285ef30d8'],\n",
       " '105e14bb-ffc4-4c8f-b29e-5bcd8f3f27a3': ['9520cc53-7503-4aed-9e1c-bcdd2a3b450b'],\n",
       " '6225019b-07ec-4181-9395-f047097cbb01': ['404d717c-c3e9-4c6c-8b01-010c5feff3fe'],\n",
       " '78460b5d-87b9-4c71-868b-3bcbb6ede61c': ['1e4014a9-aa1e-403e-aade-194bf9774d86'],\n",
       " '201f0415-65e5-47e2-8899-cf2260f2088f': ['15f7212a-10a4-4b20-b5b7-5cf5fe3f2813'],\n",
       " '499ad71a-a76b-4f19-850c-f89aacaa2276': ['5b8d9ee0-e2ef-4ea6-9d76-e711b4a57a2e'],\n",
       " '059d10f0-368d-4380-a98f-bd0e880927cf': ['32d57bd6-a0c0-4597-ab97-e33554df1fa7']}"
      ]
     },
     "execution_count": 87,
     "metadata": {},
     "output_type": "execute_result"
    }
   ],
   "source": [
    "doc_summary_index.index_struct.summary_id_to_node_ids"
   ]
  },
  {
   "cell_type": "code",
   "execution_count": 88,
   "metadata": {},
   "outputs": [],
   "source": [
    "doc_summary_index.vector_store.persist(\"document_summary_vector_store.json\")"
   ]
  },
  {
   "cell_type": "code",
   "execution_count": 89,
   "metadata": {},
   "outputs": [],
   "source": [
    "doc_summary_index.docstore.persist(\"document_summary_doc_store.json\")"
   ]
  },
  {
   "cell_type": "markdown",
   "metadata": {
    "id": "vL--tmLJAB-n"
   },
   "source": [
    "## Document Summary Index LLM Retriever"
   ]
  },
  {
   "cell_type": "code",
   "execution_count": 90,
   "metadata": {
    "id": "x1ihRFAH_XWA"
   },
   "outputs": [],
   "source": [
    "doc_summary_llm_retriever = doc_summary_index.as_retriever(retriever_mode='llm')"
   ]
  },
  {
   "cell_type": "code",
   "execution_count": 91,
   "metadata": {
    "id": "rhNEROX_-9ba"
   },
   "outputs": [],
   "source": [
    "nodes = doc_summary_llm_retriever.retrieve(\"What is the use of positional encodings?\")"
   ]
  },
  {
   "cell_type": "code",
   "execution_count": 92,
   "metadata": {
    "colab": {
     "base_uri": "https://localhost:8080/"
    },
    "id": "m2VCq92GOdOQ",
    "outputId": "fb8102cf-9156-46f8-8612-061bdffcc7a6"
   },
   "outputs": [
    {
     "data": {
      "text/plain": [
       "1"
      ]
     },
     "execution_count": 92,
     "metadata": {},
     "output_type": "execute_result"
    }
   ],
   "source": [
    "len(nodes)"
   ]
  },
  {
   "cell_type": "code",
   "execution_count": 93,
   "metadata": {
    "colab": {
     "base_uri": "https://localhost:8080/"
    },
    "id": "KMb7NQMy-9dw",
    "outputId": "8a2685e1-79c7-4ec4-de74-f2cd2a98ab9f"
   },
   "outputs": [
    {
     "name": "stdout",
     "output_type": "stream",
     "text": [
      "Node Id: ccbd401d-1fe1-4a23-938e-afa9db8f3d25\n",
      "Metadata: {'page_label': '6', 'file_name': 'transformers.pdf'}\n",
      "------------------------------------\n"
     ]
    }
   ],
   "source": [
    "for node in nodes:\n",
    "  print(\"Node Id:\",node.id_)\n",
    "  print(\"Metadata:\",node.metadata)\n",
    "  print(\"------------------------------------\")"
   ]
  },
  {
   "cell_type": "code",
   "execution_count": 94,
   "metadata": {},
   "outputs": [
    {
     "name": "stdout",
     "output_type": "stream",
     "text": [
      "Table 1: Maximum path lengths, per-layer complexity and minimum number of sequential operations\n",
      "for different layer types. nis the sequence length, dis the representation dimension, kis the kernel\n",
      "size of convolutions and rthe size of the neighborhood in restricted self-attention.\n",
      "Layer Type Complexity per Layer Sequential Maximum Path Length\n",
      "Operations\n",
      "Self-Attention O(n2·d) O(1) O(1)\n",
      "Recurrent O(n·d2) O(n) O(n)\n",
      "Convolutional O(k·n·d2) O(1) O(logk(n))\n",
      "Self-Attention (restricted) O(r·n·d) O(1) O(n/r)\n",
      "3.5 Positional Encoding\n",
      "Since our model contains no recurrence and no convolution, in order for the model to make use of the\n",
      "order of the sequence, we must inject some information about the relative or absolute position of the\n",
      "tokens in the sequence. To this end, we add \"positional encodings\" to the input embeddings at the\n",
      "bottoms of the encoder and decoder stacks. The positional encodings have the same dimension dmodel\n",
      "as the embeddings, so that the two can be summed. There are many choices of positional encodings,\n",
      "learned and fixed [9].\n",
      "In this work, we use sine and cosine functions of different frequencies:\n",
      "PE(pos,2i)=sin(pos/100002i/d model)\n",
      "PE(pos,2i+1)=cos(pos/100002i/d model)\n",
      "where posis the position and iis the dimension. That is, each dimension of the positional encoding\n",
      "corresponds to a sinusoid. The wavelengths form a geometric progression from 2πto10000 ·2π. We\n",
      "chose this function because we hypothesized it would allow the model to easily learn to attend by\n",
      "relative positions, since for any fixed offset k,PEpos+kcan be represented as a linear function of\n",
      "PEpos.\n",
      "We also experimented with using learned positional embeddings [ 9] instead, and found that the two\n",
      "versions produced nearly identical results (see Table 3 row (E)). We chose the sinusoidal version\n",
      "because it may allow the model to extrapolate to sequence lengths longer than the ones encountered\n",
      "during training.\n",
      "4 Why Self-Attention\n",
      "In this section we compare various aspects of self-attention layers to the recurrent and convolu-\n",
      "tional layers commonly used for mapping one variable-length sequence of symbol representations\n",
      "(x1, ..., x n)to another sequence of equal length (z1, ..., z n), with xi, zi∈Rd, such as a hidden\n",
      "layer in a typical sequence transduction encoder or decoder. Motivating our use of self-attention we\n",
      "consider three desiderata.\n",
      "One is the total computational complexity per layer. Another is the amount of computation that can\n",
      "be parallelized, as measured by the minimum number of sequential operations required.\n",
      "The third is the path length between long-range dependencies in the network. Learning long-range\n",
      "dependencies is a key challenge in many sequence transduction tasks. One key factor affecting the\n",
      "ability to learn such dependencies is the length of the paths forward and backward signals have to\n",
      "traverse in the network. The shorter these paths between any combination of positions in the input\n",
      "and output sequences, the easier it is to learn long-range dependencies [ 12]. Hence we also compare\n",
      "the maximum path length between any two input and output positions in networks composed of the\n",
      "different layer types.\n",
      "As noted in Table 1, a self-attention layer connects all positions with a constant number of sequentially\n",
      "executed operations, whereas a recurrent layer requires O(n)sequential operations. In terms of\n",
      "computational complexity, self-attention layers are faster than recurrent layers when the sequence\n",
      "6\n"
     ]
    }
   ],
   "source": [
    "print(nodes[0].text)"
   ]
  },
  {
   "cell_type": "markdown",
   "metadata": {
    "id": "TYG-R9pRB8OH"
   },
   "source": [
    "## Document Summary Index Embedding Retriever"
   ]
  },
  {
   "cell_type": "code",
   "execution_count": 95,
   "metadata": {
    "id": "aYGk4WMr-9iL"
   },
   "outputs": [],
   "source": [
    "doc_summary_embed_retriever = doc_summary_index.as_retriever(retriever_mode='embedding', similarity_top_k=3)"
   ]
  },
  {
   "cell_type": "code",
   "execution_count": 96,
   "metadata": {
    "id": "9dpWeP6HEtMy"
   },
   "outputs": [],
   "source": [
    "nodes = doc_summary_embed_retriever.retrieve(\"What is the use of positional encodings?\")"
   ]
  },
  {
   "cell_type": "code",
   "execution_count": 97,
   "metadata": {},
   "outputs": [
    {
     "data": {
      "text/plain": [
       "3"
      ]
     },
     "execution_count": 97,
     "metadata": {},
     "output_type": "execute_result"
    }
   ],
   "source": [
    "len(nodes)"
   ]
  },
  {
   "cell_type": "code",
   "execution_count": 98,
   "metadata": {
    "colab": {
     "base_uri": "https://localhost:8080/"
    },
    "id": "nastnKLXEtO9",
    "outputId": "9646e0f4-4181-43c5-9c65-242ca1c792a3"
   },
   "outputs": [
    {
     "name": "stdout",
     "output_type": "stream",
     "text": [
      "Node Id: ccbd401d-1fe1-4a23-938e-afa9db8f3d25\n",
      "Metadata: {'page_label': '6', 'file_name': 'transformers.pdf'}\n",
      "------------------------------------\n",
      "Node Id: 9e1ce75a-e31b-497b-9822-5cd4528e7140\n",
      "Metadata: {'page_label': '5', 'file_name': 'transformers.pdf'}\n",
      "------------------------------------\n",
      "Node Id: 40d71ac0-9598-4c4a-adc8-02f285ef30d8\n",
      "Metadata: {'page_label': '9', 'file_name': 'transformers.pdf'}\n",
      "------------------------------------\n"
     ]
    }
   ],
   "source": [
    "for node in nodes:\n",
    "  print(\"Node Id:\",node.id_)\n",
    "  print(\"Metadata:\",node.metadata)\n",
    "  print(\"------------------------------------\")"
   ]
  },
  {
   "cell_type": "code",
   "execution_count": 99,
   "metadata": {
    "id": "F9Z1FiJdQKJc"
   },
   "outputs": [
    {
     "name": "stdout",
     "output_type": "stream",
     "text": [
      "Table 1: Maximum path lengths, per-layer complexity and minimum number of sequential operations\n",
      "for different layer types. nis the sequence length, dis the representation dimension, kis the kernel\n",
      "size of convolutions and rthe size of the neighborhood in restricted self-attention.\n",
      "Layer Type Complexity per Layer Sequential Maximum Path Length\n",
      "Operations\n",
      "Self-Attention O(n2·d) O(1) O(1)\n",
      "Recurrent O(n·d2) O(n) O(n)\n",
      "Convolutional O(k·n·d2) O(1) O(logk(n))\n",
      "Self-Attention (restricted) O(r·n·d) O(1) O(n/r)\n",
      "3.5 Positional Encoding\n",
      "Since our model contains no recurrence and no convolution, in order for the model to make use of the\n",
      "order of the sequence, we must inject some information about the relative or absolute position of the\n",
      "tokens in the sequence. To this end, we add \"positional encodings\" to the input embeddings at the\n",
      "bottoms of the encoder and decoder stacks. The positional encodings have the same dimension dmodel\n",
      "as the embeddings, so that the two can be summed. There are many choices of positional encodings,\n",
      "learned and fixed [9].\n",
      "In this work, we use sine and cosine functions of different frequencies:\n",
      "PE(pos,2i)=sin(pos/100002i/d model)\n",
      "PE(pos,2i+1)=cos(pos/100002i/d model)\n",
      "where posis the position and iis the dimension. That is, each dimension of the positional encoding\n",
      "corresponds to a sinusoid. The wavelengths form a geometric progression from 2πto10000 ·2π. We\n",
      "chose this function because we hypothesized it would allow the model to easily learn to attend by\n",
      "relative positions, since for any fixed offset k,PEpos+kcan be represented as a linear function of\n",
      "PEpos.\n",
      "We also experimented with using learned positional embeddings [ 9] instead, and found that the two\n",
      "versions produced nearly identical results (see Table 3 row (E)). We chose the sinusoidal version\n",
      "because it may allow the model to extrapolate to sequence lengths longer than the ones encountered\n",
      "during training.\n",
      "4 Why Self-Attention\n",
      "In this section we compare various aspects of self-attention layers to the recurrent and convolu-\n",
      "tional layers commonly used for mapping one variable-length sequence of symbol representations\n",
      "(x1, ..., x n)to another sequence of equal length (z1, ..., z n), with xi, zi∈Rd, such as a hidden\n",
      "layer in a typical sequence transduction encoder or decoder. Motivating our use of self-attention we\n",
      "consider three desiderata.\n",
      "One is the total computational complexity per layer. Another is the amount of computation that can\n",
      "be parallelized, as measured by the minimum number of sequential operations required.\n",
      "The third is the path length between long-range dependencies in the network. Learning long-range\n",
      "dependencies is a key challenge in many sequence transduction tasks. One key factor affecting the\n",
      "ability to learn such dependencies is the length of the paths forward and backward signals have to\n",
      "traverse in the network. The shorter these paths between any combination of positions in the input\n",
      "and output sequences, the easier it is to learn long-range dependencies [ 12]. Hence we also compare\n",
      "the maximum path length between any two input and output positions in networks composed of the\n",
      "different layer types.\n",
      "As noted in Table 1, a self-attention layer connects all positions with a constant number of sequentially\n",
      "executed operations, whereas a recurrent layer requires O(n)sequential operations. In terms of\n",
      "computational complexity, self-attention layers are faster than recurrent layers when the sequence\n",
      "6\n"
     ]
    }
   ],
   "source": [
    "print(nodes[0].text)"
   ]
  },
  {
   "cell_type": "code",
   "execution_count": null,
   "metadata": {},
   "outputs": [],
   "source": []
  }
 ],
 "metadata": {
  "colab": {
   "provenance": []
  },
  "kernelspec": {
   "display_name": "training-env",
   "language": "python",
   "name": "python3"
  },
  "language_info": {
   "codemirror_mode": {
    "name": "ipython",
    "version": 3
   },
   "file_extension": ".py",
   "mimetype": "text/x-python",
   "name": "python",
   "nbconvert_exporter": "python",
   "pygments_lexer": "ipython3",
   "version": "3.12.10"
  },
  "widgets": {
   "application/vnd.jupyter.widget-state+json": {
    "023a4e8b8fb64d2ebae3cc00c271e0de": {
     "model_module": "@jupyter-widgets/base",
     "model_module_version": "1.2.0",
     "model_name": "LayoutModel",
     "state": {
      "_model_module": "@jupyter-widgets/base",
      "_model_module_version": "1.2.0",
      "_model_name": "LayoutModel",
      "_view_count": null,
      "_view_module": "@jupyter-widgets/base",
      "_view_module_version": "1.2.0",
      "_view_name": "LayoutView",
      "align_content": null,
      "align_items": null,
      "align_self": null,
      "border": null,
      "bottom": null,
      "display": null,
      "flex": null,
      "flex_flow": null,
      "grid_area": null,
      "grid_auto_columns": null,
      "grid_auto_flow": null,
      "grid_auto_rows": null,
      "grid_column": null,
      "grid_gap": null,
      "grid_row": null,
      "grid_template_areas": null,
      "grid_template_columns": null,
      "grid_template_rows": null,
      "height": null,
      "justify_content": null,
      "justify_items": null,
      "left": null,
      "margin": null,
      "max_height": null,
      "max_width": null,
      "min_height": null,
      "min_width": null,
      "object_fit": null,
      "object_position": null,
      "order": null,
      "overflow": null,
      "overflow_x": null,
      "overflow_y": null,
      "padding": null,
      "right": null,
      "top": null,
      "visibility": null,
      "width": null
     }
    },
    "0791847cc196420ba25c65b7823fe485": {
     "model_module": "@jupyter-widgets/controls",
     "model_module_version": "1.5.0",
     "model_name": "HBoxModel",
     "state": {
      "_dom_classes": [],
      "_model_module": "@jupyter-widgets/controls",
      "_model_module_version": "1.5.0",
      "_model_name": "HBoxModel",
      "_view_count": null,
      "_view_module": "@jupyter-widgets/controls",
      "_view_module_version": "1.5.0",
      "_view_name": "HBoxView",
      "box_style": "",
      "children": [
       "IPY_MODEL_77065e8b8a6c48479491540c574729d5",
       "IPY_MODEL_fec7029f6d5c48e09ef6e1914bb38373",
       "IPY_MODEL_0ea368731aa34c579b0df6e04e8d44e9"
      ],
      "layout": "IPY_MODEL_d3b616be6d4d45e9b2b31aeab8a89565"
     }
    },
    "0b4d88b7c7eb40ad89498904d07d3b2d": {
     "model_module": "@jupyter-widgets/base",
     "model_module_version": "1.2.0",
     "model_name": "LayoutModel",
     "state": {
      "_model_module": "@jupyter-widgets/base",
      "_model_module_version": "1.2.0",
      "_model_name": "LayoutModel",
      "_view_count": null,
      "_view_module": "@jupyter-widgets/base",
      "_view_module_version": "1.2.0",
      "_view_name": "LayoutView",
      "align_content": null,
      "align_items": null,
      "align_self": null,
      "border": null,
      "bottom": null,
      "display": null,
      "flex": null,
      "flex_flow": null,
      "grid_area": null,
      "grid_auto_columns": null,
      "grid_auto_flow": null,
      "grid_auto_rows": null,
      "grid_column": null,
      "grid_gap": null,
      "grid_row": null,
      "grid_template_areas": null,
      "grid_template_columns": null,
      "grid_template_rows": null,
      "height": null,
      "justify_content": null,
      "justify_items": null,
      "left": null,
      "margin": null,
      "max_height": null,
      "max_width": null,
      "min_height": null,
      "min_width": null,
      "object_fit": null,
      "object_position": null,
      "order": null,
      "overflow": null,
      "overflow_x": null,
      "overflow_y": null,
      "padding": null,
      "right": null,
      "top": null,
      "visibility": null,
      "width": null
     }
    },
    "0e15a6e06e154729b5eaabf4d7a1b774": {
     "model_module": "@jupyter-widgets/controls",
     "model_module_version": "1.5.0",
     "model_name": "HTMLModel",
     "state": {
      "_dom_classes": [],
      "_model_module": "@jupyter-widgets/controls",
      "_model_module_version": "1.5.0",
      "_model_name": "HTMLModel",
      "_view_count": null,
      "_view_module": "@jupyter-widgets/controls",
      "_view_module_version": "1.5.0",
      "_view_name": "HTMLView",
      "description": "",
      "description_tooltip": null,
      "layout": "IPY_MODEL_cc8ffcb1e85c490ead6cdf7fb26929fd",
      "placeholder": "​",
      "style": "IPY_MODEL_f189d65b733d42f783b8da489023897d",
      "value": "Extracting keywords from nodes: 100%"
     }
    },
    "0e8cd08ce7ff4093851adc9fb8da9299": {
     "model_module": "@jupyter-widgets/controls",
     "model_module_version": "1.5.0",
     "model_name": "DescriptionStyleModel",
     "state": {
      "_model_module": "@jupyter-widgets/controls",
      "_model_module_version": "1.5.0",
      "_model_name": "DescriptionStyleModel",
      "_view_count": null,
      "_view_module": "@jupyter-widgets/base",
      "_view_module_version": "1.2.0",
      "_view_name": "StyleView",
      "description_width": ""
     }
    },
    "0ea368731aa34c579b0df6e04e8d44e9": {
     "model_module": "@jupyter-widgets/controls",
     "model_module_version": "1.5.0",
     "model_name": "HTMLModel",
     "state": {
      "_dom_classes": [],
      "_model_module": "@jupyter-widgets/controls",
      "_model_module_version": "1.5.0",
      "_model_name": "HTMLModel",
      "_view_count": null,
      "_view_module": "@jupyter-widgets/controls",
      "_view_module_version": "1.5.0",
      "_view_name": "HTMLView",
      "description": "",
      "description_tooltip": null,
      "layout": "IPY_MODEL_97a420d625da46e8adc47ba0ec4b293b",
      "placeholder": "​",
      "style": "IPY_MODEL_25f30966ddc14a03ab32cf14673e3887",
      "value": " 15/15 [00:00&lt;00:00, 205.92it/s]"
     }
    },
    "0f19e016f4094c4286bce3f4b3bd9632": {
     "model_module": "@jupyter-widgets/base",
     "model_module_version": "1.2.0",
     "model_name": "LayoutModel",
     "state": {
      "_model_module": "@jupyter-widgets/base",
      "_model_module_version": "1.2.0",
      "_model_name": "LayoutModel",
      "_view_count": null,
      "_view_module": "@jupyter-widgets/base",
      "_view_module_version": "1.2.0",
      "_view_name": "LayoutView",
      "align_content": null,
      "align_items": null,
      "align_self": null,
      "border": null,
      "bottom": null,
      "display": null,
      "flex": null,
      "flex_flow": null,
      "grid_area": null,
      "grid_auto_columns": null,
      "grid_auto_flow": null,
      "grid_auto_rows": null,
      "grid_column": null,
      "grid_gap": null,
      "grid_row": null,
      "grid_template_areas": null,
      "grid_template_columns": null,
      "grid_template_rows": null,
      "height": null,
      "justify_content": null,
      "justify_items": null,
      "left": null,
      "margin": null,
      "max_height": null,
      "max_width": null,
      "min_height": null,
      "min_width": null,
      "object_fit": null,
      "object_position": null,
      "order": null,
      "overflow": null,
      "overflow_x": null,
      "overflow_y": null,
      "padding": null,
      "right": null,
      "top": null,
      "visibility": null,
      "width": null
     }
    },
    "13f7fee4abb8443ebccf3114fb13ce59": {
     "model_module": "@jupyter-widgets/controls",
     "model_module_version": "1.5.0",
     "model_name": "ProgressStyleModel",
     "state": {
      "_model_module": "@jupyter-widgets/controls",
      "_model_module_version": "1.5.0",
      "_model_name": "ProgressStyleModel",
      "_view_count": null,
      "_view_module": "@jupyter-widgets/base",
      "_view_module_version": "1.2.0",
      "_view_name": "StyleView",
      "bar_color": null,
      "description_width": ""
     }
    },
    "23417b1b0c654cf68715d01993f0ab89": {
     "model_module": "@jupyter-widgets/controls",
     "model_module_version": "1.5.0",
     "model_name": "ProgressStyleModel",
     "state": {
      "_model_module": "@jupyter-widgets/controls",
      "_model_module_version": "1.5.0",
      "_model_name": "ProgressStyleModel",
      "_view_count": null,
      "_view_module": "@jupyter-widgets/base",
      "_view_module_version": "1.2.0",
      "_view_name": "StyleView",
      "bar_color": null,
      "description_width": ""
     }
    },
    "245d1015993e4da98cfd221cb36907fc": {
     "model_module": "@jupyter-widgets/base",
     "model_module_version": "1.2.0",
     "model_name": "LayoutModel",
     "state": {
      "_model_module": "@jupyter-widgets/base",
      "_model_module_version": "1.2.0",
      "_model_name": "LayoutModel",
      "_view_count": null,
      "_view_module": "@jupyter-widgets/base",
      "_view_module_version": "1.2.0",
      "_view_name": "LayoutView",
      "align_content": null,
      "align_items": null,
      "align_self": null,
      "border": null,
      "bottom": null,
      "display": null,
      "flex": null,
      "flex_flow": null,
      "grid_area": null,
      "grid_auto_columns": null,
      "grid_auto_flow": null,
      "grid_auto_rows": null,
      "grid_column": null,
      "grid_gap": null,
      "grid_row": null,
      "grid_template_areas": null,
      "grid_template_columns": null,
      "grid_template_rows": null,
      "height": null,
      "justify_content": null,
      "justify_items": null,
      "left": null,
      "margin": null,
      "max_height": null,
      "max_width": null,
      "min_height": null,
      "min_width": null,
      "object_fit": null,
      "object_position": null,
      "order": null,
      "overflow": null,
      "overflow_x": null,
      "overflow_y": null,
      "padding": null,
      "right": null,
      "top": null,
      "visibility": null,
      "width": null
     }
    },
    "25f30966ddc14a03ab32cf14673e3887": {
     "model_module": "@jupyter-widgets/controls",
     "model_module_version": "1.5.0",
     "model_name": "DescriptionStyleModel",
     "state": {
      "_model_module": "@jupyter-widgets/controls",
      "_model_module_version": "1.5.0",
      "_model_name": "DescriptionStyleModel",
      "_view_count": null,
      "_view_module": "@jupyter-widgets/base",
      "_view_module_version": "1.2.0",
      "_view_name": "StyleView",
      "description_width": ""
     }
    },
    "28c601d47dff40f8b99efb5363b48498": {
     "model_module": "@jupyter-widgets/controls",
     "model_module_version": "1.5.0",
     "model_name": "HBoxModel",
     "state": {
      "_dom_classes": [],
      "_model_module": "@jupyter-widgets/controls",
      "_model_module_version": "1.5.0",
      "_model_name": "HBoxModel",
      "_view_count": null,
      "_view_module": "@jupyter-widgets/controls",
      "_view_module_version": "1.5.0",
      "_view_name": "HBoxView",
      "box_style": "",
      "children": [
       "IPY_MODEL_d16ca29655484909b3b178fc84c112f3",
       "IPY_MODEL_8ae3bfb0a70d411190bdc37a23ed5ac5",
       "IPY_MODEL_563ed4ac8e834d9d97d3a0870bf1c14d"
      ],
      "layout": "IPY_MODEL_42e7cd4e45ba4fed94960d401ef7ca72"
     }
    },
    "29c62fe2fde543e1bb9fc74b8191d093": {
     "model_module": "@jupyter-widgets/controls",
     "model_module_version": "1.5.0",
     "model_name": "HBoxModel",
     "state": {
      "_dom_classes": [],
      "_model_module": "@jupyter-widgets/controls",
      "_model_module_version": "1.5.0",
      "_model_name": "HBoxModel",
      "_view_count": null,
      "_view_module": "@jupyter-widgets/controls",
      "_view_module_version": "1.5.0",
      "_view_name": "HBoxView",
      "box_style": "",
      "children": [
       "IPY_MODEL_0e15a6e06e154729b5eaabf4d7a1b774",
       "IPY_MODEL_562215e19296442a9533cb7a94d9c04c",
       "IPY_MODEL_d9b6488f2a0b45f5bb402194be525d18"
      ],
      "layout": "IPY_MODEL_0f19e016f4094c4286bce3f4b3bd9632"
     }
    },
    "33b55f8997024c1f8f5e71950af18d25": {
     "model_module": "@jupyter-widgets/base",
     "model_module_version": "1.2.0",
     "model_name": "LayoutModel",
     "state": {
      "_model_module": "@jupyter-widgets/base",
      "_model_module_version": "1.2.0",
      "_model_name": "LayoutModel",
      "_view_count": null,
      "_view_module": "@jupyter-widgets/base",
      "_view_module_version": "1.2.0",
      "_view_name": "LayoutView",
      "align_content": null,
      "align_items": null,
      "align_self": null,
      "border": null,
      "bottom": null,
      "display": null,
      "flex": null,
      "flex_flow": null,
      "grid_area": null,
      "grid_auto_columns": null,
      "grid_auto_flow": null,
      "grid_auto_rows": null,
      "grid_column": null,
      "grid_gap": null,
      "grid_row": null,
      "grid_template_areas": null,
      "grid_template_columns": null,
      "grid_template_rows": null,
      "height": null,
      "justify_content": null,
      "justify_items": null,
      "left": null,
      "margin": null,
      "max_height": null,
      "max_width": null,
      "min_height": null,
      "min_width": null,
      "object_fit": null,
      "object_position": null,
      "order": null,
      "overflow": null,
      "overflow_x": null,
      "overflow_y": null,
      "padding": null,
      "right": null,
      "top": null,
      "visibility": null,
      "width": null
     }
    },
    "378c8b2928ff475dad9baca0c908a271": {
     "model_module": "@jupyter-widgets/base",
     "model_module_version": "1.2.0",
     "model_name": "LayoutModel",
     "state": {
      "_model_module": "@jupyter-widgets/base",
      "_model_module_version": "1.2.0",
      "_model_name": "LayoutModel",
      "_view_count": null,
      "_view_module": "@jupyter-widgets/base",
      "_view_module_version": "1.2.0",
      "_view_name": "LayoutView",
      "align_content": null,
      "align_items": null,
      "align_self": null,
      "border": null,
      "bottom": null,
      "display": null,
      "flex": null,
      "flex_flow": null,
      "grid_area": null,
      "grid_auto_columns": null,
      "grid_auto_flow": null,
      "grid_auto_rows": null,
      "grid_column": null,
      "grid_gap": null,
      "grid_row": null,
      "grid_template_areas": null,
      "grid_template_columns": null,
      "grid_template_rows": null,
      "height": null,
      "justify_content": null,
      "justify_items": null,
      "left": null,
      "margin": null,
      "max_height": null,
      "max_width": null,
      "min_height": null,
      "min_width": null,
      "object_fit": null,
      "object_position": null,
      "order": null,
      "overflow": null,
      "overflow_x": null,
      "overflow_y": null,
      "padding": null,
      "right": null,
      "top": null,
      "visibility": null,
      "width": null
     }
    },
    "37c3e5cbee1946e6a20962b0bd52b48c": {
     "model_module": "@jupyter-widgets/base",
     "model_module_version": "1.2.0",
     "model_name": "LayoutModel",
     "state": {
      "_model_module": "@jupyter-widgets/base",
      "_model_module_version": "1.2.0",
      "_model_name": "LayoutModel",
      "_view_count": null,
      "_view_module": "@jupyter-widgets/base",
      "_view_module_version": "1.2.0",
      "_view_name": "LayoutView",
      "align_content": null,
      "align_items": null,
      "align_self": null,
      "border": null,
      "bottom": null,
      "display": null,
      "flex": null,
      "flex_flow": null,
      "grid_area": null,
      "grid_auto_columns": null,
      "grid_auto_flow": null,
      "grid_auto_rows": null,
      "grid_column": null,
      "grid_gap": null,
      "grid_row": null,
      "grid_template_areas": null,
      "grid_template_columns": null,
      "grid_template_rows": null,
      "height": null,
      "justify_content": null,
      "justify_items": null,
      "left": null,
      "margin": null,
      "max_height": null,
      "max_width": null,
      "min_height": null,
      "min_width": null,
      "object_fit": null,
      "object_position": null,
      "order": null,
      "overflow": null,
      "overflow_x": null,
      "overflow_y": null,
      "padding": null,
      "right": null,
      "top": null,
      "visibility": null,
      "width": null
     }
    },
    "3929d15b0daa47e69c3e3893914d1190": {
     "model_module": "@jupyter-widgets/controls",
     "model_module_version": "1.5.0",
     "model_name": "HTMLModel",
     "state": {
      "_dom_classes": [],
      "_model_module": "@jupyter-widgets/controls",
      "_model_module_version": "1.5.0",
      "_model_name": "HTMLModel",
      "_view_count": null,
      "_view_module": "@jupyter-widgets/controls",
      "_view_module_version": "1.5.0",
      "_view_name": "HTMLView",
      "description": "",
      "description_tooltip": null,
      "layout": "IPY_MODEL_245d1015993e4da98cfd221cb36907fc",
      "placeholder": "​",
      "style": "IPY_MODEL_d9c30abb6ebb4c79b30fbb429bdd5782",
      "value": " 15/15 [00:00&lt;00:00, 23.47it/s]"
     }
    },
    "42e7cd4e45ba4fed94960d401ef7ca72": {
     "model_module": "@jupyter-widgets/base",
     "model_module_version": "1.2.0",
     "model_name": "LayoutModel",
     "state": {
      "_model_module": "@jupyter-widgets/base",
      "_model_module_version": "1.2.0",
      "_model_name": "LayoutModel",
      "_view_count": null,
      "_view_module": "@jupyter-widgets/base",
      "_view_module_version": "1.2.0",
      "_view_name": "LayoutView",
      "align_content": null,
      "align_items": null,
      "align_self": null,
      "border": null,
      "bottom": null,
      "display": null,
      "flex": null,
      "flex_flow": null,
      "grid_area": null,
      "grid_auto_columns": null,
      "grid_auto_flow": null,
      "grid_auto_rows": null,
      "grid_column": null,
      "grid_gap": null,
      "grid_row": null,
      "grid_template_areas": null,
      "grid_template_columns": null,
      "grid_template_rows": null,
      "height": null,
      "justify_content": null,
      "justify_items": null,
      "left": null,
      "margin": null,
      "max_height": null,
      "max_width": null,
      "min_height": null,
      "min_width": null,
      "object_fit": null,
      "object_position": null,
      "order": null,
      "overflow": null,
      "overflow_x": null,
      "overflow_y": null,
      "padding": null,
      "right": null,
      "top": null,
      "visibility": null,
      "width": null
     }
    },
    "5320257b3bf54e29a1cdf73582d31186": {
     "model_module": "@jupyter-widgets/base",
     "model_module_version": "1.2.0",
     "model_name": "LayoutModel",
     "state": {
      "_model_module": "@jupyter-widgets/base",
      "_model_module_version": "1.2.0",
      "_model_name": "LayoutModel",
      "_view_count": null,
      "_view_module": "@jupyter-widgets/base",
      "_view_module_version": "1.2.0",
      "_view_name": "LayoutView",
      "align_content": null,
      "align_items": null,
      "align_self": null,
      "border": null,
      "bottom": null,
      "display": null,
      "flex": null,
      "flex_flow": null,
      "grid_area": null,
      "grid_auto_columns": null,
      "grid_auto_flow": null,
      "grid_auto_rows": null,
      "grid_column": null,
      "grid_gap": null,
      "grid_row": null,
      "grid_template_areas": null,
      "grid_template_columns": null,
      "grid_template_rows": null,
      "height": null,
      "justify_content": null,
      "justify_items": null,
      "left": null,
      "margin": null,
      "max_height": null,
      "max_width": null,
      "min_height": null,
      "min_width": null,
      "object_fit": null,
      "object_position": null,
      "order": null,
      "overflow": null,
      "overflow_x": null,
      "overflow_y": null,
      "padding": null,
      "right": null,
      "top": null,
      "visibility": null,
      "width": null
     }
    },
    "562215e19296442a9533cb7a94d9c04c": {
     "model_module": "@jupyter-widgets/controls",
     "model_module_version": "1.5.0",
     "model_name": "FloatProgressModel",
     "state": {
      "_dom_classes": [],
      "_model_module": "@jupyter-widgets/controls",
      "_model_module_version": "1.5.0",
      "_model_name": "FloatProgressModel",
      "_view_count": null,
      "_view_module": "@jupyter-widgets/controls",
      "_view_module_version": "1.5.0",
      "_view_name": "ProgressView",
      "bar_style": "success",
      "description": "",
      "description_tooltip": null,
      "layout": "IPY_MODEL_68caaea8a1d948e4a2e10c0f7c8afd66",
      "max": 15,
      "min": 0,
      "orientation": "horizontal",
      "style": "IPY_MODEL_f93ef85f8c7e410da914f9e7ef7e4fb4",
      "value": 15
     }
    },
    "5630f88b759449e286a1889a3e0b47f1": {
     "model_module": "@jupyter-widgets/controls",
     "model_module_version": "1.5.0",
     "model_name": "HTMLModel",
     "state": {
      "_dom_classes": [],
      "_model_module": "@jupyter-widgets/controls",
      "_model_module_version": "1.5.0",
      "_model_name": "HTMLModel",
      "_view_count": null,
      "_view_module": "@jupyter-widgets/controls",
      "_view_module_version": "1.5.0",
      "_view_name": "HTMLView",
      "description": "",
      "description_tooltip": null,
      "layout": "IPY_MODEL_37c3e5cbee1946e6a20962b0bd52b48c",
      "placeholder": "​",
      "style": "IPY_MODEL_79ad7071e4de495897b1f33d7d039915",
      "value": "Summarizing documents: 100%"
     }
    },
    "563ed4ac8e834d9d97d3a0870bf1c14d": {
     "model_module": "@jupyter-widgets/controls",
     "model_module_version": "1.5.0",
     "model_name": "HTMLModel",
     "state": {
      "_dom_classes": [],
      "_model_module": "@jupyter-widgets/controls",
      "_model_module_version": "1.5.0",
      "_model_name": "HTMLModel",
      "_view_count": null,
      "_view_module": "@jupyter-widgets/controls",
      "_view_module_version": "1.5.0",
      "_view_name": "HTMLView",
      "description": "",
      "description_tooltip": null,
      "layout": "IPY_MODEL_33b55f8997024c1f8f5e71950af18d25",
      "placeholder": "​",
      "style": "IPY_MODEL_9312524cad6949c3ae53a6b6098e66fd",
      "value": " 15/15 [00:00&lt;00:00, 215.47it/s]"
     }
    },
    "636698023d8d45b1a8cde4fad9181f82": {
     "model_module": "@jupyter-widgets/controls",
     "model_module_version": "1.5.0",
     "model_name": "DescriptionStyleModel",
     "state": {
      "_model_module": "@jupyter-widgets/controls",
      "_model_module_version": "1.5.0",
      "_model_name": "DescriptionStyleModel",
      "_view_count": null,
      "_view_module": "@jupyter-widgets/base",
      "_view_module_version": "1.2.0",
      "_view_name": "StyleView",
      "description_width": ""
     }
    },
    "63792bbea17d481aa27d6d79faefeb85": {
     "model_module": "@jupyter-widgets/controls",
     "model_module_version": "1.5.0",
     "model_name": "ProgressStyleModel",
     "state": {
      "_model_module": "@jupyter-widgets/controls",
      "_model_module_version": "1.5.0",
      "_model_name": "ProgressStyleModel",
      "_view_count": null,
      "_view_module": "@jupyter-widgets/base",
      "_view_module_version": "1.2.0",
      "_view_name": "StyleView",
      "bar_color": null,
      "description_width": ""
     }
    },
    "68caaea8a1d948e4a2e10c0f7c8afd66": {
     "model_module": "@jupyter-widgets/base",
     "model_module_version": "1.2.0",
     "model_name": "LayoutModel",
     "state": {
      "_model_module": "@jupyter-widgets/base",
      "_model_module_version": "1.2.0",
      "_model_name": "LayoutModel",
      "_view_count": null,
      "_view_module": "@jupyter-widgets/base",
      "_view_module_version": "1.2.0",
      "_view_name": "LayoutView",
      "align_content": null,
      "align_items": null,
      "align_self": null,
      "border": null,
      "bottom": null,
      "display": null,
      "flex": null,
      "flex_flow": null,
      "grid_area": null,
      "grid_auto_columns": null,
      "grid_auto_flow": null,
      "grid_auto_rows": null,
      "grid_column": null,
      "grid_gap": null,
      "grid_row": null,
      "grid_template_areas": null,
      "grid_template_columns": null,
      "grid_template_rows": null,
      "height": null,
      "justify_content": null,
      "justify_items": null,
      "left": null,
      "margin": null,
      "max_height": null,
      "max_width": null,
      "min_height": null,
      "min_width": null,
      "object_fit": null,
      "object_position": null,
      "order": null,
      "overflow": null,
      "overflow_x": null,
      "overflow_y": null,
      "padding": null,
      "right": null,
      "top": null,
      "visibility": null,
      "width": null
     }
    },
    "6ee1d71fd13a4206ab1ab566e3e6c0b6": {
     "model_module": "@jupyter-widgets/base",
     "model_module_version": "1.2.0",
     "model_name": "LayoutModel",
     "state": {
      "_model_module": "@jupyter-widgets/base",
      "_model_module_version": "1.2.0",
      "_model_name": "LayoutModel",
      "_view_count": null,
      "_view_module": "@jupyter-widgets/base",
      "_view_module_version": "1.2.0",
      "_view_name": "LayoutView",
      "align_content": null,
      "align_items": null,
      "align_self": null,
      "border": null,
      "bottom": null,
      "display": null,
      "flex": null,
      "flex_flow": null,
      "grid_area": null,
      "grid_auto_columns": null,
      "grid_auto_flow": null,
      "grid_auto_rows": null,
      "grid_column": null,
      "grid_gap": null,
      "grid_row": null,
      "grid_template_areas": null,
      "grid_template_columns": null,
      "grid_template_rows": null,
      "height": null,
      "justify_content": null,
      "justify_items": null,
      "left": null,
      "margin": null,
      "max_height": null,
      "max_width": null,
      "min_height": null,
      "min_width": null,
      "object_fit": null,
      "object_position": null,
      "order": null,
      "overflow": null,
      "overflow_x": null,
      "overflow_y": null,
      "padding": null,
      "right": null,
      "top": null,
      "visibility": null,
      "width": null
     }
    },
    "77065e8b8a6c48479491540c574729d5": {
     "model_module": "@jupyter-widgets/controls",
     "model_module_version": "1.5.0",
     "model_name": "HTMLModel",
     "state": {
      "_dom_classes": [],
      "_model_module": "@jupyter-widgets/controls",
      "_model_module_version": "1.5.0",
      "_model_name": "HTMLModel",
      "_view_count": null,
      "_view_module": "@jupyter-widgets/controls",
      "_view_module_version": "1.5.0",
      "_view_name": "HTMLView",
      "description": "",
      "description_tooltip": null,
      "layout": "IPY_MODEL_6ee1d71fd13a4206ab1ab566e3e6c0b6",
      "placeholder": "​",
      "style": "IPY_MODEL_636698023d8d45b1a8cde4fad9181f82",
      "value": "Parsing nodes: 100%"
     }
    },
    "78c2a7cbf02d40538235539c39f6a105": {
     "model_module": "@jupyter-widgets/base",
     "model_module_version": "1.2.0",
     "model_name": "LayoutModel",
     "state": {
      "_model_module": "@jupyter-widgets/base",
      "_model_module_version": "1.2.0",
      "_model_name": "LayoutModel",
      "_view_count": null,
      "_view_module": "@jupyter-widgets/base",
      "_view_module_version": "1.2.0",
      "_view_name": "LayoutView",
      "align_content": null,
      "align_items": null,
      "align_self": null,
      "border": null,
      "bottom": null,
      "display": null,
      "flex": null,
      "flex_flow": null,
      "grid_area": null,
      "grid_auto_columns": null,
      "grid_auto_flow": null,
      "grid_auto_rows": null,
      "grid_column": null,
      "grid_gap": null,
      "grid_row": null,
      "grid_template_areas": null,
      "grid_template_columns": null,
      "grid_template_rows": null,
      "height": null,
      "justify_content": null,
      "justify_items": null,
      "left": null,
      "margin": null,
      "max_height": null,
      "max_width": null,
      "min_height": null,
      "min_width": null,
      "object_fit": null,
      "object_position": null,
      "order": null,
      "overflow": null,
      "overflow_x": null,
      "overflow_y": null,
      "padding": null,
      "right": null,
      "top": null,
      "visibility": null,
      "width": null
     }
    },
    "79ad7071e4de495897b1f33d7d039915": {
     "model_module": "@jupyter-widgets/controls",
     "model_module_version": "1.5.0",
     "model_name": "DescriptionStyleModel",
     "state": {
      "_model_module": "@jupyter-widgets/controls",
      "_model_module_version": "1.5.0",
      "_model_name": "DescriptionStyleModel",
      "_view_count": null,
      "_view_module": "@jupyter-widgets/base",
      "_view_module_version": "1.2.0",
      "_view_name": "StyleView",
      "description_width": ""
     }
    },
    "7edf425c37d34fe0ad42a5e382ce241e": {
     "model_module": "@jupyter-widgets/base",
     "model_module_version": "1.2.0",
     "model_name": "LayoutModel",
     "state": {
      "_model_module": "@jupyter-widgets/base",
      "_model_module_version": "1.2.0",
      "_model_name": "LayoutModel",
      "_view_count": null,
      "_view_module": "@jupyter-widgets/base",
      "_view_module_version": "1.2.0",
      "_view_name": "LayoutView",
      "align_content": null,
      "align_items": null,
      "align_self": null,
      "border": null,
      "bottom": null,
      "display": null,
      "flex": null,
      "flex_flow": null,
      "grid_area": null,
      "grid_auto_columns": null,
      "grid_auto_flow": null,
      "grid_auto_rows": null,
      "grid_column": null,
      "grid_gap": null,
      "grid_row": null,
      "grid_template_areas": null,
      "grid_template_columns": null,
      "grid_template_rows": null,
      "height": null,
      "justify_content": null,
      "justify_items": null,
      "left": null,
      "margin": null,
      "max_height": null,
      "max_width": null,
      "min_height": null,
      "min_width": null,
      "object_fit": null,
      "object_position": null,
      "order": null,
      "overflow": null,
      "overflow_x": null,
      "overflow_y": null,
      "padding": null,
      "right": null,
      "top": null,
      "visibility": null,
      "width": null
     }
    },
    "8ae3bfb0a70d411190bdc37a23ed5ac5": {
     "model_module": "@jupyter-widgets/controls",
     "model_module_version": "1.5.0",
     "model_name": "FloatProgressModel",
     "state": {
      "_dom_classes": [],
      "_model_module": "@jupyter-widgets/controls",
      "_model_module_version": "1.5.0",
      "_model_name": "FloatProgressModel",
      "_view_count": null,
      "_view_module": "@jupyter-widgets/controls",
      "_view_module_version": "1.5.0",
      "_view_name": "ProgressView",
      "bar_style": "success",
      "description": "",
      "description_tooltip": null,
      "layout": "IPY_MODEL_fcc48597122e46d1a7699b56d8a2e070",
      "max": 15,
      "min": 0,
      "orientation": "horizontal",
      "style": "IPY_MODEL_63792bbea17d481aa27d6d79faefeb85",
      "value": 15
     }
    },
    "9312524cad6949c3ae53a6b6098e66fd": {
     "model_module": "@jupyter-widgets/controls",
     "model_module_version": "1.5.0",
     "model_name": "DescriptionStyleModel",
     "state": {
      "_model_module": "@jupyter-widgets/controls",
      "_model_module_version": "1.5.0",
      "_model_name": "DescriptionStyleModel",
      "_view_count": null,
      "_view_module": "@jupyter-widgets/base",
      "_view_module_version": "1.2.0",
      "_view_name": "StyleView",
      "description_width": ""
     }
    },
    "97a420d625da46e8adc47ba0ec4b293b": {
     "model_module": "@jupyter-widgets/base",
     "model_module_version": "1.2.0",
     "model_name": "LayoutModel",
     "state": {
      "_model_module": "@jupyter-widgets/base",
      "_model_module_version": "1.2.0",
      "_model_name": "LayoutModel",
      "_view_count": null,
      "_view_module": "@jupyter-widgets/base",
      "_view_module_version": "1.2.0",
      "_view_name": "LayoutView",
      "align_content": null,
      "align_items": null,
      "align_self": null,
      "border": null,
      "bottom": null,
      "display": null,
      "flex": null,
      "flex_flow": null,
      "grid_area": null,
      "grid_auto_columns": null,
      "grid_auto_flow": null,
      "grid_auto_rows": null,
      "grid_column": null,
      "grid_gap": null,
      "grid_row": null,
      "grid_template_areas": null,
      "grid_template_columns": null,
      "grid_template_rows": null,
      "height": null,
      "justify_content": null,
      "justify_items": null,
      "left": null,
      "margin": null,
      "max_height": null,
      "max_width": null,
      "min_height": null,
      "min_width": null,
      "object_fit": null,
      "object_position": null,
      "order": null,
      "overflow": null,
      "overflow_x": null,
      "overflow_y": null,
      "padding": null,
      "right": null,
      "top": null,
      "visibility": null,
      "width": null
     }
    },
    "a3377d2e45a448dda9f0abdd3caf51ba": {
     "model_module": "@jupyter-widgets/controls",
     "model_module_version": "1.5.0",
     "model_name": "FloatProgressModel",
     "state": {
      "_dom_classes": [],
      "_model_module": "@jupyter-widgets/controls",
      "_model_module_version": "1.5.0",
      "_model_name": "FloatProgressModel",
      "_view_count": null,
      "_view_module": "@jupyter-widgets/controls",
      "_view_module_version": "1.5.0",
      "_view_name": "ProgressView",
      "bar_style": "success",
      "description": "",
      "description_tooltip": null,
      "layout": "IPY_MODEL_f6d1f42d73e643799a9a9a5a466f97e4",
      "max": 15,
      "min": 0,
      "orientation": "horizontal",
      "style": "IPY_MODEL_23417b1b0c654cf68715d01993f0ab89",
      "value": 15
     }
    },
    "a4d26784a0b544b0b62a4ed3ea466685": {
     "model_module": "@jupyter-widgets/controls",
     "model_module_version": "1.5.0",
     "model_name": "DescriptionStyleModel",
     "state": {
      "_model_module": "@jupyter-widgets/controls",
      "_model_module_version": "1.5.0",
      "_model_name": "DescriptionStyleModel",
      "_view_count": null,
      "_view_module": "@jupyter-widgets/base",
      "_view_module_version": "1.2.0",
      "_view_name": "StyleView",
      "description_width": ""
     }
    },
    "a4ed01a78a49456e81749c28988c3b5f": {
     "model_module": "@jupyter-widgets/controls",
     "model_module_version": "1.5.0",
     "model_name": "DescriptionStyleModel",
     "state": {
      "_model_module": "@jupyter-widgets/controls",
      "_model_module_version": "1.5.0",
      "_model_name": "DescriptionStyleModel",
      "_view_count": null,
      "_view_module": "@jupyter-widgets/base",
      "_view_module_version": "1.2.0",
      "_view_name": "StyleView",
      "description_width": ""
     }
    },
    "b1383b78552a46d7981dec6d73be6aea": {
     "model_module": "@jupyter-widgets/base",
     "model_module_version": "1.2.0",
     "model_name": "LayoutModel",
     "state": {
      "_model_module": "@jupyter-widgets/base",
      "_model_module_version": "1.2.0",
      "_model_name": "LayoutModel",
      "_view_count": null,
      "_view_module": "@jupyter-widgets/base",
      "_view_module_version": "1.2.0",
      "_view_name": "LayoutView",
      "align_content": null,
      "align_items": null,
      "align_self": null,
      "border": null,
      "bottom": null,
      "display": null,
      "flex": null,
      "flex_flow": null,
      "grid_area": null,
      "grid_auto_columns": null,
      "grid_auto_flow": null,
      "grid_auto_rows": null,
      "grid_column": null,
      "grid_gap": null,
      "grid_row": null,
      "grid_template_areas": null,
      "grid_template_columns": null,
      "grid_template_rows": null,
      "height": null,
      "justify_content": null,
      "justify_items": null,
      "left": null,
      "margin": null,
      "max_height": null,
      "max_width": null,
      "min_height": null,
      "min_width": null,
      "object_fit": null,
      "object_position": null,
      "order": null,
      "overflow": null,
      "overflow_x": null,
      "overflow_y": null,
      "padding": null,
      "right": null,
      "top": null,
      "visibility": null,
      "width": null
     }
    },
    "bb97d4e0d2c141c48556cfa4149f1739": {
     "model_module": "@jupyter-widgets/controls",
     "model_module_version": "1.5.0",
     "model_name": "ProgressStyleModel",
     "state": {
      "_model_module": "@jupyter-widgets/controls",
      "_model_module_version": "1.5.0",
      "_model_name": "ProgressStyleModel",
      "_view_count": null,
      "_view_module": "@jupyter-widgets/base",
      "_view_module_version": "1.2.0",
      "_view_name": "StyleView",
      "bar_color": null,
      "description_width": ""
     }
    },
    "bbfbcc65912d4f1b91e74ac2519f1ce5": {
     "model_module": "@jupyter-widgets/controls",
     "model_module_version": "1.5.0",
     "model_name": "DescriptionStyleModel",
     "state": {
      "_model_module": "@jupyter-widgets/controls",
      "_model_module_version": "1.5.0",
      "_model_name": "DescriptionStyleModel",
      "_view_count": null,
      "_view_module": "@jupyter-widgets/base",
      "_view_module_version": "1.2.0",
      "_view_name": "StyleView",
      "description_width": ""
     }
    },
    "ca79fe3f77ea406a8df525cf03ba173f": {
     "model_module": "@jupyter-widgets/controls",
     "model_module_version": "1.5.0",
     "model_name": "HBoxModel",
     "state": {
      "_dom_classes": [],
      "_model_module": "@jupyter-widgets/controls",
      "_model_module_version": "1.5.0",
      "_model_name": "HBoxModel",
      "_view_count": null,
      "_view_module": "@jupyter-widgets/controls",
      "_view_module_version": "1.5.0",
      "_view_name": "HBoxView",
      "box_style": "",
      "children": [
       "IPY_MODEL_5630f88b759449e286a1889a3e0b47f1",
       "IPY_MODEL_cd5f06076b134908b2cc59168fb1f95d",
       "IPY_MODEL_d31623dd407e4c2db4262131f3dc82ee"
      ],
      "layout": "IPY_MODEL_d0c605e642c54e37893dc9f79c4621a4"
     }
    },
    "cc8ffcb1e85c490ead6cdf7fb26929fd": {
     "model_module": "@jupyter-widgets/base",
     "model_module_version": "1.2.0",
     "model_name": "LayoutModel",
     "state": {
      "_model_module": "@jupyter-widgets/base",
      "_model_module_version": "1.2.0",
      "_model_name": "LayoutModel",
      "_view_count": null,
      "_view_module": "@jupyter-widgets/base",
      "_view_module_version": "1.2.0",
      "_view_name": "LayoutView",
      "align_content": null,
      "align_items": null,
      "align_self": null,
      "border": null,
      "bottom": null,
      "display": null,
      "flex": null,
      "flex_flow": null,
      "grid_area": null,
      "grid_auto_columns": null,
      "grid_auto_flow": null,
      "grid_auto_rows": null,
      "grid_column": null,
      "grid_gap": null,
      "grid_row": null,
      "grid_template_areas": null,
      "grid_template_columns": null,
      "grid_template_rows": null,
      "height": null,
      "justify_content": null,
      "justify_items": null,
      "left": null,
      "margin": null,
      "max_height": null,
      "max_width": null,
      "min_height": null,
      "min_width": null,
      "object_fit": null,
      "object_position": null,
      "order": null,
      "overflow": null,
      "overflow_x": null,
      "overflow_y": null,
      "padding": null,
      "right": null,
      "top": null,
      "visibility": null,
      "width": null
     }
    },
    "cd5f06076b134908b2cc59168fb1f95d": {
     "model_module": "@jupyter-widgets/controls",
     "model_module_version": "1.5.0",
     "model_name": "FloatProgressModel",
     "state": {
      "_dom_classes": [],
      "_model_module": "@jupyter-widgets/controls",
      "_model_module_version": "1.5.0",
      "_model_name": "FloatProgressModel",
      "_view_count": null,
      "_view_module": "@jupyter-widgets/controls",
      "_view_module_version": "1.5.0",
      "_view_name": "ProgressView",
      "bar_style": "success",
      "description": "",
      "description_tooltip": null,
      "layout": "IPY_MODEL_b1383b78552a46d7981dec6d73be6aea",
      "max": 15,
      "min": 0,
      "orientation": "horizontal",
      "style": "IPY_MODEL_13f7fee4abb8443ebccf3114fb13ce59",
      "value": 15
     }
    },
    "d0c605e642c54e37893dc9f79c4621a4": {
     "model_module": "@jupyter-widgets/base",
     "model_module_version": "1.2.0",
     "model_name": "LayoutModel",
     "state": {
      "_model_module": "@jupyter-widgets/base",
      "_model_module_version": "1.2.0",
      "_model_name": "LayoutModel",
      "_view_count": null,
      "_view_module": "@jupyter-widgets/base",
      "_view_module_version": "1.2.0",
      "_view_name": "LayoutView",
      "align_content": null,
      "align_items": null,
      "align_self": null,
      "border": null,
      "bottom": null,
      "display": null,
      "flex": null,
      "flex_flow": null,
      "grid_area": null,
      "grid_auto_columns": null,
      "grid_auto_flow": null,
      "grid_auto_rows": null,
      "grid_column": null,
      "grid_gap": null,
      "grid_row": null,
      "grid_template_areas": null,
      "grid_template_columns": null,
      "grid_template_rows": null,
      "height": null,
      "justify_content": null,
      "justify_items": null,
      "left": null,
      "margin": null,
      "max_height": null,
      "max_width": null,
      "min_height": null,
      "min_width": null,
      "object_fit": null,
      "object_position": null,
      "order": null,
      "overflow": null,
      "overflow_x": null,
      "overflow_y": null,
      "padding": null,
      "right": null,
      "top": null,
      "visibility": null,
      "width": null
     }
    },
    "d16ca29655484909b3b178fc84c112f3": {
     "model_module": "@jupyter-widgets/controls",
     "model_module_version": "1.5.0",
     "model_name": "HTMLModel",
     "state": {
      "_dom_classes": [],
      "_model_module": "@jupyter-widgets/controls",
      "_model_module_version": "1.5.0",
      "_model_name": "HTMLModel",
      "_view_count": null,
      "_view_module": "@jupyter-widgets/controls",
      "_view_module_version": "1.5.0",
      "_view_name": "HTMLView",
      "description": "",
      "description_tooltip": null,
      "layout": "IPY_MODEL_0b4d88b7c7eb40ad89498904d07d3b2d",
      "placeholder": "​",
      "style": "IPY_MODEL_a4d26784a0b544b0b62a4ed3ea466685",
      "value": "Parsing nodes: 100%"
     }
    },
    "d31623dd407e4c2db4262131f3dc82ee": {
     "model_module": "@jupyter-widgets/controls",
     "model_module_version": "1.5.0",
     "model_name": "HTMLModel",
     "state": {
      "_dom_classes": [],
      "_model_module": "@jupyter-widgets/controls",
      "_model_module_version": "1.5.0",
      "_model_name": "HTMLModel",
      "_view_count": null,
      "_view_module": "@jupyter-widgets/controls",
      "_view_module_version": "1.5.0",
      "_view_name": "HTMLView",
      "description": "",
      "description_tooltip": null,
      "layout": "IPY_MODEL_023a4e8b8fb64d2ebae3cc00c271e0de",
      "placeholder": "​",
      "style": "IPY_MODEL_bbfbcc65912d4f1b91e74ac2519f1ce5",
      "value": " 15/15 [01:12&lt;00:00,  4.46s/it]"
     }
    },
    "d3b616be6d4d45e9b2b31aeab8a89565": {
     "model_module": "@jupyter-widgets/base",
     "model_module_version": "1.2.0",
     "model_name": "LayoutModel",
     "state": {
      "_model_module": "@jupyter-widgets/base",
      "_model_module_version": "1.2.0",
      "_model_name": "LayoutModel",
      "_view_count": null,
      "_view_module": "@jupyter-widgets/base",
      "_view_module_version": "1.2.0",
      "_view_name": "LayoutView",
      "align_content": null,
      "align_items": null,
      "align_self": null,
      "border": null,
      "bottom": null,
      "display": null,
      "flex": null,
      "flex_flow": null,
      "grid_area": null,
      "grid_auto_columns": null,
      "grid_auto_flow": null,
      "grid_auto_rows": null,
      "grid_column": null,
      "grid_gap": null,
      "grid_row": null,
      "grid_template_areas": null,
      "grid_template_columns": null,
      "grid_template_rows": null,
      "height": null,
      "justify_content": null,
      "justify_items": null,
      "left": null,
      "margin": null,
      "max_height": null,
      "max_width": null,
      "min_height": null,
      "min_width": null,
      "object_fit": null,
      "object_position": null,
      "order": null,
      "overflow": null,
      "overflow_x": null,
      "overflow_y": null,
      "padding": null,
      "right": null,
      "top": null,
      "visibility": null,
      "width": null
     }
    },
    "d9b6488f2a0b45f5bb402194be525d18": {
     "model_module": "@jupyter-widgets/controls",
     "model_module_version": "1.5.0",
     "model_name": "HTMLModel",
     "state": {
      "_dom_classes": [],
      "_model_module": "@jupyter-widgets/controls",
      "_model_module_version": "1.5.0",
      "_model_name": "HTMLModel",
      "_view_count": null,
      "_view_module": "@jupyter-widgets/controls",
      "_view_module_version": "1.5.0",
      "_view_name": "HTMLView",
      "description": "",
      "description_tooltip": null,
      "layout": "IPY_MODEL_5320257b3bf54e29a1cdf73582d31186",
      "placeholder": "​",
      "style": "IPY_MODEL_0e8cd08ce7ff4093851adc9fb8da9299",
      "value": " 15/15 [00:00&lt;00:00, 200.16it/s]"
     }
    },
    "d9c30abb6ebb4c79b30fbb429bdd5782": {
     "model_module": "@jupyter-widgets/controls",
     "model_module_version": "1.5.0",
     "model_name": "DescriptionStyleModel",
     "state": {
      "_model_module": "@jupyter-widgets/controls",
      "_model_module_version": "1.5.0",
      "_model_name": "DescriptionStyleModel",
      "_view_count": null,
      "_view_module": "@jupyter-widgets/base",
      "_view_module_version": "1.2.0",
      "_view_name": "StyleView",
      "description_width": ""
     }
    },
    "dddd7eec43834c488d9c6f5565421ddb": {
     "model_module": "@jupyter-widgets/controls",
     "model_module_version": "1.5.0",
     "model_name": "HBoxModel",
     "state": {
      "_dom_classes": [],
      "_model_module": "@jupyter-widgets/controls",
      "_model_module_version": "1.5.0",
      "_model_name": "HBoxModel",
      "_view_count": null,
      "_view_module": "@jupyter-widgets/controls",
      "_view_module_version": "1.5.0",
      "_view_name": "HBoxView",
      "box_style": "",
      "children": [
       "IPY_MODEL_f22508551c0f4606862af1765e1010f6",
       "IPY_MODEL_a3377d2e45a448dda9f0abdd3caf51ba",
       "IPY_MODEL_3929d15b0daa47e69c3e3893914d1190"
      ],
      "layout": "IPY_MODEL_7edf425c37d34fe0ad42a5e382ce241e"
     }
    },
    "f189d65b733d42f783b8da489023897d": {
     "model_module": "@jupyter-widgets/controls",
     "model_module_version": "1.5.0",
     "model_name": "DescriptionStyleModel",
     "state": {
      "_model_module": "@jupyter-widgets/controls",
      "_model_module_version": "1.5.0",
      "_model_name": "DescriptionStyleModel",
      "_view_count": null,
      "_view_module": "@jupyter-widgets/base",
      "_view_module_version": "1.2.0",
      "_view_name": "StyleView",
      "description_width": ""
     }
    },
    "f22508551c0f4606862af1765e1010f6": {
     "model_module": "@jupyter-widgets/controls",
     "model_module_version": "1.5.0",
     "model_name": "HTMLModel",
     "state": {
      "_dom_classes": [],
      "_model_module": "@jupyter-widgets/controls",
      "_model_module_version": "1.5.0",
      "_model_name": "HTMLModel",
      "_view_count": null,
      "_view_module": "@jupyter-widgets/controls",
      "_view_module_version": "1.5.0",
      "_view_name": "HTMLView",
      "description": "",
      "description_tooltip": null,
      "layout": "IPY_MODEL_78c2a7cbf02d40538235539c39f6a105",
      "placeholder": "​",
      "style": "IPY_MODEL_a4ed01a78a49456e81749c28988c3b5f",
      "value": "Generating embeddings: 100%"
     }
    },
    "f6d1f42d73e643799a9a9a5a466f97e4": {
     "model_module": "@jupyter-widgets/base",
     "model_module_version": "1.2.0",
     "model_name": "LayoutModel",
     "state": {
      "_model_module": "@jupyter-widgets/base",
      "_model_module_version": "1.2.0",
      "_model_name": "LayoutModel",
      "_view_count": null,
      "_view_module": "@jupyter-widgets/base",
      "_view_module_version": "1.2.0",
      "_view_name": "LayoutView",
      "align_content": null,
      "align_items": null,
      "align_self": null,
      "border": null,
      "bottom": null,
      "display": null,
      "flex": null,
      "flex_flow": null,
      "grid_area": null,
      "grid_auto_columns": null,
      "grid_auto_flow": null,
      "grid_auto_rows": null,
      "grid_column": null,
      "grid_gap": null,
      "grid_row": null,
      "grid_template_areas": null,
      "grid_template_columns": null,
      "grid_template_rows": null,
      "height": null,
      "justify_content": null,
      "justify_items": null,
      "left": null,
      "margin": null,
      "max_height": null,
      "max_width": null,
      "min_height": null,
      "min_width": null,
      "object_fit": null,
      "object_position": null,
      "order": null,
      "overflow": null,
      "overflow_x": null,
      "overflow_y": null,
      "padding": null,
      "right": null,
      "top": null,
      "visibility": null,
      "width": null
     }
    },
    "f93ef85f8c7e410da914f9e7ef7e4fb4": {
     "model_module": "@jupyter-widgets/controls",
     "model_module_version": "1.5.0",
     "model_name": "ProgressStyleModel",
     "state": {
      "_model_module": "@jupyter-widgets/controls",
      "_model_module_version": "1.5.0",
      "_model_name": "ProgressStyleModel",
      "_view_count": null,
      "_view_module": "@jupyter-widgets/base",
      "_view_module_version": "1.2.0",
      "_view_name": "StyleView",
      "bar_color": null,
      "description_width": ""
     }
    },
    "fcc48597122e46d1a7699b56d8a2e070": {
     "model_module": "@jupyter-widgets/base",
     "model_module_version": "1.2.0",
     "model_name": "LayoutModel",
     "state": {
      "_model_module": "@jupyter-widgets/base",
      "_model_module_version": "1.2.0",
      "_model_name": "LayoutModel",
      "_view_count": null,
      "_view_module": "@jupyter-widgets/base",
      "_view_module_version": "1.2.0",
      "_view_name": "LayoutView",
      "align_content": null,
      "align_items": null,
      "align_self": null,
      "border": null,
      "bottom": null,
      "display": null,
      "flex": null,
      "flex_flow": null,
      "grid_area": null,
      "grid_auto_columns": null,
      "grid_auto_flow": null,
      "grid_auto_rows": null,
      "grid_column": null,
      "grid_gap": null,
      "grid_row": null,
      "grid_template_areas": null,
      "grid_template_columns": null,
      "grid_template_rows": null,
      "height": null,
      "justify_content": null,
      "justify_items": null,
      "left": null,
      "margin": null,
      "max_height": null,
      "max_width": null,
      "min_height": null,
      "min_width": null,
      "object_fit": null,
      "object_position": null,
      "order": null,
      "overflow": null,
      "overflow_x": null,
      "overflow_y": null,
      "padding": null,
      "right": null,
      "top": null,
      "visibility": null,
      "width": null
     }
    },
    "fec7029f6d5c48e09ef6e1914bb38373": {
     "model_module": "@jupyter-widgets/controls",
     "model_module_version": "1.5.0",
     "model_name": "FloatProgressModel",
     "state": {
      "_dom_classes": [],
      "_model_module": "@jupyter-widgets/controls",
      "_model_module_version": "1.5.0",
      "_model_name": "FloatProgressModel",
      "_view_count": null,
      "_view_module": "@jupyter-widgets/controls",
      "_view_module_version": "1.5.0",
      "_view_name": "ProgressView",
      "bar_style": "success",
      "description": "",
      "description_tooltip": null,
      "layout": "IPY_MODEL_378c8b2928ff475dad9baca0c908a271",
      "max": 15,
      "min": 0,
      "orientation": "horizontal",
      "style": "IPY_MODEL_bb97d4e0d2c141c48556cfa4149f1739",
      "value": 15
     }
    }
   }
  }
 },
 "nbformat": 4,
 "nbformat_minor": 4
}
