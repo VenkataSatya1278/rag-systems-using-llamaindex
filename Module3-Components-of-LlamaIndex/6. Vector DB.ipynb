{
 "cells": [
  {
   "cell_type": "markdown",
   "metadata": {
    "id": "ACfLrpwlo8Nl"
   },
   "source": [
    "# Vector Databases"
   ]
  },
  {
   "cell_type": "markdown",
   "metadata": {},
   "source": [
    "- Vector Store\n",
    "- ChromaDB\n",
    "- Pinecone"
   ]
  },
  {
   "cell_type": "markdown",
   "metadata": {},
   "source": [
    "Download the required packages by executing the below commands in either Anaconda Prompt (in Windows) or Terminal (in Linux or Mac OS)"
   ]
  },
  {
   "cell_type": "markdown",
   "metadata": {
    "id": "VDcwqqSp8TdF"
   },
   "source": [
    "pip install chromadb llama-index-vector-stores-chroma pinecone-client llama-index-vector-stores-pinecone"
   ]
  },
  {
   "cell_type": "markdown",
   "metadata": {
    "id": "dnDtMwXk_-__"
   },
   "source": [
    "## Setup"
   ]
  },
  {
   "cell_type": "code",
   "execution_count": 1,
   "metadata": {
    "id": "cKlax-updNW-"
   },
   "outputs": [],
   "source": [
    "import os"
   ]
  },
  {
   "cell_type": "code",
   "execution_count": 2,
   "metadata": {},
   "outputs": [
    {
     "data": {
      "text/plain": [
       "True"
      ]
     },
     "execution_count": 2,
     "metadata": {},
     "output_type": "execute_result"
    }
   ],
   "source": [
    "from dotenv import load_dotenv, find_dotenv\n",
    "load_dotenv('/home/santhosh/Projects/courses/Pinnacle/.env')"
   ]
  },
  {
   "cell_type": "code",
   "execution_count": 3,
   "metadata": {},
   "outputs": [],
   "source": [
    "OPENAI_API_KEY = os.environ[\"OPENAI_API_KEY\"]\n",
    "PINECONE_API_KEY = os.environ['PINECONE_API_KEY']"
   ]
  },
  {
   "cell_type": "markdown",
   "metadata": {
    "id": "yLtBXZ0xDtmQ"
   },
   "source": [
    "## Download Data\n"
   ]
  },
  {
   "cell_type": "code",
   "execution_count": 2,
   "metadata": {},
   "outputs": [
    {
     "name": "stdout",
     "output_type": "stream",
     "text": [
      "--2024-06-11 12:31:22--  https://arxiv.org/pdf/1706.03762\n",
      "Resolving arxiv.org (arxiv.org)... 151.101.3.42, 151.101.67.42, 151.101.131.42, ...\n",
      "Connecting to arxiv.org (arxiv.org)|151.101.3.42|:443... connected.\n",
      "HTTP request sent, awaiting response... 200 OK\n",
      "Length: 2215244 (2.1M) [application/pdf]\n",
      "Saving to: ‘data/transformers.pdf’\n",
      "\n",
      "data/transformers.p 100%[===================>]   2.11M  4.07MB/s    in 0.5s    \n",
      "\n",
      "2024-06-11 12:31:23 (4.07 MB/s) - ‘data/transformers.pdf’ saved [2215244/2215244]\n",
      "\n"
     ]
    }
   ],
   "source": [
    "!mkdir data\n",
    "!wget \"https://arxiv.org/pdf/1706.03762\" -O 'data/transformers.pdf'"
   ]
  },
  {
   "cell_type": "markdown",
   "metadata": {
    "id": "faUENzMLEBfY"
   },
   "source": [
    "## Load Data"
   ]
  },
  {
   "cell_type": "code",
   "execution_count": 4,
   "metadata": {
    "id": "gGfPPk4gBAkQ"
   },
   "outputs": [],
   "source": [
    "from pathlib import Path\n",
    "from llama_index.readers.file import PDFReader"
   ]
  },
  {
   "cell_type": "code",
   "execution_count": 5,
   "metadata": {},
   "outputs": [],
   "source": [
    "loader = PDFReader()\n",
    "documents = loader.load_data(file=Path('./data/transformers.pdf'))"
   ]
  },
  {
   "cell_type": "code",
   "execution_count": 6,
   "metadata": {},
   "outputs": [
    {
     "data": {
      "text/plain": [
       "15"
      ]
     },
     "execution_count": 6,
     "metadata": {},
     "output_type": "execute_result"
    }
   ],
   "source": [
    "len(documents)"
   ]
  },
  {
   "cell_type": "markdown",
   "metadata": {
    "id": "DrsOfyF-5m8y"
   },
   "source": [
    "# VectorStoreIndex"
   ]
  },
  {
   "cell_type": "code",
   "execution_count": 7,
   "metadata": {
    "id": "91b7xZYA9xjj"
   },
   "outputs": [],
   "source": [
    "from llama_index.core import VectorStoreIndex"
   ]
  },
  {
   "cell_type": "code",
   "execution_count": 8,
   "metadata": {
    "id": "f30twJjzoWzy"
   },
   "outputs": [],
   "source": [
    "# Construct an index by loading documents into a VectorStoreIndex.\n",
    "index = VectorStoreIndex.from_documents(documents)"
   ]
  },
  {
   "cell_type": "markdown",
   "metadata": {
    "id": "Y4GXWBGZjhG_"
   },
   "source": [
    "Save index to local disk"
   ]
  },
  {
   "cell_type": "code",
   "execution_count": 9,
   "metadata": {},
   "outputs": [
    {
     "data": {
      "text/plain": [
       "'/home/santhosh/Projects/courses/Pinnacle/RAG systems using LlamaIndex/Module 3 - Components of LlamaIndex/Notebooks'"
      ]
     },
     "execution_count": 9,
     "metadata": {},
     "output_type": "execute_result"
    }
   ],
   "source": [
    "pwd"
   ]
  },
  {
   "cell_type": "code",
   "execution_count": 10,
   "metadata": {
    "id": "KNOfaLMF8Q2u"
   },
   "outputs": [],
   "source": [
    "!mkdir index\n",
    "index.storage_context.persist(persist_dir=\"./index\")"
   ]
  },
  {
   "cell_type": "code",
   "execution_count": 11,
   "metadata": {},
   "outputs": [
    {
     "name": "stdout",
     "output_type": "stream",
     "text": [
      "Variable           Type                Data/Info\n",
      "------------------------------------------------\n",
      "NamespaceMagics    MetaHasTraits       <class 'IPython.core.magi<...>mespace.NamespaceMagics'>\n",
      "OPENAI_API_KEY     str                 sk-CphV0PEUD3S0o7cNZnvoT3<...>lbkFJiekmrh08ZfDqgvjx3Pzc\n",
      "PDFReader          ABCMeta             <class 'llama_index.reade<...>ile.docs.base.PDFReader'>\n",
      "PINECONE_API_KEY   str                 b730ade4-81d5-4a16-9960-fdc8ccba6fec\n",
      "Path               type                <class 'pathlib.Path'>\n",
      "VectorStoreIndex   ABCMeta             <class 'llama_index.core.<...>e.base.VectorStoreIndex'>\n",
      "documents          list                n=15\n",
      "find_dotenv        function            <function find_dotenv at 0x6ffe9b375620>\n",
      "get_ipython        function            <function get_ipython at 0x6fffe9f8a0c0>\n",
      "index              VectorStoreIndex    <llama_index.core.indices<...>object at 0x6ffe93852a10>\n",
      "json               module              <module 'json' from '/hom<...>on3.11/json/__init__.py'>\n",
      "load_dotenv        function            <function load_dotenv at 0x6ffe9b375760>\n",
      "loader             PDFReader           <llama_index.readers.file<...>object at 0x6ffe9477c150>\n",
      "os                 module              <module 'os' (frozen)>\n",
      "sys                module              <module 'sys' (built-in)>\n"
     ]
    }
   ],
   "source": [
    "whos"
   ]
  },
  {
   "cell_type": "code",
   "execution_count": 12,
   "metadata": {},
   "outputs": [],
   "source": [
    "del index"
   ]
  },
  {
   "cell_type": "code",
   "execution_count": 13,
   "metadata": {},
   "outputs": [
    {
     "name": "stdout",
     "output_type": "stream",
     "text": [
      "Variable           Type             Data/Info\n",
      "---------------------------------------------\n",
      "NamespaceMagics    MetaHasTraits    <class 'IPython.core.magi<...>mespace.NamespaceMagics'>\n",
      "OPENAI_API_KEY     str              sk-CphV0PEUD3S0o7cNZnvoT3<...>lbkFJiekmrh08ZfDqgvjx3Pzc\n",
      "PDFReader          ABCMeta          <class 'llama_index.reade<...>ile.docs.base.PDFReader'>\n",
      "PINECONE_API_KEY   str              b730ade4-81d5-4a16-9960-fdc8ccba6fec\n",
      "Path               type             <class 'pathlib.Path'>\n",
      "VectorStoreIndex   ABCMeta          <class 'llama_index.core.<...>e.base.VectorStoreIndex'>\n",
      "documents          list             n=15\n",
      "find_dotenv        function         <function find_dotenv at 0x6ffe9b375620>\n",
      "get_ipython        function         <function get_ipython at 0x6fffe9f8a0c0>\n",
      "json               module           <module 'json' from '/hom<...>on3.11/json/__init__.py'>\n",
      "load_dotenv        function         <function load_dotenv at 0x6ffe9b375760>\n",
      "loader             PDFReader        <llama_index.readers.file<...>object at 0x6ffe9477c150>\n",
      "os                 module           <module 'os' (frozen)>\n",
      "sys                module           <module 'sys' (built-in)>\n"
     ]
    }
   ],
   "source": [
    "whos"
   ]
  },
  {
   "cell_type": "code",
   "execution_count": 14,
   "metadata": {},
   "outputs": [
    {
     "ename": "NameError",
     "evalue": "name 'index' is not defined",
     "output_type": "error",
     "traceback": [
      "\u001b[0;31m---------------------------------------------------------------------------\u001b[0m",
      "\u001b[0;31mNameError\u001b[0m                                 Traceback (most recent call last)",
      "\u001b[0;32m/tmp/ipykernel_809823/1438373224.py\u001b[0m in \u001b[0;36m<cell line: 0>\u001b[0;34m()\u001b[0m\n\u001b[0;32m----> 1\u001b[0;31m \u001b[0mindex\u001b[0m\u001b[0;34m\u001b[0m\u001b[0;34m\u001b[0m\u001b[0m\n\u001b[0m",
      "\u001b[0;31mNameError\u001b[0m: name 'index' is not defined"
     ]
    }
   ],
   "source": [
    "index"
   ]
  },
  {
   "cell_type": "code",
   "execution_count": 15,
   "metadata": {
    "id": "X2WtMBtb8Tar"
   },
   "outputs": [],
   "source": [
    "from llama_index.core import StorageContext, load_index_from_storage"
   ]
  },
  {
   "cell_type": "code",
   "execution_count": 16,
   "metadata": {
    "id": "jL8YwD5VjdIQ"
   },
   "outputs": [],
   "source": [
    "# rebuild storage context\n",
    "storage_context = StorageContext.from_defaults(persist_dir=\"./index\")"
   ]
  },
  {
   "cell_type": "code",
   "execution_count": 17,
   "metadata": {
    "id": "mfaY0TVkjdLG"
   },
   "outputs": [],
   "source": [
    "# load index\n",
    "index = load_index_from_storage(storage_context)"
   ]
  },
  {
   "cell_type": "code",
   "execution_count": 18,
   "metadata": {},
   "outputs": [
    {
     "name": "stdout",
     "output_type": "stream",
     "text": [
      "Variable                  Type                Data/Info\n",
      "-------------------------------------------------------\n",
      "NamespaceMagics           MetaHasTraits       <class 'IPython.core.magi<...>mespace.NamespaceMagics'>\n",
      "OPENAI_API_KEY            str                 sk-CphV0PEUD3S0o7cNZnvoT3<...>lbkFJiekmrh08ZfDqgvjx3Pzc\n",
      "PDFReader                 ABCMeta             <class 'llama_index.reade<...>ile.docs.base.PDFReader'>\n",
      "PINECONE_API_KEY          str                 b730ade4-81d5-4a16-9960-fdc8ccba6fec\n",
      "Path                      type                <class 'pathlib.Path'>\n",
      "StorageContext            type                <class 'llama_index.core.<...>_context.StorageContext'>\n",
      "VectorStoreIndex          ABCMeta             <class 'llama_index.core.<...>e.base.VectorStoreIndex'>\n",
      "documents                 list                n=15\n",
      "find_dotenv               function            <function find_dotenv at 0x6ffe9b375620>\n",
      "get_ipython               function            <function get_ipython at 0x6fffe9f8a0c0>\n",
      "index                     VectorStoreIndex    <llama_index.core.indices<...>object at 0x6ffe94363990>\n",
      "json                      module              <module 'json' from '/hom<...>on3.11/json/__init__.py'>\n",
      "load_dotenv               function            <function load_dotenv at 0x6ffe9b375760>\n",
      "load_index_from_storage   function            <function load_index_from<...>torage at 0x6ffe9533f880>\n",
      "loader                    PDFReader           <llama_index.readers.file<...>object at 0x6ffe9477c150>\n",
      "os                        module              <module 'os' (frozen)>\n",
      "storage_context           StorageContext      StorageContext(docstore=<<...>roperty_graph_store=None)\n",
      "sys                       module              <module 'sys' (built-in)>\n"
     ]
    }
   ],
   "source": [
    "whos"
   ]
  },
  {
   "cell_type": "markdown",
   "metadata": {
    "id": "AVT3WNfw8c9L"
   },
   "source": [
    "# Using ChromDB"
   ]
  },
  {
   "cell_type": "code",
   "execution_count": 21,
   "metadata": {
    "id": "4ebysIhS8WoE"
   },
   "outputs": [],
   "source": [
    "import chromadb\n",
    "from llama_index.core import VectorStoreIndex, SimpleDirectoryReader\n",
    "from llama_index.vector_stores.chroma import ChromaVectorStore\n",
    "from llama_index.core import StorageContext"
   ]
  },
  {
   "cell_type": "code",
   "execution_count": 22,
   "metadata": {},
   "outputs": [],
   "source": [
    "# load some documents\n",
    "documents = SimpleDirectoryReader(input_files=['./data/transformers.pdf']).load_data()"
   ]
  },
  {
   "cell_type": "code",
   "execution_count": 23,
   "metadata": {},
   "outputs": [],
   "source": [
    "# initialize client, setting path to save data\n",
    "db = chromadb.PersistentClient(path=\"./chroma_db\")"
   ]
  },
  {
   "cell_type": "code",
   "execution_count": 24,
   "metadata": {},
   "outputs": [],
   "source": [
    "# create collection\n",
    "chroma_collection = db.get_or_create_collection(\"quickstart\")"
   ]
  },
  {
   "cell_type": "code",
   "execution_count": 25,
   "metadata": {},
   "outputs": [],
   "source": [
    "# assign chroma as the vector_store to the context\n",
    "vector_store = ChromaVectorStore(chroma_collection=chroma_collection)\n",
    "storage_context = StorageContext.from_defaults(vector_store=vector_store)"
   ]
  },
  {
   "cell_type": "code",
   "execution_count": 26,
   "metadata": {},
   "outputs": [],
   "source": [
    "# create your index\n",
    "index = VectorStoreIndex.from_documents(documents, storage_context=storage_context)"
   ]
  },
  {
   "cell_type": "markdown",
   "metadata": {
    "id": "UQ4_QgrvkYa2"
   },
   "source": [
    "# Using PineCone Vector DB"
   ]
  },
  {
   "cell_type": "code",
   "execution_count": 32,
   "metadata": {
    "colab": {
     "base_uri": "https://localhost:8080/"
    },
    "executionInfo": {
     "elapsed": 969,
     "status": "ok",
     "timestamp": 1703156895961,
     "user": {
      "displayName": "Ravi Theja",
      "userId": "12148656718425770960"
     },
     "user_tz": -330
    },
    "id": "xmqkV-3bkber",
    "outputId": "509fb8ef-e8ad-47bb-bfc1-d3d133a762a5"
   },
   "outputs": [],
   "source": [
    "from pinecone import Pinecone, PodSpec"
   ]
  },
  {
   "cell_type": "code",
   "execution_count": null,
   "metadata": {},
   "outputs": [],
   "source": [
    "pc = Pinecone(api_key=PINECONE_API_KEY)"
   ]
  },
  {
   "cell_type": "code",
   "execution_count": 34,
   "metadata": {},
   "outputs": [],
   "source": [
    "pc.create_index(\n",
    "  name=\"quickstart\",\n",
    "  dimension=1536,\n",
    "  metric=\"cosine\",\n",
    "  spec=PodSpec(\n",
    "    environment=\"gcp-starter\"\n",
    "  )\n",
    ")"
   ]
  },
  {
   "cell_type": "code",
   "execution_count": 35,
   "metadata": {
    "id": "goIECdTIlIkh"
   },
   "outputs": [],
   "source": [
    "pinecone_index = pc.Index(\"quickstart\")"
   ]
  },
  {
   "cell_type": "code",
   "execution_count": 36,
   "metadata": {
    "id": "WbBdMmFolInN",
    "scrolled": true
   },
   "outputs": [],
   "source": [
    "# load some documents\n",
    "documents = SimpleDirectoryReader(input_files=['./data/transformers.pdf']).load_data()"
   ]
  },
  {
   "cell_type": "code",
   "execution_count": 37,
   "metadata": {
    "id": "Zp7D9-aElIpS"
   },
   "outputs": [],
   "source": [
    "from llama_index.vector_stores.pinecone import PineconeVectorStore\n",
    "vector_store = PineconeVectorStore(pinecone_index=pinecone_index)"
   ]
  },
  {
   "cell_type": "code",
   "execution_count": 38,
   "metadata": {
    "id": "uZyGnt6TnZID"
   },
   "outputs": [],
   "source": [
    "storage_context = StorageContext.from_defaults(vector_store=vector_store)"
   ]
  },
  {
   "cell_type": "code",
   "execution_count": 39,
   "metadata": {
    "colab": {
     "base_uri": "https://localhost:8080/",
     "height": 49,
     "referenced_widgets": [
      "eb068dd4db2c4dfbb60a1b2d7eb4313e",
      "676b8501c9cc46dca32705bf01a03678",
      "07a9d06acde14ad8b0571b0f3ee6d767",
      "b3386b1e92c04246a84483bb8b79f450",
      "e977a0f84b04495f9ce3f81845a359db",
      "3e368b49419b44f585e48ef606d14e1b",
      "9ed036595f4d4b25965b1e5b8a975b3a",
      "96369c12b4d044f6bd447a2f028f01a7",
      "998529df8a994ed4a85ea5d8a87c26a8",
      "2130220d2a5d4c19aa064110b24b1e6c",
      "d3271e5fb19c49b5a842a3e00f4d9618"
     ]
    },
    "executionInfo": {
     "elapsed": 21547,
     "status": "ok",
     "timestamp": 1703156976385,
     "user": {
      "displayName": "Ravi Theja",
      "userId": "12148656718425770960"
     },
     "user_tz": -330
    },
    "id": "An0RcriHnZK0",
    "outputId": "c6a0c067-c67c-45bd-c497-190960a30f48"
   },
   "outputs": [
    {
     "data": {
      "application/vnd.jupyter.widget-view+json": {
       "model_id": "c32040b95c034410afebf3e400a79b05",
       "version_major": 2,
       "version_minor": 0
      },
      "text/plain": [
       "Upserted vectors:   0%|          | 0/15 [00:00<?, ?it/s]"
      ]
     },
     "metadata": {},
     "output_type": "display_data"
    }
   ],
   "source": [
    "index = VectorStoreIndex.from_documents(documents, storage_context=storage_context)"
   ]
  },
  {
   "cell_type": "markdown",
   "metadata": {
    "id": "tb9AScYO8yoV"
   },
   "source": [
    "https://docs.llamaindex.ai/en/stable/understanding/storing/storing.html"
   ]
  }
 ],
 "metadata": {
  "colab": {
   "provenance": []
  },
  "kernelspec": {
   "display_name": "Python 3 (ipykernel)",
   "language": "python",
   "name": "python3"
  },
  "language_info": {
   "codemirror_mode": {
    "name": "ipython",
    "version": 3
   },
   "file_extension": ".py",
   "mimetype": "text/x-python",
   "name": "python",
   "nbconvert_exporter": "python",
   "pygments_lexer": "ipython3",
   "version": "3.11.7"
  },
  "widgets": {
   "application/vnd.jupyter.widget-state+json": {
    "07a9d06acde14ad8b0571b0f3ee6d767": {
     "model_module": "@jupyter-widgets/controls",
     "model_module_version": "1.5.0",
     "model_name": "FloatProgressModel",
     "state": {
      "_dom_classes": [],
      "_model_module": "@jupyter-widgets/controls",
      "_model_module_version": "1.5.0",
      "_model_name": "FloatProgressModel",
      "_view_count": null,
      "_view_module": "@jupyter-widgets/controls",
      "_view_module_version": "1.5.0",
      "_view_name": "ProgressView",
      "bar_style": "",
      "description": "",
      "description_tooltip": null,
      "layout": "IPY_MODEL_96369c12b4d044f6bd447a2f028f01a7",
      "max": 409,
      "min": 0,
      "orientation": "horizontal",
      "style": "IPY_MODEL_998529df8a994ed4a85ea5d8a87c26a8",
      "value": 409
     }
    },
    "2130220d2a5d4c19aa064110b24b1e6c": {
     "model_module": "@jupyter-widgets/base",
     "model_module_version": "1.2.0",
     "model_name": "LayoutModel",
     "state": {
      "_model_module": "@jupyter-widgets/base",
      "_model_module_version": "1.2.0",
      "_model_name": "LayoutModel",
      "_view_count": null,
      "_view_module": "@jupyter-widgets/base",
      "_view_module_version": "1.2.0",
      "_view_name": "LayoutView",
      "align_content": null,
      "align_items": null,
      "align_self": null,
      "border": null,
      "bottom": null,
      "display": null,
      "flex": null,
      "flex_flow": null,
      "grid_area": null,
      "grid_auto_columns": null,
      "grid_auto_flow": null,
      "grid_auto_rows": null,
      "grid_column": null,
      "grid_gap": null,
      "grid_row": null,
      "grid_template_areas": null,
      "grid_template_columns": null,
      "grid_template_rows": null,
      "height": null,
      "justify_content": null,
      "justify_items": null,
      "left": null,
      "margin": null,
      "max_height": null,
      "max_width": null,
      "min_height": null,
      "min_width": null,
      "object_fit": null,
      "object_position": null,
      "order": null,
      "overflow": null,
      "overflow_x": null,
      "overflow_y": null,
      "padding": null,
      "right": null,
      "top": null,
      "visibility": null,
      "width": null
     }
    },
    "3e368b49419b44f585e48ef606d14e1b": {
     "model_module": "@jupyter-widgets/base",
     "model_module_version": "1.2.0",
     "model_name": "LayoutModel",
     "state": {
      "_model_module": "@jupyter-widgets/base",
      "_model_module_version": "1.2.0",
      "_model_name": "LayoutModel",
      "_view_count": null,
      "_view_module": "@jupyter-widgets/base",
      "_view_module_version": "1.2.0",
      "_view_name": "LayoutView",
      "align_content": null,
      "align_items": null,
      "align_self": null,
      "border": null,
      "bottom": null,
      "display": null,
      "flex": null,
      "flex_flow": null,
      "grid_area": null,
      "grid_auto_columns": null,
      "grid_auto_flow": null,
      "grid_auto_rows": null,
      "grid_column": null,
      "grid_gap": null,
      "grid_row": null,
      "grid_template_areas": null,
      "grid_template_columns": null,
      "grid_template_rows": null,
      "height": null,
      "justify_content": null,
      "justify_items": null,
      "left": null,
      "margin": null,
      "max_height": null,
      "max_width": null,
      "min_height": null,
      "min_width": null,
      "object_fit": null,
      "object_position": null,
      "order": null,
      "overflow": null,
      "overflow_x": null,
      "overflow_y": null,
      "padding": null,
      "right": null,
      "top": null,
      "visibility": null,
      "width": null
     }
    },
    "676b8501c9cc46dca32705bf01a03678": {
     "model_module": "@jupyter-widgets/controls",
     "model_module_version": "1.5.0",
     "model_name": "HTMLModel",
     "state": {
      "_dom_classes": [],
      "_model_module": "@jupyter-widgets/controls",
      "_model_module_version": "1.5.0",
      "_model_name": "HTMLModel",
      "_view_count": null,
      "_view_module": "@jupyter-widgets/controls",
      "_view_module_version": "1.5.0",
      "_view_name": "HTMLView",
      "description": "",
      "description_tooltip": null,
      "layout": "IPY_MODEL_3e368b49419b44f585e48ef606d14e1b",
      "placeholder": "​",
      "style": "IPY_MODEL_9ed036595f4d4b25965b1e5b8a975b3a",
      "value": "Upserted vectors: 100%"
     }
    },
    "96369c12b4d044f6bd447a2f028f01a7": {
     "model_module": "@jupyter-widgets/base",
     "model_module_version": "1.2.0",
     "model_name": "LayoutModel",
     "state": {
      "_model_module": "@jupyter-widgets/base",
      "_model_module_version": "1.2.0",
      "_model_name": "LayoutModel",
      "_view_count": null,
      "_view_module": "@jupyter-widgets/base",
      "_view_module_version": "1.2.0",
      "_view_name": "LayoutView",
      "align_content": null,
      "align_items": null,
      "align_self": null,
      "border": null,
      "bottom": null,
      "display": null,
      "flex": null,
      "flex_flow": null,
      "grid_area": null,
      "grid_auto_columns": null,
      "grid_auto_flow": null,
      "grid_auto_rows": null,
      "grid_column": null,
      "grid_gap": null,
      "grid_row": null,
      "grid_template_areas": null,
      "grid_template_columns": null,
      "grid_template_rows": null,
      "height": null,
      "justify_content": null,
      "justify_items": null,
      "left": null,
      "margin": null,
      "max_height": null,
      "max_width": null,
      "min_height": null,
      "min_width": null,
      "object_fit": null,
      "object_position": null,
      "order": null,
      "overflow": null,
      "overflow_x": null,
      "overflow_y": null,
      "padding": null,
      "right": null,
      "top": null,
      "visibility": null,
      "width": null
     }
    },
    "998529df8a994ed4a85ea5d8a87c26a8": {
     "model_module": "@jupyter-widgets/controls",
     "model_module_version": "1.5.0",
     "model_name": "ProgressStyleModel",
     "state": {
      "_model_module": "@jupyter-widgets/controls",
      "_model_module_version": "1.5.0",
      "_model_name": "ProgressStyleModel",
      "_view_count": null,
      "_view_module": "@jupyter-widgets/base",
      "_view_module_version": "1.2.0",
      "_view_name": "StyleView",
      "bar_color": null,
      "description_width": ""
     }
    },
    "9ed036595f4d4b25965b1e5b8a975b3a": {
     "model_module": "@jupyter-widgets/controls",
     "model_module_version": "1.5.0",
     "model_name": "DescriptionStyleModel",
     "state": {
      "_model_module": "@jupyter-widgets/controls",
      "_model_module_version": "1.5.0",
      "_model_name": "DescriptionStyleModel",
      "_view_count": null,
      "_view_module": "@jupyter-widgets/base",
      "_view_module_version": "1.2.0",
      "_view_name": "StyleView",
      "description_width": ""
     }
    },
    "b3386b1e92c04246a84483bb8b79f450": {
     "model_module": "@jupyter-widgets/controls",
     "model_module_version": "1.5.0",
     "model_name": "HTMLModel",
     "state": {
      "_dom_classes": [],
      "_model_module": "@jupyter-widgets/controls",
      "_model_module_version": "1.5.0",
      "_model_name": "HTMLModel",
      "_view_count": null,
      "_view_module": "@jupyter-widgets/controls",
      "_view_module_version": "1.5.0",
      "_view_name": "HTMLView",
      "description": "",
      "description_tooltip": null,
      "layout": "IPY_MODEL_2130220d2a5d4c19aa064110b24b1e6c",
      "placeholder": "​",
      "style": "IPY_MODEL_d3271e5fb19c49b5a842a3e00f4d9618",
      "value": " 409/409 [00:20&lt;00:00, 94.37it/s]"
     }
    },
    "d3271e5fb19c49b5a842a3e00f4d9618": {
     "model_module": "@jupyter-widgets/controls",
     "model_module_version": "1.5.0",
     "model_name": "DescriptionStyleModel",
     "state": {
      "_model_module": "@jupyter-widgets/controls",
      "_model_module_version": "1.5.0",
      "_model_name": "DescriptionStyleModel",
      "_view_count": null,
      "_view_module": "@jupyter-widgets/base",
      "_view_module_version": "1.2.0",
      "_view_name": "StyleView",
      "description_width": ""
     }
    },
    "e977a0f84b04495f9ce3f81845a359db": {
     "model_module": "@jupyter-widgets/base",
     "model_module_version": "1.2.0",
     "model_name": "LayoutModel",
     "state": {
      "_model_module": "@jupyter-widgets/base",
      "_model_module_version": "1.2.0",
      "_model_name": "LayoutModel",
      "_view_count": null,
      "_view_module": "@jupyter-widgets/base",
      "_view_module_version": "1.2.0",
      "_view_name": "LayoutView",
      "align_content": null,
      "align_items": null,
      "align_self": null,
      "border": null,
      "bottom": null,
      "display": null,
      "flex": null,
      "flex_flow": null,
      "grid_area": null,
      "grid_auto_columns": null,
      "grid_auto_flow": null,
      "grid_auto_rows": null,
      "grid_column": null,
      "grid_gap": null,
      "grid_row": null,
      "grid_template_areas": null,
      "grid_template_columns": null,
      "grid_template_rows": null,
      "height": null,
      "justify_content": null,
      "justify_items": null,
      "left": null,
      "margin": null,
      "max_height": null,
      "max_width": null,
      "min_height": null,
      "min_width": null,
      "object_fit": null,
      "object_position": null,
      "order": null,
      "overflow": null,
      "overflow_x": null,
      "overflow_y": null,
      "padding": null,
      "right": null,
      "top": null,
      "visibility": null,
      "width": null
     }
    },
    "eb068dd4db2c4dfbb60a1b2d7eb4313e": {
     "model_module": "@jupyter-widgets/controls",
     "model_module_version": "1.5.0",
     "model_name": "HBoxModel",
     "state": {
      "_dom_classes": [],
      "_model_module": "@jupyter-widgets/controls",
      "_model_module_version": "1.5.0",
      "_model_name": "HBoxModel",
      "_view_count": null,
      "_view_module": "@jupyter-widgets/controls",
      "_view_module_version": "1.5.0",
      "_view_name": "HBoxView",
      "box_style": "",
      "children": [
       "IPY_MODEL_676b8501c9cc46dca32705bf01a03678",
       "IPY_MODEL_07a9d06acde14ad8b0571b0f3ee6d767",
       "IPY_MODEL_b3386b1e92c04246a84483bb8b79f450"
      ],
      "layout": "IPY_MODEL_e977a0f84b04495f9ce3f81845a359db"
     }
    }
   }
  }
 },
 "nbformat": 4,
 "nbformat_minor": 4
}
