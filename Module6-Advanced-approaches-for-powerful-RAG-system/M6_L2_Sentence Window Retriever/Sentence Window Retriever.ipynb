{
 "cells": [
  {
   "cell_type": "markdown",
   "metadata": {
    "id": "PoPLvAnaY3H4"
   },
   "source": [
    "# Sentence Window Retriever"
   ]
  },
  {
   "cell_type": "code",
   "execution_count": 19,
   "metadata": {},
   "outputs": [],
   "source": [
    "import os \n",
    "from dotenv import load_dotenv, find_dotenv"
   ]
  },
  {
   "cell_type": "code",
   "execution_count": 20,
   "metadata": {},
   "outputs": [
    {
     "data": {
      "text/plain": [
       "True"
      ]
     },
     "execution_count": 20,
     "metadata": {},
     "output_type": "execute_result"
    }
   ],
   "source": [
    "load_dotenv('/home/santhosh/Projects/courses/Pinnacle/.env')"
   ]
  },
  {
   "cell_type": "code",
   "execution_count": 3,
   "metadata": {},
   "outputs": [],
   "source": [
    "OPENAI_API_KEY = os.environ['OPENAI_API_KEY']"
   ]
  },
  {
   "cell_type": "markdown",
   "metadata": {
    "id": "VVrIe0Aji5ow"
   },
   "source": [
    "Download data\n",
    "\n",
    "We will be using chapter 3 of the recent IPCC climate report."
   ]
  },
  {
   "cell_type": "markdown",
   "metadata": {},
   "source": [
    "https://www.ipcc.ch/report/ar6/wg2/downloads/report/IPCC_AR6_WGII_Chapter03.pdf"
   ]
  },
  {
   "cell_type": "code",
   "execution_count": 26,
   "metadata": {
    "colab": {
     "base_uri": "https://localhost:8080/"
    },
    "executionInfo": {
     "elapsed": 402,
     "status": "ok",
     "timestamp": 1703002363420,
     "user": {
      "displayName": "Dandu Aravind Pai",
      "userId": "08051161683874071314"
     },
     "user_tz": -330
    },
    "id": "reJe4wqRgqVv",
    "outputId": "f207ec13-68d4-4888-aba1-b315afadcf06"
   },
   "outputs": [
    {
     "name": "stdout",
     "output_type": "stream",
     "text": [
      "  % Total    % Received % Xferd  Average Speed   Time    Time     Time  Current\n",
      "                                 Dload  Upload   Total   Spent    Left  Speed\n",
      "100 20.7M  100 20.7M    0     0   319k      0  0:01:06  0:01:06 --:--:--  340k   272k      0  0:01:18  0:00:10  0:01:08  326k306k      0  0:01:09  0:00:24  0:00:45  326k     0   315k      0  0:01:07  0:00:46  0:00:21  319k     0  0:01:06  0:00:55  0:00:11  317k\n"
     ]
    }
   ],
   "source": [
    "!curl https://www.ipcc.ch/report/ar6/wg2/downloads/report/IPCC_AR6_WGII_Chapter03.pdf --output IPCC_AR6_WGII_Chapter03.pdf"
   ]
  },
  {
   "cell_type": "markdown",
   "metadata": {
    "id": "6cxBUTVorR6J"
   },
   "source": [
    "Load Data"
   ]
  },
  {
   "cell_type": "code",
   "execution_count": 27,
   "metadata": {},
   "outputs": [],
   "source": [
    "from pathlib import Path\n",
    "from llama_index.readers.file import PDFReader"
   ]
  },
  {
   "cell_type": "code",
   "execution_count": 28,
   "metadata": {},
   "outputs": [],
   "source": [
    "loader = PDFReader()"
   ]
  },
  {
   "cell_type": "code",
   "execution_count": 29,
   "metadata": {
    "id": "P0JXWF4Bi9ML"
   },
   "outputs": [],
   "source": [
    "documents = loader.load_data(file=Path('./IPCC_AR6_WGII_Chapter03.pdf'))"
   ]
  },
  {
   "cell_type": "code",
   "execution_count": 7,
   "metadata": {
    "colab": {
     "base_uri": "https://localhost:8080/"
    },
    "executionInfo": {
     "elapsed": 21,
     "status": "ok",
     "timestamp": 1703002412887,
     "user": {
      "displayName": "Dandu Aravind Pai",
      "userId": "08051161683874071314"
     },
     "user_tz": -330
    },
    "id": "RCO61OuMtENq",
    "outputId": "f78d4487-3394-48f4-8b57-e519a58eaeac"
   },
   "outputs": [
    {
     "data": {
      "text/plain": [
       "172"
      ]
     },
     "execution_count": 7,
     "metadata": {},
     "output_type": "execute_result"
    }
   ],
   "source": [
    "len(documents)"
   ]
  },
  {
   "cell_type": "code",
   "execution_count": 30,
   "metadata": {
    "colab": {
     "base_uri": "https://localhost:8080/"
    },
    "executionInfo": {
     "elapsed": 15,
     "status": "ok",
     "timestamp": 1703002412887,
     "user": {
      "displayName": "Dandu Aravind Pai",
      "userId": "08051161683874071314"
     },
     "user_tz": -330
    },
    "id": "KwaB49HWtFzh",
    "outputId": "6d6dacb0-7faf-4484-f3b8-20ea71ee595a"
   },
   "outputs": [
    {
     "name": "stdout",
     "output_type": "stream",
     "text": [
      "SPM\n",
      "379\n",
      "3\n",
      "Oceans and Coastal \n",
      "Ecosystems and Their Services\n",
      "This chapter should be cited as:\n",
      "Cooley, S., D.  Schoeman, L. Bopp, P . Boyd, S. Donner, D.Y . Ghebrehiwet, S.-I. Ito, W. Kiessling, P . Martinetto, E. Ojea, \n",
      "M.-F . Racault, B. Rost, and M. Skern-Mauritzen, 2022: Oceans and Coastal Ecosystems and Their Services. In: Climate \n",
      "Change 2022: Impacts, Adaptation and Vulnerability. Contribution of Working Group II to the Sixth Assessment Report of \n",
      "the Intergovernmental Panel on Climate Change [H.-O. Pörtner, D.C. Roberts, M. Tignor, E.S. Poloczanska, K. Mintenbeck, \n",
      "A. Alegría, M. Craig, S. Langsdorf, S. Löschke, V . Möller, A. Okem, B. Rama (eds.)]. Cambridge University Press, Cambridge, \n",
      "UK and New York, NY , USA, pp. 379–550, doi:10.1017/9781009325844.005.\n",
      "Coordinating Lead Authors: Sarah R. Cooley (USA) and David S. Schoeman (Australia)\n",
      "Lead Authors: Laurent Bopp (France), Philip Boyd (Australia/UK), Simon Donner (Canada), Shin-\n",
      "Ichi Ito (Japan), Wolfgang Kiessling (Germany), Paulina Martinetto (Argentina), Elena Ojea (Spain), \n",
      "Marie-Fanny Racault (UK/France), Björn Rost (Germany), Mette Skern-Mauritzen (Norway), Dawit \n",
      "Yemane Ghebrehiwet (South Africa/Eritrea)\n",
      "Contributing Authors: Ibidun Adelekan (Nigeria), Johann D. Bell (Australia), Julia Blanchard \n",
      "(Australia), Jessica Bolin (Australia), William W. L. Cheung (Canada), Andrés Cisneros-Montemayor \n",
      "(Canada/Mexico), Sam Dupont (Sweden/Belgium), Stephanie Dutkiewicz (USA), Thomas Frölicher \n",
      "(Switzerland), Juan Diego Gaitán-Espitia (Hong Kong, Special Administrative Region, China/\n",
      "Colombia), Jorge García Molinos (Japan/Spain), Bruce Glavovic (New Zealand/South Africa), Helen \n",
      "Gurney-Smith (Canada), Marjolijn Haasnoot (The Netherlands), Rebecca Harris (Australia), Stephanie \n",
      "Henson (UK), Manuel Hidalgo (Spain), Elisabeth Holland (Fiji), Robert Kopp (USA), Rebecca Kordas \n",
      "(UK/USA), Lester Kwiatkowski (France/UK), Judy Lawrence (New Zealand), Nadine Le Bris (France), \n",
      "Gonéri Le Cozannet (France), Salvador E. Lluch-Cota (Mexico), Cheryl Logan (USA), Felix Mark \n",
      "(Germany), Yunus Mgaya (Tanzania), Coleen Moloney (South Africa), Aditi Mukherji (Nepal), Norma \n",
      "Patricia Muñoz Sevilla (Mexico), Patrick Nunn (Australia), Dieter Piepenburg (Germany), Gregoire \n",
      "Randin (Fiji/France/Switzerland), Nussaibah B. Raja (Germany/Mauritius), Anusha Rajkaran (South \n",
      "Africa), Anthony J. Richardson (Australia), Stephanie Roe (Philippines/USA), Raquel Ruiz Diaz (Spain), \n",
      "Diana Salili (Vanuatu), Jean-Baptiste Sallée (France), Kylie Scales (Australia/UK), Daniela Schmidt (UK/\n",
      "Germany), Michelle Scobie (Trinidad and Tobago), Craig T. Simmons (Australia), Chandni Singh (India), \n",
      "Aimée Slangen (The Netherlands), Seree Supratid (Thailand), Olivier Torres (France), Andrew Yool (UK)\n",
      "Review Editors: Karim Hilmi (Morocco) and Lisa Levin (USA)\n",
      "Chapter Scientist: Jessica Bolin (Australia)\n"
     ]
    }
   ],
   "source": [
    "print(documents[0].text)"
   ]
  },
  {
   "cell_type": "markdown",
   "metadata": {
    "id": "v8Aw0Y42pNKx"
   },
   "source": [
    "Configure OpenAI LLM"
   ]
  },
  {
   "cell_type": "code",
   "execution_count": 31,
   "metadata": {
    "id": "O-zsiLU2gqYn"
   },
   "outputs": [],
   "source": [
    "from llama_index.llms.openai import OpenAI\n",
    "llm = OpenAI(model=\"gpt-4o-mini\", temperature=0.1)"
   ]
  },
  {
   "cell_type": "markdown",
   "metadata": {
    "id": "EsX5HcUfpQxQ"
   },
   "source": [
    "Load Sentence level embeddings from HuggingFace"
   ]
  },
  {
   "cell_type": "code",
   "execution_count": 32,
   "metadata": {
    "colab": {
     "base_uri": "https://localhost:8080/",
     "height": 209,
     "referenced_widgets": [
      "9ec002459a4740e38fec5fb2eeee004a",
      "02fbc96088d540d4b41f4878412a9e2d",
      "c95c6fd0e5e6464e955f847e56a182c9",
      "811a20a5069a4a408c8389898e30d44f",
      "3dac30b638934ba2af32ecc082f6e810",
      "4cf2371973134238b4aa3e464119ec60",
      "5f1b846673c34a608e35f36a96ee4652",
      "d8238491db2940c2accbbc9933aefdc7",
      "ea834704da2b4dc3a1b59c2684cff6ed",
      "94718d9752f2457da7b94982bd695f19",
      "1938577b28bd45aea1403426de1d4304",
      "38260c9875eb4b52915b8b6188727fe7",
      "d220226fcca548c182bc5d9788db5dc3",
      "4cb8516d2ada46609231333e67291306",
      "4f854ee714434a03a3955625b0aee1b1",
      "17fb9289402f493aa93eeae21cf4f817",
      "69eaa721821347d68ee29d28cfbefcfa",
      "e3538f52abe7446fb6b15ae9d332b5ee",
      "b7ffe35e6a324197a7a861bdd93ee6b4",
      "13e991424bb04da28ff07274db4814d8",
      "91ba4a600e5944cf9fb566137fa1f014",
      "45b27dce58944e85aa0355ec79f3cbed",
      "aeb46cebee204cdba7383cfffa763b19",
      "48d4187aca2c46df9ea27624685eb24d",
      "3b53104cae8f4ab486abfe08211f8b03",
      "bdc4a1a4f8b242d7b63040cbf66d23d1",
      "2fe4a4d5d610433a905cd9b3cc8c2381",
      "9e9443cfc03148c99b9d04892b606ab1",
      "49904678d8404c1d8ab46b6caa180de2",
      "2bd8dc10350b4ae98212a1a262ea3f07",
      "f01f8d2c94c14e87a0998d6b2956660c",
      "5db03f648c1441df87922ec1ca9dbe4b",
      "350b9409e980403e941ef2ca2b01c531",
      "42a092b12eb944f4b0c88bedce5c147c",
      "b6b09f0b345242049232d4c78ae70dcd",
      "3a223f57ca1848e98b9205abaabb4ca8",
      "f57789cefed9437c95a9da8910fc7e43",
      "bd44ffa99262413e924d2101f52dfc58",
      "7c7273c289574568a7c02d8b244aedba",
      "c50b8d8917494616ae90e9830062f334",
      "f8ef6fa9c3e64fa780b7d2db8555ff31",
      "658e861a34fc4f108bab047e9bdf648d",
      "cbeb39efdf9d4914a46a14f4744b329f",
      "b834f3bf20d1405e90564865ecd48df2",
      "b2e499d517c84351a5579f34b6b1875a",
      "660350d5bfa6478f858469e75807ffa6",
      "13634abdac3746eda3d3ba6430ed88b2",
      "3d534201c08b4cf2960fecd8940760ba",
      "c9a54bd6787a413f997dba75cee3332e",
      "6a54a740c54c44adba4fdf55463b13cc",
      "ab99ca072e664173a34eaf6315d70a9c",
      "338f270aa08e4489b83c3e35890dccbc",
      "68393f1992ce4b9d99df0f75152dadbe",
      "fe21c6a4310c46a795eda1901dd5cfa7",
      "4166ba01da8048a4a03ec83483b5b4ff",
      "4299bc09cd9c4cc49e007ca1951d26a6",
      "d4e2b9f05aa040548ad4e930fdc7e290",
      "206d434fe1384178a2f95b4de303a330",
      "c8bda533063340e9bd0de232f2e0dd0c",
      "81ab3b32c4ff4acabcad1873d8efc2df",
      "6918d36a42f84ee5a513a155151b1061",
      "a0042483d8964890b786cb87c8babeab",
      "924d14c31f7e4349b43e83404ba7a8bf",
      "047bf79db8084db48a15b55b7cae9615",
      "b47a171abff04d668009c0e962b4ad13",
      "2f3ff926a22f4f84bbdb641c584aa7bf"
     ]
    },
    "executionInfo": {
     "elapsed": 12680,
     "status": "ok",
     "timestamp": 1703002425558,
     "user": {
      "displayName": "Dandu Aravind Pai",
      "userId": "08051161683874071314"
     },
     "user_tz": -330
    },
    "id": "GS4m4JmMgqa2",
    "outputId": "329589d3-bd04-4554-a30d-25b0efd843c6"
   },
   "outputs": [
    {
     "name": "stderr",
     "output_type": "stream",
     "text": [
      "The installed version of bitsandbytes was compiled without GPU support. 8-bit optimizers, 8-bit multiplication, and GPU quantization are unavailable.\n"
     ]
    }
   ],
   "source": [
    "from llama_index.embeddings.huggingface import HuggingFaceEmbedding\n",
    "embed_model = HuggingFaceEmbedding(\n",
    "    model_name=\"BAAI/bge-small-en-v1.5\")"
   ]
  },
  {
   "cell_type": "markdown",
   "metadata": {
    "id": "_wy6SPuOpvvO"
   },
   "source": [
    "Create Service Context by providing LLM and Embedding model"
   ]
  },
  {
   "cell_type": "markdown",
   "metadata": {
    "id": "qCmcj4YXq0Y0"
   },
   "source": [
    "#Sentence Window Indexing"
   ]
  },
  {
   "cell_type": "markdown",
   "metadata": {
    "id": "uLw1yGL4qJoL"
   },
   "source": [
    "Create Sentence Window Node Parser\n"
   ]
  },
  {
   "cell_type": "code",
   "execution_count": 33,
   "metadata": {
    "id": "0UGux2p7gpKV"
   },
   "outputs": [],
   "source": [
    "from llama_index.core.node_parser import SentenceWindowNodeParser\n",
    "node_parser = SentenceWindowNodeParser.from_defaults(\n",
    "    window_size=3,\n",
    "    window_metadata_key=\"window\",\n",
    "    original_text_metadata_key=\"original_text\",\n",
    ")"
   ]
  },
  {
   "cell_type": "markdown",
   "metadata": {
    "id": "YOI--HFeqtKl"
   },
   "source": [
    "Extract the nodes"
   ]
  },
  {
   "cell_type": "code",
   "execution_count": 34,
   "metadata": {
    "id": "4dwSZH4EgpM1"
   },
   "outputs": [],
   "source": [
    "nodes = node_parser.get_nodes_from_documents(documents)"
   ]
  },
  {
   "cell_type": "markdown",
   "metadata": {
    "id": "yk5QqORPrNbk"
   },
   "source": [
    "Building index"
   ]
  },
  {
   "cell_type": "code",
   "execution_count": 35,
   "metadata": {},
   "outputs": [],
   "source": [
    "from llama_index.core import VectorStoreIndex"
   ]
  },
  {
   "cell_type": "code",
   "execution_count": 36,
   "metadata": {
    "colab": {
     "base_uri": "https://localhost:8080/",
     "height": 49,
     "referenced_widgets": [
      "e8a56d0a425446368a8708b360af995d",
      "78fd8df62c1348ce94c4c0900e7d02a9",
      "b06ee5e2c4bc42ada6e99ef79b711700",
      "1a70f6837b6242c58a5777c9457788f9",
      "dd2c2e71eaa84c5293ecbb43f1c80e49",
      "7f02876b631547bb8772c2ba0e29962e",
      "75464e89273f44e8a36de7c4882dbff4",
      "8ca50df82e3f4b47b0b5831e68a2be66",
      "99a6127beed342dcb621159010bc15d9",
      "76919b94a39242b181295e6541018db0",
      "292d5cc01e3144f29c0780a3222bf611"
     ]
    },
    "executionInfo": {
     "elapsed": 2132993,
     "status": "ok",
     "timestamp": 1703004563875,
     "user": {
      "displayName": "Dandu Aravind Pai",
      "userId": "08051161683874071314"
     },
     "user_tz": -330
    },
    "id": "l_WaMsLzgpPL",
    "outputId": "dd200f11-8946-4fce-bccf-689bc2caf9db"
   },
   "outputs": [
    {
     "data": {
      "application/vnd.jupyter.widget-view+json": {
       "model_id": "905f8b36ddcb4b78ab04856923d25e5c",
       "version_major": 2,
       "version_minor": 0
      },
      "text/plain": [
       "Generating embeddings:   0%|          | 0/2048 [00:00<?, ?it/s]"
      ]
     },
     "metadata": {},
     "output_type": "display_data"
    },
    {
     "data": {
      "application/vnd.jupyter.widget-view+json": {
       "model_id": "b93b04b411d74046b0a6509dde7638e6",
       "version_major": 2,
       "version_minor": 0
      },
      "text/plain": [
       "Generating embeddings:   0%|          | 0/2048 [00:00<?, ?it/s]"
      ]
     },
     "metadata": {},
     "output_type": "display_data"
    },
    {
     "data": {
      "application/vnd.jupyter.widget-view+json": {
       "model_id": "e9e48ab4bcea4a97a93680a0038ca812",
       "version_major": 2,
       "version_minor": 0
      },
      "text/plain": [
       "Generating embeddings:   0%|          | 0/2048 [00:00<?, ?it/s]"
      ]
     },
     "metadata": {},
     "output_type": "display_data"
    },
    {
     "data": {
      "application/vnd.jupyter.widget-view+json": {
       "model_id": "91adebe607e54282a0fd5af31a2896a2",
       "version_major": 2,
       "version_minor": 0
      },
      "text/plain": [
       "Generating embeddings:   0%|          | 0/2048 [00:00<?, ?it/s]"
      ]
     },
     "metadata": {},
     "output_type": "display_data"
    },
    {
     "data": {
      "application/vnd.jupyter.widget-view+json": {
       "model_id": "247b561384184f22bbf06347f9bd2c49",
       "version_major": 2,
       "version_minor": 0
      },
      "text/plain": [
       "Generating embeddings:   0%|          | 0/2048 [00:00<?, ?it/s]"
      ]
     },
     "metadata": {},
     "output_type": "display_data"
    },
    {
     "data": {
      "application/vnd.jupyter.widget-view+json": {
       "model_id": "257484b5e1bb4844881acd032a3067d1",
       "version_major": 2,
       "version_minor": 0
      },
      "text/plain": [
       "Generating embeddings:   0%|          | 0/1036 [00:00<?, ?it/s]"
      ]
     },
     "metadata": {},
     "output_type": "display_data"
    }
   ],
   "source": [
    "sentence_index = VectorStoreIndex(nodes, embed_model=embed_model, show_progress=True)"
   ]
  },
  {
   "cell_type": "markdown",
   "metadata": {
    "id": "P3zk5XVRrbBq"
   },
   "source": [
    "# Querying\n",
    "\n",
    "## MetadataReplacementPostProcessor\n",
    "\n",
    "Here, we will configure the `MetadataReplacementPostProcessor` in the query engine.\n",
    "\n",
    "It replaces the actual sentence in each node with it's surrounding context."
   ]
  },
  {
   "cell_type": "code",
   "execution_count": 37,
   "metadata": {
    "id": "J7rX914kgpRt"
   },
   "outputs": [],
   "source": [
    "from llama_index.core.postprocessor import MetadataReplacementPostProcessor\n",
    "sentence_query_engine = sentence_index.as_query_engine(\n",
    "    similarity_top_k=2,\n",
    "    node_postprocessors=[\n",
    "        MetadataReplacementPostProcessor(target_metadata_key=\"window\")\n",
    "    ],\n",
    ")"
   ]
  },
  {
   "cell_type": "code",
   "execution_count": 38,
   "metadata": {
    "id": "iaPcc7gugpUY"
   },
   "outputs": [],
   "source": [
    "sentence_window_response = sentence_query_engine.query(\n",
    "    \"What are the concerns surrounding the AMOC?\"\n",
    ")"
   ]
  },
  {
   "cell_type": "code",
   "execution_count": 39,
   "metadata": {
    "colab": {
     "base_uri": "https://localhost:8080/"
    },
    "executionInfo": {
     "elapsed": 22,
     "status": "ok",
     "timestamp": 1703004568501,
     "user": {
      "displayName": "Dandu Aravind Pai",
      "userId": "08051161683874071314"
     },
     "user_tz": -330
    },
    "id": "g2IEt8tNgpWc",
    "outputId": "a19c490b-5620-4b5e-f112-4ccf9167d28c"
   },
   "outputs": [
    {
     "name": "stdout",
     "output_type": "stream",
     "text": [
      "There is low confidence in the quantification of AMOC changes in the 20th century due to low agreement in quantitative reconstructed and simulated trends. Direct observational records since the mid-2000s are considered too short to determine the relative contributions of internal variability, natural forcing, and anthropogenic forcing to AMOC change. It is very likely that the AMOC will decline over the 21st century for all scenarios, but it is not expected to involve an abrupt collapse before 2100.\n"
     ]
    }
   ],
   "source": [
    "print(sentence_window_response)"
   ]
  },
  {
   "cell_type": "markdown",
   "metadata": {
    "id": "GHGAqw8wsGC5"
   },
   "source": [
    "We can also check the original sentence that was retrieved for each node, as well as the actual window of sentences that was sent to the LLM."
   ]
  },
  {
   "cell_type": "code",
   "execution_count": 40,
   "metadata": {
    "colab": {
     "base_uri": "https://localhost:8080/"
    },
    "executionInfo": {
     "elapsed": 17,
     "status": "ok",
     "timestamp": 1703004568501,
     "user": {
      "displayName": "Dandu Aravind Pai",
      "userId": "08051161683874071314"
     },
     "user_tz": -330
    },
    "id": "5bgKnz3rgpZC",
    "outputId": "aa1bc33c-f1e3-4325-e8fd-42198ffcf6c0"
   },
   "outputs": [
    {
     "name": "stdout",
     "output_type": "stream",
     "text": [
      "2.3.3.4, 9.2.3 (Fox-Kemper \n",
      "et al., 2021; Gulev et al., \n",
      "2021)\n",
      "The AMOC will decline over the 21st century \n",
      "(high confidence, but low confidence for \n",
      "quantitative projections).\n",
      "\n"
     ]
    }
   ],
   "source": [
    "sentence = sentence_window_response.source_nodes[0].node.metadata[\"original_text\"]\n",
    "print(sentence)"
   ]
  },
  {
   "cell_type": "code",
   "execution_count": 41,
   "metadata": {
    "colab": {
     "base_uri": "https://localhost:8080/"
    },
    "executionInfo": {
     "elapsed": 11,
     "status": "ok",
     "timestamp": 1703004568501,
     "user": {
      "displayName": "Dandu Aravind Pai",
      "userId": "08051161683874071314"
     },
     "user_tz": -330
    },
    "id": "tNoRY9jba6Fz",
    "outputId": "2bfcdf04-fabd-485b-afb1-c5eff06ae34e"
   },
   "outputs": [
    {
     "name": "stdout",
     "output_type": "stream",
     "text": [
      "4.3.2.2, 9.6.3 (Fox-Kemper \n",
      "et al., 2021; Lee et al., \n",
      "2021)\n",
      "Extreme sea levels\n",
      "Relative sea level rise is driving a global increase \n",
      "in the frequency of extreme sea levels (high \n",
      "confidence).\n",
      " 9.6.4 (Fox-Kemper et al., \n",
      "2021)\n",
      "Rising mean relative sea level will continue to \n",
      "drive an increase in the frequency of extreme sea \n",
      "levels (high confidence).\n",
      " 9.6.4 (Fox-Kemper et al., \n",
      "2021)\n",
      "Ocean circulation\n",
      "Ocean stratification\n",
      "‘The upper ocean has become more stably \n",
      "stratified since at least 1970 […] (virtually \n",
      "certain).’\n",
      "9.2.1.3 (Fox-Kemper et al., \n",
      "2021)\n",
      "‘Upper-ocean stratification will continue to \n",
      "increase throughout the 21st century (virtually \n",
      "certain).’\n",
      "9.2.1.3 (Fox-Kemper et al., \n",
      "2021)\n",
      "Eastern boundary \n",
      "upwelling systems\n",
      "‘Only the California current system \n",
      "has experienced some large-scale \n",
      "upwelling-favourable wind intensification since \n",
      "the 1980s (medium confidence).’\n",
      "9.2.5 (Fox-Kemper et al., \n",
      "2021)\n",
      "‘Eastern boundary upwelling systems will \n",
      "change, with a dipole spatial pattern within \n",
      "each system of reduction at low latitude and \n",
      "enhancement at high latitude (high confidence).’\n",
      "9.2.5 (Fox-Kemper et al., \n",
      "2021)\n",
      "Atlantic overturning \n",
      "circulation (AMOC)\n",
      "There is low confidence in reconstructed and \n",
      "modelled AMOC changes for the 20th century.\n",
      " 2.3.3.4, 9.2.3 (Fox-Kemper \n",
      "et al., 2021; Gulev et al., \n",
      "2021)\n",
      "The AMOC will decline over the 21st century \n",
      "(high confidence, but low confidence for \n",
      "quantitative projections).\n",
      " 4.3.2.3, 9.2.3 (Fox-Kemper \n",
      "et al., 2021; Lee et al., \n",
      "2021)\n",
      "Sea ice\n",
      "Arctic sea ice \n",
      "changes\n",
      "‘Current Arctic sea ice coverage levels are the \n",
      "lowest since at least 1850 for both annual mean \n",
      "and late-summer values (high confidence).’\n",
      "2.3.2.1, 9.3.1 (Fox-Kemper \n",
      "et al., 2021; Gulev et al., \n",
      "2021)\n",
      "‘The Arctic will become practically ice-free in \n",
      "September by the end of the 21st century under \n",
      "SSP2-4.5, SSP3-7.0 and SSP5-8.5[…](high \n",
      "confidence).’\n",
      "4.3.2.1, 9.3.1 (Fox-Kemper \n",
      "et al., 2021; Lee et al., \n",
      "2021)\n",
      "Antarctic sea ice \n",
      "changes\n",
      "There is no global significant trend in \n",
      "Antarctic sea ice area from 1979 to 2020 (high \n",
      "confidence).\n",
      " 2.3.2.1, 9.3.2 (Fox-Kemper \n",
      "et al., 2021; Gulev et al., \n",
      "2021)\n",
      "There is low confidence in model simulations of \n",
      "future Antarctic sea ice.\n",
      " 9.3.2 (Fox-Kemper et al., \n",
      "2021)\n",
      "Ocean chemistry\n",
      "Changes in salinity\n",
      "The ‘large-scale, near-surface salinity contrasts \n",
      "have intensified since at least 1950 […] \n",
      "(virtually certain).’\n",
      "2.3.3.2, 9.2.2.2 \n",
      "(Fox-Kemper et al., 2021; \n",
      "Gulev et al., 2021)\n",
      "‘Fresh ocean regions will continue to get fresher \n",
      "and salty ocean regions will continue to get \n",
      "saltier in the 21st century (medium confidence).’\n",
      "9.2.2.2 (Fox-Kemper et al., \n",
      "2021)\n",
      "Ocean acidification Ocean surface pH has declined globally over the \n",
      "past four decades (virtually certain).\n",
      "\n"
     ]
    }
   ],
   "source": [
    "window = sentence_window_response.source_nodes[0].node.metadata[\"window\"]\n",
    "print(window)"
   ]
  },
  {
   "cell_type": "markdown",
   "metadata": {
    "id": "6PPAUy54udIE"
   },
   "source": [
    "# Base Retriever"
   ]
  },
  {
   "cell_type": "markdown",
   "metadata": {
    "id": "MTKbAG06vWzV"
   },
   "source": [
    "Create node parser to extract the sentences from the document"
   ]
  },
  {
   "cell_type": "code",
   "execution_count": 42,
   "metadata": {
    "id": "4AU1MdCegpbj"
   },
   "outputs": [],
   "source": [
    "# base node parser is a sentence splitter\n",
    "from llama_index.core.text_splitter import SentenceSplitter\n",
    "sentence_splitter = SentenceSplitter()"
   ]
  },
  {
   "cell_type": "markdown",
   "metadata": {
    "id": "6PeaKyjcvJ8-"
   },
   "source": [
    "Extract the nodes"
   ]
  },
  {
   "cell_type": "code",
   "execution_count": 43,
   "metadata": {
    "id": "MR8d9stqgpeR"
   },
   "outputs": [],
   "source": [
    "base_nodes = sentence_splitter.get_nodes_from_documents(documents)"
   ]
  },
  {
   "cell_type": "markdown",
   "metadata": {
    "id": "Zy0kUvBQvTac"
   },
   "source": [
    "Build index"
   ]
  },
  {
   "cell_type": "code",
   "execution_count": 44,
   "metadata": {
    "id": "eiJ9xZEggpg3"
   },
   "outputs": [
    {
     "data": {
      "application/vnd.jupyter.widget-view+json": {
       "model_id": "1ff11a9653b64ae9bef2137f98bc6298",
       "version_major": 2,
       "version_minor": 0
      },
      "text/plain": [
       "Generating embeddings:   0%|          | 0/459 [00:00<?, ?it/s]"
      ]
     },
     "metadata": {},
     "output_type": "display_data"
    }
   ],
   "source": [
    "base_index = VectorStoreIndex(base_nodes, embed_model=embed_model, show_progress=True)"
   ]
  },
  {
   "cell_type": "markdown",
   "metadata": {
    "id": "UztBnhN07-L0"
   },
   "source": [
    "Configure Query Engine"
   ]
  },
  {
   "cell_type": "code",
   "execution_count": 45,
   "metadata": {
    "id": "Exnt0qrLgpje"
   },
   "outputs": [],
   "source": [
    "base_query_engine = base_index.as_query_engine(similarity_top_k=2)"
   ]
  },
  {
   "cell_type": "code",
   "execution_count": 46,
   "metadata": {
    "id": "CbxqKYbwgpmM"
   },
   "outputs": [],
   "source": [
    "response = base_query_engine.query(\n",
    "    \"What are the concerns surrounding the AMOC?\"\n",
    ")"
   ]
  },
  {
   "cell_type": "code",
   "execution_count": 47,
   "metadata": {
    "colab": {
     "base_uri": "https://localhost:8080/"
    },
    "executionInfo": {
     "elapsed": 9,
     "status": "ok",
     "timestamp": 1703005209556,
     "user": {
      "displayName": "Dandu Aravind Pai",
      "userId": "08051161683874071314"
     },
     "user_tz": -330
    },
    "id": "O-_DAAC8gpoI",
    "outputId": "ebc1890a-2112-4054-aa90-378bf3a7ff92"
   },
   "outputs": [
    {
     "name": "stdout",
     "output_type": "stream",
     "text": [
      "The concerns surrounding the AMOC include potential weakening due to climate change, which could have significant impacts on regional and global climate patterns, including sea level rise, temperature changes, and extreme weather events.\n"
     ]
    }
   ],
   "source": [
    "print(response)"
   ]
  },
  {
   "cell_type": "markdown",
   "metadata": {
    "id": "Nn8Jl2638EOE"
   },
   "source": [
    "Well, that didn't work. Let's bump up the top k!\n"
   ]
  },
  {
   "cell_type": "code",
   "execution_count": 30,
   "metadata": {
    "id": "-vzW8-wzgpqw"
   },
   "outputs": [],
   "source": [
    "query_engine = base_index.as_query_engine(similarity_top_k=5)"
   ]
  },
  {
   "cell_type": "code",
   "execution_count": 31,
   "metadata": {
    "id": "ThNt81lGgptG"
   },
   "outputs": [],
   "source": [
    "response = query_engine.query(\n",
    "    \"What are the concerns surrounding the AMOC?\"\n",
    ")"
   ]
  },
  {
   "cell_type": "code",
   "execution_count": 32,
   "metadata": {
    "colab": {
     "base_uri": "https://localhost:8080/"
    },
    "executionInfo": {
     "elapsed": 49,
     "status": "ok",
     "timestamp": 1703005212507,
     "user": {
      "displayName": "Dandu Aravind Pai",
      "userId": "08051161683874071314"
     },
     "user_tz": -330
    },
    "id": "ZxS-Hfssgpvn",
    "outputId": "53ac830d-1041-4951-a664-cce3c380fd54"
   },
   "outputs": [
    {
     "name": "stdout",
     "output_type": "stream",
     "text": [
      "Concerns surrounding the AMOC include low confidence in reconstructed and modelled AMOC changes for the 20th century, a projected decline over the 21st century with high confidence but low confidence for quantitative projections, and potential implications for global climate due to the uncertainties in future AMOC behavior.\n"
     ]
    }
   ],
   "source": [
    "print(response)"
   ]
  },
  {
   "cell_type": "markdown",
   "metadata": {
    "id": "cJqBFT1Z8XE6"
   },
   "source": [
    "# Analysis\n",
    "\n",
    "So the `SentenceWindowNodeParser` + `MetadataReplacementNodePostProcessor` combo is the clear winner here. But why?\n",
    "\n",
    "Embeddings at a sentence level seem to capture more fine-grained details, like the word `AMOC`.\n",
    "\n",
    "Lets look at the retrieved sentences for the user query!"
   ]
  },
  {
   "cell_type": "code",
   "execution_count": 33,
   "metadata": {
    "colab": {
     "base_uri": "https://localhost:8080/"
    },
    "executionInfo": {
     "elapsed": 47,
     "status": "ok",
     "timestamp": 1703005212507,
     "user": {
      "displayName": "Dandu Aravind Pai",
      "userId": "08051161683874071314"
     },
     "user_tz": -330
    },
    "id": "-d3g5l8Qgpxz",
    "outputId": "61ecedcb-080b-4ef8-e900-69ffc9db34ff"
   },
   "outputs": [
    {
     "name": "stdout",
     "output_type": "stream",
     "text": [
      "Over the 21st century, AMOC will very likely decline for all SSP \n",
      "scenarios but will not involve an abrupt collapse before 2100 (WGI \n",
      "AR6 Sections 4.3.2, 9.2.3.1; Fox-Kemper et al., 2021; Lee et al., 2021).\n",
      "\n",
      "--------\n",
      "Continuous observation of the Atlantic meridional overturning \n",
      "circulation (AMOC) has improved the understanding of its variability \n",
      "(Frajka-Williams et  al., 2019), but there is low confidence in the \n",
      "quantification of AMOC changes in the 20th century because of low \n",
      "agreement in quantitative reconstructed and simulated trends (WGI \n",
      "AR6 Sections 2.3.3, 9.2.3.1; Fox-Kemper et al., 2021; Gulev et al., 2021). \n",
      "\n",
      "--------\n"
     ]
    }
   ],
   "source": [
    "for source_node in sentence_window_response.source_nodes:\n",
    "  print(source_node.node.metadata[\"original_text\"])\n",
    "  print(\"--------\")"
   ]
  },
  {
   "cell_type": "markdown",
   "metadata": {
    "id": "QDvNMHdg8pIM"
   },
   "source": [
    "Here, we can see that the sentence window index easily retrieved two nodes that talk about AMOC.\n",
    "\n",
    "Remember, the embeddings are based purely on the original sentence here, but the LLM actually ends up reading the surrounding context as well!\n",
    "\n",
    "Now, let's try and disect why the naive vector index failed.\n"
   ]
  },
  {
   "cell_type": "code",
   "execution_count": 36,
   "metadata": {
    "colab": {
     "base_uri": "https://localhost:8080/"
    },
    "executionInfo": {
     "elapsed": 40,
     "status": "ok",
     "timestamp": 1703005212508,
     "user": {
      "displayName": "Dandu Aravind Pai",
      "userId": "08051161683874071314"
     },
     "user_tz": -330
    },
    "id": "6lSpjSyK8oq6",
    "outputId": "13765caf-76fa-4a81-bbce-6ee5153f908b"
   },
   "outputs": [
    {
     "name": "stdout",
     "output_type": "stream",
     "text": [
      "Is AMOC mentioned in the node?: True\n",
      "--------\n",
      "Is AMOC mentioned in the node?: False\n",
      "--------\n",
      "Is AMOC mentioned in the node?: False\n",
      "--------\n",
      "Is AMOC mentioned in the node?: False\n",
      "--------\n",
      "Is AMOC mentioned in the node?: False\n",
      "--------\n"
     ]
    }
   ],
   "source": [
    "#extract the nodes containing the text \"AMOC\"\n",
    "for node in response.source_nodes:\n",
    "    print(\"Is AMOC mentioned in the node?:\", \"AMOC\" in node.node.text)\n",
    "    print(\"--------\")"
   ]
  },
  {
   "cell_type": "markdown",
   "metadata": {
    "id": "_R6kAdTM88Jn"
   },
   "source": [
    "So source node at index 2 mentions AMOC, but what did this text actually look like?"
   ]
  },
  {
   "cell_type": "code",
   "execution_count": 38,
   "metadata": {
    "colab": {
     "base_uri": "https://localhost:8080/"
    },
    "executionInfo": {
     "elapsed": 34,
     "status": "ok",
     "timestamp": 1703005212508,
     "user": {
      "displayName": "Dandu Aravind Pai",
      "userId": "08051161683874071314"
     },
     "user_tz": -330
    },
    "id": "yXyO1kV584Yh",
    "outputId": "8c540464-9fe1-4c52-8969-7428854a6022"
   },
   "outputs": [
    {
     "name": "stdout",
     "output_type": "stream",
     "text": [
      "’9.2.5 (Fox-Kemper et al. \n",
      "2021)‘Eastern boundary upwelling systems will \n",
      "change, with a dipole spatial pattern within \n",
      "each system of reduction at low latitude and \n",
      "enhancement at high latitude (high confidence).’9.2.5 (Fox-Kemper et al. \n",
      "2021)\n",
      "Atlantic overturning \n",
      "circulation (AMOC)There is low confidence in reconstructed and \n",
      "modelled AMOC changes for the 20th century.2.3.3.4, 9.2.3 (Fox-Kemper \n",
      "et al. 2021; Gulev et al. \n",
      "2021)The AMOC will decline over the 21st century \n",
      "(high confidence, but low confidence for \n",
      "quantitative projections).4.3.2.3, 9.2.3 (Fox-Kemper \n",
      "et al. 2021; Lee et al. \n",
      "2021)\n",
      "Sea ice\n",
      "Arctic sea ice \n",
      "changes‘Current Arctic sea ice coverage levels are the \n",
      "lowest since at least 1850 for both annual mean \n",
      "and late-summer values (high confidence).’2.3.2.1, 9.3.1 (Fox-Kemper \n",
      "et al. 2021; Gulev et al. \n",
      "2021)‘The Arctic will become practically ice-free in \n",
      "September by the end of the 21st century under \n",
      "SSP2-4.5, SSP3-7.0 and SSP5-8.5[…](high \n",
      "confidence).’4.3.2.1, 9.3.1 (Fox-Kemper \n",
      "et al. 2021; Lee et al. \n",
      "2021)\n",
      "Antarctic sea ice \n",
      "changesThere is no global significant trend in \n",
      "Antarctic sea ice area from 1979 to 2020 (high \n",
      "confidence).2.3.2.1, 9.3.2 (Fox-Kemper \n",
      "et al. 2021; Gulev et al. \n",
      "2021)There is low confidence in model simulations of \n",
      "future Antarctic sea ice.9.3.2 (Fox-Kemper et al. \n",
      "2021)\n",
      "Ocean chemistry\n",
      "Changes in salinityThe ‘large-scale, near-surface salinity contrasts \n",
      "have intensified since at least 1950 […] \n",
      "(virtually certain).’2.3.3.2, 9.2.2.2 \n",
      "(Fox-Kemper et al. 2021; \n",
      "Gulev et al. 2021)‘Fresh ocean regions will continue to get fresher \n",
      "and salty ocean regions will continue to get \n",
      "saltier in the 21st century (medium confidence).’9.2.2.2 (Fox-Kemper et al. \n",
      "2021)\n",
      "Ocean acidificationOcean surface pH has declined globally over the \n",
      "past four decades (virtually certain).2.3.3.5, 5.3.2.2 (Canadell \n",
      "et al. 2021; Gulev et al. \n",
      "2021)Ocean surface pH will continue to decrease \n",
      "‘through the 21st century, except for the \n",
      "lower-emission scenarios SSP1-1.9 and SSP1-2.6 \n",
      "[…] (high confidence).’4.3.2.5, 4.5.2.2, 5.3.4.1 \n",
      "(Lee et al. 2021; Canadell \n",
      "et al. 2021)\n",
      "Ocean \n",
      "deoxygenationDeoxygenation has occurred in most open \n",
      "ocean regions since the mid-20th century (high \n",
      "confidence).2.3.3.6, 5.3.3.2 (Canadell \n",
      "et al. 2021; Gulev et al. \n",
      "2021)Subsurface oxygen content ‘is projected to \n",
      "transition to historically unprecedented condition \n",
      "with decline over the 21st century (medium \n",
      "confidence).’5.3.3.2 (Canadell et al. \n",
      "2021)\n",
      "Changes in nutrient \n",
      "concentrationsNot assessed in WGI Not assessed in WGI\n"
     ]
    }
   ],
   "source": [
    "print(response.source_nodes[0].node.text)"
   ]
  },
  {
   "cell_type": "markdown",
   "metadata": {
    "id": "KpkoI7pF9EZX"
   },
   "source": [
    "So AMOC is discussed, but sadly it is in the middle chunk.\n",
    "\n",
    "With LLMs, it is often observed that text in the middle of retrieved context is often ignored or less useful.\n",
    "\n",
    "A recent paper [Lost in the Middle](https://arxiv.org/abs/2307.03172) discusses this."
   ]
  },
  {
   "cell_type": "markdown",
   "metadata": {
    "id": "RluldT_I9IVo"
   },
   "source": [
    "#Compare Base Retriever and Sentence Window Retriever\n",
    "\n",
    "Lets evaluate how well the sentence window retriever works compared to the base retriever.\n",
    "\n",
    "We define and load an eval benchmark dataset and then run different evaluations over it.\n",
    "\n",
    "##Create Evaluation Dataset\n",
    "\n",
    "*Note:This can be expensive, especially with GPT-4. Use caution and tune the sample size to fit your budget.*"
   ]
  },
  {
   "cell_type": "code",
   "execution_count": 49,
   "metadata": {
    "id": "S-iimNt69K3g"
   },
   "outputs": [],
   "source": [
    "import random\n",
    "import nest_asyncio\n",
    "nest_asyncio.apply()"
   ]
  },
  {
   "cell_type": "code",
   "execution_count": 50,
   "metadata": {
    "colab": {
     "base_uri": "https://localhost:8080/"
    },
    "executionInfo": {
     "elapsed": 3,
     "status": "ok",
     "timestamp": 1703006977445,
     "user": {
      "displayName": "Dandu Aravind Pai",
      "userId": "08051161683874071314"
     },
     "user_tz": -330
    },
    "id": "m3i8eduX9K5a",
    "outputId": "5c230180-f6d1-4019-f094-6c91e1163f9d"
   },
   "outputs": [
    {
     "data": {
      "text/plain": [
       "459"
      ]
     },
     "execution_count": 50,
     "metadata": {},
     "output_type": "execute_result"
    }
   ],
   "source": [
    "len(base_nodes)"
   ]
  },
  {
   "cell_type": "markdown",
   "metadata": {
    "id": "zD38f57Uch_t"
   },
   "source": [
    "Randomly sample few nodes for the evaluation"
   ]
  },
  {
   "cell_type": "code",
   "execution_count": 51,
   "metadata": {
    "id": "y7vaKX52cpK6"
   },
   "outputs": [],
   "source": [
    "num_nodes_eval=1"
   ]
  },
  {
   "cell_type": "code",
   "execution_count": 52,
   "metadata": {
    "id": "_Bu-NXJo9K8K"
   },
   "outputs": [],
   "source": [
    "sample_eval_nodes = random.sample(base_nodes,num_nodes_eval)"
   ]
  },
  {
   "cell_type": "markdown",
   "metadata": {
    "id": "nv3-wPkFctYR"
   },
   "source": [
    "Configure Service Context for evaluation"
   ]
  },
  {
   "cell_type": "code",
   "execution_count": 53,
   "metadata": {
    "id": "qkNXo0dfcLA9"
   },
   "outputs": [],
   "source": [
    "gpt4=OpenAI(model=\"gpt-4o\")"
   ]
  },
  {
   "cell_type": "code",
   "execution_count": 60,
   "metadata": {},
   "outputs": [],
   "source": [
    "from llama_index.core.llama_dataset.generator import RagDatasetGenerator"
   ]
  },
  {
   "cell_type": "code",
   "execution_count": 69,
   "metadata": {
    "colab": {
     "base_uri": "https://localhost:8080/"
    },
    "executionInfo": {
     "elapsed": 4,
     "status": "ok",
     "timestamp": 1703007017072,
     "user": {
      "displayName": "Dandu Aravind Pai",
      "userId": "08051161683874071314"
     },
     "user_tz": -330
    },
    "id": "fbcGhVx4cMjt",
    "outputId": "f9ab163b-b1f9-4a72-d9a0-80639409607d"
   },
   "outputs": [],
   "source": [
    "# generate questions\n",
    "dataset_generator = RagDatasetGenerator(\n",
    "    sample_eval_nodes,\n",
    "    llm=gpt4,\n",
    "    show_progress=True,\n",
    "    num_questions_per_chunk=2,\n",
    ")"
   ]
  },
  {
   "cell_type": "code",
   "execution_count": 70,
   "metadata": {
    "colab": {
     "base_uri": "https://localhost:8080/"
    },
    "executionInfo": {
     "elapsed": 1376814,
     "status": "ok",
     "timestamp": 1703008396806,
     "user": {
      "displayName": "Dandu Aravind Pai",
      "userId": "08051161683874071314"
     },
     "user_tz": -330
    },
    "id": "LJFIt9Jw9K-n",
    "outputId": "dc999352-1259-455f-9fe9-cdf61efd70d0",
    "scrolled": true
   },
   "outputs": [
    {
     "name": "stderr",
     "output_type": "stream",
     "text": [
      "100%|██████████| 1/1 [00:02<00:00,  2.99s/it]\n",
      "100%|██████████| 2/2 [00:04<00:00,  2.32s/it]\n"
     ]
    }
   ],
   "source": [
    "eval_dataset = await dataset_generator.agenerate_dataset_from_nodes()"
   ]
  },
  {
   "cell_type": "code",
   "execution_count": 71,
   "metadata": {
    "id": "I0Ta_5OJ9LBM"
   },
   "outputs": [],
   "source": [
    "eval_dataset.save_json(\"ipcc_eval_qr_dataset.json\")"
   ]
  },
  {
   "cell_type": "code",
   "execution_count": 67,
   "metadata": {},
   "outputs": [],
   "source": [
    "from llama_index.core.llama_dataset import LabelledRagDataset"
   ]
  },
  {
   "cell_type": "code",
   "execution_count": 72,
   "metadata": {
    "colab": {
     "base_uri": "https://localhost:8080/"
    },
    "executionInfo": {
     "elapsed": 41,
     "status": "ok",
     "timestamp": 1703008396808,
     "user": {
      "displayName": "Dandu Aravind Pai",
      "userId": "08051161683874071314"
     },
     "user_tz": -330
    },
    "id": "kO293miz9LDi",
    "outputId": "f506b0f2-e2d1-4ce8-b769-b2d11c8197a2"
   },
   "outputs": [],
   "source": [
    "eval_dataset = LabelledRagDataset.from_json(\"ipcc_eval_qr_dataset.json\")"
   ]
  },
  {
   "cell_type": "code",
   "execution_count": 80,
   "metadata": {},
   "outputs": [],
   "source": [
    "eval_questions = [example.query for example in eval_dataset.examples]\n",
    "eval_responses = [example.reference_answer for example in eval_dataset.examples]"
   ]
  },
  {
   "cell_type": "code",
   "execution_count": 79,
   "metadata": {
    "colab": {
     "base_uri": "https://localhost:8080/"
    },
    "executionInfo": {
     "elapsed": 17,
     "status": "ok",
     "timestamp": 1703008400146,
     "user": {
      "displayName": "Dandu Aravind Pai",
      "userId": "08051161683874071314"
     },
     "user_tz": -330
    },
    "id": "3kKBCf6-IUVk",
    "outputId": "7e88fdbf-7bca-46e5-8ea0-4abcb4ce3660"
   },
   "outputs": [
    {
     "data": {
      "text/plain": [
       "2"
      ]
     },
     "execution_count": 79,
     "metadata": {},
     "output_type": "execute_result"
    }
   ],
   "source": [
    "len(eval_questions)"
   ]
  },
  {
   "cell_type": "markdown",
   "metadata": {
    "id": "P4_6pX_thhOq"
   },
   "source": [
    "Query the base retriever and sentence window retriever query engines for the responses."
   ]
  },
  {
   "cell_type": "code",
   "execution_count": 81,
   "metadata": {
    "id": "c58rCuBCfw36"
   },
   "outputs": [],
   "source": [
    "max_samples = 2"
   ]
  },
  {
   "cell_type": "code",
   "execution_count": 82,
   "metadata": {
    "colab": {
     "base_uri": "https://localhost:8080/"
    },
    "executionInfo": {
     "elapsed": 32601,
     "status": "ok",
     "timestamp": 1703008432736,
     "user": {
      "displayName": "Dandu Aravind Pai",
      "userId": "08051161683874071314"
     },
     "user_tz": -330
    },
    "id": "duLtl7zT98uG",
    "outputId": "d36adf5f-2d46-491d-f0b0-0fcd15cbc392"
   },
   "outputs": [
    {
     "name": "stderr",
     "output_type": "stream",
     "text": [
      "100%|██████████| 2/2 [00:03<00:00,  1.53s/it]\n"
     ]
    }
   ],
   "source": [
    "from llama_index.core.evaluation.eval_utils import get_responses\n",
    "base_responses = get_responses(\n",
    "    eval_questions[:max_samples],\n",
    "    base_query_engine,\n",
    "    show_progress=True\n",
    ")"
   ]
  },
  {
   "cell_type": "code",
   "execution_count": 61,
   "metadata": {
    "colab": {
     "base_uri": "https://localhost:8080/"
    },
    "executionInfo": {
     "elapsed": 80846,
     "status": "ok",
     "timestamp": 1703008513566,
     "user": {
      "displayName": "Dandu Aravind Pai",
      "userId": "08051161683874071314"
     },
     "user_tz": -330
    },
    "id": "x3PNi14jfyc7",
    "outputId": "6562eeff-8526-43de-df57-aa4ffa34ab72",
    "scrolled": true
   },
   "outputs": [
    {
     "name": "stderr",
     "output_type": "stream",
     "text": [
      "100%|██████████| 2/2 [00:07<00:00,  3.56s/it]\n"
     ]
    }
   ],
   "source": [
    "sentence_window_responses = get_responses(\n",
    "    eval_questions[:max_samples],\n",
    "    sentence_query_engine,\n",
    "    show_progress=True\n",
    ")"
   ]
  },
  {
   "cell_type": "markdown",
   "metadata": {
    "id": "mewfeVOTgZe_"
   },
   "source": [
    "Configure RAG Triad of Metrics"
   ]
  },
  {
   "cell_type": "code",
   "execution_count": 66,
   "metadata": {
    "id": "dXfs_cY89x6-"
   },
   "outputs": [],
   "source": [
    "from llama_index.core.evaluation import CorrectnessEvaluator, RelevancyEvaluator, FaithfulnessEvaluator\n",
    "\n",
    "evaluator_c = CorrectnessEvaluator(llm=gpt4)\n",
    "evaluator_r = RelevancyEvaluator(llm=gpt4)\n",
    "evaluator_f = FaithfulnessEvaluator(llm=gpt4)"
   ]
  },
  {
   "cell_type": "markdown",
   "metadata": {
    "id": "wUcOy3regptB"
   },
   "source": [
    "Define the BatchEvalRunner for computing the metrics"
   ]
  },
  {
   "cell_type": "code",
   "execution_count": 67,
   "metadata": {
    "id": "qtgvyB_Y_-io"
   },
   "outputs": [],
   "source": [
    "evaluator_dict = {\n",
    "    \"correctness\": evaluator_c,\n",
    "    \"faithfulness\": evaluator_f,\n",
    "    \"relevancy\": evaluator_r\n",
    "}"
   ]
  },
  {
   "cell_type": "code",
   "execution_count": 69,
   "metadata": {
    "id": "BY20ZvK6gi0X"
   },
   "outputs": [],
   "source": [
    "from llama_index.core.evaluation import BatchEvalRunner\n",
    "batch_runner = BatchEvalRunner(evaluator_dict, workers=2, show_progress=True)"
   ]
  },
  {
   "cell_type": "markdown",
   "metadata": {
    "id": "QV3iV5r-igLA"
   },
   "source": [
    "Compute metrics for the base retriever"
   ]
  },
  {
   "cell_type": "code",
   "execution_count": 70,
   "metadata": {
    "colab": {
     "base_uri": "https://localhost:8080/"
    },
    "executionInfo": {
     "elapsed": 510076,
     "status": "ok",
     "timestamp": 1703009023622,
     "user": {
      "displayName": "Dandu Aravind Pai",
      "userId": "08051161683874071314"
     },
     "user_tz": -330
    },
    "id": "zoMKh03y_-lB",
    "outputId": "a5130e2f-2134-45b6-d214-c46ec728bc6d",
    "scrolled": true
   },
   "outputs": [
    {
     "name": "stderr",
     "output_type": "stream",
     "text": [
      "100%|██████████| 6/6 [00:11<00:00,  1.86s/it]\n"
     ]
    }
   ],
   "source": [
    "base_eval_results = await batch_runner.aevaluate_responses(\n",
    "    queries=eval_questions[:max_samples],\n",
    "    responses=base_responses[:max_samples],\n",
    "    reference=eval_responses[:max_samples],\n",
    ")"
   ]
  },
  {
   "cell_type": "markdown",
   "metadata": {
    "id": "tEEgcTb9ijW6"
   },
   "source": [
    "Compute the metrics for the sentence window retriever"
   ]
  },
  {
   "cell_type": "code",
   "execution_count": 71,
   "metadata": {
    "colab": {
     "base_uri": "https://localhost:8080/"
    },
    "executionInfo": {
     "elapsed": 487382,
     "status": "ok",
     "timestamp": 1703009510977,
     "user": {
      "displayName": "Dandu Aravind Pai",
      "userId": "08051161683874071314"
     },
     "user_tz": -330
    },
    "id": "I3sKHxat_-nY",
    "outputId": "117f709e-0fa8-41d0-9655-8203befe614e",
    "scrolled": true
   },
   "outputs": [
    {
     "name": "stderr",
     "output_type": "stream",
     "text": [
      "100%|██████████| 6/6 [00:08<00:00,  1.48s/it]\n"
     ]
    }
   ],
   "source": [
    "sentence_window_eval_results = await batch_runner.aevaluate_responses(\n",
    "    queries=eval_questions[:max_samples],\n",
    "    responses=sentence_window_responses[:max_samples],\n",
    "    reference=eval_responses[:max_samples],\n",
    ")"
   ]
  },
  {
   "cell_type": "markdown",
   "metadata": {
    "id": "yuyV1KxujJgG"
   },
   "source": [
    "Display the results"
   ]
  },
  {
   "cell_type": "code",
   "execution_count": 72,
   "metadata": {
    "id": "9Vp4xnPHB_yc"
   },
   "outputs": [],
   "source": [
    "from llama_index.core.evaluation.eval_utils import get_results_df\n",
    "results_df = get_results_df(\n",
    "    [sentence_window_eval_results, base_eval_results],\n",
    "    [\"Sentence Window Retriever\", \"Base Retriever\"],\n",
    "    [\"correctness\", \"relevancy\", \"faithfulness\"]\n",
    ")"
   ]
  },
  {
   "cell_type": "code",
   "execution_count": 73,
   "metadata": {
    "colab": {
     "base_uri": "https://localhost:8080/",
     "height": 111
    },
    "executionInfo": {
     "elapsed": 25,
     "status": "ok",
     "timestamp": 1703009510979,
     "user": {
      "displayName": "Dandu Aravind Pai",
      "userId": "08051161683874071314"
     },
     "user_tz": -330
    },
    "id": "O2Iebsg7jICP",
    "outputId": "990c4d84-14de-4f13-b208-456b900aa70e"
   },
   "outputs": [
    {
     "data": {
      "text/html": [
       "<div>\n",
       "<style scoped>\n",
       "    .dataframe tbody tr th:only-of-type {\n",
       "        vertical-align: middle;\n",
       "    }\n",
       "\n",
       "    .dataframe tbody tr th {\n",
       "        vertical-align: top;\n",
       "    }\n",
       "\n",
       "    .dataframe thead th {\n",
       "        text-align: right;\n",
       "    }\n",
       "</style>\n",
       "<table border=\"1\" class=\"dataframe\">\n",
       "  <thead>\n",
       "    <tr style=\"text-align: right;\">\n",
       "      <th></th>\n",
       "      <th>names</th>\n",
       "      <th>correctness</th>\n",
       "      <th>relevancy</th>\n",
       "      <th>faithfulness</th>\n",
       "    </tr>\n",
       "  </thead>\n",
       "  <tbody>\n",
       "    <tr>\n",
       "      <th>0</th>\n",
       "      <td>Sentence Window Retriever</td>\n",
       "      <td>4.5</td>\n",
       "      <td>1.0</td>\n",
       "      <td>1.0</td>\n",
       "    </tr>\n",
       "    <tr>\n",
       "      <th>1</th>\n",
       "      <td>Base Retriever</td>\n",
       "      <td>4.5</td>\n",
       "      <td>1.0</td>\n",
       "      <td>1.0</td>\n",
       "    </tr>\n",
       "  </tbody>\n",
       "</table>\n",
       "</div>"
      ],
      "text/plain": [
       "                       names  correctness  relevancy  faithfulness\n",
       "0  Sentence Window Retriever          4.5        1.0           1.0\n",
       "1             Base Retriever          4.5        1.0           1.0"
      ]
     },
     "metadata": {},
     "output_type": "display_data"
    }
   ],
   "source": [
    "display(results_df)"
   ]
  }
 ],
 "metadata": {
  "colab": {
   "authorship_tag": "ABX9TyNkXKSqfssJlPYBNgYNgPQk",
   "provenance": []
  },
  "kernelspec": {
   "display_name": "Python 3 (ipykernel)",
   "language": "python",
   "name": "python3"
  },
  "language_info": {
   "codemirror_mode": {
    "name": "ipython",
    "version": 3
   },
   "file_extension": ".py",
   "mimetype": "text/x-python",
   "name": "python",
   "nbconvert_exporter": "python",
   "pygments_lexer": "ipython3",
   "version": "3.11.7"
  },
  "widgets": {
   "application/vnd.jupyter.widget-state+json": {
    "02fbc96088d540d4b41f4878412a9e2d": {
     "model_module": "@jupyter-widgets/controls",
     "model_module_version": "1.5.0",
     "model_name": "HTMLModel",
     "state": {
      "_dom_classes": [],
      "_model_module": "@jupyter-widgets/controls",
      "_model_module_version": "1.5.0",
      "_model_name": "HTMLModel",
      "_view_count": null,
      "_view_module": "@jupyter-widgets/controls",
      "_view_module_version": "1.5.0",
      "_view_name": "HTMLView",
      "description": "",
      "description_tooltip": null,
      "layout": "IPY_MODEL_4cf2371973134238b4aa3e464119ec60",
      "placeholder": "​",
      "style": "IPY_MODEL_5f1b846673c34a608e35f36a96ee4652",
      "value": "config.json: 100%"
     }
    },
    "047bf79db8084db48a15b55b7cae9615": {
     "model_module": "@jupyter-widgets/controls",
     "model_module_version": "1.5.0",
     "model_name": "ProgressStyleModel",
     "state": {
      "_model_module": "@jupyter-widgets/controls",
      "_model_module_version": "1.5.0",
      "_model_name": "ProgressStyleModel",
      "_view_count": null,
      "_view_module": "@jupyter-widgets/base",
      "_view_module_version": "1.2.0",
      "_view_name": "StyleView",
      "bar_color": null,
      "description_width": ""
     }
    },
    "13634abdac3746eda3d3ba6430ed88b2": {
     "model_module": "@jupyter-widgets/controls",
     "model_module_version": "1.5.0",
     "model_name": "FloatProgressModel",
     "state": {
      "_dom_classes": [],
      "_model_module": "@jupyter-widgets/controls",
      "_model_module_version": "1.5.0",
      "_model_name": "FloatProgressModel",
      "_view_count": null,
      "_view_module": "@jupyter-widgets/controls",
      "_view_module_version": "1.5.0",
      "_view_name": "ProgressView",
      "bar_style": "success",
      "description": "",
      "description_tooltip": null,
      "layout": "IPY_MODEL_338f270aa08e4489b83c3e35890dccbc",
      "max": 466021,
      "min": 0,
      "orientation": "horizontal",
      "style": "IPY_MODEL_68393f1992ce4b9d99df0f75152dadbe",
      "value": 466021
     }
    },
    "13e991424bb04da28ff07274db4814d8": {
     "model_module": "@jupyter-widgets/controls",
     "model_module_version": "1.5.0",
     "model_name": "ProgressStyleModel",
     "state": {
      "_model_module": "@jupyter-widgets/controls",
      "_model_module_version": "1.5.0",
      "_model_name": "ProgressStyleModel",
      "_view_count": null,
      "_view_module": "@jupyter-widgets/base",
      "_view_module_version": "1.2.0",
      "_view_name": "StyleView",
      "bar_color": null,
      "description_width": ""
     }
    },
    "17fb9289402f493aa93eeae21cf4f817": {
     "model_module": "@jupyter-widgets/base",
     "model_module_version": "1.2.0",
     "model_name": "LayoutModel",
     "state": {
      "_model_module": "@jupyter-widgets/base",
      "_model_module_version": "1.2.0",
      "_model_name": "LayoutModel",
      "_view_count": null,
      "_view_module": "@jupyter-widgets/base",
      "_view_module_version": "1.2.0",
      "_view_name": "LayoutView",
      "align_content": null,
      "align_items": null,
      "align_self": null,
      "border": null,
      "bottom": null,
      "display": null,
      "flex": null,
      "flex_flow": null,
      "grid_area": null,
      "grid_auto_columns": null,
      "grid_auto_flow": null,
      "grid_auto_rows": null,
      "grid_column": null,
      "grid_gap": null,
      "grid_row": null,
      "grid_template_areas": null,
      "grid_template_columns": null,
      "grid_template_rows": null,
      "height": null,
      "justify_content": null,
      "justify_items": null,
      "left": null,
      "margin": null,
      "max_height": null,
      "max_width": null,
      "min_height": null,
      "min_width": null,
      "object_fit": null,
      "object_position": null,
      "order": null,
      "overflow": null,
      "overflow_x": null,
      "overflow_y": null,
      "padding": null,
      "right": null,
      "top": null,
      "visibility": null,
      "width": null
     }
    },
    "1938577b28bd45aea1403426de1d4304": {
     "model_module": "@jupyter-widgets/controls",
     "model_module_version": "1.5.0",
     "model_name": "DescriptionStyleModel",
     "state": {
      "_model_module": "@jupyter-widgets/controls",
      "_model_module_version": "1.5.0",
      "_model_name": "DescriptionStyleModel",
      "_view_count": null,
      "_view_module": "@jupyter-widgets/base",
      "_view_module_version": "1.2.0",
      "_view_name": "StyleView",
      "description_width": ""
     }
    },
    "1a70f6837b6242c58a5777c9457788f9": {
     "model_module": "@jupyter-widgets/controls",
     "model_module_version": "1.5.0",
     "model_name": "HTMLModel",
     "state": {
      "_dom_classes": [],
      "_model_module": "@jupyter-widgets/controls",
      "_model_module_version": "1.5.0",
      "_model_name": "HTMLModel",
      "_view_count": null,
      "_view_module": "@jupyter-widgets/controls",
      "_view_module_version": "1.5.0",
      "_view_name": "HTMLView",
      "description": "",
      "description_tooltip": null,
      "layout": "IPY_MODEL_76919b94a39242b181295e6541018db0",
      "placeholder": "​",
      "style": "IPY_MODEL_292d5cc01e3144f29c0780a3222bf611",
      "value": " 11087/11087 [35:16&lt;00:00,  7.39it/s]"
     }
    },
    "206d434fe1384178a2f95b4de303a330": {
     "model_module": "@jupyter-widgets/controls",
     "model_module_version": "1.5.0",
     "model_name": "FloatProgressModel",
     "state": {
      "_dom_classes": [],
      "_model_module": "@jupyter-widgets/controls",
      "_model_module_version": "1.5.0",
      "_model_name": "FloatProgressModel",
      "_view_count": null,
      "_view_module": "@jupyter-widgets/controls",
      "_view_module_version": "1.5.0",
      "_view_name": "ProgressView",
      "bar_style": "success",
      "description": "",
      "description_tooltip": null,
      "layout": "IPY_MODEL_924d14c31f7e4349b43e83404ba7a8bf",
      "max": 239,
      "min": 0,
      "orientation": "horizontal",
      "style": "IPY_MODEL_047bf79db8084db48a15b55b7cae9615",
      "value": 239
     }
    },
    "292d5cc01e3144f29c0780a3222bf611": {
     "model_module": "@jupyter-widgets/controls",
     "model_module_version": "1.5.0",
     "model_name": "DescriptionStyleModel",
     "state": {
      "_model_module": "@jupyter-widgets/controls",
      "_model_module_version": "1.5.0",
      "_model_name": "DescriptionStyleModel",
      "_view_count": null,
      "_view_module": "@jupyter-widgets/base",
      "_view_module_version": "1.2.0",
      "_view_name": "StyleView",
      "description_width": ""
     }
    },
    "2bd8dc10350b4ae98212a1a262ea3f07": {
     "model_module": "@jupyter-widgets/base",
     "model_module_version": "1.2.0",
     "model_name": "LayoutModel",
     "state": {
      "_model_module": "@jupyter-widgets/base",
      "_model_module_version": "1.2.0",
      "_model_name": "LayoutModel",
      "_view_count": null,
      "_view_module": "@jupyter-widgets/base",
      "_view_module_version": "1.2.0",
      "_view_name": "LayoutView",
      "align_content": null,
      "align_items": null,
      "align_self": null,
      "border": null,
      "bottom": null,
      "display": null,
      "flex": null,
      "flex_flow": null,
      "grid_area": null,
      "grid_auto_columns": null,
      "grid_auto_flow": null,
      "grid_auto_rows": null,
      "grid_column": null,
      "grid_gap": null,
      "grid_row": null,
      "grid_template_areas": null,
      "grid_template_columns": null,
      "grid_template_rows": null,
      "height": null,
      "justify_content": null,
      "justify_items": null,
      "left": null,
      "margin": null,
      "max_height": null,
      "max_width": null,
      "min_height": null,
      "min_width": null,
      "object_fit": null,
      "object_position": null,
      "order": null,
      "overflow": null,
      "overflow_x": null,
      "overflow_y": null,
      "padding": null,
      "right": null,
      "top": null,
      "visibility": null,
      "width": null
     }
    },
    "2f3ff926a22f4f84bbdb641c584aa7bf": {
     "model_module": "@jupyter-widgets/controls",
     "model_module_version": "1.5.0",
     "model_name": "DescriptionStyleModel",
     "state": {
      "_model_module": "@jupyter-widgets/controls",
      "_model_module_version": "1.5.0",
      "_model_name": "DescriptionStyleModel",
      "_view_count": null,
      "_view_module": "@jupyter-widgets/base",
      "_view_module_version": "1.2.0",
      "_view_name": "StyleView",
      "description_width": ""
     }
    },
    "2fe4a4d5d610433a905cd9b3cc8c2381": {
     "model_module": "@jupyter-widgets/base",
     "model_module_version": "1.2.0",
     "model_name": "LayoutModel",
     "state": {
      "_model_module": "@jupyter-widgets/base",
      "_model_module_version": "1.2.0",
      "_model_name": "LayoutModel",
      "_view_count": null,
      "_view_module": "@jupyter-widgets/base",
      "_view_module_version": "1.2.0",
      "_view_name": "LayoutView",
      "align_content": null,
      "align_items": null,
      "align_self": null,
      "border": null,
      "bottom": null,
      "display": null,
      "flex": null,
      "flex_flow": null,
      "grid_area": null,
      "grid_auto_columns": null,
      "grid_auto_flow": null,
      "grid_auto_rows": null,
      "grid_column": null,
      "grid_gap": null,
      "grid_row": null,
      "grid_template_areas": null,
      "grid_template_columns": null,
      "grid_template_rows": null,
      "height": null,
      "justify_content": null,
      "justify_items": null,
      "left": null,
      "margin": null,
      "max_height": null,
      "max_width": null,
      "min_height": null,
      "min_width": null,
      "object_fit": null,
      "object_position": null,
      "order": null,
      "overflow": null,
      "overflow_x": null,
      "overflow_y": null,
      "padding": null,
      "right": null,
      "top": null,
      "visibility": null,
      "width": null
     }
    },
    "338f270aa08e4489b83c3e35890dccbc": {
     "model_module": "@jupyter-widgets/base",
     "model_module_version": "1.2.0",
     "model_name": "LayoutModel",
     "state": {
      "_model_module": "@jupyter-widgets/base",
      "_model_module_version": "1.2.0",
      "_model_name": "LayoutModel",
      "_view_count": null,
      "_view_module": "@jupyter-widgets/base",
      "_view_module_version": "1.2.0",
      "_view_name": "LayoutView",
      "align_content": null,
      "align_items": null,
      "align_self": null,
      "border": null,
      "bottom": null,
      "display": null,
      "flex": null,
      "flex_flow": null,
      "grid_area": null,
      "grid_auto_columns": null,
      "grid_auto_flow": null,
      "grid_auto_rows": null,
      "grid_column": null,
      "grid_gap": null,
      "grid_row": null,
      "grid_template_areas": null,
      "grid_template_columns": null,
      "grid_template_rows": null,
      "height": null,
      "justify_content": null,
      "justify_items": null,
      "left": null,
      "margin": null,
      "max_height": null,
      "max_width": null,
      "min_height": null,
      "min_width": null,
      "object_fit": null,
      "object_position": null,
      "order": null,
      "overflow": null,
      "overflow_x": null,
      "overflow_y": null,
      "padding": null,
      "right": null,
      "top": null,
      "visibility": null,
      "width": null
     }
    },
    "350b9409e980403e941ef2ca2b01c531": {
     "model_module": "@jupyter-widgets/controls",
     "model_module_version": "1.5.0",
     "model_name": "DescriptionStyleModel",
     "state": {
      "_model_module": "@jupyter-widgets/controls",
      "_model_module_version": "1.5.0",
      "_model_name": "DescriptionStyleModel",
      "_view_count": null,
      "_view_module": "@jupyter-widgets/base",
      "_view_module_version": "1.2.0",
      "_view_name": "StyleView",
      "description_width": ""
     }
    },
    "38260c9875eb4b52915b8b6188727fe7": {
     "model_module": "@jupyter-widgets/controls",
     "model_module_version": "1.5.0",
     "model_name": "HBoxModel",
     "state": {
      "_dom_classes": [],
      "_model_module": "@jupyter-widgets/controls",
      "_model_module_version": "1.5.0",
      "_model_name": "HBoxModel",
      "_view_count": null,
      "_view_module": "@jupyter-widgets/controls",
      "_view_module_version": "1.5.0",
      "_view_name": "HBoxView",
      "box_style": "",
      "children": [
       "IPY_MODEL_d220226fcca548c182bc5d9788db5dc3",
       "IPY_MODEL_4cb8516d2ada46609231333e67291306",
       "IPY_MODEL_4f854ee714434a03a3955625b0aee1b1"
      ],
      "layout": "IPY_MODEL_17fb9289402f493aa93eeae21cf4f817"
     }
    },
    "3a223f57ca1848e98b9205abaabb4ca8": {
     "model_module": "@jupyter-widgets/controls",
     "model_module_version": "1.5.0",
     "model_name": "FloatProgressModel",
     "state": {
      "_dom_classes": [],
      "_model_module": "@jupyter-widgets/controls",
      "_model_module_version": "1.5.0",
      "_model_name": "FloatProgressModel",
      "_view_count": null,
      "_view_module": "@jupyter-widgets/controls",
      "_view_module_version": "1.5.0",
      "_view_name": "ProgressView",
      "bar_style": "success",
      "description": "",
      "description_tooltip": null,
      "layout": "IPY_MODEL_f8ef6fa9c3e64fa780b7d2db8555ff31",
      "max": 231536,
      "min": 0,
      "orientation": "horizontal",
      "style": "IPY_MODEL_658e861a34fc4f108bab047e9bdf648d",
      "value": 231536
     }
    },
    "3b53104cae8f4ab486abfe08211f8b03": {
     "model_module": "@jupyter-widgets/controls",
     "model_module_version": "1.5.0",
     "model_name": "FloatProgressModel",
     "state": {
      "_dom_classes": [],
      "_model_module": "@jupyter-widgets/controls",
      "_model_module_version": "1.5.0",
      "_model_name": "FloatProgressModel",
      "_view_count": null,
      "_view_module": "@jupyter-widgets/controls",
      "_view_module_version": "1.5.0",
      "_view_name": "ProgressView",
      "bar_style": "success",
      "description": "",
      "description_tooltip": null,
      "layout": "IPY_MODEL_2bd8dc10350b4ae98212a1a262ea3f07",
      "max": 363,
      "min": 0,
      "orientation": "horizontal",
      "style": "IPY_MODEL_f01f8d2c94c14e87a0998d6b2956660c",
      "value": 363
     }
    },
    "3d534201c08b4cf2960fecd8940760ba": {
     "model_module": "@jupyter-widgets/controls",
     "model_module_version": "1.5.0",
     "model_name": "HTMLModel",
     "state": {
      "_dom_classes": [],
      "_model_module": "@jupyter-widgets/controls",
      "_model_module_version": "1.5.0",
      "_model_name": "HTMLModel",
      "_view_count": null,
      "_view_module": "@jupyter-widgets/controls",
      "_view_module_version": "1.5.0",
      "_view_name": "HTMLView",
      "description": "",
      "description_tooltip": null,
      "layout": "IPY_MODEL_fe21c6a4310c46a795eda1901dd5cfa7",
      "placeholder": "​",
      "style": "IPY_MODEL_4166ba01da8048a4a03ec83483b5b4ff",
      "value": " 466k/466k [00:00&lt;00:00, 14.5MB/s]"
     }
    },
    "3dac30b638934ba2af32ecc082f6e810": {
     "model_module": "@jupyter-widgets/base",
     "model_module_version": "1.2.0",
     "model_name": "LayoutModel",
     "state": {
      "_model_module": "@jupyter-widgets/base",
      "_model_module_version": "1.2.0",
      "_model_name": "LayoutModel",
      "_view_count": null,
      "_view_module": "@jupyter-widgets/base",
      "_view_module_version": "1.2.0",
      "_view_name": "LayoutView",
      "align_content": null,
      "align_items": null,
      "align_self": null,
      "border": null,
      "bottom": null,
      "display": null,
      "flex": null,
      "flex_flow": null,
      "grid_area": null,
      "grid_auto_columns": null,
      "grid_auto_flow": null,
      "grid_auto_rows": null,
      "grid_column": null,
      "grid_gap": null,
      "grid_row": null,
      "grid_template_areas": null,
      "grid_template_columns": null,
      "grid_template_rows": null,
      "height": null,
      "justify_content": null,
      "justify_items": null,
      "left": null,
      "margin": null,
      "max_height": null,
      "max_width": null,
      "min_height": null,
      "min_width": null,
      "object_fit": null,
      "object_position": null,
      "order": null,
      "overflow": null,
      "overflow_x": null,
      "overflow_y": null,
      "padding": null,
      "right": null,
      "top": null,
      "visibility": null,
      "width": null
     }
    },
    "4166ba01da8048a4a03ec83483b5b4ff": {
     "model_module": "@jupyter-widgets/controls",
     "model_module_version": "1.5.0",
     "model_name": "DescriptionStyleModel",
     "state": {
      "_model_module": "@jupyter-widgets/controls",
      "_model_module_version": "1.5.0",
      "_model_name": "DescriptionStyleModel",
      "_view_count": null,
      "_view_module": "@jupyter-widgets/base",
      "_view_module_version": "1.2.0",
      "_view_name": "StyleView",
      "description_width": ""
     }
    },
    "4299bc09cd9c4cc49e007ca1951d26a6": {
     "model_module": "@jupyter-widgets/controls",
     "model_module_version": "1.5.0",
     "model_name": "HBoxModel",
     "state": {
      "_dom_classes": [],
      "_model_module": "@jupyter-widgets/controls",
      "_model_module_version": "1.5.0",
      "_model_name": "HBoxModel",
      "_view_count": null,
      "_view_module": "@jupyter-widgets/controls",
      "_view_module_version": "1.5.0",
      "_view_name": "HBoxView",
      "box_style": "",
      "children": [
       "IPY_MODEL_d4e2b9f05aa040548ad4e930fdc7e290",
       "IPY_MODEL_206d434fe1384178a2f95b4de303a330",
       "IPY_MODEL_c8bda533063340e9bd0de232f2e0dd0c"
      ],
      "layout": "IPY_MODEL_81ab3b32c4ff4acabcad1873d8efc2df"
     }
    },
    "42a092b12eb944f4b0c88bedce5c147c": {
     "model_module": "@jupyter-widgets/controls",
     "model_module_version": "1.5.0",
     "model_name": "HBoxModel",
     "state": {
      "_dom_classes": [],
      "_model_module": "@jupyter-widgets/controls",
      "_model_module_version": "1.5.0",
      "_model_name": "HBoxModel",
      "_view_count": null,
      "_view_module": "@jupyter-widgets/controls",
      "_view_module_version": "1.5.0",
      "_view_name": "HBoxView",
      "box_style": "",
      "children": [
       "IPY_MODEL_b6b09f0b345242049232d4c78ae70dcd",
       "IPY_MODEL_3a223f57ca1848e98b9205abaabb4ca8",
       "IPY_MODEL_f57789cefed9437c95a9da8910fc7e43"
      ],
      "layout": "IPY_MODEL_bd44ffa99262413e924d2101f52dfc58"
     }
    },
    "45b27dce58944e85aa0355ec79f3cbed": {
     "model_module": "@jupyter-widgets/controls",
     "model_module_version": "1.5.0",
     "model_name": "DescriptionStyleModel",
     "state": {
      "_model_module": "@jupyter-widgets/controls",
      "_model_module_version": "1.5.0",
      "_model_name": "DescriptionStyleModel",
      "_view_count": null,
      "_view_module": "@jupyter-widgets/base",
      "_view_module_version": "1.2.0",
      "_view_name": "StyleView",
      "description_width": ""
     }
    },
    "48d4187aca2c46df9ea27624685eb24d": {
     "model_module": "@jupyter-widgets/controls",
     "model_module_version": "1.5.0",
     "model_name": "HTMLModel",
     "state": {
      "_dom_classes": [],
      "_model_module": "@jupyter-widgets/controls",
      "_model_module_version": "1.5.0",
      "_model_name": "HTMLModel",
      "_view_count": null,
      "_view_module": "@jupyter-widgets/controls",
      "_view_module_version": "1.5.0",
      "_view_name": "HTMLView",
      "description": "",
      "description_tooltip": null,
      "layout": "IPY_MODEL_9e9443cfc03148c99b9d04892b606ab1",
      "placeholder": "​",
      "style": "IPY_MODEL_49904678d8404c1d8ab46b6caa180de2",
      "value": "tokenizer_config.json: 100%"
     }
    },
    "49904678d8404c1d8ab46b6caa180de2": {
     "model_module": "@jupyter-widgets/controls",
     "model_module_version": "1.5.0",
     "model_name": "DescriptionStyleModel",
     "state": {
      "_model_module": "@jupyter-widgets/controls",
      "_model_module_version": "1.5.0",
      "_model_name": "DescriptionStyleModel",
      "_view_count": null,
      "_view_module": "@jupyter-widgets/base",
      "_view_module_version": "1.2.0",
      "_view_name": "StyleView",
      "description_width": ""
     }
    },
    "4cb8516d2ada46609231333e67291306": {
     "model_module": "@jupyter-widgets/controls",
     "model_module_version": "1.5.0",
     "model_name": "FloatProgressModel",
     "state": {
      "_dom_classes": [],
      "_model_module": "@jupyter-widgets/controls",
      "_model_module_version": "1.5.0",
      "_model_name": "FloatProgressModel",
      "_view_count": null,
      "_view_module": "@jupyter-widgets/controls",
      "_view_module_version": "1.5.0",
      "_view_name": "ProgressView",
      "bar_style": "success",
      "description": "",
      "description_tooltip": null,
      "layout": "IPY_MODEL_b7ffe35e6a324197a7a861bdd93ee6b4",
      "max": 438011953,
      "min": 0,
      "orientation": "horizontal",
      "style": "IPY_MODEL_13e991424bb04da28ff07274db4814d8",
      "value": 438011953
     }
    },
    "4cf2371973134238b4aa3e464119ec60": {
     "model_module": "@jupyter-widgets/base",
     "model_module_version": "1.2.0",
     "model_name": "LayoutModel",
     "state": {
      "_model_module": "@jupyter-widgets/base",
      "_model_module_version": "1.2.0",
      "_model_name": "LayoutModel",
      "_view_count": null,
      "_view_module": "@jupyter-widgets/base",
      "_view_module_version": "1.2.0",
      "_view_name": "LayoutView",
      "align_content": null,
      "align_items": null,
      "align_self": null,
      "border": null,
      "bottom": null,
      "display": null,
      "flex": null,
      "flex_flow": null,
      "grid_area": null,
      "grid_auto_columns": null,
      "grid_auto_flow": null,
      "grid_auto_rows": null,
      "grid_column": null,
      "grid_gap": null,
      "grid_row": null,
      "grid_template_areas": null,
      "grid_template_columns": null,
      "grid_template_rows": null,
      "height": null,
      "justify_content": null,
      "justify_items": null,
      "left": null,
      "margin": null,
      "max_height": null,
      "max_width": null,
      "min_height": null,
      "min_width": null,
      "object_fit": null,
      "object_position": null,
      "order": null,
      "overflow": null,
      "overflow_x": null,
      "overflow_y": null,
      "padding": null,
      "right": null,
      "top": null,
      "visibility": null,
      "width": null
     }
    },
    "4f854ee714434a03a3955625b0aee1b1": {
     "model_module": "@jupyter-widgets/controls",
     "model_module_version": "1.5.0",
     "model_name": "HTMLModel",
     "state": {
      "_dom_classes": [],
      "_model_module": "@jupyter-widgets/controls",
      "_model_module_version": "1.5.0",
      "_model_name": "HTMLModel",
      "_view_count": null,
      "_view_module": "@jupyter-widgets/controls",
      "_view_module_version": "1.5.0",
      "_view_name": "HTMLView",
      "description": "",
      "description_tooltip": null,
      "layout": "IPY_MODEL_91ba4a600e5944cf9fb566137fa1f014",
      "placeholder": "​",
      "style": "IPY_MODEL_45b27dce58944e85aa0355ec79f3cbed",
      "value": " 438M/438M [00:03&lt;00:00, 124MB/s]"
     }
    },
    "5db03f648c1441df87922ec1ca9dbe4b": {
     "model_module": "@jupyter-widgets/base",
     "model_module_version": "1.2.0",
     "model_name": "LayoutModel",
     "state": {
      "_model_module": "@jupyter-widgets/base",
      "_model_module_version": "1.2.0",
      "_model_name": "LayoutModel",
      "_view_count": null,
      "_view_module": "@jupyter-widgets/base",
      "_view_module_version": "1.2.0",
      "_view_name": "LayoutView",
      "align_content": null,
      "align_items": null,
      "align_self": null,
      "border": null,
      "bottom": null,
      "display": null,
      "flex": null,
      "flex_flow": null,
      "grid_area": null,
      "grid_auto_columns": null,
      "grid_auto_flow": null,
      "grid_auto_rows": null,
      "grid_column": null,
      "grid_gap": null,
      "grid_row": null,
      "grid_template_areas": null,
      "grid_template_columns": null,
      "grid_template_rows": null,
      "height": null,
      "justify_content": null,
      "justify_items": null,
      "left": null,
      "margin": null,
      "max_height": null,
      "max_width": null,
      "min_height": null,
      "min_width": null,
      "object_fit": null,
      "object_position": null,
      "order": null,
      "overflow": null,
      "overflow_x": null,
      "overflow_y": null,
      "padding": null,
      "right": null,
      "top": null,
      "visibility": null,
      "width": null
     }
    },
    "5f1b846673c34a608e35f36a96ee4652": {
     "model_module": "@jupyter-widgets/controls",
     "model_module_version": "1.5.0",
     "model_name": "DescriptionStyleModel",
     "state": {
      "_model_module": "@jupyter-widgets/controls",
      "_model_module_version": "1.5.0",
      "_model_name": "DescriptionStyleModel",
      "_view_count": null,
      "_view_module": "@jupyter-widgets/base",
      "_view_module_version": "1.2.0",
      "_view_name": "StyleView",
      "description_width": ""
     }
    },
    "658e861a34fc4f108bab047e9bdf648d": {
     "model_module": "@jupyter-widgets/controls",
     "model_module_version": "1.5.0",
     "model_name": "ProgressStyleModel",
     "state": {
      "_model_module": "@jupyter-widgets/controls",
      "_model_module_version": "1.5.0",
      "_model_name": "ProgressStyleModel",
      "_view_count": null,
      "_view_module": "@jupyter-widgets/base",
      "_view_module_version": "1.2.0",
      "_view_name": "StyleView",
      "bar_color": null,
      "description_width": ""
     }
    },
    "660350d5bfa6478f858469e75807ffa6": {
     "model_module": "@jupyter-widgets/controls",
     "model_module_version": "1.5.0",
     "model_name": "HTMLModel",
     "state": {
      "_dom_classes": [],
      "_model_module": "@jupyter-widgets/controls",
      "_model_module_version": "1.5.0",
      "_model_name": "HTMLModel",
      "_view_count": null,
      "_view_module": "@jupyter-widgets/controls",
      "_view_module_version": "1.5.0",
      "_view_name": "HTMLView",
      "description": "",
      "description_tooltip": null,
      "layout": "IPY_MODEL_6a54a740c54c44adba4fdf55463b13cc",
      "placeholder": "​",
      "style": "IPY_MODEL_ab99ca072e664173a34eaf6315d70a9c",
      "value": "tokenizer.json: 100%"
     }
    },
    "68393f1992ce4b9d99df0f75152dadbe": {
     "model_module": "@jupyter-widgets/controls",
     "model_module_version": "1.5.0",
     "model_name": "ProgressStyleModel",
     "state": {
      "_model_module": "@jupyter-widgets/controls",
      "_model_module_version": "1.5.0",
      "_model_name": "ProgressStyleModel",
      "_view_count": null,
      "_view_module": "@jupyter-widgets/base",
      "_view_module_version": "1.2.0",
      "_view_name": "StyleView",
      "bar_color": null,
      "description_width": ""
     }
    },
    "6918d36a42f84ee5a513a155151b1061": {
     "model_module": "@jupyter-widgets/base",
     "model_module_version": "1.2.0",
     "model_name": "LayoutModel",
     "state": {
      "_model_module": "@jupyter-widgets/base",
      "_model_module_version": "1.2.0",
      "_model_name": "LayoutModel",
      "_view_count": null,
      "_view_module": "@jupyter-widgets/base",
      "_view_module_version": "1.2.0",
      "_view_name": "LayoutView",
      "align_content": null,
      "align_items": null,
      "align_self": null,
      "border": null,
      "bottom": null,
      "display": null,
      "flex": null,
      "flex_flow": null,
      "grid_area": null,
      "grid_auto_columns": null,
      "grid_auto_flow": null,
      "grid_auto_rows": null,
      "grid_column": null,
      "grid_gap": null,
      "grid_row": null,
      "grid_template_areas": null,
      "grid_template_columns": null,
      "grid_template_rows": null,
      "height": null,
      "justify_content": null,
      "justify_items": null,
      "left": null,
      "margin": null,
      "max_height": null,
      "max_width": null,
      "min_height": null,
      "min_width": null,
      "object_fit": null,
      "object_position": null,
      "order": null,
      "overflow": null,
      "overflow_x": null,
      "overflow_y": null,
      "padding": null,
      "right": null,
      "top": null,
      "visibility": null,
      "width": null
     }
    },
    "69eaa721821347d68ee29d28cfbefcfa": {
     "model_module": "@jupyter-widgets/base",
     "model_module_version": "1.2.0",
     "model_name": "LayoutModel",
     "state": {
      "_model_module": "@jupyter-widgets/base",
      "_model_module_version": "1.2.0",
      "_model_name": "LayoutModel",
      "_view_count": null,
      "_view_module": "@jupyter-widgets/base",
      "_view_module_version": "1.2.0",
      "_view_name": "LayoutView",
      "align_content": null,
      "align_items": null,
      "align_self": null,
      "border": null,
      "bottom": null,
      "display": null,
      "flex": null,
      "flex_flow": null,
      "grid_area": null,
      "grid_auto_columns": null,
      "grid_auto_flow": null,
      "grid_auto_rows": null,
      "grid_column": null,
      "grid_gap": null,
      "grid_row": null,
      "grid_template_areas": null,
      "grid_template_columns": null,
      "grid_template_rows": null,
      "height": null,
      "justify_content": null,
      "justify_items": null,
      "left": null,
      "margin": null,
      "max_height": null,
      "max_width": null,
      "min_height": null,
      "min_width": null,
      "object_fit": null,
      "object_position": null,
      "order": null,
      "overflow": null,
      "overflow_x": null,
      "overflow_y": null,
      "padding": null,
      "right": null,
      "top": null,
      "visibility": null,
      "width": null
     }
    },
    "6a54a740c54c44adba4fdf55463b13cc": {
     "model_module": "@jupyter-widgets/base",
     "model_module_version": "1.2.0",
     "model_name": "LayoutModel",
     "state": {
      "_model_module": "@jupyter-widgets/base",
      "_model_module_version": "1.2.0",
      "_model_name": "LayoutModel",
      "_view_count": null,
      "_view_module": "@jupyter-widgets/base",
      "_view_module_version": "1.2.0",
      "_view_name": "LayoutView",
      "align_content": null,
      "align_items": null,
      "align_self": null,
      "border": null,
      "bottom": null,
      "display": null,
      "flex": null,
      "flex_flow": null,
      "grid_area": null,
      "grid_auto_columns": null,
      "grid_auto_flow": null,
      "grid_auto_rows": null,
      "grid_column": null,
      "grid_gap": null,
      "grid_row": null,
      "grid_template_areas": null,
      "grid_template_columns": null,
      "grid_template_rows": null,
      "height": null,
      "justify_content": null,
      "justify_items": null,
      "left": null,
      "margin": null,
      "max_height": null,
      "max_width": null,
      "min_height": null,
      "min_width": null,
      "object_fit": null,
      "object_position": null,
      "order": null,
      "overflow": null,
      "overflow_x": null,
      "overflow_y": null,
      "padding": null,
      "right": null,
      "top": null,
      "visibility": null,
      "width": null
     }
    },
    "75464e89273f44e8a36de7c4882dbff4": {
     "model_module": "@jupyter-widgets/controls",
     "model_module_version": "1.5.0",
     "model_name": "DescriptionStyleModel",
     "state": {
      "_model_module": "@jupyter-widgets/controls",
      "_model_module_version": "1.5.0",
      "_model_name": "DescriptionStyleModel",
      "_view_count": null,
      "_view_module": "@jupyter-widgets/base",
      "_view_module_version": "1.2.0",
      "_view_name": "StyleView",
      "description_width": ""
     }
    },
    "76919b94a39242b181295e6541018db0": {
     "model_module": "@jupyter-widgets/base",
     "model_module_version": "1.2.0",
     "model_name": "LayoutModel",
     "state": {
      "_model_module": "@jupyter-widgets/base",
      "_model_module_version": "1.2.0",
      "_model_name": "LayoutModel",
      "_view_count": null,
      "_view_module": "@jupyter-widgets/base",
      "_view_module_version": "1.2.0",
      "_view_name": "LayoutView",
      "align_content": null,
      "align_items": null,
      "align_self": null,
      "border": null,
      "bottom": null,
      "display": null,
      "flex": null,
      "flex_flow": null,
      "grid_area": null,
      "grid_auto_columns": null,
      "grid_auto_flow": null,
      "grid_auto_rows": null,
      "grid_column": null,
      "grid_gap": null,
      "grid_row": null,
      "grid_template_areas": null,
      "grid_template_columns": null,
      "grid_template_rows": null,
      "height": null,
      "justify_content": null,
      "justify_items": null,
      "left": null,
      "margin": null,
      "max_height": null,
      "max_width": null,
      "min_height": null,
      "min_width": null,
      "object_fit": null,
      "object_position": null,
      "order": null,
      "overflow": null,
      "overflow_x": null,
      "overflow_y": null,
      "padding": null,
      "right": null,
      "top": null,
      "visibility": null,
      "width": null
     }
    },
    "78fd8df62c1348ce94c4c0900e7d02a9": {
     "model_module": "@jupyter-widgets/controls",
     "model_module_version": "1.5.0",
     "model_name": "HTMLModel",
     "state": {
      "_dom_classes": [],
      "_model_module": "@jupyter-widgets/controls",
      "_model_module_version": "1.5.0",
      "_model_name": "HTMLModel",
      "_view_count": null,
      "_view_module": "@jupyter-widgets/controls",
      "_view_module_version": "1.5.0",
      "_view_name": "HTMLView",
      "description": "",
      "description_tooltip": null,
      "layout": "IPY_MODEL_7f02876b631547bb8772c2ba0e29962e",
      "placeholder": "​",
      "style": "IPY_MODEL_75464e89273f44e8a36de7c4882dbff4",
      "value": "Generating embeddings: 100%"
     }
    },
    "7c7273c289574568a7c02d8b244aedba": {
     "model_module": "@jupyter-widgets/base",
     "model_module_version": "1.2.0",
     "model_name": "LayoutModel",
     "state": {
      "_model_module": "@jupyter-widgets/base",
      "_model_module_version": "1.2.0",
      "_model_name": "LayoutModel",
      "_view_count": null,
      "_view_module": "@jupyter-widgets/base",
      "_view_module_version": "1.2.0",
      "_view_name": "LayoutView",
      "align_content": null,
      "align_items": null,
      "align_self": null,
      "border": null,
      "bottom": null,
      "display": null,
      "flex": null,
      "flex_flow": null,
      "grid_area": null,
      "grid_auto_columns": null,
      "grid_auto_flow": null,
      "grid_auto_rows": null,
      "grid_column": null,
      "grid_gap": null,
      "grid_row": null,
      "grid_template_areas": null,
      "grid_template_columns": null,
      "grid_template_rows": null,
      "height": null,
      "justify_content": null,
      "justify_items": null,
      "left": null,
      "margin": null,
      "max_height": null,
      "max_width": null,
      "min_height": null,
      "min_width": null,
      "object_fit": null,
      "object_position": null,
      "order": null,
      "overflow": null,
      "overflow_x": null,
      "overflow_y": null,
      "padding": null,
      "right": null,
      "top": null,
      "visibility": null,
      "width": null
     }
    },
    "7f02876b631547bb8772c2ba0e29962e": {
     "model_module": "@jupyter-widgets/base",
     "model_module_version": "1.2.0",
     "model_name": "LayoutModel",
     "state": {
      "_model_module": "@jupyter-widgets/base",
      "_model_module_version": "1.2.0",
      "_model_name": "LayoutModel",
      "_view_count": null,
      "_view_module": "@jupyter-widgets/base",
      "_view_module_version": "1.2.0",
      "_view_name": "LayoutView",
      "align_content": null,
      "align_items": null,
      "align_self": null,
      "border": null,
      "bottom": null,
      "display": null,
      "flex": null,
      "flex_flow": null,
      "grid_area": null,
      "grid_auto_columns": null,
      "grid_auto_flow": null,
      "grid_auto_rows": null,
      "grid_column": null,
      "grid_gap": null,
      "grid_row": null,
      "grid_template_areas": null,
      "grid_template_columns": null,
      "grid_template_rows": null,
      "height": null,
      "justify_content": null,
      "justify_items": null,
      "left": null,
      "margin": null,
      "max_height": null,
      "max_width": null,
      "min_height": null,
      "min_width": null,
      "object_fit": null,
      "object_position": null,
      "order": null,
      "overflow": null,
      "overflow_x": null,
      "overflow_y": null,
      "padding": null,
      "right": null,
      "top": null,
      "visibility": null,
      "width": null
     }
    },
    "811a20a5069a4a408c8389898e30d44f": {
     "model_module": "@jupyter-widgets/controls",
     "model_module_version": "1.5.0",
     "model_name": "HTMLModel",
     "state": {
      "_dom_classes": [],
      "_model_module": "@jupyter-widgets/controls",
      "_model_module_version": "1.5.0",
      "_model_name": "HTMLModel",
      "_view_count": null,
      "_view_module": "@jupyter-widgets/controls",
      "_view_module_version": "1.5.0",
      "_view_name": "HTMLView",
      "description": "",
      "description_tooltip": null,
      "layout": "IPY_MODEL_94718d9752f2457da7b94982bd695f19",
      "placeholder": "​",
      "style": "IPY_MODEL_1938577b28bd45aea1403426de1d4304",
      "value": " 571/571 [00:00&lt;00:00, 29.1kB/s]"
     }
    },
    "81ab3b32c4ff4acabcad1873d8efc2df": {
     "model_module": "@jupyter-widgets/base",
     "model_module_version": "1.2.0",
     "model_name": "LayoutModel",
     "state": {
      "_model_module": "@jupyter-widgets/base",
      "_model_module_version": "1.2.0",
      "_model_name": "LayoutModel",
      "_view_count": null,
      "_view_module": "@jupyter-widgets/base",
      "_view_module_version": "1.2.0",
      "_view_name": "LayoutView",
      "align_content": null,
      "align_items": null,
      "align_self": null,
      "border": null,
      "bottom": null,
      "display": null,
      "flex": null,
      "flex_flow": null,
      "grid_area": null,
      "grid_auto_columns": null,
      "grid_auto_flow": null,
      "grid_auto_rows": null,
      "grid_column": null,
      "grid_gap": null,
      "grid_row": null,
      "grid_template_areas": null,
      "grid_template_columns": null,
      "grid_template_rows": null,
      "height": null,
      "justify_content": null,
      "justify_items": null,
      "left": null,
      "margin": null,
      "max_height": null,
      "max_width": null,
      "min_height": null,
      "min_width": null,
      "object_fit": null,
      "object_position": null,
      "order": null,
      "overflow": null,
      "overflow_x": null,
      "overflow_y": null,
      "padding": null,
      "right": null,
      "top": null,
      "visibility": null,
      "width": null
     }
    },
    "8ca50df82e3f4b47b0b5831e68a2be66": {
     "model_module": "@jupyter-widgets/base",
     "model_module_version": "1.2.0",
     "model_name": "LayoutModel",
     "state": {
      "_model_module": "@jupyter-widgets/base",
      "_model_module_version": "1.2.0",
      "_model_name": "LayoutModel",
      "_view_count": null,
      "_view_module": "@jupyter-widgets/base",
      "_view_module_version": "1.2.0",
      "_view_name": "LayoutView",
      "align_content": null,
      "align_items": null,
      "align_self": null,
      "border": null,
      "bottom": null,
      "display": null,
      "flex": null,
      "flex_flow": null,
      "grid_area": null,
      "grid_auto_columns": null,
      "grid_auto_flow": null,
      "grid_auto_rows": null,
      "grid_column": null,
      "grid_gap": null,
      "grid_row": null,
      "grid_template_areas": null,
      "grid_template_columns": null,
      "grid_template_rows": null,
      "height": null,
      "justify_content": null,
      "justify_items": null,
      "left": null,
      "margin": null,
      "max_height": null,
      "max_width": null,
      "min_height": null,
      "min_width": null,
      "object_fit": null,
      "object_position": null,
      "order": null,
      "overflow": null,
      "overflow_x": null,
      "overflow_y": null,
      "padding": null,
      "right": null,
      "top": null,
      "visibility": null,
      "width": null
     }
    },
    "91ba4a600e5944cf9fb566137fa1f014": {
     "model_module": "@jupyter-widgets/base",
     "model_module_version": "1.2.0",
     "model_name": "LayoutModel",
     "state": {
      "_model_module": "@jupyter-widgets/base",
      "_model_module_version": "1.2.0",
      "_model_name": "LayoutModel",
      "_view_count": null,
      "_view_module": "@jupyter-widgets/base",
      "_view_module_version": "1.2.0",
      "_view_name": "LayoutView",
      "align_content": null,
      "align_items": null,
      "align_self": null,
      "border": null,
      "bottom": null,
      "display": null,
      "flex": null,
      "flex_flow": null,
      "grid_area": null,
      "grid_auto_columns": null,
      "grid_auto_flow": null,
      "grid_auto_rows": null,
      "grid_column": null,
      "grid_gap": null,
      "grid_row": null,
      "grid_template_areas": null,
      "grid_template_columns": null,
      "grid_template_rows": null,
      "height": null,
      "justify_content": null,
      "justify_items": null,
      "left": null,
      "margin": null,
      "max_height": null,
      "max_width": null,
      "min_height": null,
      "min_width": null,
      "object_fit": null,
      "object_position": null,
      "order": null,
      "overflow": null,
      "overflow_x": null,
      "overflow_y": null,
      "padding": null,
      "right": null,
      "top": null,
      "visibility": null,
      "width": null
     }
    },
    "924d14c31f7e4349b43e83404ba7a8bf": {
     "model_module": "@jupyter-widgets/base",
     "model_module_version": "1.2.0",
     "model_name": "LayoutModel",
     "state": {
      "_model_module": "@jupyter-widgets/base",
      "_model_module_version": "1.2.0",
      "_model_name": "LayoutModel",
      "_view_count": null,
      "_view_module": "@jupyter-widgets/base",
      "_view_module_version": "1.2.0",
      "_view_name": "LayoutView",
      "align_content": null,
      "align_items": null,
      "align_self": null,
      "border": null,
      "bottom": null,
      "display": null,
      "flex": null,
      "flex_flow": null,
      "grid_area": null,
      "grid_auto_columns": null,
      "grid_auto_flow": null,
      "grid_auto_rows": null,
      "grid_column": null,
      "grid_gap": null,
      "grid_row": null,
      "grid_template_areas": null,
      "grid_template_columns": null,
      "grid_template_rows": null,
      "height": null,
      "justify_content": null,
      "justify_items": null,
      "left": null,
      "margin": null,
      "max_height": null,
      "max_width": null,
      "min_height": null,
      "min_width": null,
      "object_fit": null,
      "object_position": null,
      "order": null,
      "overflow": null,
      "overflow_x": null,
      "overflow_y": null,
      "padding": null,
      "right": null,
      "top": null,
      "visibility": null,
      "width": null
     }
    },
    "94718d9752f2457da7b94982bd695f19": {
     "model_module": "@jupyter-widgets/base",
     "model_module_version": "1.2.0",
     "model_name": "LayoutModel",
     "state": {
      "_model_module": "@jupyter-widgets/base",
      "_model_module_version": "1.2.0",
      "_model_name": "LayoutModel",
      "_view_count": null,
      "_view_module": "@jupyter-widgets/base",
      "_view_module_version": "1.2.0",
      "_view_name": "LayoutView",
      "align_content": null,
      "align_items": null,
      "align_self": null,
      "border": null,
      "bottom": null,
      "display": null,
      "flex": null,
      "flex_flow": null,
      "grid_area": null,
      "grid_auto_columns": null,
      "grid_auto_flow": null,
      "grid_auto_rows": null,
      "grid_column": null,
      "grid_gap": null,
      "grid_row": null,
      "grid_template_areas": null,
      "grid_template_columns": null,
      "grid_template_rows": null,
      "height": null,
      "justify_content": null,
      "justify_items": null,
      "left": null,
      "margin": null,
      "max_height": null,
      "max_width": null,
      "min_height": null,
      "min_width": null,
      "object_fit": null,
      "object_position": null,
      "order": null,
      "overflow": null,
      "overflow_x": null,
      "overflow_y": null,
      "padding": null,
      "right": null,
      "top": null,
      "visibility": null,
      "width": null
     }
    },
    "99a6127beed342dcb621159010bc15d9": {
     "model_module": "@jupyter-widgets/controls",
     "model_module_version": "1.5.0",
     "model_name": "ProgressStyleModel",
     "state": {
      "_model_module": "@jupyter-widgets/controls",
      "_model_module_version": "1.5.0",
      "_model_name": "ProgressStyleModel",
      "_view_count": null,
      "_view_module": "@jupyter-widgets/base",
      "_view_module_version": "1.2.0",
      "_view_name": "StyleView",
      "bar_color": null,
      "description_width": ""
     }
    },
    "9e9443cfc03148c99b9d04892b606ab1": {
     "model_module": "@jupyter-widgets/base",
     "model_module_version": "1.2.0",
     "model_name": "LayoutModel",
     "state": {
      "_model_module": "@jupyter-widgets/base",
      "_model_module_version": "1.2.0",
      "_model_name": "LayoutModel",
      "_view_count": null,
      "_view_module": "@jupyter-widgets/base",
      "_view_module_version": "1.2.0",
      "_view_name": "LayoutView",
      "align_content": null,
      "align_items": null,
      "align_self": null,
      "border": null,
      "bottom": null,
      "display": null,
      "flex": null,
      "flex_flow": null,
      "grid_area": null,
      "grid_auto_columns": null,
      "grid_auto_flow": null,
      "grid_auto_rows": null,
      "grid_column": null,
      "grid_gap": null,
      "grid_row": null,
      "grid_template_areas": null,
      "grid_template_columns": null,
      "grid_template_rows": null,
      "height": null,
      "justify_content": null,
      "justify_items": null,
      "left": null,
      "margin": null,
      "max_height": null,
      "max_width": null,
      "min_height": null,
      "min_width": null,
      "object_fit": null,
      "object_position": null,
      "order": null,
      "overflow": null,
      "overflow_x": null,
      "overflow_y": null,
      "padding": null,
      "right": null,
      "top": null,
      "visibility": null,
      "width": null
     }
    },
    "9ec002459a4740e38fec5fb2eeee004a": {
     "model_module": "@jupyter-widgets/controls",
     "model_module_version": "1.5.0",
     "model_name": "HBoxModel",
     "state": {
      "_dom_classes": [],
      "_model_module": "@jupyter-widgets/controls",
      "_model_module_version": "1.5.0",
      "_model_name": "HBoxModel",
      "_view_count": null,
      "_view_module": "@jupyter-widgets/controls",
      "_view_module_version": "1.5.0",
      "_view_name": "HBoxView",
      "box_style": "",
      "children": [
       "IPY_MODEL_02fbc96088d540d4b41f4878412a9e2d",
       "IPY_MODEL_c95c6fd0e5e6464e955f847e56a182c9",
       "IPY_MODEL_811a20a5069a4a408c8389898e30d44f"
      ],
      "layout": "IPY_MODEL_3dac30b638934ba2af32ecc082f6e810"
     }
    },
    "a0042483d8964890b786cb87c8babeab": {
     "model_module": "@jupyter-widgets/controls",
     "model_module_version": "1.5.0",
     "model_name": "DescriptionStyleModel",
     "state": {
      "_model_module": "@jupyter-widgets/controls",
      "_model_module_version": "1.5.0",
      "_model_name": "DescriptionStyleModel",
      "_view_count": null,
      "_view_module": "@jupyter-widgets/base",
      "_view_module_version": "1.2.0",
      "_view_name": "StyleView",
      "description_width": ""
     }
    },
    "ab99ca072e664173a34eaf6315d70a9c": {
     "model_module": "@jupyter-widgets/controls",
     "model_module_version": "1.5.0",
     "model_name": "DescriptionStyleModel",
     "state": {
      "_model_module": "@jupyter-widgets/controls",
      "_model_module_version": "1.5.0",
      "_model_name": "DescriptionStyleModel",
      "_view_count": null,
      "_view_module": "@jupyter-widgets/base",
      "_view_module_version": "1.2.0",
      "_view_name": "StyleView",
      "description_width": ""
     }
    },
    "aeb46cebee204cdba7383cfffa763b19": {
     "model_module": "@jupyter-widgets/controls",
     "model_module_version": "1.5.0",
     "model_name": "HBoxModel",
     "state": {
      "_dom_classes": [],
      "_model_module": "@jupyter-widgets/controls",
      "_model_module_version": "1.5.0",
      "_model_name": "HBoxModel",
      "_view_count": null,
      "_view_module": "@jupyter-widgets/controls",
      "_view_module_version": "1.5.0",
      "_view_name": "HBoxView",
      "box_style": "",
      "children": [
       "IPY_MODEL_48d4187aca2c46df9ea27624685eb24d",
       "IPY_MODEL_3b53104cae8f4ab486abfe08211f8b03",
       "IPY_MODEL_bdc4a1a4f8b242d7b63040cbf66d23d1"
      ],
      "layout": "IPY_MODEL_2fe4a4d5d610433a905cd9b3cc8c2381"
     }
    },
    "b06ee5e2c4bc42ada6e99ef79b711700": {
     "model_module": "@jupyter-widgets/controls",
     "model_module_version": "1.5.0",
     "model_name": "FloatProgressModel",
     "state": {
      "_dom_classes": [],
      "_model_module": "@jupyter-widgets/controls",
      "_model_module_version": "1.5.0",
      "_model_name": "FloatProgressModel",
      "_view_count": null,
      "_view_module": "@jupyter-widgets/controls",
      "_view_module_version": "1.5.0",
      "_view_name": "ProgressView",
      "bar_style": "success",
      "description": "",
      "description_tooltip": null,
      "layout": "IPY_MODEL_8ca50df82e3f4b47b0b5831e68a2be66",
      "max": 11087,
      "min": 0,
      "orientation": "horizontal",
      "style": "IPY_MODEL_99a6127beed342dcb621159010bc15d9",
      "value": 11087
     }
    },
    "b2e499d517c84351a5579f34b6b1875a": {
     "model_module": "@jupyter-widgets/controls",
     "model_module_version": "1.5.0",
     "model_name": "HBoxModel",
     "state": {
      "_dom_classes": [],
      "_model_module": "@jupyter-widgets/controls",
      "_model_module_version": "1.5.0",
      "_model_name": "HBoxModel",
      "_view_count": null,
      "_view_module": "@jupyter-widgets/controls",
      "_view_module_version": "1.5.0",
      "_view_name": "HBoxView",
      "box_style": "",
      "children": [
       "IPY_MODEL_660350d5bfa6478f858469e75807ffa6",
       "IPY_MODEL_13634abdac3746eda3d3ba6430ed88b2",
       "IPY_MODEL_3d534201c08b4cf2960fecd8940760ba"
      ],
      "layout": "IPY_MODEL_c9a54bd6787a413f997dba75cee3332e"
     }
    },
    "b47a171abff04d668009c0e962b4ad13": {
     "model_module": "@jupyter-widgets/base",
     "model_module_version": "1.2.0",
     "model_name": "LayoutModel",
     "state": {
      "_model_module": "@jupyter-widgets/base",
      "_model_module_version": "1.2.0",
      "_model_name": "LayoutModel",
      "_view_count": null,
      "_view_module": "@jupyter-widgets/base",
      "_view_module_version": "1.2.0",
      "_view_name": "LayoutView",
      "align_content": null,
      "align_items": null,
      "align_self": null,
      "border": null,
      "bottom": null,
      "display": null,
      "flex": null,
      "flex_flow": null,
      "grid_area": null,
      "grid_auto_columns": null,
      "grid_auto_flow": null,
      "grid_auto_rows": null,
      "grid_column": null,
      "grid_gap": null,
      "grid_row": null,
      "grid_template_areas": null,
      "grid_template_columns": null,
      "grid_template_rows": null,
      "height": null,
      "justify_content": null,
      "justify_items": null,
      "left": null,
      "margin": null,
      "max_height": null,
      "max_width": null,
      "min_height": null,
      "min_width": null,
      "object_fit": null,
      "object_position": null,
      "order": null,
      "overflow": null,
      "overflow_x": null,
      "overflow_y": null,
      "padding": null,
      "right": null,
      "top": null,
      "visibility": null,
      "width": null
     }
    },
    "b6b09f0b345242049232d4c78ae70dcd": {
     "model_module": "@jupyter-widgets/controls",
     "model_module_version": "1.5.0",
     "model_name": "HTMLModel",
     "state": {
      "_dom_classes": [],
      "_model_module": "@jupyter-widgets/controls",
      "_model_module_version": "1.5.0",
      "_model_name": "HTMLModel",
      "_view_count": null,
      "_view_module": "@jupyter-widgets/controls",
      "_view_module_version": "1.5.0",
      "_view_name": "HTMLView",
      "description": "",
      "description_tooltip": null,
      "layout": "IPY_MODEL_7c7273c289574568a7c02d8b244aedba",
      "placeholder": "​",
      "style": "IPY_MODEL_c50b8d8917494616ae90e9830062f334",
      "value": "vocab.txt: 100%"
     }
    },
    "b7ffe35e6a324197a7a861bdd93ee6b4": {
     "model_module": "@jupyter-widgets/base",
     "model_module_version": "1.2.0",
     "model_name": "LayoutModel",
     "state": {
      "_model_module": "@jupyter-widgets/base",
      "_model_module_version": "1.2.0",
      "_model_name": "LayoutModel",
      "_view_count": null,
      "_view_module": "@jupyter-widgets/base",
      "_view_module_version": "1.2.0",
      "_view_name": "LayoutView",
      "align_content": null,
      "align_items": null,
      "align_self": null,
      "border": null,
      "bottom": null,
      "display": null,
      "flex": null,
      "flex_flow": null,
      "grid_area": null,
      "grid_auto_columns": null,
      "grid_auto_flow": null,
      "grid_auto_rows": null,
      "grid_column": null,
      "grid_gap": null,
      "grid_row": null,
      "grid_template_areas": null,
      "grid_template_columns": null,
      "grid_template_rows": null,
      "height": null,
      "justify_content": null,
      "justify_items": null,
      "left": null,
      "margin": null,
      "max_height": null,
      "max_width": null,
      "min_height": null,
      "min_width": null,
      "object_fit": null,
      "object_position": null,
      "order": null,
      "overflow": null,
      "overflow_x": null,
      "overflow_y": null,
      "padding": null,
      "right": null,
      "top": null,
      "visibility": null,
      "width": null
     }
    },
    "b834f3bf20d1405e90564865ecd48df2": {
     "model_module": "@jupyter-widgets/controls",
     "model_module_version": "1.5.0",
     "model_name": "DescriptionStyleModel",
     "state": {
      "_model_module": "@jupyter-widgets/controls",
      "_model_module_version": "1.5.0",
      "_model_name": "DescriptionStyleModel",
      "_view_count": null,
      "_view_module": "@jupyter-widgets/base",
      "_view_module_version": "1.2.0",
      "_view_name": "StyleView",
      "description_width": ""
     }
    },
    "bd44ffa99262413e924d2101f52dfc58": {
     "model_module": "@jupyter-widgets/base",
     "model_module_version": "1.2.0",
     "model_name": "LayoutModel",
     "state": {
      "_model_module": "@jupyter-widgets/base",
      "_model_module_version": "1.2.0",
      "_model_name": "LayoutModel",
      "_view_count": null,
      "_view_module": "@jupyter-widgets/base",
      "_view_module_version": "1.2.0",
      "_view_name": "LayoutView",
      "align_content": null,
      "align_items": null,
      "align_self": null,
      "border": null,
      "bottom": null,
      "display": null,
      "flex": null,
      "flex_flow": null,
      "grid_area": null,
      "grid_auto_columns": null,
      "grid_auto_flow": null,
      "grid_auto_rows": null,
      "grid_column": null,
      "grid_gap": null,
      "grid_row": null,
      "grid_template_areas": null,
      "grid_template_columns": null,
      "grid_template_rows": null,
      "height": null,
      "justify_content": null,
      "justify_items": null,
      "left": null,
      "margin": null,
      "max_height": null,
      "max_width": null,
      "min_height": null,
      "min_width": null,
      "object_fit": null,
      "object_position": null,
      "order": null,
      "overflow": null,
      "overflow_x": null,
      "overflow_y": null,
      "padding": null,
      "right": null,
      "top": null,
      "visibility": null,
      "width": null
     }
    },
    "bdc4a1a4f8b242d7b63040cbf66d23d1": {
     "model_module": "@jupyter-widgets/controls",
     "model_module_version": "1.5.0",
     "model_name": "HTMLModel",
     "state": {
      "_dom_classes": [],
      "_model_module": "@jupyter-widgets/controls",
      "_model_module_version": "1.5.0",
      "_model_name": "HTMLModel",
      "_view_count": null,
      "_view_module": "@jupyter-widgets/controls",
      "_view_module_version": "1.5.0",
      "_view_name": "HTMLView",
      "description": "",
      "description_tooltip": null,
      "layout": "IPY_MODEL_5db03f648c1441df87922ec1ca9dbe4b",
      "placeholder": "​",
      "style": "IPY_MODEL_350b9409e980403e941ef2ca2b01c531",
      "value": " 363/363 [00:00&lt;00:00, 14.6kB/s]"
     }
    },
    "c50b8d8917494616ae90e9830062f334": {
     "model_module": "@jupyter-widgets/controls",
     "model_module_version": "1.5.0",
     "model_name": "DescriptionStyleModel",
     "state": {
      "_model_module": "@jupyter-widgets/controls",
      "_model_module_version": "1.5.0",
      "_model_name": "DescriptionStyleModel",
      "_view_count": null,
      "_view_module": "@jupyter-widgets/base",
      "_view_module_version": "1.2.0",
      "_view_name": "StyleView",
      "description_width": ""
     }
    },
    "c8bda533063340e9bd0de232f2e0dd0c": {
     "model_module": "@jupyter-widgets/controls",
     "model_module_version": "1.5.0",
     "model_name": "HTMLModel",
     "state": {
      "_dom_classes": [],
      "_model_module": "@jupyter-widgets/controls",
      "_model_module_version": "1.5.0",
      "_model_name": "HTMLModel",
      "_view_count": null,
      "_view_module": "@jupyter-widgets/controls",
      "_view_module_version": "1.5.0",
      "_view_name": "HTMLView",
      "description": "",
      "description_tooltip": null,
      "layout": "IPY_MODEL_b47a171abff04d668009c0e962b4ad13",
      "placeholder": "​",
      "style": "IPY_MODEL_2f3ff926a22f4f84bbdb641c584aa7bf",
      "value": " 239/239 [00:00&lt;00:00, 16.4kB/s]"
     }
    },
    "c95c6fd0e5e6464e955f847e56a182c9": {
     "model_module": "@jupyter-widgets/controls",
     "model_module_version": "1.5.0",
     "model_name": "FloatProgressModel",
     "state": {
      "_dom_classes": [],
      "_model_module": "@jupyter-widgets/controls",
      "_model_module_version": "1.5.0",
      "_model_name": "FloatProgressModel",
      "_view_count": null,
      "_view_module": "@jupyter-widgets/controls",
      "_view_module_version": "1.5.0",
      "_view_name": "ProgressView",
      "bar_style": "success",
      "description": "",
      "description_tooltip": null,
      "layout": "IPY_MODEL_d8238491db2940c2accbbc9933aefdc7",
      "max": 571,
      "min": 0,
      "orientation": "horizontal",
      "style": "IPY_MODEL_ea834704da2b4dc3a1b59c2684cff6ed",
      "value": 571
     }
    },
    "c9a54bd6787a413f997dba75cee3332e": {
     "model_module": "@jupyter-widgets/base",
     "model_module_version": "1.2.0",
     "model_name": "LayoutModel",
     "state": {
      "_model_module": "@jupyter-widgets/base",
      "_model_module_version": "1.2.0",
      "_model_name": "LayoutModel",
      "_view_count": null,
      "_view_module": "@jupyter-widgets/base",
      "_view_module_version": "1.2.0",
      "_view_name": "LayoutView",
      "align_content": null,
      "align_items": null,
      "align_self": null,
      "border": null,
      "bottom": null,
      "display": null,
      "flex": null,
      "flex_flow": null,
      "grid_area": null,
      "grid_auto_columns": null,
      "grid_auto_flow": null,
      "grid_auto_rows": null,
      "grid_column": null,
      "grid_gap": null,
      "grid_row": null,
      "grid_template_areas": null,
      "grid_template_columns": null,
      "grid_template_rows": null,
      "height": null,
      "justify_content": null,
      "justify_items": null,
      "left": null,
      "margin": null,
      "max_height": null,
      "max_width": null,
      "min_height": null,
      "min_width": null,
      "object_fit": null,
      "object_position": null,
      "order": null,
      "overflow": null,
      "overflow_x": null,
      "overflow_y": null,
      "padding": null,
      "right": null,
      "top": null,
      "visibility": null,
      "width": null
     }
    },
    "cbeb39efdf9d4914a46a14f4744b329f": {
     "model_module": "@jupyter-widgets/base",
     "model_module_version": "1.2.0",
     "model_name": "LayoutModel",
     "state": {
      "_model_module": "@jupyter-widgets/base",
      "_model_module_version": "1.2.0",
      "_model_name": "LayoutModel",
      "_view_count": null,
      "_view_module": "@jupyter-widgets/base",
      "_view_module_version": "1.2.0",
      "_view_name": "LayoutView",
      "align_content": null,
      "align_items": null,
      "align_self": null,
      "border": null,
      "bottom": null,
      "display": null,
      "flex": null,
      "flex_flow": null,
      "grid_area": null,
      "grid_auto_columns": null,
      "grid_auto_flow": null,
      "grid_auto_rows": null,
      "grid_column": null,
      "grid_gap": null,
      "grid_row": null,
      "grid_template_areas": null,
      "grid_template_columns": null,
      "grid_template_rows": null,
      "height": null,
      "justify_content": null,
      "justify_items": null,
      "left": null,
      "margin": null,
      "max_height": null,
      "max_width": null,
      "min_height": null,
      "min_width": null,
      "object_fit": null,
      "object_position": null,
      "order": null,
      "overflow": null,
      "overflow_x": null,
      "overflow_y": null,
      "padding": null,
      "right": null,
      "top": null,
      "visibility": null,
      "width": null
     }
    },
    "d220226fcca548c182bc5d9788db5dc3": {
     "model_module": "@jupyter-widgets/controls",
     "model_module_version": "1.5.0",
     "model_name": "HTMLModel",
     "state": {
      "_dom_classes": [],
      "_model_module": "@jupyter-widgets/controls",
      "_model_module_version": "1.5.0",
      "_model_name": "HTMLModel",
      "_view_count": null,
      "_view_module": "@jupyter-widgets/controls",
      "_view_module_version": "1.5.0",
      "_view_name": "HTMLView",
      "description": "",
      "description_tooltip": null,
      "layout": "IPY_MODEL_69eaa721821347d68ee29d28cfbefcfa",
      "placeholder": "​",
      "style": "IPY_MODEL_e3538f52abe7446fb6b15ae9d332b5ee",
      "value": "pytorch_model.bin: 100%"
     }
    },
    "d4e2b9f05aa040548ad4e930fdc7e290": {
     "model_module": "@jupyter-widgets/controls",
     "model_module_version": "1.5.0",
     "model_name": "HTMLModel",
     "state": {
      "_dom_classes": [],
      "_model_module": "@jupyter-widgets/controls",
      "_model_module_version": "1.5.0",
      "_model_name": "HTMLModel",
      "_view_count": null,
      "_view_module": "@jupyter-widgets/controls",
      "_view_module_version": "1.5.0",
      "_view_name": "HTMLView",
      "description": "",
      "description_tooltip": null,
      "layout": "IPY_MODEL_6918d36a42f84ee5a513a155151b1061",
      "placeholder": "​",
      "style": "IPY_MODEL_a0042483d8964890b786cb87c8babeab",
      "value": "special_tokens_map.json: 100%"
     }
    },
    "d8238491db2940c2accbbc9933aefdc7": {
     "model_module": "@jupyter-widgets/base",
     "model_module_version": "1.2.0",
     "model_name": "LayoutModel",
     "state": {
      "_model_module": "@jupyter-widgets/base",
      "_model_module_version": "1.2.0",
      "_model_name": "LayoutModel",
      "_view_count": null,
      "_view_module": "@jupyter-widgets/base",
      "_view_module_version": "1.2.0",
      "_view_name": "LayoutView",
      "align_content": null,
      "align_items": null,
      "align_self": null,
      "border": null,
      "bottom": null,
      "display": null,
      "flex": null,
      "flex_flow": null,
      "grid_area": null,
      "grid_auto_columns": null,
      "grid_auto_flow": null,
      "grid_auto_rows": null,
      "grid_column": null,
      "grid_gap": null,
      "grid_row": null,
      "grid_template_areas": null,
      "grid_template_columns": null,
      "grid_template_rows": null,
      "height": null,
      "justify_content": null,
      "justify_items": null,
      "left": null,
      "margin": null,
      "max_height": null,
      "max_width": null,
      "min_height": null,
      "min_width": null,
      "object_fit": null,
      "object_position": null,
      "order": null,
      "overflow": null,
      "overflow_x": null,
      "overflow_y": null,
      "padding": null,
      "right": null,
      "top": null,
      "visibility": null,
      "width": null
     }
    },
    "dd2c2e71eaa84c5293ecbb43f1c80e49": {
     "model_module": "@jupyter-widgets/base",
     "model_module_version": "1.2.0",
     "model_name": "LayoutModel",
     "state": {
      "_model_module": "@jupyter-widgets/base",
      "_model_module_version": "1.2.0",
      "_model_name": "LayoutModel",
      "_view_count": null,
      "_view_module": "@jupyter-widgets/base",
      "_view_module_version": "1.2.0",
      "_view_name": "LayoutView",
      "align_content": null,
      "align_items": null,
      "align_self": null,
      "border": null,
      "bottom": null,
      "display": null,
      "flex": null,
      "flex_flow": null,
      "grid_area": null,
      "grid_auto_columns": null,
      "grid_auto_flow": null,
      "grid_auto_rows": null,
      "grid_column": null,
      "grid_gap": null,
      "grid_row": null,
      "grid_template_areas": null,
      "grid_template_columns": null,
      "grid_template_rows": null,
      "height": null,
      "justify_content": null,
      "justify_items": null,
      "left": null,
      "margin": null,
      "max_height": null,
      "max_width": null,
      "min_height": null,
      "min_width": null,
      "object_fit": null,
      "object_position": null,
      "order": null,
      "overflow": null,
      "overflow_x": null,
      "overflow_y": null,
      "padding": null,
      "right": null,
      "top": null,
      "visibility": null,
      "width": null
     }
    },
    "e3538f52abe7446fb6b15ae9d332b5ee": {
     "model_module": "@jupyter-widgets/controls",
     "model_module_version": "1.5.0",
     "model_name": "DescriptionStyleModel",
     "state": {
      "_model_module": "@jupyter-widgets/controls",
      "_model_module_version": "1.5.0",
      "_model_name": "DescriptionStyleModel",
      "_view_count": null,
      "_view_module": "@jupyter-widgets/base",
      "_view_module_version": "1.2.0",
      "_view_name": "StyleView",
      "description_width": ""
     }
    },
    "e8a56d0a425446368a8708b360af995d": {
     "model_module": "@jupyter-widgets/controls",
     "model_module_version": "1.5.0",
     "model_name": "HBoxModel",
     "state": {
      "_dom_classes": [],
      "_model_module": "@jupyter-widgets/controls",
      "_model_module_version": "1.5.0",
      "_model_name": "HBoxModel",
      "_view_count": null,
      "_view_module": "@jupyter-widgets/controls",
      "_view_module_version": "1.5.0",
      "_view_name": "HBoxView",
      "box_style": "",
      "children": [
       "IPY_MODEL_78fd8df62c1348ce94c4c0900e7d02a9",
       "IPY_MODEL_b06ee5e2c4bc42ada6e99ef79b711700",
       "IPY_MODEL_1a70f6837b6242c58a5777c9457788f9"
      ],
      "layout": "IPY_MODEL_dd2c2e71eaa84c5293ecbb43f1c80e49"
     }
    },
    "ea834704da2b4dc3a1b59c2684cff6ed": {
     "model_module": "@jupyter-widgets/controls",
     "model_module_version": "1.5.0",
     "model_name": "ProgressStyleModel",
     "state": {
      "_model_module": "@jupyter-widgets/controls",
      "_model_module_version": "1.5.0",
      "_model_name": "ProgressStyleModel",
      "_view_count": null,
      "_view_module": "@jupyter-widgets/base",
      "_view_module_version": "1.2.0",
      "_view_name": "StyleView",
      "bar_color": null,
      "description_width": ""
     }
    },
    "f01f8d2c94c14e87a0998d6b2956660c": {
     "model_module": "@jupyter-widgets/controls",
     "model_module_version": "1.5.0",
     "model_name": "ProgressStyleModel",
     "state": {
      "_model_module": "@jupyter-widgets/controls",
      "_model_module_version": "1.5.0",
      "_model_name": "ProgressStyleModel",
      "_view_count": null,
      "_view_module": "@jupyter-widgets/base",
      "_view_module_version": "1.2.0",
      "_view_name": "StyleView",
      "bar_color": null,
      "description_width": ""
     }
    },
    "f57789cefed9437c95a9da8910fc7e43": {
     "model_module": "@jupyter-widgets/controls",
     "model_module_version": "1.5.0",
     "model_name": "HTMLModel",
     "state": {
      "_dom_classes": [],
      "_model_module": "@jupyter-widgets/controls",
      "_model_module_version": "1.5.0",
      "_model_name": "HTMLModel",
      "_view_count": null,
      "_view_module": "@jupyter-widgets/controls",
      "_view_module_version": "1.5.0",
      "_view_name": "HTMLView",
      "description": "",
      "description_tooltip": null,
      "layout": "IPY_MODEL_cbeb39efdf9d4914a46a14f4744b329f",
      "placeholder": "​",
      "style": "IPY_MODEL_b834f3bf20d1405e90564865ecd48df2",
      "value": " 232k/232k [00:00&lt;00:00, 2.91MB/s]"
     }
    },
    "f8ef6fa9c3e64fa780b7d2db8555ff31": {
     "model_module": "@jupyter-widgets/base",
     "model_module_version": "1.2.0",
     "model_name": "LayoutModel",
     "state": {
      "_model_module": "@jupyter-widgets/base",
      "_model_module_version": "1.2.0",
      "_model_name": "LayoutModel",
      "_view_count": null,
      "_view_module": "@jupyter-widgets/base",
      "_view_module_version": "1.2.0",
      "_view_name": "LayoutView",
      "align_content": null,
      "align_items": null,
      "align_self": null,
      "border": null,
      "bottom": null,
      "display": null,
      "flex": null,
      "flex_flow": null,
      "grid_area": null,
      "grid_auto_columns": null,
      "grid_auto_flow": null,
      "grid_auto_rows": null,
      "grid_column": null,
      "grid_gap": null,
      "grid_row": null,
      "grid_template_areas": null,
      "grid_template_columns": null,
      "grid_template_rows": null,
      "height": null,
      "justify_content": null,
      "justify_items": null,
      "left": null,
      "margin": null,
      "max_height": null,
      "max_width": null,
      "min_height": null,
      "min_width": null,
      "object_fit": null,
      "object_position": null,
      "order": null,
      "overflow": null,
      "overflow_x": null,
      "overflow_y": null,
      "padding": null,
      "right": null,
      "top": null,
      "visibility": null,
      "width": null
     }
    },
    "fe21c6a4310c46a795eda1901dd5cfa7": {
     "model_module": "@jupyter-widgets/base",
     "model_module_version": "1.2.0",
     "model_name": "LayoutModel",
     "state": {
      "_model_module": "@jupyter-widgets/base",
      "_model_module_version": "1.2.0",
      "_model_name": "LayoutModel",
      "_view_count": null,
      "_view_module": "@jupyter-widgets/base",
      "_view_module_version": "1.2.0",
      "_view_name": "LayoutView",
      "align_content": null,
      "align_items": null,
      "align_self": null,
      "border": null,
      "bottom": null,
      "display": null,
      "flex": null,
      "flex_flow": null,
      "grid_area": null,
      "grid_auto_columns": null,
      "grid_auto_flow": null,
      "grid_auto_rows": null,
      "grid_column": null,
      "grid_gap": null,
      "grid_row": null,
      "grid_template_areas": null,
      "grid_template_columns": null,
      "grid_template_rows": null,
      "height": null,
      "justify_content": null,
      "justify_items": null,
      "left": null,
      "margin": null,
      "max_height": null,
      "max_width": null,
      "min_height": null,
      "min_width": null,
      "object_fit": null,
      "object_position": null,
      "order": null,
      "overflow": null,
      "overflow_x": null,
      "overflow_y": null,
      "padding": null,
      "right": null,
      "top": null,
      "visibility": null,
      "width": null
     }
    }
   }
  }
 },
 "nbformat": 4,
 "nbformat_minor": 4
}
