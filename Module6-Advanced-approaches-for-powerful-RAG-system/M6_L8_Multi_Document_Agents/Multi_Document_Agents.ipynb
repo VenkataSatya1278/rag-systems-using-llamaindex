{
 "cells": [
  {
   "cell_type": "markdown",
   "id": "43497beb-817d-4366-9156-f4d7f0d44942",
   "metadata": {
    "id": "43497beb-817d-4366-9156-f4d7f0d44942"
   },
   "source": [
    "# Multi Document Agents\n",
    "\n",
    "This guide shows building Multi Document Agents by combining recursive retrieval and \"document agents\".\n",
    "\n",
    "There are two motivating factors that lead to solutions for better retrieval:\n",
    "- Decoupling retrieval embeddings from chunk-based synthesis. Oftentimes fetching documents by their summaries will return more relevant context to queries rather than raw chunks. This is something that recursive retrieval directly allows.\n",
    "- Within a document, users may need to dynamically perform tasks beyond fact-based question-answering. We introduce the concept of \"document agents\" - agents that have access to both vector search and summary tools for a given document."
   ]
  },
  {
   "cell_type": "markdown",
   "id": "9be00aba-b6c5-4940-9825-81c5d2cd2f0b",
   "metadata": {
    "id": "9be00aba-b6c5-4940-9825-81c5d2cd2f0b"
   },
   "source": [
    "### Setup and Download Data\n",
    "\n",
    "In this section, we'll define imports and then download Wikipedia articles about different cities. Each article is stored separately."
   ]
  },
  {
   "cell_type": "markdown",
   "id": "197ad928-2d5a-4ab5-9d11-7e75c16746f8",
   "metadata": {},
   "source": [
    "pip install llama-index-agent-openai"
   ]
  },
  {
   "cell_type": "code",
   "execution_count": 1,
   "id": "ce1fefe6-6e46-4019-8fc8-818204ff3135",
   "metadata": {},
   "outputs": [],
   "source": [
    "import os \n",
    "from dotenv import load_dotenv"
   ]
  },
  {
   "cell_type": "code",
   "execution_count": 2,
   "id": "c2b19afc-0a1e-490f-aac1-7ea7d65a2298",
   "metadata": {},
   "outputs": [
    {
     "data": {
      "text/plain": [
       "True"
      ]
     },
     "execution_count": 2,
     "metadata": {},
     "output_type": "execute_result"
    }
   ],
   "source": [
    "load_dotenv('/home/santhosh/Projects/courses/Pinnacle/.env')"
   ]
  },
  {
   "cell_type": "code",
   "execution_count": 3,
   "id": "56b12927-3108-49f2-88da-580168bbfb25",
   "metadata": {},
   "outputs": [],
   "source": [
    "OPENAI_API_KEY = os.environ['OPENAI_API_KEY']"
   ]
  },
  {
   "cell_type": "code",
   "execution_count": 7,
   "id": "e41e9905-77a9-44c5-88ac-c7a4d08a4612",
   "metadata": {
    "id": "e41e9905-77a9-44c5-88ac-c7a4d08a4612"
   },
   "outputs": [],
   "source": [
    "from llama_index.core import VectorStoreIndex, SummaryIndex, SimpleKeywordTableIndex, SimpleDirectoryReader\n",
    "from llama_index.core.schema import IndexNode\n",
    "from llama_index.core.tools import QueryEngineTool, ToolMetadata\n",
    "from llama_index.llms.openai import OpenAI"
   ]
  },
  {
   "cell_type": "code",
   "execution_count": 8,
   "id": "e4343cf7-eec9-4a67-b5be-c72dbe3280a7",
   "metadata": {
    "id": "e4343cf7-eec9-4a67-b5be-c72dbe3280a7"
   },
   "outputs": [],
   "source": [
    "wiki_titles = [\"Delhi\", \"Mumbai\", \"Bengaluru\", \"Hyderabad\", \"Chennai\"]"
   ]
  },
  {
   "cell_type": "code",
   "execution_count": 9,
   "id": "6d261882-6793-4eca-ad93-d94d2061e388",
   "metadata": {
    "id": "6d261882-6793-4eca-ad93-d94d2061e388"
   },
   "outputs": [],
   "source": [
    "from pathlib import Path\n",
    "\n",
    "import requests\n",
    "\n",
    "for title in wiki_titles:\n",
    "    response = requests.get(\n",
    "        \"https://en.wikipedia.org/w/api.php\",\n",
    "        params={\n",
    "            \"action\": \"query\",\n",
    "            \"format\": \"json\",\n",
    "            \"titles\": title,\n",
    "            \"prop\": \"extracts\",\n",
    "            # 'exintro': True,\n",
    "            \"explaintext\": True,\n",
    "        },\n",
    "    ).json()\n",
    "    page = next(iter(response[\"query\"][\"pages\"].values()))\n",
    "    wiki_text = page[\"extract\"]\n",
    "\n",
    "    data_path = Path(\"data\")\n",
    "    if not data_path.exists():\n",
    "        Path.mkdir(data_path)\n",
    "\n",
    "    with open(data_path / f\"{title}.txt\", \"w\") as fp:\n",
    "        fp.write(wiki_text)"
   ]
  },
  {
   "cell_type": "code",
   "execution_count": 10,
   "id": "5bf0c13b-0d77-43e8-8c1c-84258299a494",
   "metadata": {
    "id": "5bf0c13b-0d77-43e8-8c1c-84258299a494"
   },
   "outputs": [],
   "source": [
    "# Load all wiki documents\n",
    "city_docs = {}\n",
    "for wiki_title in wiki_titles:\n",
    "    city_docs[wiki_title] = SimpleDirectoryReader(\n",
    "        input_files=[f\"data/{wiki_title}.txt\"]\n",
    "    ).load_data()"
   ]
  },
  {
   "cell_type": "markdown",
   "id": "6189aaf4-2eb7-40bc-9e83-79ce4f221b4b",
   "metadata": {
    "id": "6189aaf4-2eb7-40bc-9e83-79ce4f221b4b"
   },
   "source": [
    "## Define LLM + Callback Manager"
   ]
  },
  {
   "cell_type": "code",
   "execution_count": 11,
   "id": "dd6e5e48-91b9-4701-a85d-d98c92323350",
   "metadata": {
    "id": "dd6e5e48-91b9-4701-a85d-d98c92323350"
   },
   "outputs": [],
   "source": [
    "llm = OpenAI(temperature=0, model=\"gpt-3.5-turbo\")"
   ]
  },
  {
   "cell_type": "markdown",
   "id": "976cd798-2e8d-474c-922a-51b12c5c6f36",
   "metadata": {
    "id": "976cd798-2e8d-474c-922a-51b12c5c6f36"
   },
   "source": [
    "## Build Document Agent for each Document\n",
    "\n",
    "In this section we define \"document agents\" for each document.\n",
    "\n",
    "First we define both a vector index (for semantic search) and summary index (for summarization) for each document. The two query engines are then converted into tools that are passed to an OpenAI function calling agent.\n",
    "\n",
    "This document agent can dynamically choose to perform semantic search or summarization within a given document.\n",
    "\n",
    "We create a separate document agent for each city."
   ]
  },
  {
   "cell_type": "code",
   "execution_count": 18,
   "id": "19e50ee3-369b-4be6-a1e4-e82fe60288cd",
   "metadata": {},
   "outputs": [],
   "source": [
    "from llama_index.agent.openai import OpenAIAgent"
   ]
  },
  {
   "cell_type": "code",
   "execution_count": 20,
   "id": "eacdf3a7-cfe3-4c2b-9037-b28a065ed148",
   "metadata": {
    "id": "eacdf3a7-cfe3-4c2b-9037-b28a065ed148"
   },
   "outputs": [],
   "source": [
    "# Build agents dictionary\n",
    "agents = {}\n",
    "\n",
    "for wiki_title in wiki_titles:\n",
    "    # build vector index\n",
    "    vector_index = VectorStoreIndex.from_documents(\n",
    "        city_docs[wiki_title], llm=llm\n",
    "    )\n",
    "    # build summary index\n",
    "    summary_index = SummaryIndex.from_documents(\n",
    "        city_docs[wiki_title], llm=llm\n",
    "    )\n",
    "    # define query engines\n",
    "    vector_query_engine = vector_index.as_query_engine()\n",
    "    list_query_engine = summary_index.as_query_engine()\n",
    "\n",
    "    # define tools\n",
    "    query_engine_tools = [\n",
    "        QueryEngineTool(\n",
    "            query_engine=vector_query_engine,\n",
    "            metadata=ToolMetadata(\n",
    "                name=\"vector_tool\",\n",
    "                description=(\n",
    "                    \"Useful for summarization questions related to\"\n",
    "                    f\" {wiki_title}\"\n",
    "                ),\n",
    "            ),\n",
    "        ),\n",
    "        QueryEngineTool(\n",
    "            query_engine=list_query_engine,\n",
    "            metadata=ToolMetadata(\n",
    "                name=\"summary_tool\",\n",
    "                description=(\n",
    "                    f\"Useful for retrieving specific context from {wiki_title}\"\n",
    "                ),\n",
    "            ),\n",
    "        ),\n",
    "    ]\n",
    "\n",
    "    # build agent\n",
    "    function_llm = OpenAI(model=\"gpt-3.5-turbo\")\n",
    "    agent = OpenAIAgent.from_tools(\n",
    "        query_engine_tools,\n",
    "        llm=function_llm,\n",
    "        verbose=True,\n",
    "    )\n",
    "\n",
    "    agents[wiki_title] = agent"
   ]
  },
  {
   "cell_type": "markdown",
   "id": "899ca55b-0c02-429b-a765-8e4f806d503f",
   "metadata": {
    "id": "899ca55b-0c02-429b-a765-8e4f806d503f"
   },
   "source": [
    "## Build Recursive Retriever over these Agents\n",
    "\n",
    "Now we define a set of summary nodes, where each node links to the corresponding Wikipedia city article. We then define a `RecursiveRetriever` on top of these Nodes to route queries down to a given node, which will in turn route it to the relevant document agent.\n",
    "\n",
    "We finally define a full query engine combining `RecursiveRetriever` into a `RetrieverQueryEngine`."
   ]
  },
  {
   "cell_type": "code",
   "execution_count": 21,
   "id": "6884ff15-bf40-4bdd-a1e3-58cbd056a12a",
   "metadata": {
    "id": "6884ff15-bf40-4bdd-a1e3-58cbd056a12a"
   },
   "outputs": [],
   "source": [
    "# define top-level nodes\n",
    "nodes = []\n",
    "for wiki_title in wiki_titles:\n",
    "    # define index node that links to these agents\n",
    "    wiki_summary = (\n",
    "        f\"This content contains Wikipedia articles about {wiki_title}. Use\"\n",
    "        \" this index if you need to lookup specific facts about\"\n",
    "        f\" {wiki_title}.\\nDo not use this index if you want to analyze\"\n",
    "        \" multiple cities.\"\n",
    "    )\n",
    "    node = IndexNode(text=wiki_summary, index_id=wiki_title)\n",
    "    nodes.append(node)"
   ]
  },
  {
   "cell_type": "code",
   "execution_count": 22,
   "id": "3eabd221-3c24-468b-9dbe-19689faf57fc",
   "metadata": {
    "id": "3eabd221-3c24-468b-9dbe-19689faf57fc"
   },
   "outputs": [],
   "source": [
    "# define top-level retriever\n",
    "vector_index = VectorStoreIndex(nodes)\n",
    "vector_retriever = vector_index.as_retriever(similarity_top_k=1)"
   ]
  },
  {
   "cell_type": "code",
   "execution_count": 23,
   "id": "f820fc10-66df-4cbe-b907-71d7fff73a71",
   "metadata": {
    "id": "f820fc10-66df-4cbe-b907-71d7fff73a71"
   },
   "outputs": [],
   "source": [
    "# define recursive retriever\n",
    "from llama_index.core.retrievers import RecursiveRetriever\n",
    "from llama_index.core.query_engine import RetrieverQueryEngine\n",
    "from llama_index.core.response_synthesizers import get_response_synthesizer"
   ]
  },
  {
   "cell_type": "code",
   "execution_count": 24,
   "id": "b36124b4-cf58-4fc6-bccd-647a73f72af1",
   "metadata": {
    "id": "b36124b4-cf58-4fc6-bccd-647a73f72af1"
   },
   "outputs": [],
   "source": [
    "# note: can pass `agents` dict as `query_engine_dict` since every agent can be used as a query engine\n",
    "recursive_retriever = RecursiveRetriever(\n",
    "    \"vector\",\n",
    "    retriever_dict={\"vector\": vector_retriever},\n",
    "    query_engine_dict=agents,\n",
    "    verbose=True,\n",
    ")"
   ]
  },
  {
   "cell_type": "markdown",
   "id": "85dc98fe-45ff-463b-9a70-8146a9051b28",
   "metadata": {
    "id": "85dc98fe-45ff-463b-9a70-8146a9051b28"
   },
   "source": [
    "#### Define Full Query Engine\n",
    "\n",
    "This query engine uses the recursive retriever + response synthesis module to synthesize a response."
   ]
  },
  {
   "cell_type": "code",
   "execution_count": 26,
   "id": "9b95e8a8-4fa6-4977-a8f4-ea100e3107ed",
   "metadata": {
    "id": "9b95e8a8-4fa6-4977-a8f4-ea100e3107ed"
   },
   "outputs": [],
   "source": [
    "response_synthesizer = get_response_synthesizer(\n",
    "    response_mode=\"compact\",\n",
    ")\n",
    "query_engine = RetrieverQueryEngine.from_args(\n",
    "    recursive_retriever,\n",
    "    response_synthesizer=response_synthesizer,\n",
    "    llm=llm,\n",
    ")"
   ]
  },
  {
   "cell_type": "markdown",
   "id": "8dedb927-a992-4f21-a0fb-4ce4361adcb3",
   "metadata": {
    "id": "8dedb927-a992-4f21-a0fb-4ce4361adcb3"
   },
   "source": [
    "## Running Example Queries"
   ]
  },
  {
   "cell_type": "code",
   "execution_count": 27,
   "id": "cd9be5d8-c249-4c45-8bbd-103fac0cbbce",
   "metadata": {
    "colab": {
     "base_uri": "https://localhost:8080/"
    },
    "id": "8e743c62-7dd8-4ac9-85a5-f1cbc112a79c",
    "outputId": "405842ad-0b4d-4f44-8c5f-ac0ef309aa04"
   },
   "outputs": [
    {
     "name": "stdout",
     "output_type": "stream",
     "text": [
      "\u001b[1;3;34mRetrieving with query id None: Summarize history of Delhi\n",
      "\u001b[0m\u001b[1;3;38;5;200mRetrieved node with id, entering: Delhi\n",
      "\u001b[0m\u001b[1;3;34mRetrieving with query id Delhi: Summarize history of Delhi\n",
      "\u001b[0mAdded user message to memory: Summarize history of Delhi\n",
      "=== Calling Function ===\n",
      "Calling function: summary_tool with args: {\"input\":\"history of Delhi\"}\n",
      "Got output: Delhi has a rich history that dates back to ancient and early medieval periods. Traditionally associated with seven cities, the earliest being Indraprastha, mentioned in the Sanskrit epic Mahabharata. The Maurya period saw architectural relics in Delhi, with the Lal Kot built by Tomara Rajput King Anang Pal in 1052 CE. The medieval period saw the Delhi Sultanate established by Qutb-ud-din Aibak, followed by the Mughal Empire founded by Babur in 1526 after defeating the Lodhi sultan. The Mughal dynasty ruled Delhi for over three centuries, with notable constructions like Shahjahanabad. The colonial period saw Delhi come under British control after the Indian Rebellion of 1857, leading to it becoming the capital of British-held territories in 1911. Post-independence, Delhi witnessed significant demographic changes during the partition of India, and it was declared the capital of the Union of India in 1947.\n",
      "========================\n",
      "\n",
      "\u001b[1;3;32mGot response: Delhi has a rich history that dates back to ancient and early medieval periods. Traditionally associated with seven cities, the earliest being Indraprastha, mentioned in the Sanskrit epic Mahabharata. The Maurya period saw architectural relics in Delhi, with the Lal Kot built by Tomara Rajput King Anang Pal in 1052 CE. The medieval period saw the Delhi Sultanate established by Qutb-ud-din Aibak, followed by the Mughal Empire founded by Babur in 1526 after defeating the Lodhi sultan. The Mughal dynasty ruled Delhi for over three centuries, with notable constructions like Shahjahanabad. The colonial period saw Delhi come under British control after the Indian Rebellion of 1857, leading to it becoming the capital of British-held territories in 1911. Post-independence, Delhi witnessed significant demographic changes during the partition of India, and it was declared the capital of the Union of India in 1947.\n",
      "\u001b[0m"
     ]
    }
   ],
   "source": [
    "# should use Delhi agent -> Summary tool\n",
    "response = query_engine.query(\"Summarize history of Delhi\")"
   ]
  },
  {
   "cell_type": "code",
   "execution_count": 28,
   "id": "a4ce2a76-5779-4acf-9337-69109dae7fd6",
   "metadata": {
    "colab": {
     "base_uri": "https://localhost:8080/"
    },
    "id": "a4ce2a76-5779-4acf-9337-69109dae7fd6",
    "outputId": "aed73eb0-3c7c-4919-e2f0-691738fa1351"
   },
   "outputs": [
    {
     "name": "stdout",
     "output_type": "stream",
     "text": [
      "Delhi has a long and diverse history that includes ancient and medieval periods. It was associated with seven cities, starting with Indraprastha from the Mahabharata era. The Maurya period contributed architectural relics like Lal Kot. The medieval era saw the establishment of the Delhi Sultanate by Qutb-ud-din Aibak and later the Mughal Empire by Babur. The Mughal dynasty ruled Delhi for centuries, leaving behind significant constructions like Shahjahanabad. During the colonial period, Delhi came under British control after the Indian Rebellion of 1857 and became the capital of British-held territories in 1911. Post-independence, Delhi underwent demographic changes during the partition of India and was declared the capital of the Union of India in 1947.\n"
     ]
    }
   ],
   "source": [
    "print(response)"
   ]
  },
  {
   "cell_type": "code",
   "execution_count": null,
   "id": "aa3d98ab-cb82-4473-ab2b-bc8a17e1b86a",
   "metadata": {
    "colab": {
     "base_uri": "https://localhost:8080/"
    },
    "id": "aa3d98ab-cb82-4473-ab2b-bc8a17e1b86a",
    "outputId": "e53f469b-e1a9-4647-f806-8fb1c7c5f53e"
   },
   "outputs": [
    {
     "name": "stdout",
     "output_type": "stream",
     "text": [
      "\u001b[1;3;34mRetrieving with query id None: Who is current Mayor of Hyderabad city?\n",
      "\u001b[0m\u001b[1;3;38;5;200mRetrieved node with id, entering: Hyderabad\n",
      "\u001b[0m\u001b[1;3;34mRetrieving with query id Hyderabad: Who is current Mayor of Hyderabad city?\n",
      "\u001b[0mAdded user message to memory: Who is current Mayor of Hyderabad city?\n",
      "=== Calling Function ===\n",
      "Calling function: vector_tool with args: {\n",
      "  \"input\": \"Who is the current Mayor of Hyderabad city?\"\n",
      "}\n",
      "Got output: Gadwal Vijayalakshmi of Telangana Rashtra Samithi (TRS) is serving as the current Mayor of Hyderabad city.\n",
      "========================\n",
      "\n",
      "\u001b[1;3;32mGot response: The current Mayor of Hyderabad city is Gadwal Vijayalakshmi from the Telangana Rashtra Samithi (TRS) party.\n",
      "\u001b[0m"
     ]
    }
   ],
   "source": [
    "# should use Hyderabad agent -> vector tool\n",
    "response = query_engine.query(\"Who is current Mayor of Hyderabad city?\")"
   ]
  },
  {
   "cell_type": "code",
   "execution_count": null,
   "id": "d476c54b-98af-4d2a-8f17-4baa37d0d360",
   "metadata": {
    "colab": {
     "base_uri": "https://localhost:8080/"
    },
    "id": "d476c54b-98af-4d2a-8f17-4baa37d0d360",
    "outputId": "19688f58-fbf7-4f20-c925-94afa4dce528"
   },
   "outputs": [
    {
     "name": "stdout",
     "output_type": "stream",
     "text": [
      "The current Mayor of Hyderabad city is Gadwal Vijayalakshmi from the Telangana Rashtra Samithi (TRS) party.\n"
     ]
    }
   ],
   "source": [
    "print(response)"
   ]
  },
  {
   "cell_type": "code",
   "execution_count": null,
   "id": "ee6ef20c-3ccc-46c3-ad87-667138d78d5d",
   "metadata": {
    "colab": {
     "base_uri": "https://localhost:8080/"
    },
    "id": "ee6ef20c-3ccc-46c3-ad87-667138d78d5d",
    "outputId": "bf73d758-ba09-4c2e-b82e-a97b6805570d"
   },
   "outputs": [
    {
     "name": "stdout",
     "output_type": "stream",
     "text": [
      "\u001b[1;3;34mRetrieving with query id None: Give me a summary on all the positive aspects of Chennai\n",
      "\u001b[0m\u001b[1;3;38;5;200mRetrieved node with id, entering: Chennai\n",
      "\u001b[0m\u001b[1;3;34mRetrieving with query id Chennai: Give me a summary on all the positive aspects of Chennai\n",
      "\u001b[0mAdded user message to memory: Give me a summary on all the positive aspects of Chennai\n",
      "=== Calling Function ===\n",
      "Calling function: summary_tool with args: {\n",
      "  \"input\": \"positive aspects of Chennai\"\n",
      "}\n",
      "Got output: Chennai is a vibrant and dynamic city with numerous positive aspects. It is home to prestigious educational institutions such as the Indian Institute of Technology Madras and the College of Engineering, Guindy, Anna University. The city also has a strong healthcare sector, with several government-run medical colleges and private colleges affiliated with the Tamil Nadu Dr. M.G.R. Medical University. Chennai is known for its rich literary culture, with libraries like the Connemara Public Library and the Anna Centenary Library, which is the largest library in Asia. The city is also a hub for research, housing institutions like the Central Leather Research Institute and the Structural Engineering Research Centre. Chennai's tourism industry is thriving, with attractions like the UNESCO Heritage Site of Mahabalipuram, the Marina Beach, and the Madras Crocodile Bank drawing domestic and foreign tourists. Additionally, Chennai has a well-maintained network of public parks, including the expansive Tholkappia Poonga, which contributes to the city's green and sustainable environment. Overall, Chennai offers a diverse range of educational, healthcare, cultural, research, and recreational opportunities, making it a city with many positive aspects.\n",
      "========================\n",
      "\n",
      "\u001b[1;3;32mGot response: Chennai is a vibrant and dynamic city with numerous positive aspects. It is home to prestigious educational institutions such as the Indian Institute of Technology Madras and the College of Engineering, Guindy, Anna University. The city also has a strong healthcare sector, with several government-run medical colleges and private colleges affiliated with the Tamil Nadu Dr. M.G.R. Medical University. Chennai is known for its rich literary culture, with libraries like the Connemara Public Library and the Anna Centenary Library, which is the largest library in Asia. The city is also a hub for research, housing institutions like the Central Leather Research Institute and the Structural Engineering Research Centre. Chennai's tourism industry is thriving, with attractions like the UNESCO Heritage Site of Mahabalipuram, the Marina Beach, and the Madras Crocodile Bank drawing domestic and foreign tourists. Additionally, Chennai has a well-maintained network of public parks, including the expansive Tholkappia Poonga, which contributes to the city's green and sustainable environment. Overall, Chennai offers a diverse range of educational, healthcare, cultural, research, and recreational opportunities, making it a city with many positive aspects.\n",
      "\u001b[0m"
     ]
    }
   ],
   "source": [
    "# should use Chennai agent -> summary tool\n",
    "response = query_engine.query(\n",
    "    \"Give me a summary on all the positive aspects of Chennai\"\n",
    ")"
   ]
  },
  {
   "cell_type": "code",
   "execution_count": null,
   "id": "cfe1dd4c-8bfd-43d0-99bc-ca60861dc418",
   "metadata": {
    "colab": {
     "base_uri": "https://localhost:8080/"
    },
    "id": "cfe1dd4c-8bfd-43d0-99bc-ca60861dc418",
    "outputId": "60e4323e-0d00-497e-8918-74303bbeaadc"
   },
   "outputs": [
    {
     "name": "stdout",
     "output_type": "stream",
     "text": [
      "Chennai is a city that offers a wide range of positive aspects. It is known for its prestigious educational institutions, including the Indian Institute of Technology Madras and the College of Engineering, Guindy, Anna University. The city also has a strong healthcare sector, with several government-run medical colleges and private colleges affiliated with the Tamil Nadu Dr. M.G.R. Medical University. Chennai is rich in literary culture, with libraries like the Connemara Public Library and the Anna Centenary Library, which is the largest library in Asia. It is also a hub for research, housing institutions like the Central Leather Research Institute and the Structural Engineering Research Centre. Chennai's tourism industry is thriving, with attractions like the UNESCO Heritage Site of Mahabalipuram, the Marina Beach, and the Madras Crocodile Bank drawing domestic and foreign tourists. The city also boasts a well-maintained network of public parks, including the expansive Tholkappia Poonga, contributing to its green and sustainable environment. Overall, Chennai offers a diverse range of educational, healthcare, cultural, research, and recreational opportunities, making it a city with many positive aspects.\n"
     ]
    }
   ],
   "source": [
    "print(response)"
   ]
  },
  {
   "cell_type": "code",
   "execution_count": null,
   "id": "lqSURoTN8AO3",
   "metadata": {
    "colab": {
     "base_uri": "https://localhost:8080/"
    },
    "id": "lqSURoTN8AO3",
    "outputId": "9cef2bb4-1536-49c5-f4cb-65b3fea86962"
   },
   "outputs": [
    {
     "name": "stdout",
     "output_type": "stream",
     "text": [
      "\u001b[1;3;34mRetrieving with query id None: Summarize about British rule in Mumbai history\n",
      "\u001b[0m\u001b[1;3;38;5;200mRetrieved node with id, entering: Mumbai\n",
      "\u001b[0m\u001b[1;3;34mRetrieving with query id Mumbai: Summarize about British rule in Mumbai history\n",
      "\u001b[0mAdded user message to memory: Summarize about British rule in Mumbai history\n",
      "=== Calling Function ===\n",
      "Calling function: summary_tool with args: {\n",
      "  \"input\": \"British rule in Mumbai history\"\n",
      "}\n",
      "Got output: Mumbai came under British rule in the 17th century when the English East India Company acquired the islands of Bombay from the Portuguese. Over time, the British expanded their control over nearby territories and made Mumbai the administrative center of the Bombay Presidency. This period saw Mumbai's transformation into a thriving trading hub, with significant growth and development. The British also undertook ambitious civil engineering projects, such as the Hornby Vellard, to merge the seven islands of Bombay into a single landmass. In 1853, Mumbai witnessed the establishment of India's first passenger railway line, further enhancing its connectivity and economic prospects. The city's economy flourished during the American Civil War, as it became the world's primary cotton-trading market. Additionally, the opening of the Suez Canal in 1869 solidified Mumbai's position as a major seaport on the Arabian Sea. British rule in Mumbai continued until India gained independence in 1947.\n",
      "========================\n",
      "\n",
      "\u001b[1;3;32mGot response: During the British rule in Mumbai, which began in the 17th century, the English East India Company acquired the islands of Bombay from the Portuguese. Mumbai became the administrative center of the Bombay Presidency, and under British control, it experienced significant growth and development. The British undertook various civil engineering projects, including the Hornby Vellard, which merged the seven islands of Bombay into a single landmass. In 1853, Mumbai witnessed the establishment of India's first passenger railway line, improving its connectivity and economic prospects. The city's economy thrived during the American Civil War, as it became the world's primary cotton-trading market. The opening of the Suez Canal in 1869 further solidified Mumbai's position as a major seaport on the Arabian Sea. British rule in Mumbai lasted until India gained independence in 1947.\n",
      "\u001b[0m"
     ]
    }
   ],
   "source": [
    "# should use Mumbai agent -> summary tool\n",
    "response = query_engine.query(\"Summarize about British rule in Mumbai history\")"
   ]
  },
  {
   "cell_type": "code",
   "execution_count": null,
   "id": "7NwqKQiM81o3",
   "metadata": {
    "colab": {
     "base_uri": "https://localhost:8080/"
    },
    "id": "7NwqKQiM81o3",
    "outputId": "731d5727-504e-4682-9a4f-62894d20e38f"
   },
   "outputs": [
    {
     "name": "stdout",
     "output_type": "stream",
     "text": [
      "During British rule in Mumbai, the city experienced significant growth and development. The British undertook various civil engineering projects, improving connectivity and transforming Mumbai into a major seaport on the Arabian Sea. The city's economy thrived, particularly during the American Civil War, when it became the world's primary cotton-trading market. British rule in Mumbai lasted until India gained independence in 1947.\n"
     ]
    }
   ],
   "source": [
    "print(response)"
   ]
  },
  {
   "cell_type": "code",
   "execution_count": null,
   "id": "8zn5rcl7n1Ca",
   "metadata": {
    "id": "8zn5rcl7n1Ca"
   },
   "outputs": [],
   "source": []
  }
 ],
 "metadata": {
  "colab": {
   "provenance": []
  },
  "kernelspec": {
   "display_name": "Python 3 (ipykernel)",
   "language": "python",
   "name": "python3"
  },
  "language_info": {
   "codemirror_mode": {
    "name": "ipython",
    "version": 3
   },
   "file_extension": ".py",
   "mimetype": "text/x-python",
   "name": "python",
   "nbconvert_exporter": "python",
   "pygments_lexer": "ipython3",
   "version": "3.11.7"
  }
 },
 "nbformat": 4,
 "nbformat_minor": 5
}
